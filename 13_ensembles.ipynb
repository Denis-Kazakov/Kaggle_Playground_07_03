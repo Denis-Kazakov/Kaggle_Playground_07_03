{
 "cells": [
  {
   "cell_type": "code",
   "execution_count": 1,
   "id": "d541e60c",
   "metadata": {},
   "outputs": [],
   "source": [
    "import pandas as pd\n",
    "from sklearn.preprocessing import StandardScaler\n",
    "import chime\n",
    "from sklearn.metrics import roc_auc_score\n",
    "from sklearn.model_selection import cross_val_score\n",
    "from sklearn.model_selection import GridSearchCV"
   ]
  },
  {
   "cell_type": "code",
   "execution_count": 2,
   "id": "c220b4e6",
   "metadata": {},
   "outputs": [],
   "source": [
    "%load_ext chime"
   ]
  },
  {
   "cell_type": "markdown",
   "id": "679fabfb",
   "metadata": {},
   "source": [
    "# Model selection\n",
    "Kaggle Playground Series - Season 3, Episode 7\n",
    "\n",
    "https://www.kaggle.com/competitions/playground-series-s3e7/overview\n",
    "\n",
    "## Individual classifiers"
   ]
  },
  {
   "cell_type": "markdown",
   "id": "7cd74b3e",
   "metadata": {},
   "source": [
    "### Note\n",
    "I use the mean_test_score of cross validation in this notebook to compare model performance with different hyperparameters and see if the difference is big enough to continue optimization"
   ]
  },
  {
   "cell_type": "markdown",
   "id": "2977c5f6",
   "metadata": {},
   "source": [
    "# Data preparation"
   ]
  },
  {
   "cell_type": "code",
   "execution_count": 3,
   "id": "b2f6ea0a",
   "metadata": {},
   "outputs": [
    {
     "data": {
      "text/html": [
       "<div>\n",
       "<style scoped>\n",
       "    .dataframe tbody tr th:only-of-type {\n",
       "        vertical-align: middle;\n",
       "    }\n",
       "\n",
       "    .dataframe tbody tr th {\n",
       "        vertical-align: top;\n",
       "    }\n",
       "\n",
       "    .dataframe thead th {\n",
       "        text-align: right;\n",
       "    }\n",
       "</style>\n",
       "<table border=\"1\" class=\"dataframe\">\n",
       "  <thead>\n",
       "    <tr style=\"text-align: right;\">\n",
       "      <th></th>\n",
       "      <th>no_of_adults</th>\n",
       "      <th>no_of_children</th>\n",
       "      <th>no_of_weekend_nights</th>\n",
       "      <th>no_of_week_nights</th>\n",
       "      <th>type_of_meal_plan</th>\n",
       "      <th>required_car_parking_space</th>\n",
       "      <th>room_type_reserved</th>\n",
       "      <th>lead_time</th>\n",
       "      <th>arrival_year</th>\n",
       "      <th>arrival_month</th>\n",
       "      <th>arrival_date</th>\n",
       "      <th>market_segment_type</th>\n",
       "      <th>repeated_guest</th>\n",
       "      <th>no_of_previous_cancellations</th>\n",
       "      <th>no_of_previous_bookings_not_canceled</th>\n",
       "      <th>avg_price_per_room</th>\n",
       "      <th>no_of_special_requests</th>\n",
       "      <th>booking_status</th>\n",
       "    </tr>\n",
       "    <tr>\n",
       "      <th>id</th>\n",
       "      <th></th>\n",
       "      <th></th>\n",
       "      <th></th>\n",
       "      <th></th>\n",
       "      <th></th>\n",
       "      <th></th>\n",
       "      <th></th>\n",
       "      <th></th>\n",
       "      <th></th>\n",
       "      <th></th>\n",
       "      <th></th>\n",
       "      <th></th>\n",
       "      <th></th>\n",
       "      <th></th>\n",
       "      <th></th>\n",
       "      <th></th>\n",
       "      <th></th>\n",
       "      <th></th>\n",
       "    </tr>\n",
       "  </thead>\n",
       "  <tbody>\n",
       "    <tr>\n",
       "      <th>0</th>\n",
       "      <td>2</td>\n",
       "      <td>0</td>\n",
       "      <td>0</td>\n",
       "      <td>2</td>\n",
       "      <td>1</td>\n",
       "      <td>0</td>\n",
       "      <td>0</td>\n",
       "      <td>9</td>\n",
       "      <td>2018</td>\n",
       "      <td>1</td>\n",
       "      <td>14</td>\n",
       "      <td>1</td>\n",
       "      <td>1</td>\n",
       "      <td>11</td>\n",
       "      <td>0</td>\n",
       "      <td>67.50</td>\n",
       "      <td>0</td>\n",
       "      <td>0</td>\n",
       "    </tr>\n",
       "    <tr>\n",
       "      <th>1</th>\n",
       "      <td>2</td>\n",
       "      <td>0</td>\n",
       "      <td>1</td>\n",
       "      <td>2</td>\n",
       "      <td>0</td>\n",
       "      <td>0</td>\n",
       "      <td>0</td>\n",
       "      <td>117</td>\n",
       "      <td>2018</td>\n",
       "      <td>7</td>\n",
       "      <td>29</td>\n",
       "      <td>0</td>\n",
       "      <td>0</td>\n",
       "      <td>0</td>\n",
       "      <td>0</td>\n",
       "      <td>72.25</td>\n",
       "      <td>0</td>\n",
       "      <td>0</td>\n",
       "    </tr>\n",
       "    <tr>\n",
       "      <th>2</th>\n",
       "      <td>2</td>\n",
       "      <td>0</td>\n",
       "      <td>0</td>\n",
       "      <td>1</td>\n",
       "      <td>0</td>\n",
       "      <td>0</td>\n",
       "      <td>0</td>\n",
       "      <td>315</td>\n",
       "      <td>2018</td>\n",
       "      <td>12</td>\n",
       "      <td>2</td>\n",
       "      <td>0</td>\n",
       "      <td>0</td>\n",
       "      <td>0</td>\n",
       "      <td>0</td>\n",
       "      <td>52.00</td>\n",
       "      <td>0</td>\n",
       "      <td>0</td>\n",
       "    </tr>\n",
       "    <tr>\n",
       "      <th>3</th>\n",
       "      <td>1</td>\n",
       "      <td>0</td>\n",
       "      <td>0</td>\n",
       "      <td>2</td>\n",
       "      <td>1</td>\n",
       "      <td>0</td>\n",
       "      <td>0</td>\n",
       "      <td>32</td>\n",
       "      <td>2018</td>\n",
       "      <td>12</td>\n",
       "      <td>1</td>\n",
       "      <td>1</td>\n",
       "      <td>0</td>\n",
       "      <td>0</td>\n",
       "      <td>0</td>\n",
       "      <td>56.00</td>\n",
       "      <td>0</td>\n",
       "      <td>0</td>\n",
       "    </tr>\n",
       "    <tr>\n",
       "      <th>4</th>\n",
       "      <td>2</td>\n",
       "      <td>0</td>\n",
       "      <td>1</td>\n",
       "      <td>0</td>\n",
       "      <td>0</td>\n",
       "      <td>0</td>\n",
       "      <td>0</td>\n",
       "      <td>258</td>\n",
       "      <td>2018</td>\n",
       "      <td>10</td>\n",
       "      <td>16</td>\n",
       "      <td>0</td>\n",
       "      <td>0</td>\n",
       "      <td>0</td>\n",
       "      <td>0</td>\n",
       "      <td>100.00</td>\n",
       "      <td>0</td>\n",
       "      <td>1</td>\n",
       "    </tr>\n",
       "    <tr>\n",
       "      <th>...</th>\n",
       "      <td>...</td>\n",
       "      <td>...</td>\n",
       "      <td>...</td>\n",
       "      <td>...</td>\n",
       "      <td>...</td>\n",
       "      <td>...</td>\n",
       "      <td>...</td>\n",
       "      <td>...</td>\n",
       "      <td>...</td>\n",
       "      <td>...</td>\n",
       "      <td>...</td>\n",
       "      <td>...</td>\n",
       "      <td>...</td>\n",
       "      <td>...</td>\n",
       "      <td>...</td>\n",
       "      <td>...</td>\n",
       "      <td>...</td>\n",
       "      <td>...</td>\n",
       "    </tr>\n",
       "    <tr>\n",
       "      <th>42095</th>\n",
       "      <td>3</td>\n",
       "      <td>0</td>\n",
       "      <td>0</td>\n",
       "      <td>4</td>\n",
       "      <td>0</td>\n",
       "      <td>0</td>\n",
       "      <td>1</td>\n",
       "      <td>160</td>\n",
       "      <td>2018</td>\n",
       "      <td>12</td>\n",
       "      <td>30</td>\n",
       "      <td>1</td>\n",
       "      <td>0</td>\n",
       "      <td>0</td>\n",
       "      <td>0</td>\n",
       "      <td>140.00</td>\n",
       "      <td>2</td>\n",
       "      <td>1</td>\n",
       "    </tr>\n",
       "    <tr>\n",
       "      <th>42096</th>\n",
       "      <td>2</td>\n",
       "      <td>0</td>\n",
       "      <td>0</td>\n",
       "      <td>3</td>\n",
       "      <td>0</td>\n",
       "      <td>0</td>\n",
       "      <td>0</td>\n",
       "      <td>34</td>\n",
       "      <td>2017</td>\n",
       "      <td>9</td>\n",
       "      <td>23</td>\n",
       "      <td>0</td>\n",
       "      <td>0</td>\n",
       "      <td>0</td>\n",
       "      <td>0</td>\n",
       "      <td>224.67</td>\n",
       "      <td>0</td>\n",
       "      <td>0</td>\n",
       "    </tr>\n",
       "    <tr>\n",
       "      <th>42097</th>\n",
       "      <td>2</td>\n",
       "      <td>0</td>\n",
       "      <td>0</td>\n",
       "      <td>2</td>\n",
       "      <td>2</td>\n",
       "      <td>0</td>\n",
       "      <td>0</td>\n",
       "      <td>292</td>\n",
       "      <td>2018</td>\n",
       "      <td>7</td>\n",
       "      <td>21</td>\n",
       "      <td>0</td>\n",
       "      <td>0</td>\n",
       "      <td>0</td>\n",
       "      <td>0</td>\n",
       "      <td>96.00</td>\n",
       "      <td>0</td>\n",
       "      <td>0</td>\n",
       "    </tr>\n",
       "    <tr>\n",
       "      <th>42098</th>\n",
       "      <td>1</td>\n",
       "      <td>0</td>\n",
       "      <td>0</td>\n",
       "      <td>3</td>\n",
       "      <td>0</td>\n",
       "      <td>0</td>\n",
       "      <td>0</td>\n",
       "      <td>5</td>\n",
       "      <td>2018</td>\n",
       "      <td>11</td>\n",
       "      <td>9</td>\n",
       "      <td>0</td>\n",
       "      <td>0</td>\n",
       "      <td>0</td>\n",
       "      <td>0</td>\n",
       "      <td>120.00</td>\n",
       "      <td>0</td>\n",
       "      <td>0</td>\n",
       "    </tr>\n",
       "    <tr>\n",
       "      <th>42099</th>\n",
       "      <td>2</td>\n",
       "      <td>0</td>\n",
       "      <td>1</td>\n",
       "      <td>1</td>\n",
       "      <td>0</td>\n",
       "      <td>0</td>\n",
       "      <td>1</td>\n",
       "      <td>40</td>\n",
       "      <td>2017</td>\n",
       "      <td>10</td>\n",
       "      <td>26</td>\n",
       "      <td>0</td>\n",
       "      <td>0</td>\n",
       "      <td>0</td>\n",
       "      <td>0</td>\n",
       "      <td>65.00</td>\n",
       "      <td>0</td>\n",
       "      <td>0</td>\n",
       "    </tr>\n",
       "  </tbody>\n",
       "</table>\n",
       "<p>42100 rows × 18 columns</p>\n",
       "</div>"
      ],
      "text/plain": [
       "       no_of_adults  no_of_children  no_of_weekend_nights  no_of_week_nights  \\\n",
       "id                                                                             \n",
       "0                 2               0                     0                  2   \n",
       "1                 2               0                     1                  2   \n",
       "2                 2               0                     0                  1   \n",
       "3                 1               0                     0                  2   \n",
       "4                 2               0                     1                  0   \n",
       "...             ...             ...                   ...                ...   \n",
       "42095             3               0                     0                  4   \n",
       "42096             2               0                     0                  3   \n",
       "42097             2               0                     0                  2   \n",
       "42098             1               0                     0                  3   \n",
       "42099             2               0                     1                  1   \n",
       "\n",
       "       type_of_meal_plan  required_car_parking_space  room_type_reserved  \\\n",
       "id                                                                         \n",
       "0                      1                           0                   0   \n",
       "1                      0                           0                   0   \n",
       "2                      0                           0                   0   \n",
       "3                      1                           0                   0   \n",
       "4                      0                           0                   0   \n",
       "...                  ...                         ...                 ...   \n",
       "42095                  0                           0                   1   \n",
       "42096                  0                           0                   0   \n",
       "42097                  2                           0                   0   \n",
       "42098                  0                           0                   0   \n",
       "42099                  0                           0                   1   \n",
       "\n",
       "       lead_time  arrival_year  arrival_month  arrival_date  \\\n",
       "id                                                            \n",
       "0              9          2018              1            14   \n",
       "1            117          2018              7            29   \n",
       "2            315          2018             12             2   \n",
       "3             32          2018             12             1   \n",
       "4            258          2018             10            16   \n",
       "...          ...           ...            ...           ...   \n",
       "42095        160          2018             12            30   \n",
       "42096         34          2017              9            23   \n",
       "42097        292          2018              7            21   \n",
       "42098          5          2018             11             9   \n",
       "42099         40          2017             10            26   \n",
       "\n",
       "       market_segment_type  repeated_guest  no_of_previous_cancellations  \\\n",
       "id                                                                         \n",
       "0                        1               1                            11   \n",
       "1                        0               0                             0   \n",
       "2                        0               0                             0   \n",
       "3                        1               0                             0   \n",
       "4                        0               0                             0   \n",
       "...                    ...             ...                           ...   \n",
       "42095                    1               0                             0   \n",
       "42096                    0               0                             0   \n",
       "42097                    0               0                             0   \n",
       "42098                    0               0                             0   \n",
       "42099                    0               0                             0   \n",
       "\n",
       "       no_of_previous_bookings_not_canceled  avg_price_per_room  \\\n",
       "id                                                                \n",
       "0                                         0               67.50   \n",
       "1                                         0               72.25   \n",
       "2                                         0               52.00   \n",
       "3                                         0               56.00   \n",
       "4                                         0              100.00   \n",
       "...                                     ...                 ...   \n",
       "42095                                     0              140.00   \n",
       "42096                                     0              224.67   \n",
       "42097                                     0               96.00   \n",
       "42098                                     0              120.00   \n",
       "42099                                     0               65.00   \n",
       "\n",
       "       no_of_special_requests  booking_status  \n",
       "id                                             \n",
       "0                           0               0  \n",
       "1                           0               0  \n",
       "2                           0               0  \n",
       "3                           0               0  \n",
       "4                           0               1  \n",
       "...                       ...             ...  \n",
       "42095                       2               1  \n",
       "42096                       0               0  \n",
       "42097                       0               0  \n",
       "42098                       0               0  \n",
       "42099                       0               0  \n",
       "\n",
       "[42100 rows x 18 columns]"
      ]
     },
     "execution_count": 3,
     "metadata": {},
     "output_type": "execute_result"
    }
   ],
   "source": [
    "train = pd.read_csv('./data/train.csv', index_col='id'); train"
   ]
  },
  {
   "cell_type": "code",
   "execution_count": 4,
   "id": "da75d36e",
   "metadata": {},
   "outputs": [],
   "source": [
    "X_train = train.drop(columns='booking_status')\n",
    "y_train = train.booking_status"
   ]
  },
  {
   "cell_type": "code",
   "execution_count": 5,
   "id": "619417f7",
   "metadata": {},
   "outputs": [
    {
     "data": {
      "text/html": [
       "<div>\n",
       "<style scoped>\n",
       "    .dataframe tbody tr th:only-of-type {\n",
       "        vertical-align: middle;\n",
       "    }\n",
       "\n",
       "    .dataframe tbody tr th {\n",
       "        vertical-align: top;\n",
       "    }\n",
       "\n",
       "    .dataframe thead th {\n",
       "        text-align: right;\n",
       "    }\n",
       "</style>\n",
       "<table border=\"1\" class=\"dataframe\">\n",
       "  <thead>\n",
       "    <tr style=\"text-align: right;\">\n",
       "      <th></th>\n",
       "      <th>no_of_adults</th>\n",
       "      <th>no_of_children</th>\n",
       "      <th>no_of_weekend_nights</th>\n",
       "      <th>no_of_week_nights</th>\n",
       "      <th>type_of_meal_plan</th>\n",
       "      <th>required_car_parking_space</th>\n",
       "      <th>room_type_reserved</th>\n",
       "      <th>lead_time</th>\n",
       "      <th>arrival_year</th>\n",
       "      <th>arrival_month</th>\n",
       "      <th>arrival_date</th>\n",
       "      <th>market_segment_type</th>\n",
       "      <th>repeated_guest</th>\n",
       "      <th>no_of_previous_cancellations</th>\n",
       "      <th>no_of_previous_bookings_not_canceled</th>\n",
       "      <th>avg_price_per_room</th>\n",
       "      <th>no_of_special_requests</th>\n",
       "    </tr>\n",
       "    <tr>\n",
       "      <th>id</th>\n",
       "      <th></th>\n",
       "      <th></th>\n",
       "      <th></th>\n",
       "      <th></th>\n",
       "      <th></th>\n",
       "      <th></th>\n",
       "      <th></th>\n",
       "      <th></th>\n",
       "      <th></th>\n",
       "      <th></th>\n",
       "      <th></th>\n",
       "      <th></th>\n",
       "      <th></th>\n",
       "      <th></th>\n",
       "      <th></th>\n",
       "      <th></th>\n",
       "      <th></th>\n",
       "    </tr>\n",
       "  </thead>\n",
       "  <tbody>\n",
       "    <tr>\n",
       "      <th>0</th>\n",
       "      <td>0.151040</td>\n",
       "      <td>-0.313454</td>\n",
       "      <td>-0.998814</td>\n",
       "      <td>-0.278849</td>\n",
       "      <td>1.294624</td>\n",
       "      <td>-0.160945</td>\n",
       "      <td>-0.515173</td>\n",
       "      <td>-1.170469</td>\n",
       "      <td>0.409661</td>\n",
       "      <td>-2.330398</td>\n",
       "      <td>-0.214091</td>\n",
       "      <td>0.428551</td>\n",
       "      <td>5.766758</td>\n",
       "      <td>33.699120</td>\n",
       "      <td>-0.101479</td>\n",
       "      <td>-0.998052</td>\n",
       "      <td>-0.737691</td>\n",
       "    </tr>\n",
       "    <tr>\n",
       "      <th>1</th>\n",
       "      <td>0.151040</td>\n",
       "      <td>-0.313454</td>\n",
       "      <td>0.130259</td>\n",
       "      <td>-0.278849</td>\n",
       "      <td>-0.407020</td>\n",
       "      <td>-0.160945</td>\n",
       "      <td>-0.515173</td>\n",
       "      <td>0.161740</td>\n",
       "      <td>0.409661</td>\n",
       "      <td>-0.209778</td>\n",
       "      <td>1.473487</td>\n",
       "      <td>-1.149928</td>\n",
       "      <td>-0.173408</td>\n",
       "      <td>-0.060506</td>\n",
       "      <td>-0.101479</td>\n",
       "      <td>-0.870153</td>\n",
       "      <td>-0.737691</td>\n",
       "    </tr>\n",
       "    <tr>\n",
       "      <th>2</th>\n",
       "      <td>0.151040</td>\n",
       "      <td>-0.313454</td>\n",
       "      <td>-0.998814</td>\n",
       "      <td>-0.979466</td>\n",
       "      <td>-0.407020</td>\n",
       "      <td>-0.160945</td>\n",
       "      <td>-0.515173</td>\n",
       "      <td>2.604122</td>\n",
       "      <td>0.409661</td>\n",
       "      <td>1.557404</td>\n",
       "      <td>-1.564154</td>\n",
       "      <td>-1.149928</td>\n",
       "      <td>-0.173408</td>\n",
       "      <td>-0.060506</td>\n",
       "      <td>-0.101479</td>\n",
       "      <td>-1.415406</td>\n",
       "      <td>-0.737691</td>\n",
       "    </tr>\n",
       "    <tr>\n",
       "      <th>3</th>\n",
       "      <td>-1.753925</td>\n",
       "      <td>-0.313454</td>\n",
       "      <td>-0.998814</td>\n",
       "      <td>-0.278849</td>\n",
       "      <td>1.294624</td>\n",
       "      <td>-0.160945</td>\n",
       "      <td>-0.515173</td>\n",
       "      <td>-0.886758</td>\n",
       "      <td>0.409661</td>\n",
       "      <td>1.557404</td>\n",
       "      <td>-1.676659</td>\n",
       "      <td>0.428551</td>\n",
       "      <td>-0.173408</td>\n",
       "      <td>-0.060506</td>\n",
       "      <td>-0.101479</td>\n",
       "      <td>-1.307702</td>\n",
       "      <td>-0.737691</td>\n",
       "    </tr>\n",
       "    <tr>\n",
       "      <th>4</th>\n",
       "      <td>0.151040</td>\n",
       "      <td>-0.313454</td>\n",
       "      <td>0.130259</td>\n",
       "      <td>-1.680084</td>\n",
       "      <td>-0.407020</td>\n",
       "      <td>-0.160945</td>\n",
       "      <td>-0.515173</td>\n",
       "      <td>1.901012</td>\n",
       "      <td>0.409661</td>\n",
       "      <td>0.850531</td>\n",
       "      <td>0.010919</td>\n",
       "      <td>-1.149928</td>\n",
       "      <td>-0.173408</td>\n",
       "      <td>-0.060506</td>\n",
       "      <td>-0.101479</td>\n",
       "      <td>-0.122955</td>\n",
       "      <td>-0.737691</td>\n",
       "    </tr>\n",
       "    <tr>\n",
       "      <th>...</th>\n",
       "      <td>...</td>\n",
       "      <td>...</td>\n",
       "      <td>...</td>\n",
       "      <td>...</td>\n",
       "      <td>...</td>\n",
       "      <td>...</td>\n",
       "      <td>...</td>\n",
       "      <td>...</td>\n",
       "      <td>...</td>\n",
       "      <td>...</td>\n",
       "      <td>...</td>\n",
       "      <td>...</td>\n",
       "      <td>...</td>\n",
       "      <td>...</td>\n",
       "      <td>...</td>\n",
       "      <td>...</td>\n",
       "      <td>...</td>\n",
       "    </tr>\n",
       "    <tr>\n",
       "      <th>42095</th>\n",
       "      <td>2.056005</td>\n",
       "      <td>-0.313454</td>\n",
       "      <td>-0.998814</td>\n",
       "      <td>1.122386</td>\n",
       "      <td>-0.407020</td>\n",
       "      <td>-0.160945</td>\n",
       "      <td>0.685890</td>\n",
       "      <td>0.692156</td>\n",
       "      <td>0.409661</td>\n",
       "      <td>1.557404</td>\n",
       "      <td>1.585992</td>\n",
       "      <td>0.428551</td>\n",
       "      <td>-0.173408</td>\n",
       "      <td>-0.060506</td>\n",
       "      <td>-0.101479</td>\n",
       "      <td>0.954088</td>\n",
       "      <td>1.842849</td>\n",
       "    </tr>\n",
       "    <tr>\n",
       "      <th>42096</th>\n",
       "      <td>0.151040</td>\n",
       "      <td>-0.313454</td>\n",
       "      <td>-0.998814</td>\n",
       "      <td>0.421768</td>\n",
       "      <td>-0.407020</td>\n",
       "      <td>-0.160945</td>\n",
       "      <td>-0.515173</td>\n",
       "      <td>-0.862087</td>\n",
       "      <td>-2.441040</td>\n",
       "      <td>0.497095</td>\n",
       "      <td>0.798456</td>\n",
       "      <td>-1.149928</td>\n",
       "      <td>-0.173408</td>\n",
       "      <td>-0.060506</td>\n",
       "      <td>-0.101479</td>\n",
       "      <td>3.233919</td>\n",
       "      <td>-0.737691</td>\n",
       "    </tr>\n",
       "    <tr>\n",
       "      <th>42097</th>\n",
       "      <td>0.151040</td>\n",
       "      <td>-0.313454</td>\n",
       "      <td>-0.998814</td>\n",
       "      <td>-0.278849</td>\n",
       "      <td>2.996268</td>\n",
       "      <td>-0.160945</td>\n",
       "      <td>-0.515173</td>\n",
       "      <td>2.320411</td>\n",
       "      <td>0.409661</td>\n",
       "      <td>-0.209778</td>\n",
       "      <td>0.573445</td>\n",
       "      <td>-1.149928</td>\n",
       "      <td>-0.173408</td>\n",
       "      <td>-0.060506</td>\n",
       "      <td>-0.101479</td>\n",
       "      <td>-0.230659</td>\n",
       "      <td>-0.737691</td>\n",
       "    </tr>\n",
       "    <tr>\n",
       "      <th>42098</th>\n",
       "      <td>-1.753925</td>\n",
       "      <td>-0.313454</td>\n",
       "      <td>-0.998814</td>\n",
       "      <td>0.421768</td>\n",
       "      <td>-0.407020</td>\n",
       "      <td>-0.160945</td>\n",
       "      <td>-0.515173</td>\n",
       "      <td>-1.219810</td>\n",
       "      <td>0.409661</td>\n",
       "      <td>1.203968</td>\n",
       "      <td>-0.776617</td>\n",
       "      <td>-1.149928</td>\n",
       "      <td>-0.173408</td>\n",
       "      <td>-0.060506</td>\n",
       "      <td>-0.101479</td>\n",
       "      <td>0.415567</td>\n",
       "      <td>-0.737691</td>\n",
       "    </tr>\n",
       "    <tr>\n",
       "      <th>42099</th>\n",
       "      <td>0.151040</td>\n",
       "      <td>-0.313454</td>\n",
       "      <td>0.130259</td>\n",
       "      <td>-0.979466</td>\n",
       "      <td>-0.407020</td>\n",
       "      <td>-0.160945</td>\n",
       "      <td>0.685890</td>\n",
       "      <td>-0.788076</td>\n",
       "      <td>-2.441040</td>\n",
       "      <td>0.850531</td>\n",
       "      <td>1.135971</td>\n",
       "      <td>-1.149928</td>\n",
       "      <td>-0.173408</td>\n",
       "      <td>-0.060506</td>\n",
       "      <td>-0.101479</td>\n",
       "      <td>-1.065367</td>\n",
       "      <td>-0.737691</td>\n",
       "    </tr>\n",
       "  </tbody>\n",
       "</table>\n",
       "<p>42100 rows × 17 columns</p>\n",
       "</div>"
      ],
      "text/plain": [
       "       no_of_adults  no_of_children  no_of_weekend_nights  no_of_week_nights  \\\n",
       "id                                                                             \n",
       "0          0.151040       -0.313454             -0.998814          -0.278849   \n",
       "1          0.151040       -0.313454              0.130259          -0.278849   \n",
       "2          0.151040       -0.313454             -0.998814          -0.979466   \n",
       "3         -1.753925       -0.313454             -0.998814          -0.278849   \n",
       "4          0.151040       -0.313454              0.130259          -1.680084   \n",
       "...             ...             ...                   ...                ...   \n",
       "42095      2.056005       -0.313454             -0.998814           1.122386   \n",
       "42096      0.151040       -0.313454             -0.998814           0.421768   \n",
       "42097      0.151040       -0.313454             -0.998814          -0.278849   \n",
       "42098     -1.753925       -0.313454             -0.998814           0.421768   \n",
       "42099      0.151040       -0.313454              0.130259          -0.979466   \n",
       "\n",
       "       type_of_meal_plan  required_car_parking_space  room_type_reserved  \\\n",
       "id                                                                         \n",
       "0               1.294624                   -0.160945           -0.515173   \n",
       "1              -0.407020                   -0.160945           -0.515173   \n",
       "2              -0.407020                   -0.160945           -0.515173   \n",
       "3               1.294624                   -0.160945           -0.515173   \n",
       "4              -0.407020                   -0.160945           -0.515173   \n",
       "...                  ...                         ...                 ...   \n",
       "42095          -0.407020                   -0.160945            0.685890   \n",
       "42096          -0.407020                   -0.160945           -0.515173   \n",
       "42097           2.996268                   -0.160945           -0.515173   \n",
       "42098          -0.407020                   -0.160945           -0.515173   \n",
       "42099          -0.407020                   -0.160945            0.685890   \n",
       "\n",
       "       lead_time  arrival_year  arrival_month  arrival_date  \\\n",
       "id                                                            \n",
       "0      -1.170469      0.409661      -2.330398     -0.214091   \n",
       "1       0.161740      0.409661      -0.209778      1.473487   \n",
       "2       2.604122      0.409661       1.557404     -1.564154   \n",
       "3      -0.886758      0.409661       1.557404     -1.676659   \n",
       "4       1.901012      0.409661       0.850531      0.010919   \n",
       "...          ...           ...            ...           ...   \n",
       "42095   0.692156      0.409661       1.557404      1.585992   \n",
       "42096  -0.862087     -2.441040       0.497095      0.798456   \n",
       "42097   2.320411      0.409661      -0.209778      0.573445   \n",
       "42098  -1.219810      0.409661       1.203968     -0.776617   \n",
       "42099  -0.788076     -2.441040       0.850531      1.135971   \n",
       "\n",
       "       market_segment_type  repeated_guest  no_of_previous_cancellations  \\\n",
       "id                                                                         \n",
       "0                 0.428551        5.766758                     33.699120   \n",
       "1                -1.149928       -0.173408                     -0.060506   \n",
       "2                -1.149928       -0.173408                     -0.060506   \n",
       "3                 0.428551       -0.173408                     -0.060506   \n",
       "4                -1.149928       -0.173408                     -0.060506   \n",
       "...                    ...             ...                           ...   \n",
       "42095             0.428551       -0.173408                     -0.060506   \n",
       "42096            -1.149928       -0.173408                     -0.060506   \n",
       "42097            -1.149928       -0.173408                     -0.060506   \n",
       "42098            -1.149928       -0.173408                     -0.060506   \n",
       "42099            -1.149928       -0.173408                     -0.060506   \n",
       "\n",
       "       no_of_previous_bookings_not_canceled  avg_price_per_room  \\\n",
       "id                                                                \n",
       "0                                 -0.101479           -0.998052   \n",
       "1                                 -0.101479           -0.870153   \n",
       "2                                 -0.101479           -1.415406   \n",
       "3                                 -0.101479           -1.307702   \n",
       "4                                 -0.101479           -0.122955   \n",
       "...                                     ...                 ...   \n",
       "42095                             -0.101479            0.954088   \n",
       "42096                             -0.101479            3.233919   \n",
       "42097                             -0.101479           -0.230659   \n",
       "42098                             -0.101479            0.415567   \n",
       "42099                             -0.101479           -1.065367   \n",
       "\n",
       "       no_of_special_requests  \n",
       "id                             \n",
       "0                   -0.737691  \n",
       "1                   -0.737691  \n",
       "2                   -0.737691  \n",
       "3                   -0.737691  \n",
       "4                   -0.737691  \n",
       "...                       ...  \n",
       "42095                1.842849  \n",
       "42096               -0.737691  \n",
       "42097               -0.737691  \n",
       "42098               -0.737691  \n",
       "42099               -0.737691  \n",
       "\n",
       "[42100 rows x 17 columns]"
      ]
     },
     "execution_count": 5,
     "metadata": {},
     "output_type": "execute_result"
    }
   ],
   "source": [
    "scaler = StandardScaler().fit(X_train)\n",
    "X_train = pd.DataFrame(scaler.transform(X_train), \n",
    "                       columns=X_train.columns, \n",
    "                       index=X_train.index)\n",
    "X_train"
   ]
  },
  {
   "cell_type": "markdown",
   "id": "0871095f",
   "metadata": {},
   "source": [
    "# Best models\n",
    "Assembling data from tuning individual classifiers"
   ]
  },
  {
   "cell_type": "markdown",
   "id": "83a7add2",
   "metadata": {},
   "source": [
    "### Random forest"
   ]
  },
  {
   "cell_type": "code",
   "execution_count": 6,
   "id": "8bc74202",
   "metadata": {},
   "outputs": [],
   "source": [
    "from sklearn.ensemble import RandomForestClassifier"
   ]
  },
  {
   "cell_type": "code",
   "execution_count": 7,
   "id": "8df91408",
   "metadata": {},
   "outputs": [],
   "source": [
    "best_params_rf =\\\n",
    "{'max_depth': 40,\n",
    " 'max_features': 'sqrt',\n",
    " 'max_samples': 1.0,\n",
    " 'min_samples_split': 40,\n",
    " 'n_estimators': 2250}"
   ]
  },
  {
   "cell_type": "code",
   "execution_count": 8,
   "id": "d497b02c",
   "metadata": {},
   "outputs": [],
   "source": [
    "random_forest = RandomForestClassifier(n_jobs=-1,\n",
    "                                       random_state=8,\n",
    "                                       bootstrap=True,\n",
    "                                      **best_params_rf)"
   ]
  },
  {
   "cell_type": "code",
   "execution_count": 9,
   "id": "8c55b6c6",
   "metadata": {},
   "outputs": [],
   "source": [
    "best_score_rf = 0.8911929904636795"
   ]
  },
  {
   "cell_type": "markdown",
   "id": "4b6f2e9c",
   "metadata": {},
   "source": [
    "### XGBoost"
   ]
  },
  {
   "cell_type": "code",
   "execution_count": 10,
   "id": "82e453b6",
   "metadata": {},
   "outputs": [],
   "source": [
    "from xgboost import XGBClassifier"
   ]
  },
  {
   "cell_type": "code",
   "execution_count": 11,
   "id": "b54b654d",
   "metadata": {
    "scrolled": true
   },
   "outputs": [],
   "source": [
    "best_params_xgb =\\\n",
    "{'learning_rate': 0.3,\n",
    " 'max_depth': 3,\n",
    " 'n_estimators': 700,\n",
    " 'reg_alpha': 0.0005,\n",
    " 'reg_lambda': 0.2}"
   ]
  },
  {
   "cell_type": "code",
   "execution_count": 12,
   "id": "d7d6a12f",
   "metadata": {},
   "outputs": [],
   "source": [
    "xgboost_clf = XGBClassifier(random_state=8,\n",
    "                         max_leaves=0,\n",
    "                         n_jobs=-1,\n",
    "                         **best_params_xgb)"
   ]
  },
  {
   "cell_type": "code",
   "execution_count": 13,
   "id": "f007751e",
   "metadata": {},
   "outputs": [],
   "source": [
    "best_score_xgb = 0.8983333718679651"
   ]
  },
  {
   "cell_type": "markdown",
   "id": "682e2388",
   "metadata": {},
   "source": [
    "### KNN"
   ]
  },
  {
   "cell_type": "code",
   "execution_count": 14,
   "id": "3e85651a",
   "metadata": {},
   "outputs": [],
   "source": [
    "from sklearn.neighbors import KNeighborsClassifier"
   ]
  },
  {
   "cell_type": "code",
   "execution_count": 15,
   "id": "01292941",
   "metadata": {
    "scrolled": true
   },
   "outputs": [],
   "source": [
    "best_params_knn = {'n_neighbors': 60, 'p': 1, 'weights': 'uniform'}"
   ]
  },
  {
   "cell_type": "code",
   "execution_count": 16,
   "id": "9b6a3ef0",
   "metadata": {},
   "outputs": [],
   "source": [
    "knn = KNeighborsClassifier(algorithm='auto',\n",
    "                           metric='minkowski',\n",
    "                           n_jobs=-1,\n",
    "                          **best_params_knn)"
   ]
  },
  {
   "cell_type": "code",
   "execution_count": 17,
   "id": "4dcf0116",
   "metadata": {},
   "outputs": [],
   "source": [
    "best_score_knn = 0.8636631176440875"
   ]
  },
  {
   "cell_type": "markdown",
   "id": "23b4bba8",
   "metadata": {},
   "source": [
    "### AdaBoost"
   ]
  },
  {
   "cell_type": "code",
   "execution_count": 18,
   "id": "cca5d5ec",
   "metadata": {},
   "outputs": [],
   "source": [
    "from sklearn.ensemble import AdaBoostClassifier\n",
    "from sklearn.tree import DecisionTreeClassifier"
   ]
  },
  {
   "cell_type": "code",
   "execution_count": 19,
   "id": "b622c151",
   "metadata": {},
   "outputs": [],
   "source": [
    "best_params_base = {'max_depth': 25,\n",
    " 'max_features': 'sqrt',\n",
    " 'min_samples_split': 150}"
   ]
  },
  {
   "cell_type": "code",
   "execution_count": 20,
   "id": "3c0a7633",
   "metadata": {},
   "outputs": [],
   "source": [
    "best_params_ada = {'learning_rate': 0.0005, 'n_estimators': 900}"
   ]
  },
  {
   "cell_type": "code",
   "execution_count": 21,
   "id": "9982a6e2",
   "metadata": {},
   "outputs": [],
   "source": [
    "ada = AdaBoostClassifier(base_estimator=DecisionTreeClassifier(random_state=8,\n",
    "                                                                   **best_params_base),\n",
    "                              random_state=8,\n",
    "                              **best_params_ada)"
   ]
  },
  {
   "cell_type": "code",
   "execution_count": 22,
   "id": "c80049a2",
   "metadata": {},
   "outputs": [],
   "source": [
    "best_score_ada = 0.8900577986404123"
   ]
  },
  {
   "cell_type": "markdown",
   "id": "59067c9f",
   "metadata": {},
   "source": [
    "# Ensembles\n",
    "## Voting classifier (unweighted)"
   ]
  },
  {
   "cell_type": "code",
   "execution_count": 27,
   "id": "7009a230",
   "metadata": {},
   "outputs": [],
   "source": [
    "from sklearn.ensemble import VotingClassifier"
   ]
  },
  {
   "cell_type": "code",
   "execution_count": 28,
   "id": "e0af4766",
   "metadata": {},
   "outputs": [],
   "source": [
    "vote_with_knn = VotingClassifier(\n",
    "    estimators = [\n",
    "        ('rf', random_forest),\n",
    "        ('xgb', xgboost_clf),\n",
    "        ('knn', knn),\n",
    "        ('ada', ada)\n",
    "    ],\n",
    "    voting='soft'\n",
    ")"
   ]
  },
  {
   "cell_type": "code",
   "execution_count": 29,
   "id": "4fec2431",
   "metadata": {},
   "outputs": [
    {
     "name": "stdout",
     "output_type": "stream",
     "text": [
      "CPU times: user 5min 5s, sys: 7.19 s, total: 5min 12s\n",
      "Wall time: 4min 54s\n"
     ]
    }
   ],
   "source": [
    "%%time\n",
    "%%chime\n",
    "scores_with_knn = cross_val_score(vote_with_knn,\n",
    "                                       X_train, y_train,\n",
    "                                       scoring='roc_auc',\n",
    "                                       cv=5)\n"
   ]
  },
  {
   "cell_type": "code",
   "execution_count": 30,
   "id": "582f4f69",
   "metadata": {
    "scrolled": true
   },
   "outputs": [
    {
     "data": {
      "text/plain": [
       "0.8959515851516204"
      ]
     },
     "execution_count": 30,
     "metadata": {},
     "output_type": "execute_result"
    }
   ],
   "source": [
    "scores_with_knn.mean()"
   ]
  },
  {
   "cell_type": "code",
   "execution_count": 31,
   "id": "4b1e7c74",
   "metadata": {
    "scrolled": true
   },
   "outputs": [
    {
     "data": {
      "text/plain": [
       "0.004247907076362921"
      ]
     },
     "execution_count": 31,
     "metadata": {},
     "output_type": "execute_result"
    }
   ],
   "source": [
    "scores_with_knn.std()"
   ]
  },
  {
   "cell_type": "code",
   "execution_count": 32,
   "id": "c5ef5926",
   "metadata": {},
   "outputs": [],
   "source": [
    "vote_without_knn = VotingClassifier(\n",
    "    estimators = [\n",
    "        ('rf', random_forest),\n",
    "        ('xgb', xgboost_clf),\n",
    "        ('ada', ada)\n",
    "    ],\n",
    "    voting='soft'\n",
    ")"
   ]
  },
  {
   "cell_type": "code",
   "execution_count": 33,
   "id": "290e4473",
   "metadata": {},
   "outputs": [
    {
     "name": "stdout",
     "output_type": "stream",
     "text": [
      "CPU times: user 4min 17s, sys: 1.81 s, total: 4min 19s\n",
      "Wall time: 4min 27s\n"
     ]
    }
   ],
   "source": [
    "%%time\n",
    "%%chime\n",
    "scores_without_knn = cross_val_score(vote_without_knn,\n",
    "                                       X_train, y_train,\n",
    "                                       scoring='roc_auc',\n",
    "                                       cv=5)\n"
   ]
  },
  {
   "cell_type": "code",
   "execution_count": 34,
   "id": "4a4d5ed2",
   "metadata": {
    "scrolled": true
   },
   "outputs": [
    {
     "data": {
      "text/plain": [
       "0.8981063043249012"
      ]
     },
     "execution_count": 34,
     "metadata": {},
     "output_type": "execute_result"
    }
   ],
   "source": [
    "scores_without_knn.mean()"
   ]
  },
  {
   "cell_type": "code",
   "execution_count": 35,
   "id": "9692b8db",
   "metadata": {
    "scrolled": true
   },
   "outputs": [
    {
     "data": {
      "text/plain": [
       "0.004297711993778989"
      ]
     },
     "execution_count": 35,
     "metadata": {},
     "output_type": "execute_result"
    }
   ],
   "source": [
    "scores_without_knn.std()"
   ]
  },
  {
   "cell_type": "markdown",
   "id": "2e6ceeda",
   "metadata": {},
   "source": [
    "## Voting classifier (weighted)"
   ]
  },
  {
   "cell_type": "markdown",
   "id": "ee343787",
   "metadata": {},
   "source": [
    "I use best scores of each classifier as its weight"
   ]
  },
  {
   "cell_type": "code",
   "execution_count": 36,
   "id": "0962ecf1",
   "metadata": {},
   "outputs": [],
   "source": [
    "weights_with_knn = [best_score_rf, best_score_xgb, best_score_knn, best_score_ada]"
   ]
  },
  {
   "cell_type": "code",
   "execution_count": 37,
   "id": "5b8279a6",
   "metadata": {},
   "outputs": [],
   "source": [
    "weighted_vote_with_knn = VotingClassifier(\n",
    "    estimators = [\n",
    "        ('rf', random_forest),\n",
    "        ('xgb', xgboost_clf),\n",
    "        ('knn', knn),\n",
    "        ('ada', ada)\n",
    "    ],\n",
    "    voting='soft',\n",
    "    weights=weights_with_knn\n",
    ")"
   ]
  },
  {
   "cell_type": "code",
   "execution_count": 38,
   "id": "15b6a471",
   "metadata": {},
   "outputs": [
    {
     "name": "stdout",
     "output_type": "stream",
     "text": [
      "CPU times: user 5min 5s, sys: 6.7 s, total: 5min 12s\n",
      "Wall time: 4min 54s\n"
     ]
    }
   ],
   "source": [
    "%%time\n",
    "%%chime\n",
    "weighted_scores_with_knn = cross_val_score(weighted_vote_with_knn,\n",
    "                                       X_train, y_train,\n",
    "                                       scoring='roc_auc',\n",
    "                                       cv=5)\n"
   ]
  },
  {
   "cell_type": "code",
   "execution_count": 39,
   "id": "e8a3683b",
   "metadata": {
    "scrolled": true
   },
   "outputs": [
    {
     "data": {
      "text/plain": [
       "0.8960693657674115"
      ]
     },
     "execution_count": 39,
     "metadata": {},
     "output_type": "execute_result"
    }
   ],
   "source": [
    "weighted_scores_with_knn.mean()"
   ]
  },
  {
   "cell_type": "code",
   "execution_count": 40,
   "id": "3e2dc361",
   "metadata": {
    "scrolled": true
   },
   "outputs": [
    {
     "data": {
      "text/plain": [
       "0.004250088162659999"
      ]
     },
     "execution_count": 40,
     "metadata": {},
     "output_type": "execute_result"
    }
   ],
   "source": [
    "weighted_scores_with_knn.std()"
   ]
  },
  {
   "cell_type": "code",
   "execution_count": 41,
   "id": "2bb36e8f",
   "metadata": {},
   "outputs": [],
   "source": [
    "weights_without_knn = [best_score_rf, best_score_xgb, best_score_ada]"
   ]
  },
  {
   "cell_type": "code",
   "execution_count": 42,
   "id": "58dba274",
   "metadata": {},
   "outputs": [],
   "source": [
    "weighted_vote_without_knn = VotingClassifier(\n",
    "    estimators = [\n",
    "        ('rf', random_forest),\n",
    "        ('xgb', xgboost_clf),\n",
    "        ('ada', ada)\n",
    "    ],\n",
    "    voting='soft',\n",
    "    weights=weights_without_knn\n",
    ")"
   ]
  },
  {
   "cell_type": "code",
   "execution_count": 43,
   "id": "19fd400b",
   "metadata": {},
   "outputs": [
    {
     "name": "stdout",
     "output_type": "stream",
     "text": [
      "CPU times: user 4min 17s, sys: 1.87 s, total: 4min 19s\n",
      "Wall time: 4min 25s\n"
     ]
    }
   ],
   "source": [
    "%%time\n",
    "%%chime\n",
    "weighted_scores_without_knn = cross_val_score(weighted_vote_without_knn,\n",
    "                                       X_train, y_train,\n",
    "                                       scoring='roc_auc',\n",
    "                                       cv=5)\n"
   ]
  },
  {
   "cell_type": "code",
   "execution_count": 44,
   "id": "cc322ef6",
   "metadata": {
    "scrolled": true
   },
   "outputs": [
    {
     "data": {
      "text/plain": [
       "0.8981295739976263"
      ]
     },
     "execution_count": 44,
     "metadata": {},
     "output_type": "execute_result"
    }
   ],
   "source": [
    "weighted_scores_without_knn.mean()"
   ]
  },
  {
   "cell_type": "code",
   "execution_count": 45,
   "id": "db855200",
   "metadata": {
    "scrolled": true
   },
   "outputs": [
    {
     "data": {
      "text/plain": [
       "0.004297911144110737"
      ]
     },
     "execution_count": 45,
     "metadata": {},
     "output_type": "execute_result"
    }
   ],
   "source": [
    "weighted_scores_without_knn.std()"
   ]
  },
  {
   "cell_type": "markdown",
   "id": "0071a4d8",
   "metadata": {},
   "source": [
    "### Conclusion on voting\n",
    "- Voting improves results slightly compared to individual classifiers\n",
    "- It is better to use top classifiers without KNN. For top classifiers, using their scores as weights does not result in significant improvement"
   ]
  },
  {
   "cell_type": "markdown",
   "id": "d3ab2069",
   "metadata": {},
   "source": [
    "## Prediction on the test set"
   ]
  },
  {
   "cell_type": "code",
   "execution_count": 46,
   "id": "f6437af7",
   "metadata": {},
   "outputs": [
    {
     "data": {
      "text/html": [
       "<div>\n",
       "<style scoped>\n",
       "    .dataframe tbody tr th:only-of-type {\n",
       "        vertical-align: middle;\n",
       "    }\n",
       "\n",
       "    .dataframe tbody tr th {\n",
       "        vertical-align: top;\n",
       "    }\n",
       "\n",
       "    .dataframe thead th {\n",
       "        text-align: right;\n",
       "    }\n",
       "</style>\n",
       "<table border=\"1\" class=\"dataframe\">\n",
       "  <thead>\n",
       "    <tr style=\"text-align: right;\">\n",
       "      <th></th>\n",
       "      <th>no_of_adults</th>\n",
       "      <th>no_of_children</th>\n",
       "      <th>no_of_weekend_nights</th>\n",
       "      <th>no_of_week_nights</th>\n",
       "      <th>type_of_meal_plan</th>\n",
       "      <th>required_car_parking_space</th>\n",
       "      <th>room_type_reserved</th>\n",
       "      <th>lead_time</th>\n",
       "      <th>arrival_year</th>\n",
       "      <th>arrival_month</th>\n",
       "      <th>arrival_date</th>\n",
       "      <th>market_segment_type</th>\n",
       "      <th>repeated_guest</th>\n",
       "      <th>no_of_previous_cancellations</th>\n",
       "      <th>no_of_previous_bookings_not_canceled</th>\n",
       "      <th>avg_price_per_room</th>\n",
       "      <th>no_of_special_requests</th>\n",
       "    </tr>\n",
       "    <tr>\n",
       "      <th>id</th>\n",
       "      <th></th>\n",
       "      <th></th>\n",
       "      <th></th>\n",
       "      <th></th>\n",
       "      <th></th>\n",
       "      <th></th>\n",
       "      <th></th>\n",
       "      <th></th>\n",
       "      <th></th>\n",
       "      <th></th>\n",
       "      <th></th>\n",
       "      <th></th>\n",
       "      <th></th>\n",
       "      <th></th>\n",
       "      <th></th>\n",
       "      <th></th>\n",
       "      <th></th>\n",
       "    </tr>\n",
       "  </thead>\n",
       "  <tbody>\n",
       "    <tr>\n",
       "      <th>42100</th>\n",
       "      <td>3</td>\n",
       "      <td>0</td>\n",
       "      <td>1</td>\n",
       "      <td>4</td>\n",
       "      <td>0</td>\n",
       "      <td>0</td>\n",
       "      <td>1</td>\n",
       "      <td>111</td>\n",
       "      <td>2018</td>\n",
       "      <td>12</td>\n",
       "      <td>5</td>\n",
       "      <td>1</td>\n",
       "      <td>0</td>\n",
       "      <td>0</td>\n",
       "      <td>0</td>\n",
       "      <td>115.60</td>\n",
       "      <td>2</td>\n",
       "    </tr>\n",
       "    <tr>\n",
       "      <th>42101</th>\n",
       "      <td>2</td>\n",
       "      <td>0</td>\n",
       "      <td>0</td>\n",
       "      <td>3</td>\n",
       "      <td>0</td>\n",
       "      <td>0</td>\n",
       "      <td>0</td>\n",
       "      <td>22</td>\n",
       "      <td>2017</td>\n",
       "      <td>10</td>\n",
       "      <td>21</td>\n",
       "      <td>0</td>\n",
       "      <td>0</td>\n",
       "      <td>0</td>\n",
       "      <td>0</td>\n",
       "      <td>85.00</td>\n",
       "      <td>0</td>\n",
       "    </tr>\n",
       "    <tr>\n",
       "      <th>42102</th>\n",
       "      <td>2</td>\n",
       "      <td>2</td>\n",
       "      <td>0</td>\n",
       "      <td>1</td>\n",
       "      <td>0</td>\n",
       "      <td>0</td>\n",
       "      <td>3</td>\n",
       "      <td>18</td>\n",
       "      <td>2018</td>\n",
       "      <td>8</td>\n",
       "      <td>10</td>\n",
       "      <td>1</td>\n",
       "      <td>0</td>\n",
       "      <td>0</td>\n",
       "      <td>0</td>\n",
       "      <td>240.00</td>\n",
       "      <td>1</td>\n",
       "    </tr>\n",
       "    <tr>\n",
       "      <th>42103</th>\n",
       "      <td>2</td>\n",
       "      <td>0</td>\n",
       "      <td>0</td>\n",
       "      <td>3</td>\n",
       "      <td>0</td>\n",
       "      <td>0</td>\n",
       "      <td>0</td>\n",
       "      <td>88</td>\n",
       "      <td>2018</td>\n",
       "      <td>5</td>\n",
       "      <td>30</td>\n",
       "      <td>0</td>\n",
       "      <td>0</td>\n",
       "      <td>0</td>\n",
       "      <td>0</td>\n",
       "      <td>80.75</td>\n",
       "      <td>0</td>\n",
       "    </tr>\n",
       "    <tr>\n",
       "      <th>42104</th>\n",
       "      <td>1</td>\n",
       "      <td>0</td>\n",
       "      <td>0</td>\n",
       "      <td>2</td>\n",
       "      <td>2</td>\n",
       "      <td>0</td>\n",
       "      <td>0</td>\n",
       "      <td>7</td>\n",
       "      <td>2018</td>\n",
       "      <td>9</td>\n",
       "      <td>21</td>\n",
       "      <td>1</td>\n",
       "      <td>0</td>\n",
       "      <td>0</td>\n",
       "      <td>0</td>\n",
       "      <td>144.00</td>\n",
       "      <td>0</td>\n",
       "    </tr>\n",
       "    <tr>\n",
       "      <th>...</th>\n",
       "      <td>...</td>\n",
       "      <td>...</td>\n",
       "      <td>...</td>\n",
       "      <td>...</td>\n",
       "      <td>...</td>\n",
       "      <td>...</td>\n",
       "      <td>...</td>\n",
       "      <td>...</td>\n",
       "      <td>...</td>\n",
       "      <td>...</td>\n",
       "      <td>...</td>\n",
       "      <td>...</td>\n",
       "      <td>...</td>\n",
       "      <td>...</td>\n",
       "      <td>...</td>\n",
       "      <td>...</td>\n",
       "      <td>...</td>\n",
       "    </tr>\n",
       "    <tr>\n",
       "      <th>70163</th>\n",
       "      <td>2</td>\n",
       "      <td>0</td>\n",
       "      <td>1</td>\n",
       "      <td>2</td>\n",
       "      <td>0</td>\n",
       "      <td>0</td>\n",
       "      <td>0</td>\n",
       "      <td>315</td>\n",
       "      <td>2018</td>\n",
       "      <td>9</td>\n",
       "      <td>30</td>\n",
       "      <td>1</td>\n",
       "      <td>0</td>\n",
       "      <td>0</td>\n",
       "      <td>0</td>\n",
       "      <td>160.00</td>\n",
       "      <td>0</td>\n",
       "    </tr>\n",
       "    <tr>\n",
       "      <th>70164</th>\n",
       "      <td>2</td>\n",
       "      <td>0</td>\n",
       "      <td>2</td>\n",
       "      <td>2</td>\n",
       "      <td>0</td>\n",
       "      <td>0</td>\n",
       "      <td>0</td>\n",
       "      <td>81</td>\n",
       "      <td>2018</td>\n",
       "      <td>3</td>\n",
       "      <td>25</td>\n",
       "      <td>0</td>\n",
       "      <td>0</td>\n",
       "      <td>0</td>\n",
       "      <td>0</td>\n",
       "      <td>65.00</td>\n",
       "      <td>1</td>\n",
       "    </tr>\n",
       "    <tr>\n",
       "      <th>70165</th>\n",
       "      <td>2</td>\n",
       "      <td>0</td>\n",
       "      <td>1</td>\n",
       "      <td>2</td>\n",
       "      <td>0</td>\n",
       "      <td>0</td>\n",
       "      <td>0</td>\n",
       "      <td>40</td>\n",
       "      <td>2018</td>\n",
       "      <td>10</td>\n",
       "      <td>22</td>\n",
       "      <td>0</td>\n",
       "      <td>0</td>\n",
       "      <td>0</td>\n",
       "      <td>0</td>\n",
       "      <td>85.00</td>\n",
       "      <td>0</td>\n",
       "    </tr>\n",
       "    <tr>\n",
       "      <th>70166</th>\n",
       "      <td>3</td>\n",
       "      <td>0</td>\n",
       "      <td>0</td>\n",
       "      <td>4</td>\n",
       "      <td>0</td>\n",
       "      <td>0</td>\n",
       "      <td>1</td>\n",
       "      <td>4</td>\n",
       "      <td>2018</td>\n",
       "      <td>9</td>\n",
       "      <td>6</td>\n",
       "      <td>1</td>\n",
       "      <td>0</td>\n",
       "      <td>0</td>\n",
       "      <td>0</td>\n",
       "      <td>162.75</td>\n",
       "      <td>0</td>\n",
       "    </tr>\n",
       "    <tr>\n",
       "      <th>70167</th>\n",
       "      <td>2</td>\n",
       "      <td>0</td>\n",
       "      <td>2</td>\n",
       "      <td>3</td>\n",
       "      <td>0</td>\n",
       "      <td>0</td>\n",
       "      <td>0</td>\n",
       "      <td>191</td>\n",
       "      <td>2018</td>\n",
       "      <td>8</td>\n",
       "      <td>28</td>\n",
       "      <td>1</td>\n",
       "      <td>0</td>\n",
       "      <td>0</td>\n",
       "      <td>0</td>\n",
       "      <td>84.31</td>\n",
       "      <td>0</td>\n",
       "    </tr>\n",
       "  </tbody>\n",
       "</table>\n",
       "<p>28068 rows × 17 columns</p>\n",
       "</div>"
      ],
      "text/plain": [
       "       no_of_adults  no_of_children  no_of_weekend_nights  no_of_week_nights  \\\n",
       "id                                                                             \n",
       "42100             3               0                     1                  4   \n",
       "42101             2               0                     0                  3   \n",
       "42102             2               2                     0                  1   \n",
       "42103             2               0                     0                  3   \n",
       "42104             1               0                     0                  2   \n",
       "...             ...             ...                   ...                ...   \n",
       "70163             2               0                     1                  2   \n",
       "70164             2               0                     2                  2   \n",
       "70165             2               0                     1                  2   \n",
       "70166             3               0                     0                  4   \n",
       "70167             2               0                     2                  3   \n",
       "\n",
       "       type_of_meal_plan  required_car_parking_space  room_type_reserved  \\\n",
       "id                                                                         \n",
       "42100                  0                           0                   1   \n",
       "42101                  0                           0                   0   \n",
       "42102                  0                           0                   3   \n",
       "42103                  0                           0                   0   \n",
       "42104                  2                           0                   0   \n",
       "...                  ...                         ...                 ...   \n",
       "70163                  0                           0                   0   \n",
       "70164                  0                           0                   0   \n",
       "70165                  0                           0                   0   \n",
       "70166                  0                           0                   1   \n",
       "70167                  0                           0                   0   \n",
       "\n",
       "       lead_time  arrival_year  arrival_month  arrival_date  \\\n",
       "id                                                            \n",
       "42100        111          2018             12             5   \n",
       "42101         22          2017             10            21   \n",
       "42102         18          2018              8            10   \n",
       "42103         88          2018              5            30   \n",
       "42104          7          2018              9            21   \n",
       "...          ...           ...            ...           ...   \n",
       "70163        315          2018              9            30   \n",
       "70164         81          2018              3            25   \n",
       "70165         40          2018             10            22   \n",
       "70166          4          2018              9             6   \n",
       "70167        191          2018              8            28   \n",
       "\n",
       "       market_segment_type  repeated_guest  no_of_previous_cancellations  \\\n",
       "id                                                                         \n",
       "42100                    1               0                             0   \n",
       "42101                    0               0                             0   \n",
       "42102                    1               0                             0   \n",
       "42103                    0               0                             0   \n",
       "42104                    1               0                             0   \n",
       "...                    ...             ...                           ...   \n",
       "70163                    1               0                             0   \n",
       "70164                    0               0                             0   \n",
       "70165                    0               0                             0   \n",
       "70166                    1               0                             0   \n",
       "70167                    1               0                             0   \n",
       "\n",
       "       no_of_previous_bookings_not_canceled  avg_price_per_room  \\\n",
       "id                                                                \n",
       "42100                                     0              115.60   \n",
       "42101                                     0               85.00   \n",
       "42102                                     0              240.00   \n",
       "42103                                     0               80.75   \n",
       "42104                                     0              144.00   \n",
       "...                                     ...                 ...   \n",
       "70163                                     0              160.00   \n",
       "70164                                     0               65.00   \n",
       "70165                                     0               85.00   \n",
       "70166                                     0              162.75   \n",
       "70167                                     0               84.31   \n",
       "\n",
       "       no_of_special_requests  \n",
       "id                             \n",
       "42100                       2  \n",
       "42101                       0  \n",
       "42102                       1  \n",
       "42103                       0  \n",
       "42104                       0  \n",
       "...                       ...  \n",
       "70163                       0  \n",
       "70164                       1  \n",
       "70165                       0  \n",
       "70166                       0  \n",
       "70167                       0  \n",
       "\n",
       "[28068 rows x 17 columns]"
      ]
     },
     "execution_count": 46,
     "metadata": {},
     "output_type": "execute_result"
    }
   ],
   "source": [
    "test = pd.read_csv('./data/test.csv', index_col='id'); test"
   ]
  },
  {
   "cell_type": "code",
   "execution_count": 47,
   "id": "6b01116b",
   "metadata": {
    "scrolled": true
   },
   "outputs": [
    {
     "data": {
      "text/html": [
       "<div>\n",
       "<style scoped>\n",
       "    .dataframe tbody tr th:only-of-type {\n",
       "        vertical-align: middle;\n",
       "    }\n",
       "\n",
       "    .dataframe tbody tr th {\n",
       "        vertical-align: top;\n",
       "    }\n",
       "\n",
       "    .dataframe thead th {\n",
       "        text-align: right;\n",
       "    }\n",
       "</style>\n",
       "<table border=\"1\" class=\"dataframe\">\n",
       "  <thead>\n",
       "    <tr style=\"text-align: right;\">\n",
       "      <th></th>\n",
       "      <th>no_of_adults</th>\n",
       "      <th>no_of_children</th>\n",
       "      <th>no_of_weekend_nights</th>\n",
       "      <th>no_of_week_nights</th>\n",
       "      <th>type_of_meal_plan</th>\n",
       "      <th>required_car_parking_space</th>\n",
       "      <th>room_type_reserved</th>\n",
       "      <th>lead_time</th>\n",
       "      <th>arrival_year</th>\n",
       "      <th>arrival_month</th>\n",
       "      <th>arrival_date</th>\n",
       "      <th>market_segment_type</th>\n",
       "      <th>repeated_guest</th>\n",
       "      <th>no_of_previous_cancellations</th>\n",
       "      <th>no_of_previous_bookings_not_canceled</th>\n",
       "      <th>avg_price_per_room</th>\n",
       "      <th>no_of_special_requests</th>\n",
       "    </tr>\n",
       "    <tr>\n",
       "      <th>id</th>\n",
       "      <th></th>\n",
       "      <th></th>\n",
       "      <th></th>\n",
       "      <th></th>\n",
       "      <th></th>\n",
       "      <th></th>\n",
       "      <th></th>\n",
       "      <th></th>\n",
       "      <th></th>\n",
       "      <th></th>\n",
       "      <th></th>\n",
       "      <th></th>\n",
       "      <th></th>\n",
       "      <th></th>\n",
       "      <th></th>\n",
       "      <th></th>\n",
       "      <th></th>\n",
       "    </tr>\n",
       "  </thead>\n",
       "  <tbody>\n",
       "    <tr>\n",
       "      <th>42100</th>\n",
       "      <td>2.056005</td>\n",
       "      <td>-0.313454</td>\n",
       "      <td>0.130259</td>\n",
       "      <td>1.122386</td>\n",
       "      <td>-0.407020</td>\n",
       "      <td>-0.160945</td>\n",
       "      <td>0.685890</td>\n",
       "      <td>0.087728</td>\n",
       "      <td>0.409661</td>\n",
       "      <td>1.557404</td>\n",
       "      <td>-1.226638</td>\n",
       "      <td>0.428551</td>\n",
       "      <td>-0.173408</td>\n",
       "      <td>-0.060506</td>\n",
       "      <td>-0.101479</td>\n",
       "      <td>0.297092</td>\n",
       "      <td>1.842849</td>\n",
       "    </tr>\n",
       "    <tr>\n",
       "      <th>42101</th>\n",
       "      <td>0.151040</td>\n",
       "      <td>-0.313454</td>\n",
       "      <td>-0.998814</td>\n",
       "      <td>0.421768</td>\n",
       "      <td>-0.407020</td>\n",
       "      <td>-0.160945</td>\n",
       "      <td>-0.515173</td>\n",
       "      <td>-1.010111</td>\n",
       "      <td>-2.441040</td>\n",
       "      <td>0.850531</td>\n",
       "      <td>0.573445</td>\n",
       "      <td>-1.149928</td>\n",
       "      <td>-0.173408</td>\n",
       "      <td>-0.060506</td>\n",
       "      <td>-0.101479</td>\n",
       "      <td>-0.526846</td>\n",
       "      <td>-0.737691</td>\n",
       "    </tr>\n",
       "    <tr>\n",
       "      <th>42102</th>\n",
       "      <td>0.151040</td>\n",
       "      <td>4.129777</td>\n",
       "      <td>-0.998814</td>\n",
       "      <td>-0.979466</td>\n",
       "      <td>-0.407020</td>\n",
       "      <td>-0.160945</td>\n",
       "      <td>3.088017</td>\n",
       "      <td>-1.059452</td>\n",
       "      <td>0.409661</td>\n",
       "      <td>0.143658</td>\n",
       "      <td>-0.664112</td>\n",
       "      <td>0.428551</td>\n",
       "      <td>-0.173408</td>\n",
       "      <td>-0.060506</td>\n",
       "      <td>-0.101479</td>\n",
       "      <td>3.646696</td>\n",
       "      <td>0.552579</td>\n",
       "    </tr>\n",
       "    <tr>\n",
       "      <th>42103</th>\n",
       "      <td>0.151040</td>\n",
       "      <td>-0.313454</td>\n",
       "      <td>-0.998814</td>\n",
       "      <td>0.421768</td>\n",
       "      <td>-0.407020</td>\n",
       "      <td>-0.160945</td>\n",
       "      <td>-0.515173</td>\n",
       "      <td>-0.195983</td>\n",
       "      <td>0.409661</td>\n",
       "      <td>-0.916652</td>\n",
       "      <td>1.585992</td>\n",
       "      <td>-1.149928</td>\n",
       "      <td>-0.173408</td>\n",
       "      <td>-0.060506</td>\n",
       "      <td>-0.101479</td>\n",
       "      <td>-0.641282</td>\n",
       "      <td>-0.737691</td>\n",
       "    </tr>\n",
       "    <tr>\n",
       "      <th>42104</th>\n",
       "      <td>-1.753925</td>\n",
       "      <td>-0.313454</td>\n",
       "      <td>-0.998814</td>\n",
       "      <td>-0.278849</td>\n",
       "      <td>2.996268</td>\n",
       "      <td>-0.160945</td>\n",
       "      <td>-0.515173</td>\n",
       "      <td>-1.195140</td>\n",
       "      <td>0.409661</td>\n",
       "      <td>0.497095</td>\n",
       "      <td>0.573445</td>\n",
       "      <td>0.428551</td>\n",
       "      <td>-0.173408</td>\n",
       "      <td>-0.060506</td>\n",
       "      <td>-0.101479</td>\n",
       "      <td>1.061793</td>\n",
       "      <td>-0.737691</td>\n",
       "    </tr>\n",
       "    <tr>\n",
       "      <th>...</th>\n",
       "      <td>...</td>\n",
       "      <td>...</td>\n",
       "      <td>...</td>\n",
       "      <td>...</td>\n",
       "      <td>...</td>\n",
       "      <td>...</td>\n",
       "      <td>...</td>\n",
       "      <td>...</td>\n",
       "      <td>...</td>\n",
       "      <td>...</td>\n",
       "      <td>...</td>\n",
       "      <td>...</td>\n",
       "      <td>...</td>\n",
       "      <td>...</td>\n",
       "      <td>...</td>\n",
       "      <td>...</td>\n",
       "      <td>...</td>\n",
       "    </tr>\n",
       "    <tr>\n",
       "      <th>70163</th>\n",
       "      <td>0.151040</td>\n",
       "      <td>-0.313454</td>\n",
       "      <td>0.130259</td>\n",
       "      <td>-0.278849</td>\n",
       "      <td>-0.407020</td>\n",
       "      <td>-0.160945</td>\n",
       "      <td>-0.515173</td>\n",
       "      <td>2.604122</td>\n",
       "      <td>0.409661</td>\n",
       "      <td>0.497095</td>\n",
       "      <td>1.585992</td>\n",
       "      <td>0.428551</td>\n",
       "      <td>-0.173408</td>\n",
       "      <td>-0.060506</td>\n",
       "      <td>-0.101479</td>\n",
       "      <td>1.492610</td>\n",
       "      <td>-0.737691</td>\n",
       "    </tr>\n",
       "    <tr>\n",
       "      <th>70164</th>\n",
       "      <td>0.151040</td>\n",
       "      <td>-0.313454</td>\n",
       "      <td>1.259332</td>\n",
       "      <td>-0.278849</td>\n",
       "      <td>-0.407020</td>\n",
       "      <td>-0.160945</td>\n",
       "      <td>-0.515173</td>\n",
       "      <td>-0.282330</td>\n",
       "      <td>0.409661</td>\n",
       "      <td>-1.623525</td>\n",
       "      <td>1.023466</td>\n",
       "      <td>-1.149928</td>\n",
       "      <td>-0.173408</td>\n",
       "      <td>-0.060506</td>\n",
       "      <td>-0.101479</td>\n",
       "      <td>-1.065367</td>\n",
       "      <td>0.552579</td>\n",
       "    </tr>\n",
       "    <tr>\n",
       "      <th>70165</th>\n",
       "      <td>0.151040</td>\n",
       "      <td>-0.313454</td>\n",
       "      <td>0.130259</td>\n",
       "      <td>-0.278849</td>\n",
       "      <td>-0.407020</td>\n",
       "      <td>-0.160945</td>\n",
       "      <td>-0.515173</td>\n",
       "      <td>-0.788076</td>\n",
       "      <td>0.409661</td>\n",
       "      <td>0.850531</td>\n",
       "      <td>0.685950</td>\n",
       "      <td>-1.149928</td>\n",
       "      <td>-0.173408</td>\n",
       "      <td>-0.060506</td>\n",
       "      <td>-0.101479</td>\n",
       "      <td>-0.526846</td>\n",
       "      <td>-0.737691</td>\n",
       "    </tr>\n",
       "    <tr>\n",
       "      <th>70166</th>\n",
       "      <td>2.056005</td>\n",
       "      <td>-0.313454</td>\n",
       "      <td>-0.998814</td>\n",
       "      <td>1.122386</td>\n",
       "      <td>-0.407020</td>\n",
       "      <td>-0.160945</td>\n",
       "      <td>0.685890</td>\n",
       "      <td>-1.232145</td>\n",
       "      <td>0.409661</td>\n",
       "      <td>0.497095</td>\n",
       "      <td>-1.114133</td>\n",
       "      <td>0.428551</td>\n",
       "      <td>-0.173408</td>\n",
       "      <td>-0.060506</td>\n",
       "      <td>-0.101479</td>\n",
       "      <td>1.566656</td>\n",
       "      <td>-0.737691</td>\n",
       "    </tr>\n",
       "    <tr>\n",
       "      <th>70167</th>\n",
       "      <td>0.151040</td>\n",
       "      <td>-0.313454</td>\n",
       "      <td>1.259332</td>\n",
       "      <td>0.421768</td>\n",
       "      <td>-0.407020</td>\n",
       "      <td>-0.160945</td>\n",
       "      <td>-0.515173</td>\n",
       "      <td>1.074549</td>\n",
       "      <td>0.409661</td>\n",
       "      <td>0.143658</td>\n",
       "      <td>1.360982</td>\n",
       "      <td>0.428551</td>\n",
       "      <td>-0.173408</td>\n",
       "      <td>-0.060506</td>\n",
       "      <td>-0.101479</td>\n",
       "      <td>-0.545425</td>\n",
       "      <td>-0.737691</td>\n",
       "    </tr>\n",
       "  </tbody>\n",
       "</table>\n",
       "<p>28068 rows × 17 columns</p>\n",
       "</div>"
      ],
      "text/plain": [
       "       no_of_adults  no_of_children  no_of_weekend_nights  no_of_week_nights  \\\n",
       "id                                                                             \n",
       "42100      2.056005       -0.313454              0.130259           1.122386   \n",
       "42101      0.151040       -0.313454             -0.998814           0.421768   \n",
       "42102      0.151040        4.129777             -0.998814          -0.979466   \n",
       "42103      0.151040       -0.313454             -0.998814           0.421768   \n",
       "42104     -1.753925       -0.313454             -0.998814          -0.278849   \n",
       "...             ...             ...                   ...                ...   \n",
       "70163      0.151040       -0.313454              0.130259          -0.278849   \n",
       "70164      0.151040       -0.313454              1.259332          -0.278849   \n",
       "70165      0.151040       -0.313454              0.130259          -0.278849   \n",
       "70166      2.056005       -0.313454             -0.998814           1.122386   \n",
       "70167      0.151040       -0.313454              1.259332           0.421768   \n",
       "\n",
       "       type_of_meal_plan  required_car_parking_space  room_type_reserved  \\\n",
       "id                                                                         \n",
       "42100          -0.407020                   -0.160945            0.685890   \n",
       "42101          -0.407020                   -0.160945           -0.515173   \n",
       "42102          -0.407020                   -0.160945            3.088017   \n",
       "42103          -0.407020                   -0.160945           -0.515173   \n",
       "42104           2.996268                   -0.160945           -0.515173   \n",
       "...                  ...                         ...                 ...   \n",
       "70163          -0.407020                   -0.160945           -0.515173   \n",
       "70164          -0.407020                   -0.160945           -0.515173   \n",
       "70165          -0.407020                   -0.160945           -0.515173   \n",
       "70166          -0.407020                   -0.160945            0.685890   \n",
       "70167          -0.407020                   -0.160945           -0.515173   \n",
       "\n",
       "       lead_time  arrival_year  arrival_month  arrival_date  \\\n",
       "id                                                            \n",
       "42100   0.087728      0.409661       1.557404     -1.226638   \n",
       "42101  -1.010111     -2.441040       0.850531      0.573445   \n",
       "42102  -1.059452      0.409661       0.143658     -0.664112   \n",
       "42103  -0.195983      0.409661      -0.916652      1.585992   \n",
       "42104  -1.195140      0.409661       0.497095      0.573445   \n",
       "...          ...           ...            ...           ...   \n",
       "70163   2.604122      0.409661       0.497095      1.585992   \n",
       "70164  -0.282330      0.409661      -1.623525      1.023466   \n",
       "70165  -0.788076      0.409661       0.850531      0.685950   \n",
       "70166  -1.232145      0.409661       0.497095     -1.114133   \n",
       "70167   1.074549      0.409661       0.143658      1.360982   \n",
       "\n",
       "       market_segment_type  repeated_guest  no_of_previous_cancellations  \\\n",
       "id                                                                         \n",
       "42100             0.428551       -0.173408                     -0.060506   \n",
       "42101            -1.149928       -0.173408                     -0.060506   \n",
       "42102             0.428551       -0.173408                     -0.060506   \n",
       "42103            -1.149928       -0.173408                     -0.060506   \n",
       "42104             0.428551       -0.173408                     -0.060506   \n",
       "...                    ...             ...                           ...   \n",
       "70163             0.428551       -0.173408                     -0.060506   \n",
       "70164            -1.149928       -0.173408                     -0.060506   \n",
       "70165            -1.149928       -0.173408                     -0.060506   \n",
       "70166             0.428551       -0.173408                     -0.060506   \n",
       "70167             0.428551       -0.173408                     -0.060506   \n",
       "\n",
       "       no_of_previous_bookings_not_canceled  avg_price_per_room  \\\n",
       "id                                                                \n",
       "42100                             -0.101479            0.297092   \n",
       "42101                             -0.101479           -0.526846   \n",
       "42102                             -0.101479            3.646696   \n",
       "42103                             -0.101479           -0.641282   \n",
       "42104                             -0.101479            1.061793   \n",
       "...                                     ...                 ...   \n",
       "70163                             -0.101479            1.492610   \n",
       "70164                             -0.101479           -1.065367   \n",
       "70165                             -0.101479           -0.526846   \n",
       "70166                             -0.101479            1.566656   \n",
       "70167                             -0.101479           -0.545425   \n",
       "\n",
       "       no_of_special_requests  \n",
       "id                             \n",
       "42100                1.842849  \n",
       "42101               -0.737691  \n",
       "42102                0.552579  \n",
       "42103               -0.737691  \n",
       "42104               -0.737691  \n",
       "...                       ...  \n",
       "70163               -0.737691  \n",
       "70164                0.552579  \n",
       "70165               -0.737691  \n",
       "70166               -0.737691  \n",
       "70167               -0.737691  \n",
       "\n",
       "[28068 rows x 17 columns]"
      ]
     },
     "execution_count": 47,
     "metadata": {},
     "output_type": "execute_result"
    }
   ],
   "source": [
    "X_test = pd.DataFrame(scaler.transform(test), columns=test.columns, index=test.index)\n",
    "X_test"
   ]
  },
  {
   "cell_type": "code",
   "execution_count": 50,
   "id": "1b7dcfd1",
   "metadata": {},
   "outputs": [
    {
     "data": {
      "text/plain": [
       "VotingClassifier(estimators=[('rf',\n",
       "                              RandomForestClassifier(max_depth=40,\n",
       "                                                     max_features='sqrt',\n",
       "                                                     max_samples=1.0,\n",
       "                                                     min_samples_split=40,\n",
       "                                                     n_estimators=2250,\n",
       "                                                     n_jobs=-1,\n",
       "                                                     random_state=8)),\n",
       "                             ('xgb',\n",
       "                              XGBClassifier(base_score=None, booster=None,\n",
       "                                            callbacks=None,\n",
       "                                            colsample_bylevel=None,\n",
       "                                            colsample_bynode=None,\n",
       "                                            colsample_bytree=None,\n",
       "                                            early_stopping_rounds=None,\n",
       "                                            enable_categorical...\n",
       "                                            n_estimators=700, n_jobs=-1,\n",
       "                                            num_parallel_tree=None,\n",
       "                                            predictor=None, random_state=8, ...)),\n",
       "                             ('ada',\n",
       "                              AdaBoostClassifier(base_estimator=DecisionTreeClassifier(max_depth=25,\n",
       "                                                                                       max_features='sqrt',\n",
       "                                                                                       min_samples_split=150,\n",
       "                                                                                       random_state=8),\n",
       "                                                 learning_rate=0.0005,\n",
       "                                                 n_estimators=900,\n",
       "                                                 random_state=8))],\n",
       "                 voting='soft',\n",
       "                 weights=[0.8911929904636795, 0.8983333718679651,\n",
       "                          0.8900577986404123])"
      ]
     },
     "execution_count": 50,
     "metadata": {},
     "output_type": "execute_result"
    }
   ],
   "source": [
    "weighted_vote_without_knn.fit(X_train, y_train)"
   ]
  },
  {
   "cell_type": "code",
   "execution_count": 51,
   "id": "f839d9c0",
   "metadata": {
    "scrolled": true
   },
   "outputs": [
    {
     "data": {
      "text/plain": [
       "array([[0.91333583, 0.08666418],\n",
       "       [0.9658149 , 0.03418511],\n",
       "       [0.68422863, 0.31577136],\n",
       "       ...,\n",
       "       [0.90354732, 0.09645268],\n",
       "       [0.41736209, 0.58263791],\n",
       "       [0.04890227, 0.95109773]])"
      ]
     },
     "execution_count": 51,
     "metadata": {},
     "output_type": "execute_result"
    }
   ],
   "source": [
    "y_pred = weighted_vote_without_knn.predict_proba(X_test)\n",
    "y_pred"
   ]
  },
  {
   "cell_type": "code",
   "execution_count": 52,
   "id": "d475dd1c",
   "metadata": {},
   "outputs": [
    {
     "data": {
      "text/html": [
       "<div>\n",
       "<style scoped>\n",
       "    .dataframe tbody tr th:only-of-type {\n",
       "        vertical-align: middle;\n",
       "    }\n",
       "\n",
       "    .dataframe tbody tr th {\n",
       "        vertical-align: top;\n",
       "    }\n",
       "\n",
       "    .dataframe thead th {\n",
       "        text-align: right;\n",
       "    }\n",
       "</style>\n",
       "<table border=\"1\" class=\"dataframe\">\n",
       "  <thead>\n",
       "    <tr style=\"text-align: right;\">\n",
       "      <th></th>\n",
       "      <th>id</th>\n",
       "      <th>booking_status</th>\n",
       "    </tr>\n",
       "  </thead>\n",
       "  <tbody>\n",
       "    <tr>\n",
       "      <th>0</th>\n",
       "      <td>42100</td>\n",
       "      <td>0.086664</td>\n",
       "    </tr>\n",
       "    <tr>\n",
       "      <th>1</th>\n",
       "      <td>42101</td>\n",
       "      <td>0.034185</td>\n",
       "    </tr>\n",
       "    <tr>\n",
       "      <th>2</th>\n",
       "      <td>42102</td>\n",
       "      <td>0.315771</td>\n",
       "    </tr>\n",
       "    <tr>\n",
       "      <th>3</th>\n",
       "      <td>42103</td>\n",
       "      <td>0.035767</td>\n",
       "    </tr>\n",
       "    <tr>\n",
       "      <th>4</th>\n",
       "      <td>42104</td>\n",
       "      <td>0.519960</td>\n",
       "    </tr>\n",
       "    <tr>\n",
       "      <th>...</th>\n",
       "      <td>...</td>\n",
       "      <td>...</td>\n",
       "    </tr>\n",
       "    <tr>\n",
       "      <th>28063</th>\n",
       "      <td>70163</td>\n",
       "      <td>0.950729</td>\n",
       "    </tr>\n",
       "    <tr>\n",
       "      <th>28064</th>\n",
       "      <td>70164</td>\n",
       "      <td>0.025368</td>\n",
       "    </tr>\n",
       "    <tr>\n",
       "      <th>28065</th>\n",
       "      <td>70165</td>\n",
       "      <td>0.096453</td>\n",
       "    </tr>\n",
       "    <tr>\n",
       "      <th>28066</th>\n",
       "      <td>70166</td>\n",
       "      <td>0.582638</td>\n",
       "    </tr>\n",
       "    <tr>\n",
       "      <th>28067</th>\n",
       "      <td>70167</td>\n",
       "      <td>0.951098</td>\n",
       "    </tr>\n",
       "  </tbody>\n",
       "</table>\n",
       "<p>28068 rows × 2 columns</p>\n",
       "</div>"
      ],
      "text/plain": [
       "          id  booking_status\n",
       "0      42100        0.086664\n",
       "1      42101        0.034185\n",
       "2      42102        0.315771\n",
       "3      42103        0.035767\n",
       "4      42104        0.519960\n",
       "...      ...             ...\n",
       "28063  70163        0.950729\n",
       "28064  70164        0.025368\n",
       "28065  70165        0.096453\n",
       "28066  70166        0.582638\n",
       "28067  70167        0.951098\n",
       "\n",
       "[28068 rows x 2 columns]"
      ]
     },
     "execution_count": 52,
     "metadata": {},
     "output_type": "execute_result"
    }
   ],
   "source": [
    "result = pd.DataFrame({'id': X_test.index, 'booking_status':y_pred[:, 1]})\n",
    "result"
   ]
  },
  {
   "cell_type": "code",
   "execution_count": 53,
   "id": "88d083cb",
   "metadata": {},
   "outputs": [],
   "source": [
    "result.to_csv('submit_weighted_vote_without_knn.csv', index=False)"
   ]
  },
  {
   "cell_type": "markdown",
   "id": "1261bfa0",
   "metadata": {},
   "source": [
    "## Stacking  classifiers"
   ]
  },
  {
   "cell_type": "code",
   "execution_count": 54,
   "id": "ab28b166",
   "metadata": {},
   "outputs": [],
   "source": [
    "from sklearn.ensemble import StackingClassifier\n",
    "from sklearn.linear_model import LogisticRegression"
   ]
  },
  {
   "cell_type": "markdown",
   "id": "0ce60dea",
   "metadata": {},
   "source": [
    "### Final estimator: logistic regression\n",
    "With KNN"
   ]
  },
  {
   "cell_type": "code",
   "execution_count": 55,
   "id": "38ed3feb",
   "metadata": {},
   "outputs": [],
   "source": [
    "stack_1 = StackingClassifier(\n",
    "    estimators = [\n",
    "        ('rf', random_forest),\n",
    "        ('xgb', xgboost_clf),\n",
    "        ('knn', knn),\n",
    "        ('ada', ada)\n",
    "    ],\n",
    "    final_estimator=LogisticRegression(),\n",
    "    cv=5,\n",
    "    verbose=3\n",
    ")"
   ]
  },
  {
   "cell_type": "code",
   "execution_count": 56,
   "id": "ff7e240d",
   "metadata": {},
   "outputs": [
    {
     "name": "stderr",
     "output_type": "stream",
     "text": [
      "[Parallel(n_jobs=1)]: Using backend SequentialBackend with 1 concurrent workers.\n",
      "[Parallel(n_jobs=1)]: Done   1 out of   1 | elapsed:   12.9s remaining:    0.0s\n",
      "[Parallel(n_jobs=1)]: Done   2 out of   2 | elapsed:   25.7s remaining:    0.0s\n",
      "[Parallel(n_jobs=1)]: Done   5 out of   5 | elapsed:  1.1min finished\n",
      "[Parallel(n_jobs=1)]: Using backend SequentialBackend with 1 concurrent workers.\n",
      "[Parallel(n_jobs=1)]: Done   1 out of   1 | elapsed:    2.7s remaining:    0.0s\n",
      "[Parallel(n_jobs=1)]: Done   2 out of   2 | elapsed:    5.4s remaining:    0.0s\n",
      "[Parallel(n_jobs=1)]: Done   5 out of   5 | elapsed:   13.3s finished\n",
      "[Parallel(n_jobs=1)]: Using backend SequentialBackend with 1 concurrent workers.\n",
      "[Parallel(n_jobs=1)]: Done   1 out of   1 | elapsed:    3.6s remaining:    0.0s\n",
      "[Parallel(n_jobs=1)]: Done   2 out of   2 | elapsed:    7.0s remaining:    0.0s\n",
      "[Parallel(n_jobs=1)]: Done   5 out of   5 | elapsed:   16.9s finished\n",
      "[Parallel(n_jobs=1)]: Using backend SequentialBackend with 1 concurrent workers.\n",
      "[Parallel(n_jobs=1)]: Done   1 out of   1 | elapsed:   26.0s remaining:    0.0s\n",
      "[Parallel(n_jobs=1)]: Done   2 out of   2 | elapsed:   52.0s remaining:    0.0s\n",
      "[Parallel(n_jobs=1)]: Done   5 out of   5 | elapsed:  2.2min finished\n",
      "[Parallel(n_jobs=1)]: Using backend SequentialBackend with 1 concurrent workers.\n",
      "[Parallel(n_jobs=1)]: Done   1 out of   1 | elapsed:   12.9s remaining:    0.0s\n",
      "[Parallel(n_jobs=1)]: Done   2 out of   2 | elapsed:   25.8s remaining:    0.0s\n",
      "[Parallel(n_jobs=1)]: Done   5 out of   5 | elapsed:  1.1min finished\n",
      "[Parallel(n_jobs=1)]: Using backend SequentialBackend with 1 concurrent workers.\n",
      "[Parallel(n_jobs=1)]: Done   1 out of   1 | elapsed:    2.8s remaining:    0.0s\n",
      "[Parallel(n_jobs=1)]: Done   2 out of   2 | elapsed:    5.5s remaining:    0.0s\n",
      "[Parallel(n_jobs=1)]: Done   5 out of   5 | elapsed:   13.3s finished\n",
      "[Parallel(n_jobs=1)]: Using backend SequentialBackend with 1 concurrent workers.\n",
      "[Parallel(n_jobs=1)]: Done   1 out of   1 | elapsed:    3.7s remaining:    0.0s\n",
      "[Parallel(n_jobs=1)]: Done   2 out of   2 | elapsed:    7.4s remaining:    0.0s\n",
      "[Parallel(n_jobs=1)]: Done   5 out of   5 | elapsed:   17.7s finished\n",
      "[Parallel(n_jobs=1)]: Using backend SequentialBackend with 1 concurrent workers.\n",
      "[Parallel(n_jobs=1)]: Done   1 out of   1 | elapsed:   26.1s remaining:    0.0s\n",
      "[Parallel(n_jobs=1)]: Done   2 out of   2 | elapsed:   52.1s remaining:    0.0s\n",
      "[Parallel(n_jobs=1)]: Done   5 out of   5 | elapsed:  2.2min finished\n",
      "[Parallel(n_jobs=1)]: Using backend SequentialBackend with 1 concurrent workers.\n",
      "[Parallel(n_jobs=1)]: Done   1 out of   1 | elapsed:   12.9s remaining:    0.0s\n",
      "[Parallel(n_jobs=1)]: Done   2 out of   2 | elapsed:   25.9s remaining:    0.0s\n",
      "[Parallel(n_jobs=1)]: Done   5 out of   5 | elapsed:  1.1min finished\n",
      "[Parallel(n_jobs=1)]: Using backend SequentialBackend with 1 concurrent workers.\n",
      "[Parallel(n_jobs=1)]: Done   1 out of   1 | elapsed:    2.7s remaining:    0.0s\n",
      "[Parallel(n_jobs=1)]: Done   2 out of   2 | elapsed:    5.4s remaining:    0.0s\n",
      "[Parallel(n_jobs=1)]: Done   5 out of   5 | elapsed:   13.6s finished\n",
      "[Parallel(n_jobs=1)]: Using backend SequentialBackend with 1 concurrent workers.\n",
      "[Parallel(n_jobs=1)]: Done   1 out of   1 | elapsed:    3.6s remaining:    0.0s\n",
      "[Parallel(n_jobs=1)]: Done   2 out of   2 | elapsed:    7.2s remaining:    0.0s\n",
      "[Parallel(n_jobs=1)]: Done   5 out of   5 | elapsed:   17.7s finished\n",
      "[Parallel(n_jobs=1)]: Using backend SequentialBackend with 1 concurrent workers.\n",
      "[Parallel(n_jobs=1)]: Done   1 out of   1 | elapsed:   25.8s remaining:    0.0s\n",
      "[Parallel(n_jobs=1)]: Done   2 out of   2 | elapsed:   51.5s remaining:    0.0s\n",
      "[Parallel(n_jobs=1)]: Done   5 out of   5 | elapsed:  2.2min finished\n",
      "[Parallel(n_jobs=1)]: Using backend SequentialBackend with 1 concurrent workers.\n",
      "[Parallel(n_jobs=1)]: Done   1 out of   1 | elapsed:   12.9s remaining:    0.0s\n",
      "[Parallel(n_jobs=1)]: Done   2 out of   2 | elapsed:   25.8s remaining:    0.0s\n",
      "[Parallel(n_jobs=1)]: Done   5 out of   5 | elapsed:  1.1min finished\n",
      "[Parallel(n_jobs=1)]: Using backend SequentialBackend with 1 concurrent workers.\n",
      "[Parallel(n_jobs=1)]: Done   1 out of   1 | elapsed:    2.8s remaining:    0.0s\n",
      "[Parallel(n_jobs=1)]: Done   2 out of   2 | elapsed:    5.5s remaining:    0.0s\n",
      "[Parallel(n_jobs=1)]: Done   5 out of   5 | elapsed:   13.5s finished\n",
      "[Parallel(n_jobs=1)]: Using backend SequentialBackend with 1 concurrent workers.\n",
      "[Parallel(n_jobs=1)]: Done   1 out of   1 | elapsed:    3.5s remaining:    0.0s\n",
      "[Parallel(n_jobs=1)]: Done   2 out of   2 | elapsed:    6.9s remaining:    0.0s\n",
      "[Parallel(n_jobs=1)]: Done   5 out of   5 | elapsed:   17.4s finished\n",
      "[Parallel(n_jobs=1)]: Using backend SequentialBackend with 1 concurrent workers.\n",
      "[Parallel(n_jobs=1)]: Done   1 out of   1 | elapsed:   25.7s remaining:    0.0s\n",
      "[Parallel(n_jobs=1)]: Done   2 out of   2 | elapsed:   51.7s remaining:    0.0s\n",
      "[Parallel(n_jobs=1)]: Done   5 out of   5 | elapsed:  2.2min finished\n",
      "[Parallel(n_jobs=1)]: Using backend SequentialBackend with 1 concurrent workers.\n",
      "[Parallel(n_jobs=1)]: Done   1 out of   1 | elapsed:   12.8s remaining:    0.0s\n",
      "[Parallel(n_jobs=1)]: Done   2 out of   2 | elapsed:   25.8s remaining:    0.0s\n",
      "[Parallel(n_jobs=1)]: Done   5 out of   5 | elapsed:  1.1min finished\n",
      "[Parallel(n_jobs=1)]: Using backend SequentialBackend with 1 concurrent workers.\n",
      "[Parallel(n_jobs=1)]: Done   1 out of   1 | elapsed:    2.8s remaining:    0.0s\n",
      "[Parallel(n_jobs=1)]: Done   2 out of   2 | elapsed:    5.6s remaining:    0.0s\n",
      "[Parallel(n_jobs=1)]: Done   5 out of   5 | elapsed:   13.7s finished\n",
      "[Parallel(n_jobs=1)]: Using backend SequentialBackend with 1 concurrent workers.\n",
      "[Parallel(n_jobs=1)]: Done   1 out of   1 | elapsed:    3.4s remaining:    0.0s\n",
      "[Parallel(n_jobs=1)]: Done   2 out of   2 | elapsed:    6.9s remaining:    0.0s\n",
      "[Parallel(n_jobs=1)]: Done   5 out of   5 | elapsed:   17.4s finished\n",
      "[Parallel(n_jobs=1)]: Using backend SequentialBackend with 1 concurrent workers.\n",
      "[Parallel(n_jobs=1)]: Done   1 out of   1 | elapsed:   25.7s remaining:    0.0s\n",
      "[Parallel(n_jobs=1)]: Done   2 out of   2 | elapsed:   51.7s remaining:    0.0s\n",
      "[Parallel(n_jobs=1)]: Done   5 out of   5 | elapsed:  2.2min finished\n"
     ]
    },
    {
     "name": "stdout",
     "output_type": "stream",
     "text": [
      "CPU times: user 24min 35s, sys: 33.8 s, total: 25min 9s\n",
      "Wall time: 23min 39s\n"
     ]
    }
   ],
   "source": [
    "%%time\n",
    "%%chime\n",
    "scores_1 = cross_val_score(stack_1,\n",
    "                           X_train, y_train,\n",
    "                           scoring='roc_auc',\n",
    "                           cv=5)\n"
   ]
  },
  {
   "cell_type": "code",
   "execution_count": 57,
   "id": "6518d23b",
   "metadata": {
    "scrolled": true
   },
   "outputs": [
    {
     "data": {
      "text/plain": [
       "0.8998801693757397"
      ]
     },
     "execution_count": 57,
     "metadata": {},
     "output_type": "execute_result"
    }
   ],
   "source": [
    "scores_1.mean()"
   ]
  },
  {
   "cell_type": "code",
   "execution_count": 58,
   "id": "d5c96172",
   "metadata": {
    "scrolled": true
   },
   "outputs": [
    {
     "data": {
      "text/plain": [
       "0.004199336082174506"
      ]
     },
     "execution_count": 58,
     "metadata": {},
     "output_type": "execute_result"
    }
   ],
   "source": [
    "scores_1.std()"
   ]
  },
  {
   "cell_type": "markdown",
   "id": "88b854f1",
   "metadata": {},
   "source": [
    "### Final estimator: logistic regression\n",
    "Without KNN"
   ]
  },
  {
   "cell_type": "code",
   "execution_count": 59,
   "id": "cae71381",
   "metadata": {},
   "outputs": [],
   "source": [
    "stack_2 = StackingClassifier(\n",
    "    estimators = [\n",
    "        ('rf', random_forest),\n",
    "        ('xgb', xgboost_clf),\n",
    "        ('ada', ada)\n",
    "    ],\n",
    "    final_estimator=LogisticRegression(),\n",
    "    cv=5,\n",
    "    verbose=3\n",
    ")"
   ]
  },
  {
   "cell_type": "code",
   "execution_count": 60,
   "id": "8d585133",
   "metadata": {},
   "outputs": [
    {
     "name": "stderr",
     "output_type": "stream",
     "text": [
      "[Parallel(n_jobs=1)]: Using backend SequentialBackend with 1 concurrent workers.\n",
      "[Parallel(n_jobs=1)]: Done   1 out of   1 | elapsed:   12.8s remaining:    0.0s\n",
      "[Parallel(n_jobs=1)]: Done   2 out of   2 | elapsed:   25.7s remaining:    0.0s\n",
      "[Parallel(n_jobs=1)]: Done   5 out of   5 | elapsed:  1.1min finished\n",
      "[Parallel(n_jobs=1)]: Using backend SequentialBackend with 1 concurrent workers.\n",
      "[Parallel(n_jobs=1)]: Done   1 out of   1 | elapsed:    2.7s remaining:    0.0s\n",
      "[Parallel(n_jobs=1)]: Done   2 out of   2 | elapsed:    5.5s remaining:    0.0s\n",
      "[Parallel(n_jobs=1)]: Done   5 out of   5 | elapsed:   13.4s finished\n",
      "[Parallel(n_jobs=1)]: Using backend SequentialBackend with 1 concurrent workers.\n",
      "[Parallel(n_jobs=1)]: Done   1 out of   1 | elapsed:   26.2s remaining:    0.0s\n",
      "[Parallel(n_jobs=1)]: Done   2 out of   2 | elapsed:   52.5s remaining:    0.0s\n",
      "[Parallel(n_jobs=1)]: Done   5 out of   5 | elapsed:  2.2min finished\n",
      "[Parallel(n_jobs=1)]: Using backend SequentialBackend with 1 concurrent workers.\n",
      "[Parallel(n_jobs=1)]: Done   1 out of   1 | elapsed:   13.0s remaining:    0.0s\n",
      "[Parallel(n_jobs=1)]: Done   2 out of   2 | elapsed:   25.8s remaining:    0.0s\n",
      "[Parallel(n_jobs=1)]: Done   5 out of   5 | elapsed:  1.1min finished\n",
      "[Parallel(n_jobs=1)]: Using backend SequentialBackend with 1 concurrent workers.\n",
      "[Parallel(n_jobs=1)]: Done   1 out of   1 | elapsed:    2.7s remaining:    0.0s\n",
      "[Parallel(n_jobs=1)]: Done   2 out of   2 | elapsed:    5.5s remaining:    0.0s\n",
      "[Parallel(n_jobs=1)]: Done   5 out of   5 | elapsed:   13.5s finished\n",
      "[Parallel(n_jobs=1)]: Using backend SequentialBackend with 1 concurrent workers.\n",
      "[Parallel(n_jobs=1)]: Done   1 out of   1 | elapsed:   26.2s remaining:    0.0s\n",
      "[Parallel(n_jobs=1)]: Done   2 out of   2 | elapsed:   52.3s remaining:    0.0s\n",
      "[Parallel(n_jobs=1)]: Done   5 out of   5 | elapsed:  2.2min finished\n",
      "[Parallel(n_jobs=1)]: Using backend SequentialBackend with 1 concurrent workers.\n",
      "[Parallel(n_jobs=1)]: Done   1 out of   1 | elapsed:   12.9s remaining:    0.0s\n",
      "[Parallel(n_jobs=1)]: Done   2 out of   2 | elapsed:   25.6s remaining:    0.0s\n",
      "[Parallel(n_jobs=1)]: Done   5 out of   5 | elapsed:  1.1min finished\n",
      "[Parallel(n_jobs=1)]: Using backend SequentialBackend with 1 concurrent workers.\n",
      "[Parallel(n_jobs=1)]: Done   1 out of   1 | elapsed:    2.7s remaining:    0.0s\n",
      "[Parallel(n_jobs=1)]: Done   2 out of   2 | elapsed:    5.5s remaining:    0.0s\n",
      "[Parallel(n_jobs=1)]: Done   5 out of   5 | elapsed:   13.6s finished\n",
      "[Parallel(n_jobs=1)]: Using backend SequentialBackend with 1 concurrent workers.\n",
      "[Parallel(n_jobs=1)]: Done   1 out of   1 | elapsed:   26.3s remaining:    0.0s\n",
      "[Parallel(n_jobs=1)]: Done   2 out of   2 | elapsed:   52.2s remaining:    0.0s\n",
      "[Parallel(n_jobs=1)]: Done   5 out of   5 | elapsed:  2.2min finished\n",
      "[Parallel(n_jobs=1)]: Using backend SequentialBackend with 1 concurrent workers.\n",
      "[Parallel(n_jobs=1)]: Done   1 out of   1 | elapsed:   12.8s remaining:    0.0s\n",
      "[Parallel(n_jobs=1)]: Done   2 out of   2 | elapsed:   25.7s remaining:    0.0s\n",
      "[Parallel(n_jobs=1)]: Done   5 out of   5 | elapsed:  1.1min finished\n",
      "[Parallel(n_jobs=1)]: Using backend SequentialBackend with 1 concurrent workers.\n",
      "[Parallel(n_jobs=1)]: Done   1 out of   1 | elapsed:    2.9s remaining:    0.0s\n",
      "[Parallel(n_jobs=1)]: Done   2 out of   2 | elapsed:    5.7s remaining:    0.0s\n",
      "[Parallel(n_jobs=1)]: Done   5 out of   5 | elapsed:   13.9s finished\n",
      "[Parallel(n_jobs=1)]: Using backend SequentialBackend with 1 concurrent workers.\n",
      "[Parallel(n_jobs=1)]: Done   1 out of   1 | elapsed:   26.1s remaining:    0.0s\n",
      "[Parallel(n_jobs=1)]: Done   2 out of   2 | elapsed:   52.2s remaining:    0.0s\n",
      "[Parallel(n_jobs=1)]: Done   5 out of   5 | elapsed:  2.2min finished\n",
      "[Parallel(n_jobs=1)]: Using backend SequentialBackend with 1 concurrent workers.\n",
      "[Parallel(n_jobs=1)]: Done   1 out of   1 | elapsed:   13.1s remaining:    0.0s\n",
      "[Parallel(n_jobs=1)]: Done   2 out of   2 | elapsed:   25.9s remaining:    0.0s\n",
      "[Parallel(n_jobs=1)]: Done   5 out of   5 | elapsed:  1.1min finished\n",
      "[Parallel(n_jobs=1)]: Using backend SequentialBackend with 1 concurrent workers.\n",
      "[Parallel(n_jobs=1)]: Done   1 out of   1 | elapsed:    2.8s remaining:    0.0s\n",
      "[Parallel(n_jobs=1)]: Done   2 out of   2 | elapsed:    5.5s remaining:    0.0s\n",
      "[Parallel(n_jobs=1)]: Done   5 out of   5 | elapsed:   13.5s finished\n",
      "[Parallel(n_jobs=1)]: Using backend SequentialBackend with 1 concurrent workers.\n",
      "[Parallel(n_jobs=1)]: Done   1 out of   1 | elapsed:   26.1s remaining:    0.0s\n",
      "[Parallel(n_jobs=1)]: Done   2 out of   2 | elapsed:   52.2s remaining:    0.0s\n",
      "[Parallel(n_jobs=1)]: Done   5 out of   5 | elapsed:  2.2min finished\n"
     ]
    },
    {
     "name": "stdout",
     "output_type": "stream",
     "text": [
      "CPU times: user 21min 22s, sys: 9.88 s, total: 21min 32s\n",
      "Wall time: 21min 49s\n"
     ]
    }
   ],
   "source": [
    "%%time\n",
    "%%chime\n",
    "scores_2 = cross_val_score(stack_2,\n",
    "                           X_train, y_train,\n",
    "                           scoring='roc_auc',\n",
    "                           cv=5)\n"
   ]
  },
  {
   "cell_type": "code",
   "execution_count": 61,
   "id": "e8ee2b3e",
   "metadata": {
    "scrolled": true
   },
   "outputs": [
    {
     "data": {
      "text/plain": [
       "0.8999567581948014"
      ]
     },
     "execution_count": 61,
     "metadata": {},
     "output_type": "execute_result"
    }
   ],
   "source": [
    "scores_2.mean()"
   ]
  },
  {
   "cell_type": "code",
   "execution_count": 62,
   "id": "7d404d5c",
   "metadata": {
    "scrolled": false
   },
   "outputs": [
    {
     "data": {
      "text/plain": [
       "0.004239707904122041"
      ]
     },
     "execution_count": 62,
     "metadata": {},
     "output_type": "execute_result"
    }
   ],
   "source": [
    "scores_2.std()"
   ]
  },
  {
   "cell_type": "markdown",
   "id": "23e3edaf",
   "metadata": {},
   "source": [
    "### Final estimator: XGBoost"
   ]
  },
  {
   "cell_type": "markdown",
   "id": "6e1f54c0",
   "metadata": {},
   "source": [
    "Without KNN"
   ]
  },
  {
   "cell_type": "code",
   "execution_count": 23,
   "id": "c484608a",
   "metadata": {},
   "outputs": [],
   "source": [
    "from sklearn.ensemble import StackingClassifier"
   ]
  },
  {
   "cell_type": "code",
   "execution_count": 24,
   "id": "7c3ef8df",
   "metadata": {},
   "outputs": [],
   "source": [
    "stack_3 = StackingClassifier(\n",
    "    estimators = [\n",
    "        ('rf', random_forest),\n",
    "        ('ada', ada)\n",
    "    ],\n",
    "    final_estimator=XGBClassifier(random_state=8,\n",
    "                                 max_leaves=0,\n",
    "                                 n_jobs=-1),\n",
    "    cv=5,\n",
    ")"
   ]
  },
  {
   "cell_type": "code",
   "execution_count": 25,
   "id": "5108ed6b",
   "metadata": {},
   "outputs": [],
   "source": [
    "params = {\n",
    "    'final_estimator__n_estimators': [50, 70, 90],\n",
    "    'final_estimator__max_depth': [2, 4],\n",
    "    'final_estimator__learning_rate': [0.1, 0.2],\n",
    "    'final_estimator__reg_alpha': [0, 0.1, 0.2],\n",
    "    'final_estimator__reg_lambda': [0, 0.1, 0.2]\n",
    "}"
   ]
  },
  {
   "cell_type": "code",
   "execution_count": 26,
   "id": "66c684e5",
   "metadata": {},
   "outputs": [],
   "source": [
    "model_3 = GridSearchCV(estimator=stack_3,\n",
    "                     param_grid=params,\n",
    "                     scoring='roc_auc',\n",
    "                     cv = 4,\n",
    "                    verbose = 3)"
   ]
  },
  {
   "cell_type": "code",
   "execution_count": 27,
   "id": "42cfcbdf",
   "metadata": {
    "scrolled": true
   },
   "outputs": [
    {
     "name": "stdout",
     "output_type": "stream",
     "text": [
      "Fitting 4 folds for each of 108 candidates, totalling 432 fits\n",
      "[CV 1/4] END final_estimator__learning_rate=0.1, final_estimator__max_depth=2, final_estimator__n_estimators=50, final_estimator__reg_alpha=0, final_estimator__reg_lambda=0;, score=0.890 total time= 3.8min\n",
      "[CV 2/4] END final_estimator__learning_rate=0.1, final_estimator__max_depth=2, final_estimator__n_estimators=50, final_estimator__reg_alpha=0, final_estimator__reg_lambda=0;, score=0.892 total time= 3.8min\n",
      "[CV 3/4] END final_estimator__learning_rate=0.1, final_estimator__max_depth=2, final_estimator__n_estimators=50, final_estimator__reg_alpha=0, final_estimator__reg_lambda=0;, score=0.893 total time= 3.8min\n",
      "[CV 4/4] END final_estimator__learning_rate=0.1, final_estimator__max_depth=2, final_estimator__n_estimators=50, final_estimator__reg_alpha=0, final_estimator__reg_lambda=0;, score=0.891 total time= 3.8min\n",
      "[CV 1/4] END final_estimator__learning_rate=0.1, final_estimator__max_depth=2, final_estimator__n_estimators=50, final_estimator__reg_alpha=0, final_estimator__reg_lambda=0.1;, score=0.890 total time= 3.8min\n",
      "[CV 2/4] END final_estimator__learning_rate=0.1, final_estimator__max_depth=2, final_estimator__n_estimators=50, final_estimator__reg_alpha=0, final_estimator__reg_lambda=0.1;, score=0.893 total time= 3.8min\n",
      "[CV 3/4] END final_estimator__learning_rate=0.1, final_estimator__max_depth=2, final_estimator__n_estimators=50, final_estimator__reg_alpha=0, final_estimator__reg_lambda=0.1;, score=0.893 total time= 3.8min\n",
      "[CV 4/4] END final_estimator__learning_rate=0.1, final_estimator__max_depth=2, final_estimator__n_estimators=50, final_estimator__reg_alpha=0, final_estimator__reg_lambda=0.1;, score=0.891 total time= 3.8min\n",
      "[CV 1/4] END final_estimator__learning_rate=0.1, final_estimator__max_depth=2, final_estimator__n_estimators=50, final_estimator__reg_alpha=0, final_estimator__reg_lambda=0.2;, score=0.890 total time= 3.8min\n",
      "[CV 2/4] END final_estimator__learning_rate=0.1, final_estimator__max_depth=2, final_estimator__n_estimators=50, final_estimator__reg_alpha=0, final_estimator__reg_lambda=0.2;, score=0.893 total time= 3.8min\n",
      "[CV 3/4] END final_estimator__learning_rate=0.1, final_estimator__max_depth=2, final_estimator__n_estimators=50, final_estimator__reg_alpha=0, final_estimator__reg_lambda=0.2;, score=0.893 total time= 3.8min\n",
      "[CV 4/4] END final_estimator__learning_rate=0.1, final_estimator__max_depth=2, final_estimator__n_estimators=50, final_estimator__reg_alpha=0, final_estimator__reg_lambda=0.2;, score=0.891 total time= 3.8min\n",
      "[CV 1/4] END final_estimator__learning_rate=0.1, final_estimator__max_depth=2, final_estimator__n_estimators=50, final_estimator__reg_alpha=0.1, final_estimator__reg_lambda=0;, score=0.889 total time= 3.8min\n",
      "[CV 2/4] END final_estimator__learning_rate=0.1, final_estimator__max_depth=2, final_estimator__n_estimators=50, final_estimator__reg_alpha=0.1, final_estimator__reg_lambda=0;, score=0.893 total time= 3.8min\n",
      "[CV 3/4] END final_estimator__learning_rate=0.1, final_estimator__max_depth=2, final_estimator__n_estimators=50, final_estimator__reg_alpha=0.1, final_estimator__reg_lambda=0;, score=0.893 total time= 3.8min\n",
      "[CV 4/4] END final_estimator__learning_rate=0.1, final_estimator__max_depth=2, final_estimator__n_estimators=50, final_estimator__reg_alpha=0.1, final_estimator__reg_lambda=0;, score=0.891 total time= 3.9min\n",
      "[CV 1/4] END final_estimator__learning_rate=0.1, final_estimator__max_depth=2, final_estimator__n_estimators=50, final_estimator__reg_alpha=0.1, final_estimator__reg_lambda=0.1;, score=0.889 total time= 3.8min\n",
      "[CV 2/4] END final_estimator__learning_rate=0.1, final_estimator__max_depth=2, final_estimator__n_estimators=50, final_estimator__reg_alpha=0.1, final_estimator__reg_lambda=0.1;, score=0.893 total time= 3.8min\n",
      "[CV 3/4] END final_estimator__learning_rate=0.1, final_estimator__max_depth=2, final_estimator__n_estimators=50, final_estimator__reg_alpha=0.1, final_estimator__reg_lambda=0.1;, score=0.893 total time= 3.8min\n",
      "[CV 4/4] END final_estimator__learning_rate=0.1, final_estimator__max_depth=2, final_estimator__n_estimators=50, final_estimator__reg_alpha=0.1, final_estimator__reg_lambda=0.1;, score=0.891 total time= 3.8min\n",
      "[CV 1/4] END final_estimator__learning_rate=0.1, final_estimator__max_depth=2, final_estimator__n_estimators=50, final_estimator__reg_alpha=0.1, final_estimator__reg_lambda=0.2;, score=0.889 total time= 3.8min\n",
      "[CV 2/4] END final_estimator__learning_rate=0.1, final_estimator__max_depth=2, final_estimator__n_estimators=50, final_estimator__reg_alpha=0.1, final_estimator__reg_lambda=0.2;, score=0.893 total time= 3.8min\n",
      "[CV 3/4] END final_estimator__learning_rate=0.1, final_estimator__max_depth=2, final_estimator__n_estimators=50, final_estimator__reg_alpha=0.1, final_estimator__reg_lambda=0.2;, score=0.893 total time= 3.8min\n",
      "[CV 4/4] END final_estimator__learning_rate=0.1, final_estimator__max_depth=2, final_estimator__n_estimators=50, final_estimator__reg_alpha=0.1, final_estimator__reg_lambda=0.2;, score=0.891 total time= 3.8min\n",
      "[CV 1/4] END final_estimator__learning_rate=0.1, final_estimator__max_depth=2, final_estimator__n_estimators=50, final_estimator__reg_alpha=0.2, final_estimator__reg_lambda=0;, score=0.890 total time= 3.8min\n",
      "[CV 2/4] END final_estimator__learning_rate=0.1, final_estimator__max_depth=2, final_estimator__n_estimators=50, final_estimator__reg_alpha=0.2, final_estimator__reg_lambda=0;, score=0.893 total time= 3.8min\n",
      "[CV 3/4] END final_estimator__learning_rate=0.1, final_estimator__max_depth=2, final_estimator__n_estimators=50, final_estimator__reg_alpha=0.2, final_estimator__reg_lambda=0;, score=0.893 total time= 3.8min\n",
      "[CV 4/4] END final_estimator__learning_rate=0.1, final_estimator__max_depth=2, final_estimator__n_estimators=50, final_estimator__reg_alpha=0.2, final_estimator__reg_lambda=0;, score=0.891 total time= 3.8min\n",
      "[CV 1/4] END final_estimator__learning_rate=0.1, final_estimator__max_depth=2, final_estimator__n_estimators=50, final_estimator__reg_alpha=0.2, final_estimator__reg_lambda=0.1;, score=0.889 total time= 3.8min\n",
      "[CV 2/4] END final_estimator__learning_rate=0.1, final_estimator__max_depth=2, final_estimator__n_estimators=50, final_estimator__reg_alpha=0.2, final_estimator__reg_lambda=0.1;, score=0.893 total time= 3.8min\n",
      "[CV 3/4] END final_estimator__learning_rate=0.1, final_estimator__max_depth=2, final_estimator__n_estimators=50, final_estimator__reg_alpha=0.2, final_estimator__reg_lambda=0.1;, score=0.893 total time= 3.8min\n",
      "[CV 4/4] END final_estimator__learning_rate=0.1, final_estimator__max_depth=2, final_estimator__n_estimators=50, final_estimator__reg_alpha=0.2, final_estimator__reg_lambda=0.1;, score=0.891 total time= 3.8min\n",
      "[CV 1/4] END final_estimator__learning_rate=0.1, final_estimator__max_depth=2, final_estimator__n_estimators=50, final_estimator__reg_alpha=0.2, final_estimator__reg_lambda=0.2;, score=0.890 total time= 3.8min\n",
      "[CV 2/4] END final_estimator__learning_rate=0.1, final_estimator__max_depth=2, final_estimator__n_estimators=50, final_estimator__reg_alpha=0.2, final_estimator__reg_lambda=0.2;, score=0.893 total time= 3.8min\n",
      "[CV 3/4] END final_estimator__learning_rate=0.1, final_estimator__max_depth=2, final_estimator__n_estimators=50, final_estimator__reg_alpha=0.2, final_estimator__reg_lambda=0.2;, score=0.893 total time= 3.8min\n",
      "[CV 4/4] END final_estimator__learning_rate=0.1, final_estimator__max_depth=2, final_estimator__n_estimators=50, final_estimator__reg_alpha=0.2, final_estimator__reg_lambda=0.2;, score=0.891 total time= 3.8min\n",
      "[CV 1/4] END final_estimator__learning_rate=0.1, final_estimator__max_depth=2, final_estimator__n_estimators=70, final_estimator__reg_alpha=0, final_estimator__reg_lambda=0;, score=0.890 total time= 3.8min\n",
      "[CV 2/4] END final_estimator__learning_rate=0.1, final_estimator__max_depth=2, final_estimator__n_estimators=70, final_estimator__reg_alpha=0, final_estimator__reg_lambda=0;, score=0.893 total time= 3.8min\n",
      "[CV 3/4] END final_estimator__learning_rate=0.1, final_estimator__max_depth=2, final_estimator__n_estimators=70, final_estimator__reg_alpha=0, final_estimator__reg_lambda=0;, score=0.893 total time= 3.8min\n"
     ]
    },
    {
     "name": "stdout",
     "output_type": "stream",
     "text": [
      "[CV 4/4] END final_estimator__learning_rate=0.1, final_estimator__max_depth=2, final_estimator__n_estimators=70, final_estimator__reg_alpha=0, final_estimator__reg_lambda=0;, score=0.891 total time= 3.8min\n",
      "[CV 1/4] END final_estimator__learning_rate=0.1, final_estimator__max_depth=2, final_estimator__n_estimators=70, final_estimator__reg_alpha=0, final_estimator__reg_lambda=0.1;, score=0.889 total time= 3.8min\n",
      "[CV 2/4] END final_estimator__learning_rate=0.1, final_estimator__max_depth=2, final_estimator__n_estimators=70, final_estimator__reg_alpha=0, final_estimator__reg_lambda=0.1;, score=0.893 total time= 3.8min\n",
      "[CV 3/4] END final_estimator__learning_rate=0.1, final_estimator__max_depth=2, final_estimator__n_estimators=70, final_estimator__reg_alpha=0, final_estimator__reg_lambda=0.1;, score=0.893 total time= 3.8min\n",
      "[CV 4/4] END final_estimator__learning_rate=0.1, final_estimator__max_depth=2, final_estimator__n_estimators=70, final_estimator__reg_alpha=0, final_estimator__reg_lambda=0.1;, score=0.891 total time= 3.8min\n",
      "[CV 1/4] END final_estimator__learning_rate=0.1, final_estimator__max_depth=2, final_estimator__n_estimators=70, final_estimator__reg_alpha=0, final_estimator__reg_lambda=0.2;, score=0.890 total time= 3.8min\n",
      "[CV 2/4] END final_estimator__learning_rate=0.1, final_estimator__max_depth=2, final_estimator__n_estimators=70, final_estimator__reg_alpha=0, final_estimator__reg_lambda=0.2;, score=0.893 total time= 3.8min\n",
      "[CV 3/4] END final_estimator__learning_rate=0.1, final_estimator__max_depth=2, final_estimator__n_estimators=70, final_estimator__reg_alpha=0, final_estimator__reg_lambda=0.2;, score=0.893 total time= 3.8min\n",
      "[CV 4/4] END final_estimator__learning_rate=0.1, final_estimator__max_depth=2, final_estimator__n_estimators=70, final_estimator__reg_alpha=0, final_estimator__reg_lambda=0.2;, score=0.891 total time= 3.8min\n",
      "[CV 1/4] END final_estimator__learning_rate=0.1, final_estimator__max_depth=2, final_estimator__n_estimators=70, final_estimator__reg_alpha=0.1, final_estimator__reg_lambda=0;, score=0.890 total time= 3.8min\n",
      "[CV 2/4] END final_estimator__learning_rate=0.1, final_estimator__max_depth=2, final_estimator__n_estimators=70, final_estimator__reg_alpha=0.1, final_estimator__reg_lambda=0;, score=0.893 total time= 3.8min\n",
      "[CV 3/4] END final_estimator__learning_rate=0.1, final_estimator__max_depth=2, final_estimator__n_estimators=70, final_estimator__reg_alpha=0.1, final_estimator__reg_lambda=0;, score=0.893 total time= 3.8min\n",
      "[CV 4/4] END final_estimator__learning_rate=0.1, final_estimator__max_depth=2, final_estimator__n_estimators=70, final_estimator__reg_alpha=0.1, final_estimator__reg_lambda=0;, score=0.891 total time= 3.8min\n",
      "[CV 1/4] END final_estimator__learning_rate=0.1, final_estimator__max_depth=2, final_estimator__n_estimators=70, final_estimator__reg_alpha=0.1, final_estimator__reg_lambda=0.1;, score=0.890 total time= 3.8min\n",
      "[CV 2/4] END final_estimator__learning_rate=0.1, final_estimator__max_depth=2, final_estimator__n_estimators=70, final_estimator__reg_alpha=0.1, final_estimator__reg_lambda=0.1;, score=0.893 total time= 3.8min\n",
      "[CV 3/4] END final_estimator__learning_rate=0.1, final_estimator__max_depth=2, final_estimator__n_estimators=70, final_estimator__reg_alpha=0.1, final_estimator__reg_lambda=0.1;, score=0.893 total time= 3.8min\n",
      "[CV 4/4] END final_estimator__learning_rate=0.1, final_estimator__max_depth=2, final_estimator__n_estimators=70, final_estimator__reg_alpha=0.1, final_estimator__reg_lambda=0.1;, score=0.891 total time= 3.8min\n",
      "[CV 1/4] END final_estimator__learning_rate=0.1, final_estimator__max_depth=2, final_estimator__n_estimators=70, final_estimator__reg_alpha=0.1, final_estimator__reg_lambda=0.2;, score=0.890 total time= 3.8min\n",
      "[CV 2/4] END final_estimator__learning_rate=0.1, final_estimator__max_depth=2, final_estimator__n_estimators=70, final_estimator__reg_alpha=0.1, final_estimator__reg_lambda=0.2;, score=0.893 total time= 3.8min\n",
      "[CV 3/4] END final_estimator__learning_rate=0.1, final_estimator__max_depth=2, final_estimator__n_estimators=70, final_estimator__reg_alpha=0.1, final_estimator__reg_lambda=0.2;, score=0.893 total time= 3.8min\n",
      "[CV 4/4] END final_estimator__learning_rate=0.1, final_estimator__max_depth=2, final_estimator__n_estimators=70, final_estimator__reg_alpha=0.1, final_estimator__reg_lambda=0.2;, score=0.891 total time= 3.8min\n",
      "[CV 1/4] END final_estimator__learning_rate=0.1, final_estimator__max_depth=2, final_estimator__n_estimators=70, final_estimator__reg_alpha=0.2, final_estimator__reg_lambda=0;, score=0.890 total time= 3.8min\n",
      "[CV 2/4] END final_estimator__learning_rate=0.1, final_estimator__max_depth=2, final_estimator__n_estimators=70, final_estimator__reg_alpha=0.2, final_estimator__reg_lambda=0;, score=0.892 total time= 3.8min\n",
      "[CV 3/4] END final_estimator__learning_rate=0.1, final_estimator__max_depth=2, final_estimator__n_estimators=70, final_estimator__reg_alpha=0.2, final_estimator__reg_lambda=0;, score=0.893 total time= 3.8min\n",
      "[CV 4/4] END final_estimator__learning_rate=0.1, final_estimator__max_depth=2, final_estimator__n_estimators=70, final_estimator__reg_alpha=0.2, final_estimator__reg_lambda=0;, score=0.891 total time= 3.8min\n",
      "[CV 1/4] END final_estimator__learning_rate=0.1, final_estimator__max_depth=2, final_estimator__n_estimators=70, final_estimator__reg_alpha=0.2, final_estimator__reg_lambda=0.1;, score=0.890 total time= 3.8min\n",
      "[CV 2/4] END final_estimator__learning_rate=0.1, final_estimator__max_depth=2, final_estimator__n_estimators=70, final_estimator__reg_alpha=0.2, final_estimator__reg_lambda=0.1;, score=0.892 total time= 3.8min\n",
      "[CV 3/4] END final_estimator__learning_rate=0.1, final_estimator__max_depth=2, final_estimator__n_estimators=70, final_estimator__reg_alpha=0.2, final_estimator__reg_lambda=0.1;, score=0.893 total time= 3.8min\n",
      "[CV 4/4] END final_estimator__learning_rate=0.1, final_estimator__max_depth=2, final_estimator__n_estimators=70, final_estimator__reg_alpha=0.2, final_estimator__reg_lambda=0.1;, score=0.891 total time= 3.8min\n",
      "[CV 1/4] END final_estimator__learning_rate=0.1, final_estimator__max_depth=2, final_estimator__n_estimators=70, final_estimator__reg_alpha=0.2, final_estimator__reg_lambda=0.2;, score=0.890 total time= 3.8min\n",
      "[CV 2/4] END final_estimator__learning_rate=0.1, final_estimator__max_depth=2, final_estimator__n_estimators=70, final_estimator__reg_alpha=0.2, final_estimator__reg_lambda=0.2;, score=0.892 total time= 3.8min\n",
      "[CV 3/4] END final_estimator__learning_rate=0.1, final_estimator__max_depth=2, final_estimator__n_estimators=70, final_estimator__reg_alpha=0.2, final_estimator__reg_lambda=0.2;, score=0.893 total time= 3.8min\n",
      "[CV 4/4] END final_estimator__learning_rate=0.1, final_estimator__max_depth=2, final_estimator__n_estimators=70, final_estimator__reg_alpha=0.2, final_estimator__reg_lambda=0.2;, score=0.891 total time= 3.8min\n",
      "[CV 1/4] END final_estimator__learning_rate=0.1, final_estimator__max_depth=2, final_estimator__n_estimators=90, final_estimator__reg_alpha=0, final_estimator__reg_lambda=0;, score=0.890 total time= 3.8min\n",
      "[CV 2/4] END final_estimator__learning_rate=0.1, final_estimator__max_depth=2, final_estimator__n_estimators=90, final_estimator__reg_alpha=0, final_estimator__reg_lambda=0;, score=0.893 total time= 3.8min\n",
      "[CV 3/4] END final_estimator__learning_rate=0.1, final_estimator__max_depth=2, final_estimator__n_estimators=90, final_estimator__reg_alpha=0, final_estimator__reg_lambda=0;, score=0.893 total time= 3.8min\n",
      "[CV 4/4] END final_estimator__learning_rate=0.1, final_estimator__max_depth=2, final_estimator__n_estimators=90, final_estimator__reg_alpha=0, final_estimator__reg_lambda=0;, score=0.891 total time= 3.8min\n",
      "[CV 1/4] END final_estimator__learning_rate=0.1, final_estimator__max_depth=2, final_estimator__n_estimators=90, final_estimator__reg_alpha=0, final_estimator__reg_lambda=0.1;, score=0.890 total time= 3.8min\n",
      "[CV 2/4] END final_estimator__learning_rate=0.1, final_estimator__max_depth=2, final_estimator__n_estimators=90, final_estimator__reg_alpha=0, final_estimator__reg_lambda=0.1;, score=0.892 total time= 3.8min\n",
      "[CV 3/4] END final_estimator__learning_rate=0.1, final_estimator__max_depth=2, final_estimator__n_estimators=90, final_estimator__reg_alpha=0, final_estimator__reg_lambda=0.1;, score=0.893 total time= 3.8min\n"
     ]
    },
    {
     "name": "stdout",
     "output_type": "stream",
     "text": [
      "[CV 4/4] END final_estimator__learning_rate=0.1, final_estimator__max_depth=2, final_estimator__n_estimators=90, final_estimator__reg_alpha=0, final_estimator__reg_lambda=0.1;, score=0.891 total time= 3.8min\n",
      "[CV 1/4] END final_estimator__learning_rate=0.1, final_estimator__max_depth=2, final_estimator__n_estimators=90, final_estimator__reg_alpha=0, final_estimator__reg_lambda=0.2;, score=0.890 total time= 3.8min\n",
      "[CV 2/4] END final_estimator__learning_rate=0.1, final_estimator__max_depth=2, final_estimator__n_estimators=90, final_estimator__reg_alpha=0, final_estimator__reg_lambda=0.2;, score=0.892 total time= 3.8min\n",
      "[CV 3/4] END final_estimator__learning_rate=0.1, final_estimator__max_depth=2, final_estimator__n_estimators=90, final_estimator__reg_alpha=0, final_estimator__reg_lambda=0.2;, score=0.893 total time= 3.8min\n",
      "[CV 4/4] END final_estimator__learning_rate=0.1, final_estimator__max_depth=2, final_estimator__n_estimators=90, final_estimator__reg_alpha=0, final_estimator__reg_lambda=0.2;, score=0.891 total time= 3.8min\n",
      "[CV 1/4] END final_estimator__learning_rate=0.1, final_estimator__max_depth=2, final_estimator__n_estimators=90, final_estimator__reg_alpha=0.1, final_estimator__reg_lambda=0;, score=0.890 total time= 3.8min\n",
      "[CV 2/4] END final_estimator__learning_rate=0.1, final_estimator__max_depth=2, final_estimator__n_estimators=90, final_estimator__reg_alpha=0.1, final_estimator__reg_lambda=0;, score=0.893 total time= 3.8min\n",
      "[CV 3/4] END final_estimator__learning_rate=0.1, final_estimator__max_depth=2, final_estimator__n_estimators=90, final_estimator__reg_alpha=0.1, final_estimator__reg_lambda=0;, score=0.893 total time= 3.8min\n",
      "[CV 4/4] END final_estimator__learning_rate=0.1, final_estimator__max_depth=2, final_estimator__n_estimators=90, final_estimator__reg_alpha=0.1, final_estimator__reg_lambda=0;, score=0.891 total time= 3.8min\n",
      "[CV 1/4] END final_estimator__learning_rate=0.1, final_estimator__max_depth=2, final_estimator__n_estimators=90, final_estimator__reg_alpha=0.1, final_estimator__reg_lambda=0.1;, score=0.890 total time= 3.8min\n",
      "[CV 2/4] END final_estimator__learning_rate=0.1, final_estimator__max_depth=2, final_estimator__n_estimators=90, final_estimator__reg_alpha=0.1, final_estimator__reg_lambda=0.1;, score=0.893 total time= 3.8min\n",
      "[CV 3/4] END final_estimator__learning_rate=0.1, final_estimator__max_depth=2, final_estimator__n_estimators=90, final_estimator__reg_alpha=0.1, final_estimator__reg_lambda=0.1;, score=0.893 total time= 3.8min\n",
      "[CV 4/4] END final_estimator__learning_rate=0.1, final_estimator__max_depth=2, final_estimator__n_estimators=90, final_estimator__reg_alpha=0.1, final_estimator__reg_lambda=0.1;, score=0.891 total time= 3.8min\n",
      "[CV 1/4] END final_estimator__learning_rate=0.1, final_estimator__max_depth=2, final_estimator__n_estimators=90, final_estimator__reg_alpha=0.1, final_estimator__reg_lambda=0.2;, score=0.890 total time= 3.8min\n",
      "[CV 2/4] END final_estimator__learning_rate=0.1, final_estimator__max_depth=2, final_estimator__n_estimators=90, final_estimator__reg_alpha=0.1, final_estimator__reg_lambda=0.2;, score=0.892 total time= 3.8min\n",
      "[CV 3/4] END final_estimator__learning_rate=0.1, final_estimator__max_depth=2, final_estimator__n_estimators=90, final_estimator__reg_alpha=0.1, final_estimator__reg_lambda=0.2;, score=0.893 total time= 3.8min\n",
      "[CV 4/4] END final_estimator__learning_rate=0.1, final_estimator__max_depth=2, final_estimator__n_estimators=90, final_estimator__reg_alpha=0.1, final_estimator__reg_lambda=0.2;, score=0.891 total time= 3.8min\n",
      "[CV 1/4] END final_estimator__learning_rate=0.1, final_estimator__max_depth=2, final_estimator__n_estimators=90, final_estimator__reg_alpha=0.2, final_estimator__reg_lambda=0;, score=0.890 total time= 3.8min\n",
      "[CV 2/4] END final_estimator__learning_rate=0.1, final_estimator__max_depth=2, final_estimator__n_estimators=90, final_estimator__reg_alpha=0.2, final_estimator__reg_lambda=0;, score=0.892 total time= 3.8min\n",
      "[CV 3/4] END final_estimator__learning_rate=0.1, final_estimator__max_depth=2, final_estimator__n_estimators=90, final_estimator__reg_alpha=0.2, final_estimator__reg_lambda=0;, score=0.893 total time= 3.8min\n",
      "[CV 4/4] END final_estimator__learning_rate=0.1, final_estimator__max_depth=2, final_estimator__n_estimators=90, final_estimator__reg_alpha=0.2, final_estimator__reg_lambda=0;, score=0.891 total time= 3.8min\n",
      "[CV 1/4] END final_estimator__learning_rate=0.1, final_estimator__max_depth=2, final_estimator__n_estimators=90, final_estimator__reg_alpha=0.2, final_estimator__reg_lambda=0.1;, score=0.890 total time= 3.8min\n",
      "[CV 2/4] END final_estimator__learning_rate=0.1, final_estimator__max_depth=2, final_estimator__n_estimators=90, final_estimator__reg_alpha=0.2, final_estimator__reg_lambda=0.1;, score=0.892 total time= 3.8min\n",
      "[CV 3/4] END final_estimator__learning_rate=0.1, final_estimator__max_depth=2, final_estimator__n_estimators=90, final_estimator__reg_alpha=0.2, final_estimator__reg_lambda=0.1;, score=0.893 total time= 3.8min\n",
      "[CV 4/4] END final_estimator__learning_rate=0.1, final_estimator__max_depth=2, final_estimator__n_estimators=90, final_estimator__reg_alpha=0.2, final_estimator__reg_lambda=0.1;, score=0.891 total time= 3.8min\n",
      "[CV 1/4] END final_estimator__learning_rate=0.1, final_estimator__max_depth=2, final_estimator__n_estimators=90, final_estimator__reg_alpha=0.2, final_estimator__reg_lambda=0.2;, score=0.890 total time= 3.8min\n",
      "[CV 2/4] END final_estimator__learning_rate=0.1, final_estimator__max_depth=2, final_estimator__n_estimators=90, final_estimator__reg_alpha=0.2, final_estimator__reg_lambda=0.2;, score=0.892 total time= 3.8min\n",
      "[CV 3/4] END final_estimator__learning_rate=0.1, final_estimator__max_depth=2, final_estimator__n_estimators=90, final_estimator__reg_alpha=0.2, final_estimator__reg_lambda=0.2;, score=0.893 total time= 3.8min\n",
      "[CV 4/4] END final_estimator__learning_rate=0.1, final_estimator__max_depth=2, final_estimator__n_estimators=90, final_estimator__reg_alpha=0.2, final_estimator__reg_lambda=0.2;, score=0.891 total time= 3.8min\n",
      "[CV 1/4] END final_estimator__learning_rate=0.1, final_estimator__max_depth=4, final_estimator__n_estimators=50, final_estimator__reg_alpha=0, final_estimator__reg_lambda=0;, score=0.889 total time= 3.8min\n",
      "[CV 2/4] END final_estimator__learning_rate=0.1, final_estimator__max_depth=4, final_estimator__n_estimators=50, final_estimator__reg_alpha=0, final_estimator__reg_lambda=0;, score=0.892 total time= 3.8min\n",
      "[CV 3/4] END final_estimator__learning_rate=0.1, final_estimator__max_depth=4, final_estimator__n_estimators=50, final_estimator__reg_alpha=0, final_estimator__reg_lambda=0;, score=0.892 total time= 3.8min\n",
      "[CV 4/4] END final_estimator__learning_rate=0.1, final_estimator__max_depth=4, final_estimator__n_estimators=50, final_estimator__reg_alpha=0, final_estimator__reg_lambda=0;, score=0.891 total time= 3.8min\n",
      "[CV 1/4] END final_estimator__learning_rate=0.1, final_estimator__max_depth=4, final_estimator__n_estimators=50, final_estimator__reg_alpha=0, final_estimator__reg_lambda=0.1;, score=0.890 total time= 3.8min\n",
      "[CV 2/4] END final_estimator__learning_rate=0.1, final_estimator__max_depth=4, final_estimator__n_estimators=50, final_estimator__reg_alpha=0, final_estimator__reg_lambda=0.1;, score=0.892 total time= 3.8min\n",
      "[CV 3/4] END final_estimator__learning_rate=0.1, final_estimator__max_depth=4, final_estimator__n_estimators=50, final_estimator__reg_alpha=0, final_estimator__reg_lambda=0.1;, score=0.892 total time= 3.8min\n",
      "[CV 4/4] END final_estimator__learning_rate=0.1, final_estimator__max_depth=4, final_estimator__n_estimators=50, final_estimator__reg_alpha=0, final_estimator__reg_lambda=0.1;, score=0.891 total time= 3.8min\n",
      "[CV 1/4] END final_estimator__learning_rate=0.1, final_estimator__max_depth=4, final_estimator__n_estimators=50, final_estimator__reg_alpha=0, final_estimator__reg_lambda=0.2;, score=0.890 total time= 3.8min\n",
      "[CV 2/4] END final_estimator__learning_rate=0.1, final_estimator__max_depth=4, final_estimator__n_estimators=50, final_estimator__reg_alpha=0, final_estimator__reg_lambda=0.2;, score=0.893 total time= 3.8min\n",
      "[CV 3/4] END final_estimator__learning_rate=0.1, final_estimator__max_depth=4, final_estimator__n_estimators=50, final_estimator__reg_alpha=0, final_estimator__reg_lambda=0.2;, score=0.892 total time= 3.8min\n"
     ]
    },
    {
     "name": "stdout",
     "output_type": "stream",
     "text": [
      "[CV 4/4] END final_estimator__learning_rate=0.1, final_estimator__max_depth=4, final_estimator__n_estimators=50, final_estimator__reg_alpha=0, final_estimator__reg_lambda=0.2;, score=0.891 total time= 3.8min\n",
      "[CV 1/4] END final_estimator__learning_rate=0.1, final_estimator__max_depth=4, final_estimator__n_estimators=50, final_estimator__reg_alpha=0.1, final_estimator__reg_lambda=0;, score=0.889 total time= 3.8min\n",
      "[CV 2/4] END final_estimator__learning_rate=0.1, final_estimator__max_depth=4, final_estimator__n_estimators=50, final_estimator__reg_alpha=0.1, final_estimator__reg_lambda=0;, score=0.892 total time= 3.8min\n",
      "[CV 3/4] END final_estimator__learning_rate=0.1, final_estimator__max_depth=4, final_estimator__n_estimators=50, final_estimator__reg_alpha=0.1, final_estimator__reg_lambda=0;, score=0.892 total time= 3.8min\n",
      "[CV 4/4] END final_estimator__learning_rate=0.1, final_estimator__max_depth=4, final_estimator__n_estimators=50, final_estimator__reg_alpha=0.1, final_estimator__reg_lambda=0;, score=0.891 total time= 3.8min\n",
      "[CV 1/4] END final_estimator__learning_rate=0.1, final_estimator__max_depth=4, final_estimator__n_estimators=50, final_estimator__reg_alpha=0.1, final_estimator__reg_lambda=0.1;, score=0.890 total time= 3.8min\n",
      "[CV 2/4] END final_estimator__learning_rate=0.1, final_estimator__max_depth=4, final_estimator__n_estimators=50, final_estimator__reg_alpha=0.1, final_estimator__reg_lambda=0.1;, score=0.892 total time= 3.8min\n",
      "[CV 3/4] END final_estimator__learning_rate=0.1, final_estimator__max_depth=4, final_estimator__n_estimators=50, final_estimator__reg_alpha=0.1, final_estimator__reg_lambda=0.1;, score=0.892 total time= 3.8min\n",
      "[CV 4/4] END final_estimator__learning_rate=0.1, final_estimator__max_depth=4, final_estimator__n_estimators=50, final_estimator__reg_alpha=0.1, final_estimator__reg_lambda=0.1;, score=0.891 total time= 3.8min\n",
      "[CV 1/4] END final_estimator__learning_rate=0.1, final_estimator__max_depth=4, final_estimator__n_estimators=50, final_estimator__reg_alpha=0.1, final_estimator__reg_lambda=0.2;, score=0.889 total time= 3.8min\n",
      "[CV 2/4] END final_estimator__learning_rate=0.1, final_estimator__max_depth=4, final_estimator__n_estimators=50, final_estimator__reg_alpha=0.1, final_estimator__reg_lambda=0.2;, score=0.892 total time= 3.8min\n",
      "[CV 3/4] END final_estimator__learning_rate=0.1, final_estimator__max_depth=4, final_estimator__n_estimators=50, final_estimator__reg_alpha=0.1, final_estimator__reg_lambda=0.2;, score=0.892 total time= 3.8min\n",
      "[CV 4/4] END final_estimator__learning_rate=0.1, final_estimator__max_depth=4, final_estimator__n_estimators=50, final_estimator__reg_alpha=0.1, final_estimator__reg_lambda=0.2;, score=0.891 total time= 3.8min\n",
      "[CV 1/4] END final_estimator__learning_rate=0.1, final_estimator__max_depth=4, final_estimator__n_estimators=50, final_estimator__reg_alpha=0.2, final_estimator__reg_lambda=0;, score=0.889 total time= 3.8min\n",
      "[CV 2/4] END final_estimator__learning_rate=0.1, final_estimator__max_depth=4, final_estimator__n_estimators=50, final_estimator__reg_alpha=0.2, final_estimator__reg_lambda=0;, score=0.892 total time= 3.8min\n",
      "[CV 3/4] END final_estimator__learning_rate=0.1, final_estimator__max_depth=4, final_estimator__n_estimators=50, final_estimator__reg_alpha=0.2, final_estimator__reg_lambda=0;, score=0.892 total time= 3.8min\n",
      "[CV 4/4] END final_estimator__learning_rate=0.1, final_estimator__max_depth=4, final_estimator__n_estimators=50, final_estimator__reg_alpha=0.2, final_estimator__reg_lambda=0;, score=0.891 total time= 3.8min\n",
      "[CV 1/4] END final_estimator__learning_rate=0.1, final_estimator__max_depth=4, final_estimator__n_estimators=50, final_estimator__reg_alpha=0.2, final_estimator__reg_lambda=0.1;, score=0.889 total time= 3.8min\n",
      "[CV 2/4] END final_estimator__learning_rate=0.1, final_estimator__max_depth=4, final_estimator__n_estimators=50, final_estimator__reg_alpha=0.2, final_estimator__reg_lambda=0.1;, score=0.892 total time= 3.8min\n",
      "[CV 3/4] END final_estimator__learning_rate=0.1, final_estimator__max_depth=4, final_estimator__n_estimators=50, final_estimator__reg_alpha=0.2, final_estimator__reg_lambda=0.1;, score=0.892 total time= 3.8min\n",
      "[CV 4/4] END final_estimator__learning_rate=0.1, final_estimator__max_depth=4, final_estimator__n_estimators=50, final_estimator__reg_alpha=0.2, final_estimator__reg_lambda=0.1;, score=0.891 total time= 3.8min\n",
      "[CV 1/4] END final_estimator__learning_rate=0.1, final_estimator__max_depth=4, final_estimator__n_estimators=50, final_estimator__reg_alpha=0.2, final_estimator__reg_lambda=0.2;, score=0.889 total time= 3.8min\n",
      "[CV 2/4] END final_estimator__learning_rate=0.1, final_estimator__max_depth=4, final_estimator__n_estimators=50, final_estimator__reg_alpha=0.2, final_estimator__reg_lambda=0.2;, score=0.892 total time= 3.8min\n",
      "[CV 3/4] END final_estimator__learning_rate=0.1, final_estimator__max_depth=4, final_estimator__n_estimators=50, final_estimator__reg_alpha=0.2, final_estimator__reg_lambda=0.2;, score=0.892 total time= 3.8min\n",
      "[CV 4/4] END final_estimator__learning_rate=0.1, final_estimator__max_depth=4, final_estimator__n_estimators=50, final_estimator__reg_alpha=0.2, final_estimator__reg_lambda=0.2;, score=0.891 total time= 3.8min\n",
      "[CV 1/4] END final_estimator__learning_rate=0.1, final_estimator__max_depth=4, final_estimator__n_estimators=70, final_estimator__reg_alpha=0, final_estimator__reg_lambda=0;, score=0.889 total time= 3.8min\n",
      "[CV 2/4] END final_estimator__learning_rate=0.1, final_estimator__max_depth=4, final_estimator__n_estimators=70, final_estimator__reg_alpha=0, final_estimator__reg_lambda=0;, score=0.892 total time= 3.8min\n",
      "[CV 3/4] END final_estimator__learning_rate=0.1, final_estimator__max_depth=4, final_estimator__n_estimators=70, final_estimator__reg_alpha=0, final_estimator__reg_lambda=0;, score=0.892 total time= 3.8min\n",
      "[CV 4/4] END final_estimator__learning_rate=0.1, final_estimator__max_depth=4, final_estimator__n_estimators=70, final_estimator__reg_alpha=0, final_estimator__reg_lambda=0;, score=0.891 total time= 3.8min\n",
      "[CV 1/4] END final_estimator__learning_rate=0.1, final_estimator__max_depth=4, final_estimator__n_estimators=70, final_estimator__reg_alpha=0, final_estimator__reg_lambda=0.1;, score=0.889 total time= 3.8min\n",
      "[CV 2/4] END final_estimator__learning_rate=0.1, final_estimator__max_depth=4, final_estimator__n_estimators=70, final_estimator__reg_alpha=0, final_estimator__reg_lambda=0.1;, score=0.892 total time= 3.8min\n",
      "[CV 3/4] END final_estimator__learning_rate=0.1, final_estimator__max_depth=4, final_estimator__n_estimators=70, final_estimator__reg_alpha=0, final_estimator__reg_lambda=0.1;, score=0.892 total time= 3.8min\n",
      "[CV 4/4] END final_estimator__learning_rate=0.1, final_estimator__max_depth=4, final_estimator__n_estimators=70, final_estimator__reg_alpha=0, final_estimator__reg_lambda=0.1;, score=0.890 total time= 3.8min\n",
      "[CV 1/4] END final_estimator__learning_rate=0.1, final_estimator__max_depth=4, final_estimator__n_estimators=70, final_estimator__reg_alpha=0, final_estimator__reg_lambda=0.2;, score=0.890 total time= 3.8min\n",
      "[CV 2/4] END final_estimator__learning_rate=0.1, final_estimator__max_depth=4, final_estimator__n_estimators=70, final_estimator__reg_alpha=0, final_estimator__reg_lambda=0.2;, score=0.892 total time= 3.8min\n",
      "[CV 3/4] END final_estimator__learning_rate=0.1, final_estimator__max_depth=4, final_estimator__n_estimators=70, final_estimator__reg_alpha=0, final_estimator__reg_lambda=0.2;, score=0.892 total time= 3.8min\n",
      "[CV 4/4] END final_estimator__learning_rate=0.1, final_estimator__max_depth=4, final_estimator__n_estimators=70, final_estimator__reg_alpha=0, final_estimator__reg_lambda=0.2;, score=0.891 total time= 3.8min\n",
      "[CV 1/4] END final_estimator__learning_rate=0.1, final_estimator__max_depth=4, final_estimator__n_estimators=70, final_estimator__reg_alpha=0.1, final_estimator__reg_lambda=0;, score=0.889 total time= 3.8min\n",
      "[CV 2/4] END final_estimator__learning_rate=0.1, final_estimator__max_depth=4, final_estimator__n_estimators=70, final_estimator__reg_alpha=0.1, final_estimator__reg_lambda=0;, score=0.892 total time= 3.8min\n",
      "[CV 3/4] END final_estimator__learning_rate=0.1, final_estimator__max_depth=4, final_estimator__n_estimators=70, final_estimator__reg_alpha=0.1, final_estimator__reg_lambda=0;, score=0.892 total time= 3.9min\n"
     ]
    },
    {
     "name": "stdout",
     "output_type": "stream",
     "text": [
      "[CV 4/4] END final_estimator__learning_rate=0.1, final_estimator__max_depth=4, final_estimator__n_estimators=70, final_estimator__reg_alpha=0.1, final_estimator__reg_lambda=0;, score=0.891 total time= 3.8min\n",
      "[CV 1/4] END final_estimator__learning_rate=0.1, final_estimator__max_depth=4, final_estimator__n_estimators=70, final_estimator__reg_alpha=0.1, final_estimator__reg_lambda=0.1;, score=0.890 total time= 3.8min\n",
      "[CV 2/4] END final_estimator__learning_rate=0.1, final_estimator__max_depth=4, final_estimator__n_estimators=70, final_estimator__reg_alpha=0.1, final_estimator__reg_lambda=0.1;, score=0.892 total time= 3.8min\n",
      "[CV 3/4] END final_estimator__learning_rate=0.1, final_estimator__max_depth=4, final_estimator__n_estimators=70, final_estimator__reg_alpha=0.1, final_estimator__reg_lambda=0.1;, score=0.892 total time= 3.8min\n",
      "[CV 4/4] END final_estimator__learning_rate=0.1, final_estimator__max_depth=4, final_estimator__n_estimators=70, final_estimator__reg_alpha=0.1, final_estimator__reg_lambda=0.1;, score=0.891 total time= 3.8min\n",
      "[CV 1/4] END final_estimator__learning_rate=0.1, final_estimator__max_depth=4, final_estimator__n_estimators=70, final_estimator__reg_alpha=0.1, final_estimator__reg_lambda=0.2;, score=0.889 total time= 3.8min\n",
      "[CV 2/4] END final_estimator__learning_rate=0.1, final_estimator__max_depth=4, final_estimator__n_estimators=70, final_estimator__reg_alpha=0.1, final_estimator__reg_lambda=0.2;, score=0.892 total time= 3.8min\n",
      "[CV 3/4] END final_estimator__learning_rate=0.1, final_estimator__max_depth=4, final_estimator__n_estimators=70, final_estimator__reg_alpha=0.1, final_estimator__reg_lambda=0.2;, score=0.892 total time= 3.8min\n",
      "[CV 4/4] END final_estimator__learning_rate=0.1, final_estimator__max_depth=4, final_estimator__n_estimators=70, final_estimator__reg_alpha=0.1, final_estimator__reg_lambda=0.2;, score=0.891 total time= 3.8min\n",
      "[CV 1/4] END final_estimator__learning_rate=0.1, final_estimator__max_depth=4, final_estimator__n_estimators=70, final_estimator__reg_alpha=0.2, final_estimator__reg_lambda=0;, score=0.889 total time= 3.8min\n",
      "[CV 2/4] END final_estimator__learning_rate=0.1, final_estimator__max_depth=4, final_estimator__n_estimators=70, final_estimator__reg_alpha=0.2, final_estimator__reg_lambda=0;, score=0.892 total time= 3.8min\n",
      "[CV 3/4] END final_estimator__learning_rate=0.1, final_estimator__max_depth=4, final_estimator__n_estimators=70, final_estimator__reg_alpha=0.2, final_estimator__reg_lambda=0;, score=0.892 total time= 3.8min\n",
      "[CV 4/4] END final_estimator__learning_rate=0.1, final_estimator__max_depth=4, final_estimator__n_estimators=70, final_estimator__reg_alpha=0.2, final_estimator__reg_lambda=0;, score=0.891 total time= 3.8min\n",
      "[CV 1/4] END final_estimator__learning_rate=0.1, final_estimator__max_depth=4, final_estimator__n_estimators=70, final_estimator__reg_alpha=0.2, final_estimator__reg_lambda=0.1;, score=0.889 total time= 3.8min\n",
      "[CV 2/4] END final_estimator__learning_rate=0.1, final_estimator__max_depth=4, final_estimator__n_estimators=70, final_estimator__reg_alpha=0.2, final_estimator__reg_lambda=0.1;, score=0.892 total time= 3.8min\n",
      "[CV 3/4] END final_estimator__learning_rate=0.1, final_estimator__max_depth=4, final_estimator__n_estimators=70, final_estimator__reg_alpha=0.2, final_estimator__reg_lambda=0.1;, score=0.892 total time= 3.8min\n",
      "[CV 4/4] END final_estimator__learning_rate=0.1, final_estimator__max_depth=4, final_estimator__n_estimators=70, final_estimator__reg_alpha=0.2, final_estimator__reg_lambda=0.1;, score=0.891 total time= 3.8min\n",
      "[CV 1/4] END final_estimator__learning_rate=0.1, final_estimator__max_depth=4, final_estimator__n_estimators=70, final_estimator__reg_alpha=0.2, final_estimator__reg_lambda=0.2;, score=0.889 total time= 3.8min\n",
      "[CV 2/4] END final_estimator__learning_rate=0.1, final_estimator__max_depth=4, final_estimator__n_estimators=70, final_estimator__reg_alpha=0.2, final_estimator__reg_lambda=0.2;, score=0.892 total time= 3.8min\n",
      "[CV 3/4] END final_estimator__learning_rate=0.1, final_estimator__max_depth=4, final_estimator__n_estimators=70, final_estimator__reg_alpha=0.2, final_estimator__reg_lambda=0.2;, score=0.892 total time= 3.8min\n",
      "[CV 4/4] END final_estimator__learning_rate=0.1, final_estimator__max_depth=4, final_estimator__n_estimators=70, final_estimator__reg_alpha=0.2, final_estimator__reg_lambda=0.2;, score=0.891 total time= 3.8min\n",
      "[CV 1/4] END final_estimator__learning_rate=0.1, final_estimator__max_depth=4, final_estimator__n_estimators=90, final_estimator__reg_alpha=0, final_estimator__reg_lambda=0;, score=0.889 total time= 3.8min\n",
      "[CV 2/4] END final_estimator__learning_rate=0.1, final_estimator__max_depth=4, final_estimator__n_estimators=90, final_estimator__reg_alpha=0, final_estimator__reg_lambda=0;, score=0.892 total time= 3.8min\n",
      "[CV 3/4] END final_estimator__learning_rate=0.1, final_estimator__max_depth=4, final_estimator__n_estimators=90, final_estimator__reg_alpha=0, final_estimator__reg_lambda=0;, score=0.892 total time= 3.8min\n",
      "[CV 4/4] END final_estimator__learning_rate=0.1, final_estimator__max_depth=4, final_estimator__n_estimators=90, final_estimator__reg_alpha=0, final_estimator__reg_lambda=0;, score=0.891 total time= 3.8min\n",
      "[CV 1/4] END final_estimator__learning_rate=0.1, final_estimator__max_depth=4, final_estimator__n_estimators=90, final_estimator__reg_alpha=0, final_estimator__reg_lambda=0.1;, score=0.889 total time= 3.8min\n",
      "[CV 2/4] END final_estimator__learning_rate=0.1, final_estimator__max_depth=4, final_estimator__n_estimators=90, final_estimator__reg_alpha=0, final_estimator__reg_lambda=0.1;, score=0.892 total time= 3.8min\n",
      "[CV 3/4] END final_estimator__learning_rate=0.1, final_estimator__max_depth=4, final_estimator__n_estimators=90, final_estimator__reg_alpha=0, final_estimator__reg_lambda=0.1;, score=0.892 total time= 3.8min\n",
      "[CV 4/4] END final_estimator__learning_rate=0.1, final_estimator__max_depth=4, final_estimator__n_estimators=90, final_estimator__reg_alpha=0, final_estimator__reg_lambda=0.1;, score=0.890 total time= 3.8min\n",
      "[CV 1/4] END final_estimator__learning_rate=0.1, final_estimator__max_depth=4, final_estimator__n_estimators=90, final_estimator__reg_alpha=0, final_estimator__reg_lambda=0.2;, score=0.889 total time= 3.8min\n",
      "[CV 2/4] END final_estimator__learning_rate=0.1, final_estimator__max_depth=4, final_estimator__n_estimators=90, final_estimator__reg_alpha=0, final_estimator__reg_lambda=0.2;, score=0.892 total time= 3.8min\n",
      "[CV 3/4] END final_estimator__learning_rate=0.1, final_estimator__max_depth=4, final_estimator__n_estimators=90, final_estimator__reg_alpha=0, final_estimator__reg_lambda=0.2;, score=0.892 total time= 3.8min\n",
      "[CV 4/4] END final_estimator__learning_rate=0.1, final_estimator__max_depth=4, final_estimator__n_estimators=90, final_estimator__reg_alpha=0, final_estimator__reg_lambda=0.2;, score=0.891 total time= 3.8min\n",
      "[CV 1/4] END final_estimator__learning_rate=0.1, final_estimator__max_depth=4, final_estimator__n_estimators=90, final_estimator__reg_alpha=0.1, final_estimator__reg_lambda=0;, score=0.889 total time= 3.8min\n",
      "[CV 2/4] END final_estimator__learning_rate=0.1, final_estimator__max_depth=4, final_estimator__n_estimators=90, final_estimator__reg_alpha=0.1, final_estimator__reg_lambda=0;, score=0.892 total time= 3.8min\n",
      "[CV 3/4] END final_estimator__learning_rate=0.1, final_estimator__max_depth=4, final_estimator__n_estimators=90, final_estimator__reg_alpha=0.1, final_estimator__reg_lambda=0;, score=0.892 total time= 3.8min\n",
      "[CV 4/4] END final_estimator__learning_rate=0.1, final_estimator__max_depth=4, final_estimator__n_estimators=90, final_estimator__reg_alpha=0.1, final_estimator__reg_lambda=0;, score=0.891 total time= 3.8min\n"
     ]
    },
    {
     "ename": "KeyboardInterrupt",
     "evalue": "",
     "output_type": "error",
     "traceback": [
      "\u001b[0;31m---------------------------------------------------------------------------\u001b[0m",
      "\u001b[0;31mKeyboardInterrupt\u001b[0m                         Traceback (most recent call last)",
      "File \u001b[0;32m<timed eval>:1\u001b[0m\n",
      "File \u001b[0;32m~/.local/lib/python3.10/site-packages/IPython/core/interactiveshell.py:2417\u001b[0m, in \u001b[0;36mInteractiveShell.run_cell_magic\u001b[0;34m(self, magic_name, line, cell)\u001b[0m\n\u001b[1;32m   2415\u001b[0m \u001b[38;5;28;01mwith\u001b[39;00m \u001b[38;5;28mself\u001b[39m\u001b[38;5;241m.\u001b[39mbuiltin_trap:\n\u001b[1;32m   2416\u001b[0m     args \u001b[38;5;241m=\u001b[39m (magic_arg_s, cell)\n\u001b[0;32m-> 2417\u001b[0m     result \u001b[38;5;241m=\u001b[39m \u001b[43mfn\u001b[49m\u001b[43m(\u001b[49m\u001b[38;5;241;43m*\u001b[39;49m\u001b[43margs\u001b[49m\u001b[43m,\u001b[49m\u001b[43m \u001b[49m\u001b[38;5;241;43m*\u001b[39;49m\u001b[38;5;241;43m*\u001b[39;49m\u001b[43mkwargs\u001b[49m\u001b[43m)\u001b[49m\n\u001b[1;32m   2418\u001b[0m \u001b[38;5;28;01mreturn\u001b[39;00m result\n",
      "File \u001b[0;32m~/MyCode/Git/Portfolio/Kaggle/Playground_07_03/env/lib/python3.10/site-packages/chime.py:294\u001b[0m, in \u001b[0;36mChimeMagics.chime\u001b[0;34m(self, line, cell, local_ns)\u001b[0m\n\u001b[1;32m    292\u001b[0m     run(line)\n\u001b[1;32m    293\u001b[0m \u001b[38;5;28;01melse\u001b[39;00m:\n\u001b[0;32m--> 294\u001b[0m     \u001b[43mrun\u001b[49m\u001b[43m(\u001b[49m\u001b[43mcell\u001b[49m\u001b[43m)\u001b[49m\n",
      "File \u001b[0;32m~/MyCode/Git/Portfolio/Kaggle/Playground_07_03/env/lib/python3.10/site-packages/chime.py:285\u001b[0m, in \u001b[0;36mChimeMagics.chime.<locals>.run\u001b[0;34m(code)\u001b[0m\n\u001b[1;32m    283\u001b[0m \u001b[38;5;28;01mdef\u001b[39;00m \u001b[38;5;21mrun\u001b[39m(code):\n\u001b[1;32m    284\u001b[0m     \u001b[38;5;28;01mtry\u001b[39;00m:\n\u001b[0;32m--> 285\u001b[0m         \u001b[43mexec\u001b[49m\u001b[43m(\u001b[49m\u001b[43mcode\u001b[49m\u001b[43m,\u001b[49m\u001b[43m \u001b[49m\u001b[43mlocal_ns\u001b[49m\u001b[43m)\u001b[49m\n\u001b[1;32m    286\u001b[0m         success()\n\u001b[1;32m    287\u001b[0m     \u001b[38;5;28;01mexcept\u001b[39;00m \u001b[38;5;167;01mException\u001b[39;00m \u001b[38;5;28;01mas\u001b[39;00m e:\n",
      "File \u001b[0;32m<string>:1\u001b[0m\n",
      "File \u001b[0;32m~/MyCode/Git/Portfolio/Kaggle/Playground_07_03/env/lib/python3.10/site-packages/sklearn/model_selection/_search.py:891\u001b[0m, in \u001b[0;36mBaseSearchCV.fit\u001b[0;34m(self, X, y, groups, **fit_params)\u001b[0m\n\u001b[1;32m    885\u001b[0m     results \u001b[38;5;241m=\u001b[39m \u001b[38;5;28mself\u001b[39m\u001b[38;5;241m.\u001b[39m_format_results(\n\u001b[1;32m    886\u001b[0m         all_candidate_params, n_splits, all_out, all_more_results\n\u001b[1;32m    887\u001b[0m     )\n\u001b[1;32m    889\u001b[0m     \u001b[38;5;28;01mreturn\u001b[39;00m results\n\u001b[0;32m--> 891\u001b[0m \u001b[38;5;28;43mself\u001b[39;49m\u001b[38;5;241;43m.\u001b[39;49m\u001b[43m_run_search\u001b[49m\u001b[43m(\u001b[49m\u001b[43mevaluate_candidates\u001b[49m\u001b[43m)\u001b[49m\n\u001b[1;32m    893\u001b[0m \u001b[38;5;66;03m# multimetric is determined here because in the case of a callable\u001b[39;00m\n\u001b[1;32m    894\u001b[0m \u001b[38;5;66;03m# self.scoring the return type is only known after calling\u001b[39;00m\n\u001b[1;32m    895\u001b[0m first_test_score \u001b[38;5;241m=\u001b[39m all_out[\u001b[38;5;241m0\u001b[39m][\u001b[38;5;124m\"\u001b[39m\u001b[38;5;124mtest_scores\u001b[39m\u001b[38;5;124m\"\u001b[39m]\n",
      "File \u001b[0;32m~/MyCode/Git/Portfolio/Kaggle/Playground_07_03/env/lib/python3.10/site-packages/sklearn/model_selection/_search.py:1392\u001b[0m, in \u001b[0;36mGridSearchCV._run_search\u001b[0;34m(self, evaluate_candidates)\u001b[0m\n\u001b[1;32m   1390\u001b[0m \u001b[38;5;28;01mdef\u001b[39;00m \u001b[38;5;21m_run_search\u001b[39m(\u001b[38;5;28mself\u001b[39m, evaluate_candidates):\n\u001b[1;32m   1391\u001b[0m     \u001b[38;5;124;03m\"\"\"Search all candidates in param_grid\"\"\"\u001b[39;00m\n\u001b[0;32m-> 1392\u001b[0m     \u001b[43mevaluate_candidates\u001b[49m\u001b[43m(\u001b[49m\u001b[43mParameterGrid\u001b[49m\u001b[43m(\u001b[49m\u001b[38;5;28;43mself\u001b[39;49m\u001b[38;5;241;43m.\u001b[39;49m\u001b[43mparam_grid\u001b[49m\u001b[43m)\u001b[49m\u001b[43m)\u001b[49m\n",
      "File \u001b[0;32m~/MyCode/Git/Portfolio/Kaggle/Playground_07_03/env/lib/python3.10/site-packages/sklearn/model_selection/_search.py:838\u001b[0m, in \u001b[0;36mBaseSearchCV.fit.<locals>.evaluate_candidates\u001b[0;34m(candidate_params, cv, more_results)\u001b[0m\n\u001b[1;32m    830\u001b[0m \u001b[38;5;28;01mif\u001b[39;00m \u001b[38;5;28mself\u001b[39m\u001b[38;5;241m.\u001b[39mverbose \u001b[38;5;241m>\u001b[39m \u001b[38;5;241m0\u001b[39m:\n\u001b[1;32m    831\u001b[0m     \u001b[38;5;28mprint\u001b[39m(\n\u001b[1;32m    832\u001b[0m         \u001b[38;5;124m\"\u001b[39m\u001b[38;5;124mFitting \u001b[39m\u001b[38;5;132;01m{0}\u001b[39;00m\u001b[38;5;124m folds for each of \u001b[39m\u001b[38;5;132;01m{1}\u001b[39;00m\u001b[38;5;124m candidates,\u001b[39m\u001b[38;5;124m\"\u001b[39m\n\u001b[1;32m    833\u001b[0m         \u001b[38;5;124m\"\u001b[39m\u001b[38;5;124m totalling \u001b[39m\u001b[38;5;132;01m{2}\u001b[39;00m\u001b[38;5;124m fits\u001b[39m\u001b[38;5;124m\"\u001b[39m\u001b[38;5;241m.\u001b[39mformat(\n\u001b[1;32m    834\u001b[0m             n_splits, n_candidates, n_candidates \u001b[38;5;241m*\u001b[39m n_splits\n\u001b[1;32m    835\u001b[0m         )\n\u001b[1;32m    836\u001b[0m     )\n\u001b[0;32m--> 838\u001b[0m out \u001b[38;5;241m=\u001b[39m \u001b[43mparallel\u001b[49m\u001b[43m(\u001b[49m\n\u001b[1;32m    839\u001b[0m \u001b[43m    \u001b[49m\u001b[43mdelayed\u001b[49m\u001b[43m(\u001b[49m\u001b[43m_fit_and_score\u001b[49m\u001b[43m)\u001b[49m\u001b[43m(\u001b[49m\n\u001b[1;32m    840\u001b[0m \u001b[43m        \u001b[49m\u001b[43mclone\u001b[49m\u001b[43m(\u001b[49m\u001b[43mbase_estimator\u001b[49m\u001b[43m)\u001b[49m\u001b[43m,\u001b[49m\n\u001b[1;32m    841\u001b[0m \u001b[43m        \u001b[49m\u001b[43mX\u001b[49m\u001b[43m,\u001b[49m\n\u001b[1;32m    842\u001b[0m \u001b[43m        \u001b[49m\u001b[43my\u001b[49m\u001b[43m,\u001b[49m\n\u001b[1;32m    843\u001b[0m \u001b[43m        \u001b[49m\u001b[43mtrain\u001b[49m\u001b[38;5;241;43m=\u001b[39;49m\u001b[43mtrain\u001b[49m\u001b[43m,\u001b[49m\n\u001b[1;32m    844\u001b[0m \u001b[43m        \u001b[49m\u001b[43mtest\u001b[49m\u001b[38;5;241;43m=\u001b[39;49m\u001b[43mtest\u001b[49m\u001b[43m,\u001b[49m\n\u001b[1;32m    845\u001b[0m \u001b[43m        \u001b[49m\u001b[43mparameters\u001b[49m\u001b[38;5;241;43m=\u001b[39;49m\u001b[43mparameters\u001b[49m\u001b[43m,\u001b[49m\n\u001b[1;32m    846\u001b[0m \u001b[43m        \u001b[49m\u001b[43msplit_progress\u001b[49m\u001b[38;5;241;43m=\u001b[39;49m\u001b[43m(\u001b[49m\u001b[43msplit_idx\u001b[49m\u001b[43m,\u001b[49m\u001b[43m \u001b[49m\u001b[43mn_splits\u001b[49m\u001b[43m)\u001b[49m\u001b[43m,\u001b[49m\n\u001b[1;32m    847\u001b[0m \u001b[43m        \u001b[49m\u001b[43mcandidate_progress\u001b[49m\u001b[38;5;241;43m=\u001b[39;49m\u001b[43m(\u001b[49m\u001b[43mcand_idx\u001b[49m\u001b[43m,\u001b[49m\u001b[43m \u001b[49m\u001b[43mn_candidates\u001b[49m\u001b[43m)\u001b[49m\u001b[43m,\u001b[49m\n\u001b[1;32m    848\u001b[0m \u001b[43m        \u001b[49m\u001b[38;5;241;43m*\u001b[39;49m\u001b[38;5;241;43m*\u001b[39;49m\u001b[43mfit_and_score_kwargs\u001b[49m\u001b[43m,\u001b[49m\n\u001b[1;32m    849\u001b[0m \u001b[43m    \u001b[49m\u001b[43m)\u001b[49m\n\u001b[1;32m    850\u001b[0m \u001b[43m    \u001b[49m\u001b[38;5;28;43;01mfor\u001b[39;49;00m\u001b[43m \u001b[49m\u001b[43m(\u001b[49m\u001b[43mcand_idx\u001b[49m\u001b[43m,\u001b[49m\u001b[43m \u001b[49m\u001b[43mparameters\u001b[49m\u001b[43m)\u001b[49m\u001b[43m,\u001b[49m\u001b[43m \u001b[49m\u001b[43m(\u001b[49m\u001b[43msplit_idx\u001b[49m\u001b[43m,\u001b[49m\u001b[43m \u001b[49m\u001b[43m(\u001b[49m\u001b[43mtrain\u001b[49m\u001b[43m,\u001b[49m\u001b[43m \u001b[49m\u001b[43mtest\u001b[49m\u001b[43m)\u001b[49m\u001b[43m)\u001b[49m\u001b[43m \u001b[49m\u001b[38;5;129;43;01min\u001b[39;49;00m\u001b[43m \u001b[49m\u001b[43mproduct\u001b[49m\u001b[43m(\u001b[49m\n\u001b[1;32m    851\u001b[0m \u001b[43m        \u001b[49m\u001b[38;5;28;43menumerate\u001b[39;49m\u001b[43m(\u001b[49m\u001b[43mcandidate_params\u001b[49m\u001b[43m)\u001b[49m\u001b[43m,\u001b[49m\u001b[43m \u001b[49m\u001b[38;5;28;43menumerate\u001b[39;49m\u001b[43m(\u001b[49m\u001b[43mcv\u001b[49m\u001b[38;5;241;43m.\u001b[39;49m\u001b[43msplit\u001b[49m\u001b[43m(\u001b[49m\u001b[43mX\u001b[49m\u001b[43m,\u001b[49m\u001b[43m \u001b[49m\u001b[43my\u001b[49m\u001b[43m,\u001b[49m\u001b[43m \u001b[49m\u001b[43mgroups\u001b[49m\u001b[43m)\u001b[49m\u001b[43m)\u001b[49m\n\u001b[1;32m    852\u001b[0m \u001b[43m    \u001b[49m\u001b[43m)\u001b[49m\n\u001b[1;32m    853\u001b[0m \u001b[43m\u001b[49m\u001b[43m)\u001b[49m\n\u001b[1;32m    855\u001b[0m \u001b[38;5;28;01mif\u001b[39;00m \u001b[38;5;28mlen\u001b[39m(out) \u001b[38;5;241m<\u001b[39m \u001b[38;5;241m1\u001b[39m:\n\u001b[1;32m    856\u001b[0m     \u001b[38;5;28;01mraise\u001b[39;00m \u001b[38;5;167;01mValueError\u001b[39;00m(\n\u001b[1;32m    857\u001b[0m         \u001b[38;5;124m\"\u001b[39m\u001b[38;5;124mNo fits were performed. \u001b[39m\u001b[38;5;124m\"\u001b[39m\n\u001b[1;32m    858\u001b[0m         \u001b[38;5;124m\"\u001b[39m\u001b[38;5;124mWas the CV iterator empty? \u001b[39m\u001b[38;5;124m\"\u001b[39m\n\u001b[1;32m    859\u001b[0m         \u001b[38;5;124m\"\u001b[39m\u001b[38;5;124mWere there no candidates?\u001b[39m\u001b[38;5;124m\"\u001b[39m\n\u001b[1;32m    860\u001b[0m     )\n",
      "File \u001b[0;32m~/MyCode/Git/Portfolio/Kaggle/Playground_07_03/env/lib/python3.10/site-packages/joblib/parallel.py:1088\u001b[0m, in \u001b[0;36mParallel.__call__\u001b[0;34m(self, iterable)\u001b[0m\n\u001b[1;32m   1085\u001b[0m \u001b[38;5;28;01mif\u001b[39;00m \u001b[38;5;28mself\u001b[39m\u001b[38;5;241m.\u001b[39mdispatch_one_batch(iterator):\n\u001b[1;32m   1086\u001b[0m     \u001b[38;5;28mself\u001b[39m\u001b[38;5;241m.\u001b[39m_iterating \u001b[38;5;241m=\u001b[39m \u001b[38;5;28mself\u001b[39m\u001b[38;5;241m.\u001b[39m_original_iterator \u001b[38;5;129;01mis\u001b[39;00m \u001b[38;5;129;01mnot\u001b[39;00m \u001b[38;5;28;01mNone\u001b[39;00m\n\u001b[0;32m-> 1088\u001b[0m \u001b[38;5;28;01mwhile\u001b[39;00m \u001b[38;5;28;43mself\u001b[39;49m\u001b[38;5;241;43m.\u001b[39;49m\u001b[43mdispatch_one_batch\u001b[49m\u001b[43m(\u001b[49m\u001b[43miterator\u001b[49m\u001b[43m)\u001b[49m:\n\u001b[1;32m   1089\u001b[0m     \u001b[38;5;28;01mpass\u001b[39;00m\n\u001b[1;32m   1091\u001b[0m \u001b[38;5;28;01mif\u001b[39;00m pre_dispatch \u001b[38;5;241m==\u001b[39m \u001b[38;5;124m\"\u001b[39m\u001b[38;5;124mall\u001b[39m\u001b[38;5;124m\"\u001b[39m \u001b[38;5;129;01mor\u001b[39;00m n_jobs \u001b[38;5;241m==\u001b[39m \u001b[38;5;241m1\u001b[39m:\n\u001b[1;32m   1092\u001b[0m     \u001b[38;5;66;03m# The iterable was consumed all at once by the above for loop.\u001b[39;00m\n\u001b[1;32m   1093\u001b[0m     \u001b[38;5;66;03m# No need to wait for async callbacks to trigger to\u001b[39;00m\n\u001b[1;32m   1094\u001b[0m     \u001b[38;5;66;03m# consumption.\u001b[39;00m\n",
      "File \u001b[0;32m~/MyCode/Git/Portfolio/Kaggle/Playground_07_03/env/lib/python3.10/site-packages/joblib/parallel.py:901\u001b[0m, in \u001b[0;36mParallel.dispatch_one_batch\u001b[0;34m(self, iterator)\u001b[0m\n\u001b[1;32m    899\u001b[0m     \u001b[38;5;28;01mreturn\u001b[39;00m \u001b[38;5;28;01mFalse\u001b[39;00m\n\u001b[1;32m    900\u001b[0m \u001b[38;5;28;01melse\u001b[39;00m:\n\u001b[0;32m--> 901\u001b[0m     \u001b[38;5;28;43mself\u001b[39;49m\u001b[38;5;241;43m.\u001b[39;49m\u001b[43m_dispatch\u001b[49m\u001b[43m(\u001b[49m\u001b[43mtasks\u001b[49m\u001b[43m)\u001b[49m\n\u001b[1;32m    902\u001b[0m     \u001b[38;5;28;01mreturn\u001b[39;00m \u001b[38;5;28;01mTrue\u001b[39;00m\n",
      "File \u001b[0;32m~/MyCode/Git/Portfolio/Kaggle/Playground_07_03/env/lib/python3.10/site-packages/joblib/parallel.py:819\u001b[0m, in \u001b[0;36mParallel._dispatch\u001b[0;34m(self, batch)\u001b[0m\n\u001b[1;32m    817\u001b[0m \u001b[38;5;28;01mwith\u001b[39;00m \u001b[38;5;28mself\u001b[39m\u001b[38;5;241m.\u001b[39m_lock:\n\u001b[1;32m    818\u001b[0m     job_idx \u001b[38;5;241m=\u001b[39m \u001b[38;5;28mlen\u001b[39m(\u001b[38;5;28mself\u001b[39m\u001b[38;5;241m.\u001b[39m_jobs)\n\u001b[0;32m--> 819\u001b[0m     job \u001b[38;5;241m=\u001b[39m \u001b[38;5;28;43mself\u001b[39;49m\u001b[38;5;241;43m.\u001b[39;49m\u001b[43m_backend\u001b[49m\u001b[38;5;241;43m.\u001b[39;49m\u001b[43mapply_async\u001b[49m\u001b[43m(\u001b[49m\u001b[43mbatch\u001b[49m\u001b[43m,\u001b[49m\u001b[43m \u001b[49m\u001b[43mcallback\u001b[49m\u001b[38;5;241;43m=\u001b[39;49m\u001b[43mcb\u001b[49m\u001b[43m)\u001b[49m\n\u001b[1;32m    820\u001b[0m     \u001b[38;5;66;03m# A job can complete so quickly than its callback is\u001b[39;00m\n\u001b[1;32m    821\u001b[0m     \u001b[38;5;66;03m# called before we get here, causing self._jobs to\u001b[39;00m\n\u001b[1;32m    822\u001b[0m     \u001b[38;5;66;03m# grow. To ensure correct results ordering, .insert is\u001b[39;00m\n\u001b[1;32m    823\u001b[0m     \u001b[38;5;66;03m# used (rather than .append) in the following line\u001b[39;00m\n\u001b[1;32m    824\u001b[0m     \u001b[38;5;28mself\u001b[39m\u001b[38;5;241m.\u001b[39m_jobs\u001b[38;5;241m.\u001b[39minsert(job_idx, job)\n",
      "File \u001b[0;32m~/MyCode/Git/Portfolio/Kaggle/Playground_07_03/env/lib/python3.10/site-packages/joblib/_parallel_backends.py:208\u001b[0m, in \u001b[0;36mSequentialBackend.apply_async\u001b[0;34m(self, func, callback)\u001b[0m\n\u001b[1;32m    206\u001b[0m \u001b[38;5;28;01mdef\u001b[39;00m \u001b[38;5;21mapply_async\u001b[39m(\u001b[38;5;28mself\u001b[39m, func, callback\u001b[38;5;241m=\u001b[39m\u001b[38;5;28;01mNone\u001b[39;00m):\n\u001b[1;32m    207\u001b[0m     \u001b[38;5;124;03m\"\"\"Schedule a func to be run\"\"\"\u001b[39;00m\n\u001b[0;32m--> 208\u001b[0m     result \u001b[38;5;241m=\u001b[39m \u001b[43mImmediateResult\u001b[49m\u001b[43m(\u001b[49m\u001b[43mfunc\u001b[49m\u001b[43m)\u001b[49m\n\u001b[1;32m    209\u001b[0m     \u001b[38;5;28;01mif\u001b[39;00m callback:\n\u001b[1;32m    210\u001b[0m         callback(result)\n",
      "File \u001b[0;32m~/MyCode/Git/Portfolio/Kaggle/Playground_07_03/env/lib/python3.10/site-packages/joblib/_parallel_backends.py:597\u001b[0m, in \u001b[0;36mImmediateResult.__init__\u001b[0;34m(self, batch)\u001b[0m\n\u001b[1;32m    594\u001b[0m \u001b[38;5;28;01mdef\u001b[39;00m \u001b[38;5;21m__init__\u001b[39m(\u001b[38;5;28mself\u001b[39m, batch):\n\u001b[1;32m    595\u001b[0m     \u001b[38;5;66;03m# Don't delay the application, to avoid keeping the input\u001b[39;00m\n\u001b[1;32m    596\u001b[0m     \u001b[38;5;66;03m# arguments in memory\u001b[39;00m\n\u001b[0;32m--> 597\u001b[0m     \u001b[38;5;28mself\u001b[39m\u001b[38;5;241m.\u001b[39mresults \u001b[38;5;241m=\u001b[39m \u001b[43mbatch\u001b[49m\u001b[43m(\u001b[49m\u001b[43m)\u001b[49m\n",
      "File \u001b[0;32m~/MyCode/Git/Portfolio/Kaggle/Playground_07_03/env/lib/python3.10/site-packages/joblib/parallel.py:288\u001b[0m, in \u001b[0;36mBatchedCalls.__call__\u001b[0;34m(self)\u001b[0m\n\u001b[1;32m    284\u001b[0m \u001b[38;5;28;01mdef\u001b[39;00m \u001b[38;5;21m__call__\u001b[39m(\u001b[38;5;28mself\u001b[39m):\n\u001b[1;32m    285\u001b[0m     \u001b[38;5;66;03m# Set the default nested backend to self._backend but do not set the\u001b[39;00m\n\u001b[1;32m    286\u001b[0m     \u001b[38;5;66;03m# change the default number of processes to -1\u001b[39;00m\n\u001b[1;32m    287\u001b[0m     \u001b[38;5;28;01mwith\u001b[39;00m parallel_backend(\u001b[38;5;28mself\u001b[39m\u001b[38;5;241m.\u001b[39m_backend, n_jobs\u001b[38;5;241m=\u001b[39m\u001b[38;5;28mself\u001b[39m\u001b[38;5;241m.\u001b[39m_n_jobs):\n\u001b[0;32m--> 288\u001b[0m         \u001b[38;5;28;01mreturn\u001b[39;00m [func(\u001b[38;5;241m*\u001b[39margs, \u001b[38;5;241m*\u001b[39m\u001b[38;5;241m*\u001b[39mkwargs)\n\u001b[1;32m    289\u001b[0m                 \u001b[38;5;28;01mfor\u001b[39;00m func, args, kwargs \u001b[38;5;129;01min\u001b[39;00m \u001b[38;5;28mself\u001b[39m\u001b[38;5;241m.\u001b[39mitems]\n",
      "File \u001b[0;32m~/MyCode/Git/Portfolio/Kaggle/Playground_07_03/env/lib/python3.10/site-packages/joblib/parallel.py:288\u001b[0m, in \u001b[0;36m<listcomp>\u001b[0;34m(.0)\u001b[0m\n\u001b[1;32m    284\u001b[0m \u001b[38;5;28;01mdef\u001b[39;00m \u001b[38;5;21m__call__\u001b[39m(\u001b[38;5;28mself\u001b[39m):\n\u001b[1;32m    285\u001b[0m     \u001b[38;5;66;03m# Set the default nested backend to self._backend but do not set the\u001b[39;00m\n\u001b[1;32m    286\u001b[0m     \u001b[38;5;66;03m# change the default number of processes to -1\u001b[39;00m\n\u001b[1;32m    287\u001b[0m     \u001b[38;5;28;01mwith\u001b[39;00m parallel_backend(\u001b[38;5;28mself\u001b[39m\u001b[38;5;241m.\u001b[39m_backend, n_jobs\u001b[38;5;241m=\u001b[39m\u001b[38;5;28mself\u001b[39m\u001b[38;5;241m.\u001b[39m_n_jobs):\n\u001b[0;32m--> 288\u001b[0m         \u001b[38;5;28;01mreturn\u001b[39;00m [\u001b[43mfunc\u001b[49m\u001b[43m(\u001b[49m\u001b[38;5;241;43m*\u001b[39;49m\u001b[43margs\u001b[49m\u001b[43m,\u001b[49m\u001b[43m \u001b[49m\u001b[38;5;241;43m*\u001b[39;49m\u001b[38;5;241;43m*\u001b[39;49m\u001b[43mkwargs\u001b[49m\u001b[43m)\u001b[49m\n\u001b[1;32m    289\u001b[0m                 \u001b[38;5;28;01mfor\u001b[39;00m func, args, kwargs \u001b[38;5;129;01min\u001b[39;00m \u001b[38;5;28mself\u001b[39m\u001b[38;5;241m.\u001b[39mitems]\n",
      "File \u001b[0;32m~/MyCode/Git/Portfolio/Kaggle/Playground_07_03/env/lib/python3.10/site-packages/sklearn/utils/fixes.py:216\u001b[0m, in \u001b[0;36m_FuncWrapper.__call__\u001b[0;34m(self, *args, **kwargs)\u001b[0m\n\u001b[1;32m    214\u001b[0m \u001b[38;5;28;01mdef\u001b[39;00m \u001b[38;5;21m__call__\u001b[39m(\u001b[38;5;28mself\u001b[39m, \u001b[38;5;241m*\u001b[39margs, \u001b[38;5;241m*\u001b[39m\u001b[38;5;241m*\u001b[39mkwargs):\n\u001b[1;32m    215\u001b[0m     \u001b[38;5;28;01mwith\u001b[39;00m config_context(\u001b[38;5;241m*\u001b[39m\u001b[38;5;241m*\u001b[39m\u001b[38;5;28mself\u001b[39m\u001b[38;5;241m.\u001b[39mconfig):\n\u001b[0;32m--> 216\u001b[0m         \u001b[38;5;28;01mreturn\u001b[39;00m \u001b[38;5;28;43mself\u001b[39;49m\u001b[38;5;241;43m.\u001b[39;49m\u001b[43mfunction\u001b[49m\u001b[43m(\u001b[49m\u001b[38;5;241;43m*\u001b[39;49m\u001b[43margs\u001b[49m\u001b[43m,\u001b[49m\u001b[43m \u001b[49m\u001b[38;5;241;43m*\u001b[39;49m\u001b[38;5;241;43m*\u001b[39;49m\u001b[43mkwargs\u001b[49m\u001b[43m)\u001b[49m\n",
      "File \u001b[0;32m~/MyCode/Git/Portfolio/Kaggle/Playground_07_03/env/lib/python3.10/site-packages/sklearn/model_selection/_validation.py:680\u001b[0m, in \u001b[0;36m_fit_and_score\u001b[0;34m(estimator, X, y, scorer, train, test, verbose, parameters, fit_params, return_train_score, return_parameters, return_n_test_samples, return_times, return_estimator, split_progress, candidate_progress, error_score)\u001b[0m\n\u001b[1;32m    678\u001b[0m         estimator\u001b[38;5;241m.\u001b[39mfit(X_train, \u001b[38;5;241m*\u001b[39m\u001b[38;5;241m*\u001b[39mfit_params)\n\u001b[1;32m    679\u001b[0m     \u001b[38;5;28;01melse\u001b[39;00m:\n\u001b[0;32m--> 680\u001b[0m         \u001b[43mestimator\u001b[49m\u001b[38;5;241;43m.\u001b[39;49m\u001b[43mfit\u001b[49m\u001b[43m(\u001b[49m\u001b[43mX_train\u001b[49m\u001b[43m,\u001b[49m\u001b[43m \u001b[49m\u001b[43my_train\u001b[49m\u001b[43m,\u001b[49m\u001b[43m \u001b[49m\u001b[38;5;241;43m*\u001b[39;49m\u001b[38;5;241;43m*\u001b[39;49m\u001b[43mfit_params\u001b[49m\u001b[43m)\u001b[49m\n\u001b[1;32m    682\u001b[0m \u001b[38;5;28;01mexcept\u001b[39;00m \u001b[38;5;167;01mException\u001b[39;00m:\n\u001b[1;32m    683\u001b[0m     \u001b[38;5;66;03m# Note fit time as time until error\u001b[39;00m\n\u001b[1;32m    684\u001b[0m     fit_time \u001b[38;5;241m=\u001b[39m time\u001b[38;5;241m.\u001b[39mtime() \u001b[38;5;241m-\u001b[39m start_time\n",
      "File \u001b[0;32m~/MyCode/Git/Portfolio/Kaggle/Playground_07_03/env/lib/python3.10/site-packages/sklearn/ensemble/_stacking.py:488\u001b[0m, in \u001b[0;36mStackingClassifier.fit\u001b[0;34m(self, X, y, sample_weight)\u001b[0m\n\u001b[1;32m    486\u001b[0m \u001b[38;5;28mself\u001b[39m\u001b[38;5;241m.\u001b[39m_le \u001b[38;5;241m=\u001b[39m LabelEncoder()\u001b[38;5;241m.\u001b[39mfit(y)\n\u001b[1;32m    487\u001b[0m \u001b[38;5;28mself\u001b[39m\u001b[38;5;241m.\u001b[39mclasses_ \u001b[38;5;241m=\u001b[39m \u001b[38;5;28mself\u001b[39m\u001b[38;5;241m.\u001b[39m_le\u001b[38;5;241m.\u001b[39mclasses_\n\u001b[0;32m--> 488\u001b[0m \u001b[38;5;28;01mreturn\u001b[39;00m \u001b[38;5;28;43msuper\u001b[39;49m\u001b[43m(\u001b[49m\u001b[43m)\u001b[49m\u001b[38;5;241;43m.\u001b[39;49m\u001b[43mfit\u001b[49m\u001b[43m(\u001b[49m\u001b[43mX\u001b[49m\u001b[43m,\u001b[49m\u001b[43m \u001b[49m\u001b[38;5;28;43mself\u001b[39;49m\u001b[38;5;241;43m.\u001b[39;49m\u001b[43m_le\u001b[49m\u001b[38;5;241;43m.\u001b[39;49m\u001b[43mtransform\u001b[49m\u001b[43m(\u001b[49m\u001b[43my\u001b[49m\u001b[43m)\u001b[49m\u001b[43m,\u001b[49m\u001b[43m \u001b[49m\u001b[43msample_weight\u001b[49m\u001b[43m)\u001b[49m\n",
      "File \u001b[0;32m~/MyCode/Git/Portfolio/Kaggle/Playground_07_03/env/lib/python3.10/site-packages/sklearn/ensemble/_stacking.py:158\u001b[0m, in \u001b[0;36m_BaseStacking.fit\u001b[0;34m(self, X, y, sample_weight)\u001b[0m\n\u001b[1;32m    153\u001b[0m stack_method \u001b[38;5;241m=\u001b[39m [\u001b[38;5;28mself\u001b[39m\u001b[38;5;241m.\u001b[39mstack_method] \u001b[38;5;241m*\u001b[39m \u001b[38;5;28mlen\u001b[39m(all_estimators)\n\u001b[1;32m    155\u001b[0m \u001b[38;5;66;03m# Fit the base estimators on the whole training data. Those\u001b[39;00m\n\u001b[1;32m    156\u001b[0m \u001b[38;5;66;03m# base estimators will be used in transform, predict, and\u001b[39;00m\n\u001b[1;32m    157\u001b[0m \u001b[38;5;66;03m# predict_proba. They are exposed publicly.\u001b[39;00m\n\u001b[0;32m--> 158\u001b[0m \u001b[38;5;28mself\u001b[39m\u001b[38;5;241m.\u001b[39mestimators_ \u001b[38;5;241m=\u001b[39m \u001b[43mParallel\u001b[49m\u001b[43m(\u001b[49m\u001b[43mn_jobs\u001b[49m\u001b[38;5;241;43m=\u001b[39;49m\u001b[38;5;28;43mself\u001b[39;49m\u001b[38;5;241;43m.\u001b[39;49m\u001b[43mn_jobs\u001b[49m\u001b[43m)\u001b[49m\u001b[43m(\u001b[49m\n\u001b[1;32m    159\u001b[0m \u001b[43m    \u001b[49m\u001b[43mdelayed\u001b[49m\u001b[43m(\u001b[49m\u001b[43m_fit_single_estimator\u001b[49m\u001b[43m)\u001b[49m\u001b[43m(\u001b[49m\u001b[43mclone\u001b[49m\u001b[43m(\u001b[49m\u001b[43mest\u001b[49m\u001b[43m)\u001b[49m\u001b[43m,\u001b[49m\u001b[43m \u001b[49m\u001b[43mX\u001b[49m\u001b[43m,\u001b[49m\u001b[43m \u001b[49m\u001b[43my\u001b[49m\u001b[43m,\u001b[49m\u001b[43m \u001b[49m\u001b[43msample_weight\u001b[49m\u001b[43m)\u001b[49m\n\u001b[1;32m    160\u001b[0m \u001b[43m    \u001b[49m\u001b[38;5;28;43;01mfor\u001b[39;49;00m\u001b[43m \u001b[49m\u001b[43mest\u001b[49m\u001b[43m \u001b[49m\u001b[38;5;129;43;01min\u001b[39;49;00m\u001b[43m \u001b[49m\u001b[43mall_estimators\u001b[49m\n\u001b[1;32m    161\u001b[0m \u001b[43m    \u001b[49m\u001b[38;5;28;43;01mif\u001b[39;49;00m\u001b[43m \u001b[49m\u001b[43mest\u001b[49m\u001b[43m \u001b[49m\u001b[38;5;241;43m!=\u001b[39;49m\u001b[43m \u001b[49m\u001b[38;5;124;43m\"\u001b[39;49m\u001b[38;5;124;43mdrop\u001b[39;49m\u001b[38;5;124;43m\"\u001b[39;49m\n\u001b[1;32m    162\u001b[0m \u001b[43m\u001b[49m\u001b[43m)\u001b[49m\n\u001b[1;32m    164\u001b[0m \u001b[38;5;28mself\u001b[39m\u001b[38;5;241m.\u001b[39mnamed_estimators_ \u001b[38;5;241m=\u001b[39m Bunch()\n\u001b[1;32m    165\u001b[0m est_fitted_idx \u001b[38;5;241m=\u001b[39m \u001b[38;5;241m0\u001b[39m\n",
      "File \u001b[0;32m~/MyCode/Git/Portfolio/Kaggle/Playground_07_03/env/lib/python3.10/site-packages/joblib/parallel.py:1088\u001b[0m, in \u001b[0;36mParallel.__call__\u001b[0;34m(self, iterable)\u001b[0m\n\u001b[1;32m   1085\u001b[0m \u001b[38;5;28;01mif\u001b[39;00m \u001b[38;5;28mself\u001b[39m\u001b[38;5;241m.\u001b[39mdispatch_one_batch(iterator):\n\u001b[1;32m   1086\u001b[0m     \u001b[38;5;28mself\u001b[39m\u001b[38;5;241m.\u001b[39m_iterating \u001b[38;5;241m=\u001b[39m \u001b[38;5;28mself\u001b[39m\u001b[38;5;241m.\u001b[39m_original_iterator \u001b[38;5;129;01mis\u001b[39;00m \u001b[38;5;129;01mnot\u001b[39;00m \u001b[38;5;28;01mNone\u001b[39;00m\n\u001b[0;32m-> 1088\u001b[0m \u001b[38;5;28;01mwhile\u001b[39;00m \u001b[38;5;28;43mself\u001b[39;49m\u001b[38;5;241;43m.\u001b[39;49m\u001b[43mdispatch_one_batch\u001b[49m\u001b[43m(\u001b[49m\u001b[43miterator\u001b[49m\u001b[43m)\u001b[49m:\n\u001b[1;32m   1089\u001b[0m     \u001b[38;5;28;01mpass\u001b[39;00m\n\u001b[1;32m   1091\u001b[0m \u001b[38;5;28;01mif\u001b[39;00m pre_dispatch \u001b[38;5;241m==\u001b[39m \u001b[38;5;124m\"\u001b[39m\u001b[38;5;124mall\u001b[39m\u001b[38;5;124m\"\u001b[39m \u001b[38;5;129;01mor\u001b[39;00m n_jobs \u001b[38;5;241m==\u001b[39m \u001b[38;5;241m1\u001b[39m:\n\u001b[1;32m   1092\u001b[0m     \u001b[38;5;66;03m# The iterable was consumed all at once by the above for loop.\u001b[39;00m\n\u001b[1;32m   1093\u001b[0m     \u001b[38;5;66;03m# No need to wait for async callbacks to trigger to\u001b[39;00m\n\u001b[1;32m   1094\u001b[0m     \u001b[38;5;66;03m# consumption.\u001b[39;00m\n",
      "File \u001b[0;32m~/MyCode/Git/Portfolio/Kaggle/Playground_07_03/env/lib/python3.10/site-packages/joblib/parallel.py:901\u001b[0m, in \u001b[0;36mParallel.dispatch_one_batch\u001b[0;34m(self, iterator)\u001b[0m\n\u001b[1;32m    899\u001b[0m     \u001b[38;5;28;01mreturn\u001b[39;00m \u001b[38;5;28;01mFalse\u001b[39;00m\n\u001b[1;32m    900\u001b[0m \u001b[38;5;28;01melse\u001b[39;00m:\n\u001b[0;32m--> 901\u001b[0m     \u001b[38;5;28;43mself\u001b[39;49m\u001b[38;5;241;43m.\u001b[39;49m\u001b[43m_dispatch\u001b[49m\u001b[43m(\u001b[49m\u001b[43mtasks\u001b[49m\u001b[43m)\u001b[49m\n\u001b[1;32m    902\u001b[0m     \u001b[38;5;28;01mreturn\u001b[39;00m \u001b[38;5;28;01mTrue\u001b[39;00m\n",
      "File \u001b[0;32m~/MyCode/Git/Portfolio/Kaggle/Playground_07_03/env/lib/python3.10/site-packages/joblib/parallel.py:819\u001b[0m, in \u001b[0;36mParallel._dispatch\u001b[0;34m(self, batch)\u001b[0m\n\u001b[1;32m    817\u001b[0m \u001b[38;5;28;01mwith\u001b[39;00m \u001b[38;5;28mself\u001b[39m\u001b[38;5;241m.\u001b[39m_lock:\n\u001b[1;32m    818\u001b[0m     job_idx \u001b[38;5;241m=\u001b[39m \u001b[38;5;28mlen\u001b[39m(\u001b[38;5;28mself\u001b[39m\u001b[38;5;241m.\u001b[39m_jobs)\n\u001b[0;32m--> 819\u001b[0m     job \u001b[38;5;241m=\u001b[39m \u001b[38;5;28;43mself\u001b[39;49m\u001b[38;5;241;43m.\u001b[39;49m\u001b[43m_backend\u001b[49m\u001b[38;5;241;43m.\u001b[39;49m\u001b[43mapply_async\u001b[49m\u001b[43m(\u001b[49m\u001b[43mbatch\u001b[49m\u001b[43m,\u001b[49m\u001b[43m \u001b[49m\u001b[43mcallback\u001b[49m\u001b[38;5;241;43m=\u001b[39;49m\u001b[43mcb\u001b[49m\u001b[43m)\u001b[49m\n\u001b[1;32m    820\u001b[0m     \u001b[38;5;66;03m# A job can complete so quickly than its callback is\u001b[39;00m\n\u001b[1;32m    821\u001b[0m     \u001b[38;5;66;03m# called before we get here, causing self._jobs to\u001b[39;00m\n\u001b[1;32m    822\u001b[0m     \u001b[38;5;66;03m# grow. To ensure correct results ordering, .insert is\u001b[39;00m\n\u001b[1;32m    823\u001b[0m     \u001b[38;5;66;03m# used (rather than .append) in the following line\u001b[39;00m\n\u001b[1;32m    824\u001b[0m     \u001b[38;5;28mself\u001b[39m\u001b[38;5;241m.\u001b[39m_jobs\u001b[38;5;241m.\u001b[39minsert(job_idx, job)\n",
      "File \u001b[0;32m~/MyCode/Git/Portfolio/Kaggle/Playground_07_03/env/lib/python3.10/site-packages/joblib/_parallel_backends.py:208\u001b[0m, in \u001b[0;36mSequentialBackend.apply_async\u001b[0;34m(self, func, callback)\u001b[0m\n\u001b[1;32m    206\u001b[0m \u001b[38;5;28;01mdef\u001b[39;00m \u001b[38;5;21mapply_async\u001b[39m(\u001b[38;5;28mself\u001b[39m, func, callback\u001b[38;5;241m=\u001b[39m\u001b[38;5;28;01mNone\u001b[39;00m):\n\u001b[1;32m    207\u001b[0m     \u001b[38;5;124;03m\"\"\"Schedule a func to be run\"\"\"\u001b[39;00m\n\u001b[0;32m--> 208\u001b[0m     result \u001b[38;5;241m=\u001b[39m \u001b[43mImmediateResult\u001b[49m\u001b[43m(\u001b[49m\u001b[43mfunc\u001b[49m\u001b[43m)\u001b[49m\n\u001b[1;32m    209\u001b[0m     \u001b[38;5;28;01mif\u001b[39;00m callback:\n\u001b[1;32m    210\u001b[0m         callback(result)\n",
      "File \u001b[0;32m~/MyCode/Git/Portfolio/Kaggle/Playground_07_03/env/lib/python3.10/site-packages/joblib/_parallel_backends.py:597\u001b[0m, in \u001b[0;36mImmediateResult.__init__\u001b[0;34m(self, batch)\u001b[0m\n\u001b[1;32m    594\u001b[0m \u001b[38;5;28;01mdef\u001b[39;00m \u001b[38;5;21m__init__\u001b[39m(\u001b[38;5;28mself\u001b[39m, batch):\n\u001b[1;32m    595\u001b[0m     \u001b[38;5;66;03m# Don't delay the application, to avoid keeping the input\u001b[39;00m\n\u001b[1;32m    596\u001b[0m     \u001b[38;5;66;03m# arguments in memory\u001b[39;00m\n\u001b[0;32m--> 597\u001b[0m     \u001b[38;5;28mself\u001b[39m\u001b[38;5;241m.\u001b[39mresults \u001b[38;5;241m=\u001b[39m \u001b[43mbatch\u001b[49m\u001b[43m(\u001b[49m\u001b[43m)\u001b[49m\n",
      "File \u001b[0;32m~/MyCode/Git/Portfolio/Kaggle/Playground_07_03/env/lib/python3.10/site-packages/joblib/parallel.py:288\u001b[0m, in \u001b[0;36mBatchedCalls.__call__\u001b[0;34m(self)\u001b[0m\n\u001b[1;32m    284\u001b[0m \u001b[38;5;28;01mdef\u001b[39;00m \u001b[38;5;21m__call__\u001b[39m(\u001b[38;5;28mself\u001b[39m):\n\u001b[1;32m    285\u001b[0m     \u001b[38;5;66;03m# Set the default nested backend to self._backend but do not set the\u001b[39;00m\n\u001b[1;32m    286\u001b[0m     \u001b[38;5;66;03m# change the default number of processes to -1\u001b[39;00m\n\u001b[1;32m    287\u001b[0m     \u001b[38;5;28;01mwith\u001b[39;00m parallel_backend(\u001b[38;5;28mself\u001b[39m\u001b[38;5;241m.\u001b[39m_backend, n_jobs\u001b[38;5;241m=\u001b[39m\u001b[38;5;28mself\u001b[39m\u001b[38;5;241m.\u001b[39m_n_jobs):\n\u001b[0;32m--> 288\u001b[0m         \u001b[38;5;28;01mreturn\u001b[39;00m [func(\u001b[38;5;241m*\u001b[39margs, \u001b[38;5;241m*\u001b[39m\u001b[38;5;241m*\u001b[39mkwargs)\n\u001b[1;32m    289\u001b[0m                 \u001b[38;5;28;01mfor\u001b[39;00m func, args, kwargs \u001b[38;5;129;01min\u001b[39;00m \u001b[38;5;28mself\u001b[39m\u001b[38;5;241m.\u001b[39mitems]\n",
      "File \u001b[0;32m~/MyCode/Git/Portfolio/Kaggle/Playground_07_03/env/lib/python3.10/site-packages/joblib/parallel.py:288\u001b[0m, in \u001b[0;36m<listcomp>\u001b[0;34m(.0)\u001b[0m\n\u001b[1;32m    284\u001b[0m \u001b[38;5;28;01mdef\u001b[39;00m \u001b[38;5;21m__call__\u001b[39m(\u001b[38;5;28mself\u001b[39m):\n\u001b[1;32m    285\u001b[0m     \u001b[38;5;66;03m# Set the default nested backend to self._backend but do not set the\u001b[39;00m\n\u001b[1;32m    286\u001b[0m     \u001b[38;5;66;03m# change the default number of processes to -1\u001b[39;00m\n\u001b[1;32m    287\u001b[0m     \u001b[38;5;28;01mwith\u001b[39;00m parallel_backend(\u001b[38;5;28mself\u001b[39m\u001b[38;5;241m.\u001b[39m_backend, n_jobs\u001b[38;5;241m=\u001b[39m\u001b[38;5;28mself\u001b[39m\u001b[38;5;241m.\u001b[39m_n_jobs):\n\u001b[0;32m--> 288\u001b[0m         \u001b[38;5;28;01mreturn\u001b[39;00m [\u001b[43mfunc\u001b[49m\u001b[43m(\u001b[49m\u001b[38;5;241;43m*\u001b[39;49m\u001b[43margs\u001b[49m\u001b[43m,\u001b[49m\u001b[43m \u001b[49m\u001b[38;5;241;43m*\u001b[39;49m\u001b[38;5;241;43m*\u001b[39;49m\u001b[43mkwargs\u001b[49m\u001b[43m)\u001b[49m\n\u001b[1;32m    289\u001b[0m                 \u001b[38;5;28;01mfor\u001b[39;00m func, args, kwargs \u001b[38;5;129;01min\u001b[39;00m \u001b[38;5;28mself\u001b[39m\u001b[38;5;241m.\u001b[39mitems]\n",
      "File \u001b[0;32m~/MyCode/Git/Portfolio/Kaggle/Playground_07_03/env/lib/python3.10/site-packages/sklearn/utils/fixes.py:216\u001b[0m, in \u001b[0;36m_FuncWrapper.__call__\u001b[0;34m(self, *args, **kwargs)\u001b[0m\n\u001b[1;32m    214\u001b[0m \u001b[38;5;28;01mdef\u001b[39;00m \u001b[38;5;21m__call__\u001b[39m(\u001b[38;5;28mself\u001b[39m, \u001b[38;5;241m*\u001b[39margs, \u001b[38;5;241m*\u001b[39m\u001b[38;5;241m*\u001b[39mkwargs):\n\u001b[1;32m    215\u001b[0m     \u001b[38;5;28;01mwith\u001b[39;00m config_context(\u001b[38;5;241m*\u001b[39m\u001b[38;5;241m*\u001b[39m\u001b[38;5;28mself\u001b[39m\u001b[38;5;241m.\u001b[39mconfig):\n\u001b[0;32m--> 216\u001b[0m         \u001b[38;5;28;01mreturn\u001b[39;00m \u001b[38;5;28;43mself\u001b[39;49m\u001b[38;5;241;43m.\u001b[39;49m\u001b[43mfunction\u001b[49m\u001b[43m(\u001b[49m\u001b[38;5;241;43m*\u001b[39;49m\u001b[43margs\u001b[49m\u001b[43m,\u001b[49m\u001b[43m \u001b[49m\u001b[38;5;241;43m*\u001b[39;49m\u001b[38;5;241;43m*\u001b[39;49m\u001b[43mkwargs\u001b[49m\u001b[43m)\u001b[49m\n",
      "File \u001b[0;32m~/MyCode/Git/Portfolio/Kaggle/Playground_07_03/env/lib/python3.10/site-packages/sklearn/ensemble/_base.py:42\u001b[0m, in \u001b[0;36m_fit_single_estimator\u001b[0;34m(estimator, X, y, sample_weight, message_clsname, message)\u001b[0m\n\u001b[1;32m     40\u001b[0m \u001b[38;5;28;01melse\u001b[39;00m:\n\u001b[1;32m     41\u001b[0m     \u001b[38;5;28;01mwith\u001b[39;00m _print_elapsed_time(message_clsname, message):\n\u001b[0;32m---> 42\u001b[0m         \u001b[43mestimator\u001b[49m\u001b[38;5;241;43m.\u001b[39;49m\u001b[43mfit\u001b[49m\u001b[43m(\u001b[49m\u001b[43mX\u001b[49m\u001b[43m,\u001b[49m\u001b[43m \u001b[49m\u001b[43my\u001b[49m\u001b[43m)\u001b[49m\n\u001b[1;32m     43\u001b[0m \u001b[38;5;28;01mreturn\u001b[39;00m estimator\n",
      "File \u001b[0;32m~/MyCode/Git/Portfolio/Kaggle/Playground_07_03/env/lib/python3.10/site-packages/sklearn/ensemble/_weight_boosting.py:486\u001b[0m, in \u001b[0;36mAdaBoostClassifier.fit\u001b[0;34m(self, X, y, sample_weight)\u001b[0m\n\u001b[1;32m    483\u001b[0m     \u001b[38;5;28;01mraise\u001b[39;00m \u001b[38;5;167;01mValueError\u001b[39;00m(\u001b[38;5;124m\"\u001b[39m\u001b[38;5;124malgorithm \u001b[39m\u001b[38;5;132;01m%s\u001b[39;00m\u001b[38;5;124m is not supported\u001b[39m\u001b[38;5;124m\"\u001b[39m \u001b[38;5;241m%\u001b[39m \u001b[38;5;28mself\u001b[39m\u001b[38;5;241m.\u001b[39malgorithm)\n\u001b[1;32m    485\u001b[0m \u001b[38;5;66;03m# Fit\u001b[39;00m\n\u001b[0;32m--> 486\u001b[0m \u001b[38;5;28;01mreturn\u001b[39;00m \u001b[38;5;28;43msuper\u001b[39;49m\u001b[43m(\u001b[49m\u001b[43m)\u001b[49m\u001b[38;5;241;43m.\u001b[39;49m\u001b[43mfit\u001b[49m\u001b[43m(\u001b[49m\u001b[43mX\u001b[49m\u001b[43m,\u001b[49m\u001b[43m \u001b[49m\u001b[43my\u001b[49m\u001b[43m,\u001b[49m\u001b[43m \u001b[49m\u001b[43msample_weight\u001b[49m\u001b[43m)\u001b[49m\n",
      "File \u001b[0;32m~/MyCode/Git/Portfolio/Kaggle/Playground_07_03/env/lib/python3.10/site-packages/sklearn/ensemble/_weight_boosting.py:145\u001b[0m, in \u001b[0;36mBaseWeightBoosting.fit\u001b[0;34m(self, X, y, sample_weight)\u001b[0m\n\u001b[1;32m    141\u001b[0m random_state \u001b[38;5;241m=\u001b[39m check_random_state(\u001b[38;5;28mself\u001b[39m\u001b[38;5;241m.\u001b[39mrandom_state)\n\u001b[1;32m    143\u001b[0m \u001b[38;5;28;01mfor\u001b[39;00m iboost \u001b[38;5;129;01min\u001b[39;00m \u001b[38;5;28mrange\u001b[39m(\u001b[38;5;28mself\u001b[39m\u001b[38;5;241m.\u001b[39mn_estimators):\n\u001b[1;32m    144\u001b[0m     \u001b[38;5;66;03m# Boosting step\u001b[39;00m\n\u001b[0;32m--> 145\u001b[0m     sample_weight, estimator_weight, estimator_error \u001b[38;5;241m=\u001b[39m \u001b[38;5;28;43mself\u001b[39;49m\u001b[38;5;241;43m.\u001b[39;49m\u001b[43m_boost\u001b[49m\u001b[43m(\u001b[49m\n\u001b[1;32m    146\u001b[0m \u001b[43m        \u001b[49m\u001b[43miboost\u001b[49m\u001b[43m,\u001b[49m\u001b[43m \u001b[49m\u001b[43mX\u001b[49m\u001b[43m,\u001b[49m\u001b[43m \u001b[49m\u001b[43my\u001b[49m\u001b[43m,\u001b[49m\u001b[43m \u001b[49m\u001b[43msample_weight\u001b[49m\u001b[43m,\u001b[49m\u001b[43m \u001b[49m\u001b[43mrandom_state\u001b[49m\n\u001b[1;32m    147\u001b[0m \u001b[43m    \u001b[49m\u001b[43m)\u001b[49m\n\u001b[1;32m    149\u001b[0m     \u001b[38;5;66;03m# Early termination\u001b[39;00m\n\u001b[1;32m    150\u001b[0m     \u001b[38;5;28;01mif\u001b[39;00m sample_weight \u001b[38;5;129;01mis\u001b[39;00m \u001b[38;5;28;01mNone\u001b[39;00m:\n",
      "File \u001b[0;32m~/MyCode/Git/Portfolio/Kaggle/Playground_07_03/env/lib/python3.10/site-packages/sklearn/ensemble/_weight_boosting.py:548\u001b[0m, in \u001b[0;36mAdaBoostClassifier._boost\u001b[0;34m(self, iboost, X, y, sample_weight, random_state)\u001b[0m\n\u001b[1;32m    509\u001b[0m \u001b[38;5;124;03m\"\"\"Implement a single boost.\u001b[39;00m\n\u001b[1;32m    510\u001b[0m \n\u001b[1;32m    511\u001b[0m \u001b[38;5;124;03mPerform a single boost according to the real multi-class SAMME.R\u001b[39;00m\n\u001b[0;32m   (...)\u001b[0m\n\u001b[1;32m    545\u001b[0m \u001b[38;5;124;03m    If None then boosting has terminated early.\u001b[39;00m\n\u001b[1;32m    546\u001b[0m \u001b[38;5;124;03m\"\"\"\u001b[39;00m\n\u001b[1;32m    547\u001b[0m \u001b[38;5;28;01mif\u001b[39;00m \u001b[38;5;28mself\u001b[39m\u001b[38;5;241m.\u001b[39malgorithm \u001b[38;5;241m==\u001b[39m \u001b[38;5;124m\"\u001b[39m\u001b[38;5;124mSAMME.R\u001b[39m\u001b[38;5;124m\"\u001b[39m:\n\u001b[0;32m--> 548\u001b[0m     \u001b[38;5;28;01mreturn\u001b[39;00m \u001b[38;5;28;43mself\u001b[39;49m\u001b[38;5;241;43m.\u001b[39;49m\u001b[43m_boost_real\u001b[49m\u001b[43m(\u001b[49m\u001b[43miboost\u001b[49m\u001b[43m,\u001b[49m\u001b[43m \u001b[49m\u001b[43mX\u001b[49m\u001b[43m,\u001b[49m\u001b[43m \u001b[49m\u001b[43my\u001b[49m\u001b[43m,\u001b[49m\u001b[43m \u001b[49m\u001b[43msample_weight\u001b[49m\u001b[43m,\u001b[49m\u001b[43m \u001b[49m\u001b[43mrandom_state\u001b[49m\u001b[43m)\u001b[49m\n\u001b[1;32m    550\u001b[0m \u001b[38;5;28;01melse\u001b[39;00m:  \u001b[38;5;66;03m# elif self.algorithm == \"SAMME\":\u001b[39;00m\n\u001b[1;32m    551\u001b[0m     \u001b[38;5;28;01mreturn\u001b[39;00m \u001b[38;5;28mself\u001b[39m\u001b[38;5;241m.\u001b[39m_boost_discrete(iboost, X, y, sample_weight, random_state)\n",
      "File \u001b[0;32m~/MyCode/Git/Portfolio/Kaggle/Playground_07_03/env/lib/python3.10/site-packages/sklearn/ensemble/_weight_boosting.py:600\u001b[0m, in \u001b[0;36mAdaBoostClassifier._boost_real\u001b[0;34m(self, iboost, X, y, sample_weight, random_state)\u001b[0m\n\u001b[1;32m    593\u001b[0m np\u001b[38;5;241m.\u001b[39mclip(proba, np\u001b[38;5;241m.\u001b[39mfinfo(proba\u001b[38;5;241m.\u001b[39mdtype)\u001b[38;5;241m.\u001b[39meps, \u001b[38;5;28;01mNone\u001b[39;00m, out\u001b[38;5;241m=\u001b[39mproba)\n\u001b[1;32m    595\u001b[0m \u001b[38;5;66;03m# Boost weight using multi-class AdaBoost SAMME.R alg\u001b[39;00m\n\u001b[1;32m    596\u001b[0m estimator_weight \u001b[38;5;241m=\u001b[39m (\n\u001b[1;32m    597\u001b[0m     \u001b[38;5;241m-\u001b[39m\u001b[38;5;241m1.0\u001b[39m\n\u001b[1;32m    598\u001b[0m     \u001b[38;5;241m*\u001b[39m \u001b[38;5;28mself\u001b[39m\u001b[38;5;241m.\u001b[39mlearning_rate\n\u001b[1;32m    599\u001b[0m     \u001b[38;5;241m*\u001b[39m ((n_classes \u001b[38;5;241m-\u001b[39m \u001b[38;5;241m1.0\u001b[39m) \u001b[38;5;241m/\u001b[39m n_classes)\n\u001b[0;32m--> 600\u001b[0m     \u001b[38;5;241m*\u001b[39m \u001b[43mxlogy\u001b[49m\u001b[43m(\u001b[49m\u001b[43my_coding\u001b[49m\u001b[43m,\u001b[49m\u001b[43m \u001b[49m\u001b[43my_predict_proba\u001b[49m\u001b[43m)\u001b[49m\u001b[38;5;241m.\u001b[39msum(axis\u001b[38;5;241m=\u001b[39m\u001b[38;5;241m1\u001b[39m)\n\u001b[1;32m    601\u001b[0m )\n\u001b[1;32m    603\u001b[0m \u001b[38;5;66;03m# Only boost the weights if it will fit again\u001b[39;00m\n\u001b[1;32m    604\u001b[0m \u001b[38;5;28;01mif\u001b[39;00m \u001b[38;5;129;01mnot\u001b[39;00m iboost \u001b[38;5;241m==\u001b[39m \u001b[38;5;28mself\u001b[39m\u001b[38;5;241m.\u001b[39mn_estimators \u001b[38;5;241m-\u001b[39m \u001b[38;5;241m1\u001b[39m:\n\u001b[1;32m    605\u001b[0m     \u001b[38;5;66;03m# Only boost positive weights\u001b[39;00m\n",
      "\u001b[0;31mKeyboardInterrupt\u001b[0m: "
     ]
    }
   ],
   "source": [
    "%%time\n",
    "%%chime\n",
    "model_3.fit(X_train, y_train)"
   ]
  },
  {
   "cell_type": "markdown",
   "id": "3effb1b6",
   "metadata": {},
   "source": [
    "# Interrupted as it took too long to train"
   ]
  },
  {
   "cell_type": "code",
   "execution_count": 44,
   "id": "2076ea30",
   "metadata": {
    "scrolled": true
   },
   "outputs": [
    {
     "data": {
      "text/plain": [
       "{'final_estimator__learning_rate': 0.1,\n",
       " 'final_estimator__max_depth': 2,\n",
       " 'final_estimator__n_estimators': 70,\n",
       " 'final_estimator__reg_alpha': 0.1,\n",
       " 'final_estimator__reg_lambda': 0.1}"
      ]
     },
     "execution_count": 44,
     "metadata": {},
     "output_type": "execute_result"
    }
   ],
   "source": [
    "model_3.best_params_"
   ]
  },
  {
   "cell_type": "code",
   "execution_count": 45,
   "id": "b960fa3d",
   "metadata": {},
   "outputs": [
    {
     "data": {
      "text/plain": [
       "0.9521756314451568"
      ]
     },
     "execution_count": 45,
     "metadata": {},
     "output_type": "execute_result"
    }
   ],
   "source": [
    "model_3.best_score_"
   ]
  },
  {
   "cell_type": "code",
   "execution_count": 46,
   "id": "99c795ae",
   "metadata": {
    "scrolled": false
   },
   "outputs": [
    {
     "data": {
      "text/plain": [
       "count    24.000000\n",
       "mean      0.951557\n",
       "std       0.000716\n",
       "min       0.949249\n",
       "25%       0.951262\n",
       "50%       0.951865\n",
       "75%       0.952046\n",
       "max       0.952176\n",
       "dtype: float64"
      ]
     },
     "execution_count": 46,
     "metadata": {},
     "output_type": "execute_result"
    }
   ],
   "source": [
    "pd.Series(model_3.cv_results_['mean_test_score']).describe()"
   ]
  },
  {
   "cell_type": "markdown",
   "id": "5d178816",
   "metadata": {},
   "source": [
    "### With KNN"
   ]
  },
  {
   "cell_type": "code",
   "execution_count": 49,
   "id": "18d3f851",
   "metadata": {},
   "outputs": [],
   "source": [
    "stack_4 = StackingClassifier(\n",
    "    estimators = [\n",
    "        ('rf', random_forest),\n",
    "        ('knn', knn),\n",
    "        ('ada', ada)\n",
    "    ],\n",
    "    final_estimator=XGBClassifier(random_state=8,\n",
    "                                 max_leaves=0,\n",
    "                                 n_jobs=-1),\n",
    "    cv=5,\n",
    ")"
   ]
  },
  {
   "cell_type": "markdown",
   "id": "fb2dffac",
   "metadata": {},
   "source": [
    "params = {\n",
    "    'final_estimator__n_estimators': [50, 70, 100],\n",
    "    'final_estimator__max_depth': [2, 4],\n",
    "    'final_estimator__learning_rate': [0.05, 0.1, 0.2],\n",
    "    'final_estimator__reg_alpha': [0.1],\n",
    "    'final_estimator__reg_lambda': [0.1]\n",
    "}"
   ]
  },
  {
   "cell_type": "code",
   "execution_count": 58,
   "id": "9bc03e3a",
   "metadata": {},
   "outputs": [],
   "source": [
    "params = {\n",
    "    'final_estimator__n_estimators': [80, 100, 120, 150, 200],\n",
    "    'final_estimator__max_depth': [2, 3],\n",
    "    'final_estimator__learning_rate': [0.1],\n",
    "    'final_estimator__reg_alpha': [0.1],\n",
    "    'final_estimator__reg_lambda': [0.1]\n",
    "}"
   ]
  },
  {
   "cell_type": "code",
   "execution_count": 59,
   "id": "f899d68b",
   "metadata": {},
   "outputs": [],
   "source": [
    "model_4 = GridSearchCV(estimator=stack_4,\n",
    "                     param_grid=params,\n",
    "                     scoring='roc_auc',\n",
    "                     cv = 5,\n",
    "                    verbose = 3)"
   ]
  },
  {
   "cell_type": "code",
   "execution_count": 60,
   "id": "41172015",
   "metadata": {
    "scrolled": true
   },
   "outputs": [
    {
     "name": "stdout",
     "output_type": "stream",
     "text": [
      "Fitting 5 folds for each of 10 candidates, totalling 50 fits\n",
      "[CV 1/5] END final_estimator__learning_rate=0.1, final_estimator__max_depth=2, final_estimator__n_estimators=80, final_estimator__reg_alpha=0.1, final_estimator__reg_lambda=0.1;, score=0.952 total time=  37.4s\n",
      "[CV 2/5] END final_estimator__learning_rate=0.1, final_estimator__max_depth=2, final_estimator__n_estimators=80, final_estimator__reg_alpha=0.1, final_estimator__reg_lambda=0.1;, score=0.956 total time=  37.2s\n",
      "[CV 3/5] END final_estimator__learning_rate=0.1, final_estimator__max_depth=2, final_estimator__n_estimators=80, final_estimator__reg_alpha=0.1, final_estimator__reg_lambda=0.1;, score=0.952 total time=  37.1s\n",
      "[CV 4/5] END final_estimator__learning_rate=0.1, final_estimator__max_depth=2, final_estimator__n_estimators=80, final_estimator__reg_alpha=0.1, final_estimator__reg_lambda=0.1;, score=0.955 total time=  37.1s\n",
      "[CV 5/5] END final_estimator__learning_rate=0.1, final_estimator__max_depth=2, final_estimator__n_estimators=80, final_estimator__reg_alpha=0.1, final_estimator__reg_lambda=0.1;, score=0.951 total time=  37.3s\n",
      "[CV 1/5] END final_estimator__learning_rate=0.1, final_estimator__max_depth=2, final_estimator__n_estimators=100, final_estimator__reg_alpha=0.1, final_estimator__reg_lambda=0.1;, score=0.952 total time=  37.2s\n",
      "[CV 2/5] END final_estimator__learning_rate=0.1, final_estimator__max_depth=2, final_estimator__n_estimators=100, final_estimator__reg_alpha=0.1, final_estimator__reg_lambda=0.1;, score=0.956 total time=  37.2s\n",
      "[CV 3/5] END final_estimator__learning_rate=0.1, final_estimator__max_depth=2, final_estimator__n_estimators=100, final_estimator__reg_alpha=0.1, final_estimator__reg_lambda=0.1;, score=0.952 total time=  37.3s\n",
      "[CV 4/5] END final_estimator__learning_rate=0.1, final_estimator__max_depth=2, final_estimator__n_estimators=100, final_estimator__reg_alpha=0.1, final_estimator__reg_lambda=0.1;, score=0.955 total time=  37.4s\n",
      "[CV 5/5] END final_estimator__learning_rate=0.1, final_estimator__max_depth=2, final_estimator__n_estimators=100, final_estimator__reg_alpha=0.1, final_estimator__reg_lambda=0.1;, score=0.951 total time=  37.1s\n",
      "[CV 1/5] END final_estimator__learning_rate=0.1, final_estimator__max_depth=2, final_estimator__n_estimators=120, final_estimator__reg_alpha=0.1, final_estimator__reg_lambda=0.1;, score=0.952 total time=  37.1s\n",
      "[CV 2/5] END final_estimator__learning_rate=0.1, final_estimator__max_depth=2, final_estimator__n_estimators=120, final_estimator__reg_alpha=0.1, final_estimator__reg_lambda=0.1;, score=0.956 total time=  37.6s\n",
      "[CV 3/5] END final_estimator__learning_rate=0.1, final_estimator__max_depth=2, final_estimator__n_estimators=120, final_estimator__reg_alpha=0.1, final_estimator__reg_lambda=0.1;, score=0.952 total time=  37.2s\n",
      "[CV 4/5] END final_estimator__learning_rate=0.1, final_estimator__max_depth=2, final_estimator__n_estimators=120, final_estimator__reg_alpha=0.1, final_estimator__reg_lambda=0.1;, score=0.955 total time=  37.3s\n",
      "[CV 5/5] END final_estimator__learning_rate=0.1, final_estimator__max_depth=2, final_estimator__n_estimators=120, final_estimator__reg_alpha=0.1, final_estimator__reg_lambda=0.1;, score=0.951 total time=  37.2s\n",
      "[CV 1/5] END final_estimator__learning_rate=0.1, final_estimator__max_depth=2, final_estimator__n_estimators=150, final_estimator__reg_alpha=0.1, final_estimator__reg_lambda=0.1;, score=0.951 total time=  37.3s\n",
      "[CV 2/5] END final_estimator__learning_rate=0.1, final_estimator__max_depth=2, final_estimator__n_estimators=150, final_estimator__reg_alpha=0.1, final_estimator__reg_lambda=0.1;, score=0.956 total time=  37.2s\n",
      "[CV 3/5] END final_estimator__learning_rate=0.1, final_estimator__max_depth=2, final_estimator__n_estimators=150, final_estimator__reg_alpha=0.1, final_estimator__reg_lambda=0.1;, score=0.952 total time=  37.2s\n",
      "[CV 4/5] END final_estimator__learning_rate=0.1, final_estimator__max_depth=2, final_estimator__n_estimators=150, final_estimator__reg_alpha=0.1, final_estimator__reg_lambda=0.1;, score=0.955 total time=  37.4s\n",
      "[CV 5/5] END final_estimator__learning_rate=0.1, final_estimator__max_depth=2, final_estimator__n_estimators=150, final_estimator__reg_alpha=0.1, final_estimator__reg_lambda=0.1;, score=0.951 total time=  37.3s\n",
      "[CV 1/5] END final_estimator__learning_rate=0.1, final_estimator__max_depth=2, final_estimator__n_estimators=200, final_estimator__reg_alpha=0.1, final_estimator__reg_lambda=0.1;, score=0.951 total time=  37.6s\n",
      "[CV 2/5] END final_estimator__learning_rate=0.1, final_estimator__max_depth=2, final_estimator__n_estimators=200, final_estimator__reg_alpha=0.1, final_estimator__reg_lambda=0.1;, score=0.955 total time=  37.4s\n",
      "[CV 3/5] END final_estimator__learning_rate=0.1, final_estimator__max_depth=2, final_estimator__n_estimators=200, final_estimator__reg_alpha=0.1, final_estimator__reg_lambda=0.1;, score=0.952 total time=  37.3s\n",
      "[CV 4/5] END final_estimator__learning_rate=0.1, final_estimator__max_depth=2, final_estimator__n_estimators=200, final_estimator__reg_alpha=0.1, final_estimator__reg_lambda=0.1;, score=0.955 total time=  37.3s\n",
      "[CV 5/5] END final_estimator__learning_rate=0.1, final_estimator__max_depth=2, final_estimator__n_estimators=200, final_estimator__reg_alpha=0.1, final_estimator__reg_lambda=0.1;, score=0.951 total time=  37.4s\n",
      "[CV 1/5] END final_estimator__learning_rate=0.1, final_estimator__max_depth=3, final_estimator__n_estimators=80, final_estimator__reg_alpha=0.1, final_estimator__reg_lambda=0.1;, score=0.952 total time=  37.3s\n",
      "[CV 2/5] END final_estimator__learning_rate=0.1, final_estimator__max_depth=3, final_estimator__n_estimators=80, final_estimator__reg_alpha=0.1, final_estimator__reg_lambda=0.1;, score=0.956 total time=  37.5s\n",
      "[CV 3/5] END final_estimator__learning_rate=0.1, final_estimator__max_depth=3, final_estimator__n_estimators=80, final_estimator__reg_alpha=0.1, final_estimator__reg_lambda=0.1;, score=0.952 total time=  37.2s\n",
      "[CV 4/5] END final_estimator__learning_rate=0.1, final_estimator__max_depth=3, final_estimator__n_estimators=80, final_estimator__reg_alpha=0.1, final_estimator__reg_lambda=0.1;, score=0.955 total time=  37.4s\n",
      "[CV 5/5] END final_estimator__learning_rate=0.1, final_estimator__max_depth=3, final_estimator__n_estimators=80, final_estimator__reg_alpha=0.1, final_estimator__reg_lambda=0.1;, score=0.951 total time=  37.1s\n",
      "[CV 1/5] END final_estimator__learning_rate=0.1, final_estimator__max_depth=3, final_estimator__n_estimators=100, final_estimator__reg_alpha=0.1, final_estimator__reg_lambda=0.1;, score=0.952 total time=  37.3s\n",
      "[CV 2/5] END final_estimator__learning_rate=0.1, final_estimator__max_depth=3, final_estimator__n_estimators=100, final_estimator__reg_alpha=0.1, final_estimator__reg_lambda=0.1;, score=0.956 total time=  37.3s\n",
      "[CV 3/5] END final_estimator__learning_rate=0.1, final_estimator__max_depth=3, final_estimator__n_estimators=100, final_estimator__reg_alpha=0.1, final_estimator__reg_lambda=0.1;, score=0.952 total time=  37.3s\n",
      "[CV 4/5] END final_estimator__learning_rate=0.1, final_estimator__max_depth=3, final_estimator__n_estimators=100, final_estimator__reg_alpha=0.1, final_estimator__reg_lambda=0.1;, score=0.955 total time=  37.3s\n",
      "[CV 5/5] END final_estimator__learning_rate=0.1, final_estimator__max_depth=3, final_estimator__n_estimators=100, final_estimator__reg_alpha=0.1, final_estimator__reg_lambda=0.1;, score=0.951 total time=  37.0s\n",
      "[CV 1/5] END final_estimator__learning_rate=0.1, final_estimator__max_depth=3, final_estimator__n_estimators=120, final_estimator__reg_alpha=0.1, final_estimator__reg_lambda=0.1;, score=0.951 total time=  38.9s\n",
      "[CV 2/5] END final_estimator__learning_rate=0.1, final_estimator__max_depth=3, final_estimator__n_estimators=120, final_estimator__reg_alpha=0.1, final_estimator__reg_lambda=0.1;, score=0.955 total time=  37.7s\n",
      "[CV 3/5] END final_estimator__learning_rate=0.1, final_estimator__max_depth=3, final_estimator__n_estimators=120, final_estimator__reg_alpha=0.1, final_estimator__reg_lambda=0.1;, score=0.952 total time=  37.3s\n",
      "[CV 4/5] END final_estimator__learning_rate=0.1, final_estimator__max_depth=3, final_estimator__n_estimators=120, final_estimator__reg_alpha=0.1, final_estimator__reg_lambda=0.1;, score=0.955 total time=  37.5s\n"
     ]
    },
    {
     "name": "stdout",
     "output_type": "stream",
     "text": [
      "[CV 5/5] END final_estimator__learning_rate=0.1, final_estimator__max_depth=3, final_estimator__n_estimators=120, final_estimator__reg_alpha=0.1, final_estimator__reg_lambda=0.1;, score=0.951 total time=  37.1s\n",
      "[CV 1/5] END final_estimator__learning_rate=0.1, final_estimator__max_depth=3, final_estimator__n_estimators=150, final_estimator__reg_alpha=0.1, final_estimator__reg_lambda=0.1;, score=0.952 total time=  37.3s\n",
      "[CV 2/5] END final_estimator__learning_rate=0.1, final_estimator__max_depth=3, final_estimator__n_estimators=150, final_estimator__reg_alpha=0.1, final_estimator__reg_lambda=0.1;, score=0.955 total time=  37.2s\n",
      "[CV 3/5] END final_estimator__learning_rate=0.1, final_estimator__max_depth=3, final_estimator__n_estimators=150, final_estimator__reg_alpha=0.1, final_estimator__reg_lambda=0.1;, score=0.952 total time=  37.5s\n",
      "[CV 4/5] END final_estimator__learning_rate=0.1, final_estimator__max_depth=3, final_estimator__n_estimators=150, final_estimator__reg_alpha=0.1, final_estimator__reg_lambda=0.1;, score=0.955 total time=  37.4s\n",
      "[CV 5/5] END final_estimator__learning_rate=0.1, final_estimator__max_depth=3, final_estimator__n_estimators=150, final_estimator__reg_alpha=0.1, final_estimator__reg_lambda=0.1;, score=0.950 total time=  37.2s\n",
      "[CV 1/5] END final_estimator__learning_rate=0.1, final_estimator__max_depth=3, final_estimator__n_estimators=200, final_estimator__reg_alpha=0.1, final_estimator__reg_lambda=0.1;, score=0.951 total time=  37.4s\n",
      "[CV 2/5] END final_estimator__learning_rate=0.1, final_estimator__max_depth=3, final_estimator__n_estimators=200, final_estimator__reg_alpha=0.1, final_estimator__reg_lambda=0.1;, score=0.955 total time=  37.4s\n",
      "[CV 3/5] END final_estimator__learning_rate=0.1, final_estimator__max_depth=3, final_estimator__n_estimators=200, final_estimator__reg_alpha=0.1, final_estimator__reg_lambda=0.1;, score=0.952 total time=  37.3s\n",
      "[CV 4/5] END final_estimator__learning_rate=0.1, final_estimator__max_depth=3, final_estimator__n_estimators=200, final_estimator__reg_alpha=0.1, final_estimator__reg_lambda=0.1;, score=0.955 total time=  37.4s\n",
      "[CV 5/5] END final_estimator__learning_rate=0.1, final_estimator__max_depth=3, final_estimator__n_estimators=200, final_estimator__reg_alpha=0.1, final_estimator__reg_lambda=0.1;, score=0.949 total time=  37.5s\n",
      "CPU times: user 25min 39s, sys: 1min 25s, total: 27min 5s\n",
      "Wall time: 31min 52s\n"
     ]
    }
   ],
   "source": [
    "%%time\n",
    "%%chime\n",
    "model_4.fit(X_train, y_train)"
   ]
  },
  {
   "cell_type": "code",
   "execution_count": 61,
   "id": "95d9bc01",
   "metadata": {
    "scrolled": true
   },
   "outputs": [
    {
     "data": {
      "text/plain": [
       "{'final_estimator__learning_rate': 0.1,\n",
       " 'final_estimator__max_depth': 2,\n",
       " 'final_estimator__n_estimators': 80,\n",
       " 'final_estimator__reg_alpha': 0.1,\n",
       " 'final_estimator__reg_lambda': 0.1}"
      ]
     },
     "execution_count": 61,
     "metadata": {},
     "output_type": "execute_result"
    }
   ],
   "source": [
    "model_4.best_params_"
   ]
  },
  {
   "cell_type": "code",
   "execution_count": 62,
   "id": "d56210fc",
   "metadata": {},
   "outputs": [
    {
     "data": {
      "text/plain": [
       "0.9531706708568304"
      ]
     },
     "execution_count": 62,
     "metadata": {},
     "output_type": "execute_result"
    }
   ],
   "source": [
    "model_4.best_score_"
   ]
  },
  {
   "cell_type": "code",
   "execution_count": 63,
   "id": "32fdd09f",
   "metadata": {
    "scrolled": true
   },
   "outputs": [
    {
     "data": {
      "text/plain": [
       "count    10.000000\n",
       "mean      0.952920\n",
       "std       0.000258\n",
       "min       0.952283\n",
       "25%       0.952868\n",
       "50%       0.952964\n",
       "75%       0.953087\n",
       "max       0.953171\n",
       "dtype: float64"
      ]
     },
     "execution_count": 63,
     "metadata": {},
     "output_type": "execute_result"
    }
   ],
   "source": [
    "pd.Series(model_4.cv_results_['mean_test_score']).describe()"
   ]
  },
  {
   "cell_type": "markdown",
   "id": "36677c0a",
   "metadata": {},
   "source": [
    "### Results so far\n",
    "The best result is achieved when KNN is included in a stacked classifier with XGBoost as the final estimator, although it is computationally expensive. I will try to add logistic regression as well"
   ]
  },
  {
   "cell_type": "markdown",
   "id": "77ba03e4",
   "metadata": {},
   "source": [
    "### With KNN and logistic regression"
   ]
  },
  {
   "cell_type": "code",
   "execution_count": 65,
   "id": "dcbd591b",
   "metadata": {},
   "outputs": [],
   "source": [
    "from sklearn.linear_model import LogisticRegression"
   ]
  },
  {
   "cell_type": "code",
   "execution_count": 66,
   "id": "a7971bca",
   "metadata": {},
   "outputs": [],
   "source": [
    "best_params_lr = {'C': 0.1, 'max_iter': 50, 'penalty': 'l2'}\n",
    "lr = LogisticRegression(class_weight='balanced',\n",
    "                        random_state=8,\n",
    "                        solver='liblinear',\n",
    "                        **best_params_lr)"
   ]
  },
  {
   "cell_type": "code",
   "execution_count": 67,
   "id": "9ac4ab54",
   "metadata": {},
   "outputs": [],
   "source": [
    "stack_5 = StackingClassifier(\n",
    "    estimators = [\n",
    "        ('rf', random_forest),\n",
    "        ('knn', knn),\n",
    "        ('ada', ada),\n",
    "        ('lr', lr)\n",
    "    ],\n",
    "    final_estimator=XGBClassifier(random_state=8,\n",
    "                                 max_leaves=0,\n",
    "                                 n_jobs=-1),\n",
    "    cv=5,\n",
    ")"
   ]
  },
  {
   "cell_type": "code",
   "execution_count": 68,
   "id": "b38e8cb2",
   "metadata": {},
   "outputs": [],
   "source": [
    "params = {\n",
    "    'final_estimator__n_estimators': [50, 80, 100],\n",
    "    'final_estimator__max_depth': [2, 4],\n",
    "    'final_estimator__learning_rate': [0.01, 0.1, 0.5],\n",
    "    'final_estimator__reg_alpha': [0.1],\n",
    "    'final_estimator__reg_lambda': [0.1]\n",
    "}"
   ]
  },
  {
   "cell_type": "code",
   "execution_count": 69,
   "id": "6c74131b",
   "metadata": {},
   "outputs": [],
   "source": [
    "model_5 = GridSearchCV(estimator=stack_5,\n",
    "                     param_grid=params,\n",
    "                     scoring='roc_auc',\n",
    "                     cv = 5,\n",
    "                    verbose = 3)"
   ]
  },
  {
   "cell_type": "code",
   "execution_count": 70,
   "id": "ddb0d5fa",
   "metadata": {
    "scrolled": true
   },
   "outputs": [
    {
     "name": "stdout",
     "output_type": "stream",
     "text": [
      "Fitting 5 folds for each of 18 candidates, totalling 90 fits\n",
      "[CV 1/5] END final_estimator__learning_rate=0.01, final_estimator__max_depth=2, final_estimator__n_estimators=50, final_estimator__reg_alpha=0.1, final_estimator__reg_lambda=0.1;, score=0.947 total time=  39.0s\n",
      "[CV 2/5] END final_estimator__learning_rate=0.01, final_estimator__max_depth=2, final_estimator__n_estimators=50, final_estimator__reg_alpha=0.1, final_estimator__reg_lambda=0.1;, score=0.951 total time=  37.6s\n",
      "[CV 3/5] END final_estimator__learning_rate=0.01, final_estimator__max_depth=2, final_estimator__n_estimators=50, final_estimator__reg_alpha=0.1, final_estimator__reg_lambda=0.1;, score=0.947 total time=  37.3s\n",
      "[CV 4/5] END final_estimator__learning_rate=0.01, final_estimator__max_depth=2, final_estimator__n_estimators=50, final_estimator__reg_alpha=0.1, final_estimator__reg_lambda=0.1;, score=0.949 total time=  37.5s\n",
      "[CV 5/5] END final_estimator__learning_rate=0.01, final_estimator__max_depth=2, final_estimator__n_estimators=50, final_estimator__reg_alpha=0.1, final_estimator__reg_lambda=0.1;, score=0.945 total time=  37.2s\n",
      "[CV 1/5] END final_estimator__learning_rate=0.01, final_estimator__max_depth=2, final_estimator__n_estimators=80, final_estimator__reg_alpha=0.1, final_estimator__reg_lambda=0.1;, score=0.948 total time=  37.6s\n",
      "[CV 2/5] END final_estimator__learning_rate=0.01, final_estimator__max_depth=2, final_estimator__n_estimators=80, final_estimator__reg_alpha=0.1, final_estimator__reg_lambda=0.1;, score=0.952 total time=  37.9s\n",
      "[CV 3/5] END final_estimator__learning_rate=0.01, final_estimator__max_depth=2, final_estimator__n_estimators=80, final_estimator__reg_alpha=0.1, final_estimator__reg_lambda=0.1;, score=0.948 total time=  37.4s\n",
      "[CV 4/5] END final_estimator__learning_rate=0.01, final_estimator__max_depth=2, final_estimator__n_estimators=80, final_estimator__reg_alpha=0.1, final_estimator__reg_lambda=0.1;, score=0.949 total time=  37.5s\n",
      "[CV 5/5] END final_estimator__learning_rate=0.01, final_estimator__max_depth=2, final_estimator__n_estimators=80, final_estimator__reg_alpha=0.1, final_estimator__reg_lambda=0.1;, score=0.948 total time=  37.4s\n",
      "[CV 1/5] END final_estimator__learning_rate=0.01, final_estimator__max_depth=2, final_estimator__n_estimators=100, final_estimator__reg_alpha=0.1, final_estimator__reg_lambda=0.1;, score=0.949 total time=  37.5s\n",
      "[CV 2/5] END final_estimator__learning_rate=0.01, final_estimator__max_depth=2, final_estimator__n_estimators=100, final_estimator__reg_alpha=0.1, final_estimator__reg_lambda=0.1;, score=0.952 total time=  37.4s\n",
      "[CV 3/5] END final_estimator__learning_rate=0.01, final_estimator__max_depth=2, final_estimator__n_estimators=100, final_estimator__reg_alpha=0.1, final_estimator__reg_lambda=0.1;, score=0.948 total time=  37.5s\n",
      "[CV 4/5] END final_estimator__learning_rate=0.01, final_estimator__max_depth=2, final_estimator__n_estimators=100, final_estimator__reg_alpha=0.1, final_estimator__reg_lambda=0.1;, score=0.951 total time=  37.4s\n",
      "[CV 5/5] END final_estimator__learning_rate=0.01, final_estimator__max_depth=2, final_estimator__n_estimators=100, final_estimator__reg_alpha=0.1, final_estimator__reg_lambda=0.1;, score=0.949 total time=  37.3s\n",
      "[CV 1/5] END final_estimator__learning_rate=0.01, final_estimator__max_depth=4, final_estimator__n_estimators=50, final_estimator__reg_alpha=0.1, final_estimator__reg_lambda=0.1;, score=0.952 total time=  37.5s\n",
      "[CV 2/5] END final_estimator__learning_rate=0.01, final_estimator__max_depth=4, final_estimator__n_estimators=50, final_estimator__reg_alpha=0.1, final_estimator__reg_lambda=0.1;, score=0.955 total time=  37.4s\n",
      "[CV 3/5] END final_estimator__learning_rate=0.01, final_estimator__max_depth=4, final_estimator__n_estimators=50, final_estimator__reg_alpha=0.1, final_estimator__reg_lambda=0.1;, score=0.950 total time=  37.5s\n",
      "[CV 4/5] END final_estimator__learning_rate=0.01, final_estimator__max_depth=4, final_estimator__n_estimators=50, final_estimator__reg_alpha=0.1, final_estimator__reg_lambda=0.1;, score=0.954 total time=  37.5s\n",
      "[CV 5/5] END final_estimator__learning_rate=0.01, final_estimator__max_depth=4, final_estimator__n_estimators=50, final_estimator__reg_alpha=0.1, final_estimator__reg_lambda=0.1;, score=0.950 total time=  37.7s\n",
      "[CV 1/5] END final_estimator__learning_rate=0.01, final_estimator__max_depth=4, final_estimator__n_estimators=80, final_estimator__reg_alpha=0.1, final_estimator__reg_lambda=0.1;, score=0.952 total time=  37.6s\n",
      "[CV 2/5] END final_estimator__learning_rate=0.01, final_estimator__max_depth=4, final_estimator__n_estimators=80, final_estimator__reg_alpha=0.1, final_estimator__reg_lambda=0.1;, score=0.955 total time=  37.6s\n",
      "[CV 3/5] END final_estimator__learning_rate=0.01, final_estimator__max_depth=4, final_estimator__n_estimators=80, final_estimator__reg_alpha=0.1, final_estimator__reg_lambda=0.1;, score=0.951 total time=  38.0s\n",
      "[CV 4/5] END final_estimator__learning_rate=0.01, final_estimator__max_depth=4, final_estimator__n_estimators=80, final_estimator__reg_alpha=0.1, final_estimator__reg_lambda=0.1;, score=0.954 total time=  37.8s\n",
      "[CV 5/5] END final_estimator__learning_rate=0.01, final_estimator__max_depth=4, final_estimator__n_estimators=80, final_estimator__reg_alpha=0.1, final_estimator__reg_lambda=0.1;, score=0.950 total time=  37.3s\n",
      "[CV 1/5] END final_estimator__learning_rate=0.01, final_estimator__max_depth=4, final_estimator__n_estimators=100, final_estimator__reg_alpha=0.1, final_estimator__reg_lambda=0.1;, score=0.952 total time=  37.6s\n",
      "[CV 2/5] END final_estimator__learning_rate=0.01, final_estimator__max_depth=4, final_estimator__n_estimators=100, final_estimator__reg_alpha=0.1, final_estimator__reg_lambda=0.1;, score=0.955 total time=  37.8s\n",
      "[CV 3/5] END final_estimator__learning_rate=0.01, final_estimator__max_depth=4, final_estimator__n_estimators=100, final_estimator__reg_alpha=0.1, final_estimator__reg_lambda=0.1;, score=0.951 total time=  37.6s\n",
      "[CV 4/5] END final_estimator__learning_rate=0.01, final_estimator__max_depth=4, final_estimator__n_estimators=100, final_estimator__reg_alpha=0.1, final_estimator__reg_lambda=0.1;, score=0.954 total time=  37.6s\n",
      "[CV 5/5] END final_estimator__learning_rate=0.01, final_estimator__max_depth=4, final_estimator__n_estimators=100, final_estimator__reg_alpha=0.1, final_estimator__reg_lambda=0.1;, score=0.951 total time=  37.9s\n",
      "[CV 1/5] END final_estimator__learning_rate=0.1, final_estimator__max_depth=2, final_estimator__n_estimators=50, final_estimator__reg_alpha=0.1, final_estimator__reg_lambda=0.1;, score=0.952 total time=  37.5s\n",
      "[CV 2/5] END final_estimator__learning_rate=0.1, final_estimator__max_depth=2, final_estimator__n_estimators=50, final_estimator__reg_alpha=0.1, final_estimator__reg_lambda=0.1;, score=0.956 total time=  37.3s\n",
      "[CV 3/5] END final_estimator__learning_rate=0.1, final_estimator__max_depth=2, final_estimator__n_estimators=50, final_estimator__reg_alpha=0.1, final_estimator__reg_lambda=0.1;, score=0.952 total time=  37.3s\n",
      "[CV 4/5] END final_estimator__learning_rate=0.1, final_estimator__max_depth=2, final_estimator__n_estimators=50, final_estimator__reg_alpha=0.1, final_estimator__reg_lambda=0.1;, score=0.955 total time=  37.4s\n",
      "[CV 5/5] END final_estimator__learning_rate=0.1, final_estimator__max_depth=2, final_estimator__n_estimators=50, final_estimator__reg_alpha=0.1, final_estimator__reg_lambda=0.1;, score=0.951 total time=  37.2s\n",
      "[CV 1/5] END final_estimator__learning_rate=0.1, final_estimator__max_depth=2, final_estimator__n_estimators=80, final_estimator__reg_alpha=0.1, final_estimator__reg_lambda=0.1;, score=0.952 total time=  37.3s\n",
      "[CV 2/5] END final_estimator__learning_rate=0.1, final_estimator__max_depth=2, final_estimator__n_estimators=80, final_estimator__reg_alpha=0.1, final_estimator__reg_lambda=0.1;, score=0.956 total time=  37.8s\n",
      "[CV 3/5] END final_estimator__learning_rate=0.1, final_estimator__max_depth=2, final_estimator__n_estimators=80, final_estimator__reg_alpha=0.1, final_estimator__reg_lambda=0.1;, score=0.952 total time=  37.4s\n",
      "[CV 4/5] END final_estimator__learning_rate=0.1, final_estimator__max_depth=2, final_estimator__n_estimators=80, final_estimator__reg_alpha=0.1, final_estimator__reg_lambda=0.1;, score=0.955 total time=  37.5s\n"
     ]
    },
    {
     "name": "stdout",
     "output_type": "stream",
     "text": [
      "[CV 5/5] END final_estimator__learning_rate=0.1, final_estimator__max_depth=2, final_estimator__n_estimators=80, final_estimator__reg_alpha=0.1, final_estimator__reg_lambda=0.1;, score=0.951 total time=  37.5s\n",
      "[CV 1/5] END final_estimator__learning_rate=0.1, final_estimator__max_depth=2, final_estimator__n_estimators=100, final_estimator__reg_alpha=0.1, final_estimator__reg_lambda=0.1;, score=0.952 total time=  37.4s\n",
      "[CV 2/5] END final_estimator__learning_rate=0.1, final_estimator__max_depth=2, final_estimator__n_estimators=100, final_estimator__reg_alpha=0.1, final_estimator__reg_lambda=0.1;, score=0.956 total time=  37.4s\n",
      "[CV 3/5] END final_estimator__learning_rate=0.1, final_estimator__max_depth=2, final_estimator__n_estimators=100, final_estimator__reg_alpha=0.1, final_estimator__reg_lambda=0.1;, score=0.952 total time=  37.5s\n",
      "[CV 4/5] END final_estimator__learning_rate=0.1, final_estimator__max_depth=2, final_estimator__n_estimators=100, final_estimator__reg_alpha=0.1, final_estimator__reg_lambda=0.1;, score=0.955 total time=  37.4s\n",
      "[CV 5/5] END final_estimator__learning_rate=0.1, final_estimator__max_depth=2, final_estimator__n_estimators=100, final_estimator__reg_alpha=0.1, final_estimator__reg_lambda=0.1;, score=0.951 total time=  37.4s\n",
      "[CV 1/5] END final_estimator__learning_rate=0.1, final_estimator__max_depth=4, final_estimator__n_estimators=50, final_estimator__reg_alpha=0.1, final_estimator__reg_lambda=0.1;, score=0.952 total time=  37.3s\n",
      "[CV 2/5] END final_estimator__learning_rate=0.1, final_estimator__max_depth=4, final_estimator__n_estimators=50, final_estimator__reg_alpha=0.1, final_estimator__reg_lambda=0.1;, score=0.956 total time=  37.7s\n",
      "[CV 3/5] END final_estimator__learning_rate=0.1, final_estimator__max_depth=4, final_estimator__n_estimators=50, final_estimator__reg_alpha=0.1, final_estimator__reg_lambda=0.1;, score=0.952 total time=  37.5s\n",
      "[CV 4/5] END final_estimator__learning_rate=0.1, final_estimator__max_depth=4, final_estimator__n_estimators=50, final_estimator__reg_alpha=0.1, final_estimator__reg_lambda=0.1;, score=0.955 total time=  37.6s\n",
      "[CV 5/5] END final_estimator__learning_rate=0.1, final_estimator__max_depth=4, final_estimator__n_estimators=50, final_estimator__reg_alpha=0.1, final_estimator__reg_lambda=0.1;, score=0.951 total time=  37.4s\n",
      "[CV 1/5] END final_estimator__learning_rate=0.1, final_estimator__max_depth=4, final_estimator__n_estimators=80, final_estimator__reg_alpha=0.1, final_estimator__reg_lambda=0.1;, score=0.951 total time=  37.4s\n",
      "[CV 2/5] END final_estimator__learning_rate=0.1, final_estimator__max_depth=4, final_estimator__n_estimators=80, final_estimator__reg_alpha=0.1, final_estimator__reg_lambda=0.1;, score=0.956 total time=  37.4s\n",
      "[CV 3/5] END final_estimator__learning_rate=0.1, final_estimator__max_depth=4, final_estimator__n_estimators=80, final_estimator__reg_alpha=0.1, final_estimator__reg_lambda=0.1;, score=0.952 total time=  37.4s\n",
      "[CV 4/5] END final_estimator__learning_rate=0.1, final_estimator__max_depth=4, final_estimator__n_estimators=80, final_estimator__reg_alpha=0.1, final_estimator__reg_lambda=0.1;, score=0.954 total time=  37.8s\n",
      "[CV 5/5] END final_estimator__learning_rate=0.1, final_estimator__max_depth=4, final_estimator__n_estimators=80, final_estimator__reg_alpha=0.1, final_estimator__reg_lambda=0.1;, score=0.951 total time=  37.5s\n",
      "[CV 1/5] END final_estimator__learning_rate=0.1, final_estimator__max_depth=4, final_estimator__n_estimators=100, final_estimator__reg_alpha=0.1, final_estimator__reg_lambda=0.1;, score=0.951 total time=  37.5s\n",
      "[CV 2/5] END final_estimator__learning_rate=0.1, final_estimator__max_depth=4, final_estimator__n_estimators=100, final_estimator__reg_alpha=0.1, final_estimator__reg_lambda=0.1;, score=0.956 total time=  37.5s\n",
      "[CV 3/5] END final_estimator__learning_rate=0.1, final_estimator__max_depth=4, final_estimator__n_estimators=100, final_estimator__reg_alpha=0.1, final_estimator__reg_lambda=0.1;, score=0.952 total time=  37.4s\n",
      "[CV 4/5] END final_estimator__learning_rate=0.1, final_estimator__max_depth=4, final_estimator__n_estimators=100, final_estimator__reg_alpha=0.1, final_estimator__reg_lambda=0.1;, score=0.954 total time=  37.8s\n",
      "[CV 5/5] END final_estimator__learning_rate=0.1, final_estimator__max_depth=4, final_estimator__n_estimators=100, final_estimator__reg_alpha=0.1, final_estimator__reg_lambda=0.1;, score=0.951 total time=  37.4s\n",
      "[CV 1/5] END final_estimator__learning_rate=0.5, final_estimator__max_depth=2, final_estimator__n_estimators=50, final_estimator__reg_alpha=0.1, final_estimator__reg_lambda=0.1;, score=0.951 total time=  37.6s\n",
      "[CV 2/5] END final_estimator__learning_rate=0.5, final_estimator__max_depth=2, final_estimator__n_estimators=50, final_estimator__reg_alpha=0.1, final_estimator__reg_lambda=0.1;, score=0.955 total time=  37.4s\n",
      "[CV 3/5] END final_estimator__learning_rate=0.5, final_estimator__max_depth=2, final_estimator__n_estimators=50, final_estimator__reg_alpha=0.1, final_estimator__reg_lambda=0.1;, score=0.950 total time=  37.2s\n",
      "[CV 4/5] END final_estimator__learning_rate=0.5, final_estimator__max_depth=2, final_estimator__n_estimators=50, final_estimator__reg_alpha=0.1, final_estimator__reg_lambda=0.1;, score=0.954 total time=  37.6s\n",
      "[CV 5/5] END final_estimator__learning_rate=0.5, final_estimator__max_depth=2, final_estimator__n_estimators=50, final_estimator__reg_alpha=0.1, final_estimator__reg_lambda=0.1;, score=0.949 total time=  37.4s\n",
      "[CV 1/5] END final_estimator__learning_rate=0.5, final_estimator__max_depth=2, final_estimator__n_estimators=80, final_estimator__reg_alpha=0.1, final_estimator__reg_lambda=0.1;, score=0.950 total time=  37.4s\n",
      "[CV 2/5] END final_estimator__learning_rate=0.5, final_estimator__max_depth=2, final_estimator__n_estimators=80, final_estimator__reg_alpha=0.1, final_estimator__reg_lambda=0.1;, score=0.953 total time=  37.3s\n",
      "[CV 3/5] END final_estimator__learning_rate=0.5, final_estimator__max_depth=2, final_estimator__n_estimators=80, final_estimator__reg_alpha=0.1, final_estimator__reg_lambda=0.1;, score=0.950 total time=  37.5s\n",
      "[CV 4/5] END final_estimator__learning_rate=0.5, final_estimator__max_depth=2, final_estimator__n_estimators=80, final_estimator__reg_alpha=0.1, final_estimator__reg_lambda=0.1;, score=0.952 total time=  37.4s\n",
      "[CV 5/5] END final_estimator__learning_rate=0.5, final_estimator__max_depth=2, final_estimator__n_estimators=80, final_estimator__reg_alpha=0.1, final_estimator__reg_lambda=0.1;, score=0.948 total time=  37.5s\n",
      "[CV 1/5] END final_estimator__learning_rate=0.5, final_estimator__max_depth=2, final_estimator__n_estimators=100, final_estimator__reg_alpha=0.1, final_estimator__reg_lambda=0.1;, score=0.949 total time=  37.5s\n",
      "[CV 2/5] END final_estimator__learning_rate=0.5, final_estimator__max_depth=2, final_estimator__n_estimators=100, final_estimator__reg_alpha=0.1, final_estimator__reg_lambda=0.1;, score=0.953 total time=  37.4s\n",
      "[CV 3/5] END final_estimator__learning_rate=0.5, final_estimator__max_depth=2, final_estimator__n_estimators=100, final_estimator__reg_alpha=0.1, final_estimator__reg_lambda=0.1;, score=0.949 total time=  37.3s\n",
      "[CV 4/5] END final_estimator__learning_rate=0.5, final_estimator__max_depth=2, final_estimator__n_estimators=100, final_estimator__reg_alpha=0.1, final_estimator__reg_lambda=0.1;, score=0.952 total time=  37.6s\n",
      "[CV 5/5] END final_estimator__learning_rate=0.5, final_estimator__max_depth=2, final_estimator__n_estimators=100, final_estimator__reg_alpha=0.1, final_estimator__reg_lambda=0.1;, score=0.947 total time=  37.3s\n",
      "[CV 1/5] END final_estimator__learning_rate=0.5, final_estimator__max_depth=4, final_estimator__n_estimators=50, final_estimator__reg_alpha=0.1, final_estimator__reg_lambda=0.1;, score=0.947 total time=  37.4s\n",
      "[CV 2/5] END final_estimator__learning_rate=0.5, final_estimator__max_depth=4, final_estimator__n_estimators=50, final_estimator__reg_alpha=0.1, final_estimator__reg_lambda=0.1;, score=0.951 total time=  37.5s\n",
      "[CV 3/5] END final_estimator__learning_rate=0.5, final_estimator__max_depth=4, final_estimator__n_estimators=50, final_estimator__reg_alpha=0.1, final_estimator__reg_lambda=0.1;, score=0.947 total time=  37.6s\n"
     ]
    },
    {
     "name": "stdout",
     "output_type": "stream",
     "text": [
      "[CV 4/5] END final_estimator__learning_rate=0.5, final_estimator__max_depth=4, final_estimator__n_estimators=50, final_estimator__reg_alpha=0.1, final_estimator__reg_lambda=0.1;, score=0.951 total time=  37.6s\n",
      "[CV 5/5] END final_estimator__learning_rate=0.5, final_estimator__max_depth=4, final_estimator__n_estimators=50, final_estimator__reg_alpha=0.1, final_estimator__reg_lambda=0.1;, score=0.946 total time=  37.4s\n",
      "[CV 1/5] END final_estimator__learning_rate=0.5, final_estimator__max_depth=4, final_estimator__n_estimators=80, final_estimator__reg_alpha=0.1, final_estimator__reg_lambda=0.1;, score=0.944 total time=  37.5s\n",
      "[CV 2/5] END final_estimator__learning_rate=0.5, final_estimator__max_depth=4, final_estimator__n_estimators=80, final_estimator__reg_alpha=0.1, final_estimator__reg_lambda=0.1;, score=0.949 total time=  38.0s\n",
      "[CV 3/5] END final_estimator__learning_rate=0.5, final_estimator__max_depth=4, final_estimator__n_estimators=80, final_estimator__reg_alpha=0.1, final_estimator__reg_lambda=0.1;, score=0.946 total time=  37.5s\n",
      "[CV 4/5] END final_estimator__learning_rate=0.5, final_estimator__max_depth=4, final_estimator__n_estimators=80, final_estimator__reg_alpha=0.1, final_estimator__reg_lambda=0.1;, score=0.949 total time=  37.5s\n",
      "[CV 5/5] END final_estimator__learning_rate=0.5, final_estimator__max_depth=4, final_estimator__n_estimators=80, final_estimator__reg_alpha=0.1, final_estimator__reg_lambda=0.1;, score=0.944 total time=  37.6s\n",
      "[CV 1/5] END final_estimator__learning_rate=0.5, final_estimator__max_depth=4, final_estimator__n_estimators=100, final_estimator__reg_alpha=0.1, final_estimator__reg_lambda=0.1;, score=0.944 total time=  37.6s\n",
      "[CV 2/5] END final_estimator__learning_rate=0.5, final_estimator__max_depth=4, final_estimator__n_estimators=100, final_estimator__reg_alpha=0.1, final_estimator__reg_lambda=0.1;, score=0.948 total time=  37.6s\n",
      "[CV 3/5] END final_estimator__learning_rate=0.5, final_estimator__max_depth=4, final_estimator__n_estimators=100, final_estimator__reg_alpha=0.1, final_estimator__reg_lambda=0.1;, score=0.945 total time=  37.5s\n",
      "[CV 4/5] END final_estimator__learning_rate=0.5, final_estimator__max_depth=4, final_estimator__n_estimators=100, final_estimator__reg_alpha=0.1, final_estimator__reg_lambda=0.1;, score=0.948 total time=  37.9s\n",
      "[CV 5/5] END final_estimator__learning_rate=0.5, final_estimator__max_depth=4, final_estimator__n_estimators=100, final_estimator__reg_alpha=0.1, final_estimator__reg_lambda=0.1;, score=0.942 total time=  37.7s\n",
      "CPU times: user 46min 34s, sys: 2min 32s, total: 49min 7s\n",
      "Wall time: 57min 2s\n"
     ]
    }
   ],
   "source": [
    "%%time\n",
    "%%chime\n",
    "model_5.fit(X_train, y_train)"
   ]
  },
  {
   "cell_type": "code",
   "execution_count": 71,
   "id": "240e8297",
   "metadata": {
    "scrolled": false
   },
   "outputs": [
    {
     "data": {
      "text/plain": [
       "{'final_estimator__learning_rate': 0.1,\n",
       " 'final_estimator__max_depth': 2,\n",
       " 'final_estimator__n_estimators': 80,\n",
       " 'final_estimator__reg_alpha': 0.1,\n",
       " 'final_estimator__reg_lambda': 0.1}"
      ]
     },
     "execution_count": 71,
     "metadata": {},
     "output_type": "execute_result"
    }
   ],
   "source": [
    "model_5.best_params_"
   ]
  },
  {
   "cell_type": "code",
   "execution_count": 72,
   "id": "c9afac31",
   "metadata": {},
   "outputs": [
    {
     "data": {
      "text/plain": [
       "0.9531468487214768"
      ]
     },
     "execution_count": 72,
     "metadata": {},
     "output_type": "execute_result"
    }
   ],
   "source": [
    "model_5.best_score_"
   ]
  },
  {
   "cell_type": "code",
   "execution_count": 73,
   "id": "92a44cae",
   "metadata": {
    "scrolled": true
   },
   "outputs": [
    {
     "data": {
      "text/plain": [
       "count    18.000000\n",
       "mean      0.950803\n",
       "std       0.002509\n",
       "min       0.945295\n",
       "25%       0.949192\n",
       "50%       0.951922\n",
       "75%       0.952916\n",
       "max       0.953147\n",
       "dtype: float64"
      ]
     },
     "execution_count": 73,
     "metadata": {},
     "output_type": "execute_result"
    }
   ],
   "source": [
    "pd.Series(model_5.cv_results_['mean_test_score']).describe()"
   ]
  },
  {
   "cell_type": "markdown",
   "id": "8fa6d756",
   "metadata": {},
   "source": [
    "Addition of logistic regression did not improve results"
   ]
  },
  {
   "cell_type": "markdown",
   "id": "f6780b3c",
   "metadata": {},
   "source": [
    "# Conclusion\n",
    "The best result is achieved when KNN is included in a stacked classifier with XGBoost as the final estimator, although it is computationally expensive."
   ]
  }
 ],
 "metadata": {
  "kernelspec": {
   "display_name": "Python 3 (ipykernel)",
   "language": "python",
   "name": "python3"
  },
  "language_info": {
   "codemirror_mode": {
    "name": "ipython",
    "version": 3
   },
   "file_extension": ".py",
   "mimetype": "text/x-python",
   "name": "python",
   "nbconvert_exporter": "python",
   "pygments_lexer": "ipython3",
   "version": "3.10.9"
  }
 },
 "nbformat": 4,
 "nbformat_minor": 5
}
