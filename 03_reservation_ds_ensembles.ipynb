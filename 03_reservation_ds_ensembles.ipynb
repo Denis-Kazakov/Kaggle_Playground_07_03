{
 "cells": [
  {
   "cell_type": "code",
   "execution_count": 1,
   "id": "d541e60c",
   "metadata": {},
   "outputs": [],
   "source": [
    "import pandas as pd\n",
    "from sklearn.preprocessing import StandardScaler\n",
    "import chime\n",
    "from sklearn.metrics import roc_auc_score\n",
    "from sklearn.model_selection import cross_val_score\n",
    "from sklearn.model_selection import GridSearchCV"
   ]
  },
  {
   "cell_type": "code",
   "execution_count": 2,
   "id": "c220b4e6",
   "metadata": {},
   "outputs": [],
   "source": [
    "%load_ext chime"
   ]
  },
  {
   "cell_type": "markdown",
   "id": "679fabfb",
   "metadata": {},
   "source": [
    "# Model selection for the reservation data set\n",
    "Preparing for Kaggle competion - the Playground Series - Season 3, Episode 7\n",
    "\n",
    "https://www.kaggle.com/competitions/playground-series-s3e7\n",
    "## Individual classifiers"
   ]
  },
  {
   "cell_type": "markdown",
   "id": "7cd74b3e",
   "metadata": {},
   "source": [
    "### Note\n",
    "I use the mean_test_score of cross validation in this notebook to compare model performance with different hyperparameters and see if the difference is big enough to continue optimization"
   ]
  },
  {
   "cell_type": "markdown",
   "id": "2977c5f6",
   "metadata": {},
   "source": [
    "# Data preparation"
   ]
  },
  {
   "cell_type": "code",
   "execution_count": 3,
   "id": "b2f6ea0a",
   "metadata": {},
   "outputs": [
    {
     "data": {
      "text/html": [
       "<div>\n",
       "<style scoped>\n",
       "    .dataframe tbody tr th:only-of-type {\n",
       "        vertical-align: middle;\n",
       "    }\n",
       "\n",
       "    .dataframe tbody tr th {\n",
       "        vertical-align: top;\n",
       "    }\n",
       "\n",
       "    .dataframe thead th {\n",
       "        text-align: right;\n",
       "    }\n",
       "</style>\n",
       "<table border=\"1\" class=\"dataframe\">\n",
       "  <thead>\n",
       "    <tr style=\"text-align: right;\">\n",
       "      <th></th>\n",
       "      <th>no_of_adults</th>\n",
       "      <th>no_of_children</th>\n",
       "      <th>no_of_weekend_nights</th>\n",
       "      <th>no_of_week_nights</th>\n",
       "      <th>type_of_meal_plan</th>\n",
       "      <th>required_car_parking_space</th>\n",
       "      <th>room_type_reserved</th>\n",
       "      <th>lead_time</th>\n",
       "      <th>arrival_year</th>\n",
       "      <th>arrival_month</th>\n",
       "      <th>arrival_date</th>\n",
       "      <th>market_segment_type</th>\n",
       "      <th>repeated_guest</th>\n",
       "      <th>no_of_previous_cancellations</th>\n",
       "      <th>no_of_previous_bookings_not_canceled</th>\n",
       "      <th>avg_price_per_room</th>\n",
       "      <th>no_of_special_requests</th>\n",
       "      <th>booking_status</th>\n",
       "    </tr>\n",
       "  </thead>\n",
       "  <tbody>\n",
       "    <tr>\n",
       "      <th>0</th>\n",
       "      <td>2</td>\n",
       "      <td>0</td>\n",
       "      <td>1</td>\n",
       "      <td>4</td>\n",
       "      <td>0</td>\n",
       "      <td>0</td>\n",
       "      <td>0</td>\n",
       "      <td>118</td>\n",
       "      <td>2017</td>\n",
       "      <td>12</td>\n",
       "      <td>28</td>\n",
       "      <td>1</td>\n",
       "      <td>0</td>\n",
       "      <td>0</td>\n",
       "      <td>0</td>\n",
       "      <td>110.80</td>\n",
       "      <td>2</td>\n",
       "      <td>0</td>\n",
       "    </tr>\n",
       "    <tr>\n",
       "      <th>1</th>\n",
       "      <td>2</td>\n",
       "      <td>1</td>\n",
       "      <td>0</td>\n",
       "      <td>2</td>\n",
       "      <td>0</td>\n",
       "      <td>0</td>\n",
       "      <td>0</td>\n",
       "      <td>17</td>\n",
       "      <td>2018</td>\n",
       "      <td>4</td>\n",
       "      <td>14</td>\n",
       "      <td>1</td>\n",
       "      <td>0</td>\n",
       "      <td>0</td>\n",
       "      <td>0</td>\n",
       "      <td>145.00</td>\n",
       "      <td>0</td>\n",
       "      <td>1</td>\n",
       "    </tr>\n",
       "    <tr>\n",
       "      <th>2</th>\n",
       "      <td>1</td>\n",
       "      <td>0</td>\n",
       "      <td>1</td>\n",
       "      <td>5</td>\n",
       "      <td>0</td>\n",
       "      <td>0</td>\n",
       "      <td>0</td>\n",
       "      <td>349</td>\n",
       "      <td>2018</td>\n",
       "      <td>10</td>\n",
       "      <td>4</td>\n",
       "      <td>0</td>\n",
       "      <td>0</td>\n",
       "      <td>0</td>\n",
       "      <td>0</td>\n",
       "      <td>96.67</td>\n",
       "      <td>0</td>\n",
       "      <td>1</td>\n",
       "    </tr>\n",
       "    <tr>\n",
       "      <th>3</th>\n",
       "      <td>1</td>\n",
       "      <td>0</td>\n",
       "      <td>2</td>\n",
       "      <td>4</td>\n",
       "      <td>0</td>\n",
       "      <td>0</td>\n",
       "      <td>0</td>\n",
       "      <td>69</td>\n",
       "      <td>2018</td>\n",
       "      <td>6</td>\n",
       "      <td>12</td>\n",
       "      <td>0</td>\n",
       "      <td>0</td>\n",
       "      <td>0</td>\n",
       "      <td>0</td>\n",
       "      <td>120.00</td>\n",
       "      <td>0</td>\n",
       "      <td>1</td>\n",
       "    </tr>\n",
       "    <tr>\n",
       "      <th>4</th>\n",
       "      <td>2</td>\n",
       "      <td>0</td>\n",
       "      <td>0</td>\n",
       "      <td>4</td>\n",
       "      <td>1</td>\n",
       "      <td>0</td>\n",
       "      <td>0</td>\n",
       "      <td>11</td>\n",
       "      <td>2018</td>\n",
       "      <td>1</td>\n",
       "      <td>20</td>\n",
       "      <td>1</td>\n",
       "      <td>0</td>\n",
       "      <td>0</td>\n",
       "      <td>0</td>\n",
       "      <td>69.50</td>\n",
       "      <td>1</td>\n",
       "      <td>0</td>\n",
       "    </tr>\n",
       "    <tr>\n",
       "      <th>...</th>\n",
       "      <td>...</td>\n",
       "      <td>...</td>\n",
       "      <td>...</td>\n",
       "      <td>...</td>\n",
       "      <td>...</td>\n",
       "      <td>...</td>\n",
       "      <td>...</td>\n",
       "      <td>...</td>\n",
       "      <td>...</td>\n",
       "      <td>...</td>\n",
       "      <td>...</td>\n",
       "      <td>...</td>\n",
       "      <td>...</td>\n",
       "      <td>...</td>\n",
       "      <td>...</td>\n",
       "      <td>...</td>\n",
       "      <td>...</td>\n",
       "      <td>...</td>\n",
       "    </tr>\n",
       "    <tr>\n",
       "      <th>18132</th>\n",
       "      <td>1</td>\n",
       "      <td>0</td>\n",
       "      <td>0</td>\n",
       "      <td>2</td>\n",
       "      <td>0</td>\n",
       "      <td>0</td>\n",
       "      <td>0</td>\n",
       "      <td>103</td>\n",
       "      <td>2018</td>\n",
       "      <td>4</td>\n",
       "      <td>19</td>\n",
       "      <td>0</td>\n",
       "      <td>0</td>\n",
       "      <td>0</td>\n",
       "      <td>0</td>\n",
       "      <td>115.00</td>\n",
       "      <td>0</td>\n",
       "      <td>1</td>\n",
       "    </tr>\n",
       "    <tr>\n",
       "      <th>18133</th>\n",
       "      <td>2</td>\n",
       "      <td>0</td>\n",
       "      <td>0</td>\n",
       "      <td>3</td>\n",
       "      <td>0</td>\n",
       "      <td>0</td>\n",
       "      <td>0</td>\n",
       "      <td>129</td>\n",
       "      <td>2018</td>\n",
       "      <td>8</td>\n",
       "      <td>10</td>\n",
       "      <td>1</td>\n",
       "      <td>0</td>\n",
       "      <td>0</td>\n",
       "      <td>0</td>\n",
       "      <td>88.01</td>\n",
       "      <td>1</td>\n",
       "      <td>0</td>\n",
       "    </tr>\n",
       "    <tr>\n",
       "      <th>18134</th>\n",
       "      <td>2</td>\n",
       "      <td>0</td>\n",
       "      <td>0</td>\n",
       "      <td>1</td>\n",
       "      <td>0</td>\n",
       "      <td>0</td>\n",
       "      <td>0</td>\n",
       "      <td>90</td>\n",
       "      <td>2018</td>\n",
       "      <td>7</td>\n",
       "      <td>13</td>\n",
       "      <td>1</td>\n",
       "      <td>0</td>\n",
       "      <td>0</td>\n",
       "      <td>0</td>\n",
       "      <td>105.30</td>\n",
       "      <td>0</td>\n",
       "      <td>1</td>\n",
       "    </tr>\n",
       "    <tr>\n",
       "      <th>18135</th>\n",
       "      <td>2</td>\n",
       "      <td>0</td>\n",
       "      <td>0</td>\n",
       "      <td>3</td>\n",
       "      <td>0</td>\n",
       "      <td>0</td>\n",
       "      <td>0</td>\n",
       "      <td>18</td>\n",
       "      <td>2018</td>\n",
       "      <td>11</td>\n",
       "      <td>10</td>\n",
       "      <td>1</td>\n",
       "      <td>1</td>\n",
       "      <td>0</td>\n",
       "      <td>1</td>\n",
       "      <td>123.33</td>\n",
       "      <td>1</td>\n",
       "      <td>0</td>\n",
       "    </tr>\n",
       "    <tr>\n",
       "      <th>18136</th>\n",
       "      <td>1</td>\n",
       "      <td>0</td>\n",
       "      <td>1</td>\n",
       "      <td>1</td>\n",
       "      <td>0</td>\n",
       "      <td>0</td>\n",
       "      <td>0</td>\n",
       "      <td>159</td>\n",
       "      <td>2018</td>\n",
       "      <td>4</td>\n",
       "      <td>9</td>\n",
       "      <td>0</td>\n",
       "      <td>0</td>\n",
       "      <td>0</td>\n",
       "      <td>0</td>\n",
       "      <td>65.00</td>\n",
       "      <td>0</td>\n",
       "      <td>0</td>\n",
       "    </tr>\n",
       "  </tbody>\n",
       "</table>\n",
       "<p>18137 rows × 18 columns</p>\n",
       "</div>"
      ],
      "text/plain": [
       "       no_of_adults  no_of_children  no_of_weekend_nights  no_of_week_nights  \\\n",
       "0                 2               0                     1                  4   \n",
       "1                 2               1                     0                  2   \n",
       "2                 1               0                     1                  5   \n",
       "3                 1               0                     2                  4   \n",
       "4                 2               0                     0                  4   \n",
       "...             ...             ...                   ...                ...   \n",
       "18132             1               0                     0                  2   \n",
       "18133             2               0                     0                  3   \n",
       "18134             2               0                     0                  1   \n",
       "18135             2               0                     0                  3   \n",
       "18136             1               0                     1                  1   \n",
       "\n",
       "       type_of_meal_plan  required_car_parking_space  room_type_reserved  \\\n",
       "0                      0                           0                   0   \n",
       "1                      0                           0                   0   \n",
       "2                      0                           0                   0   \n",
       "3                      0                           0                   0   \n",
       "4                      1                           0                   0   \n",
       "...                  ...                         ...                 ...   \n",
       "18132                  0                           0                   0   \n",
       "18133                  0                           0                   0   \n",
       "18134                  0                           0                   0   \n",
       "18135                  0                           0                   0   \n",
       "18136                  0                           0                   0   \n",
       "\n",
       "       lead_time  arrival_year  arrival_month  arrival_date  \\\n",
       "0            118          2017             12            28   \n",
       "1             17          2018              4            14   \n",
       "2            349          2018             10             4   \n",
       "3             69          2018              6            12   \n",
       "4             11          2018              1            20   \n",
       "...          ...           ...            ...           ...   \n",
       "18132        103          2018              4            19   \n",
       "18133        129          2018              8            10   \n",
       "18134         90          2018              7            13   \n",
       "18135         18          2018             11            10   \n",
       "18136        159          2018              4             9   \n",
       "\n",
       "       market_segment_type  repeated_guest  no_of_previous_cancellations  \\\n",
       "0                        1               0                             0   \n",
       "1                        1               0                             0   \n",
       "2                        0               0                             0   \n",
       "3                        0               0                             0   \n",
       "4                        1               0                             0   \n",
       "...                    ...             ...                           ...   \n",
       "18132                    0               0                             0   \n",
       "18133                    1               0                             0   \n",
       "18134                    1               0                             0   \n",
       "18135                    1               1                             0   \n",
       "18136                    0               0                             0   \n",
       "\n",
       "       no_of_previous_bookings_not_canceled  avg_price_per_room  \\\n",
       "0                                         0              110.80   \n",
       "1                                         0              145.00   \n",
       "2                                         0               96.67   \n",
       "3                                         0              120.00   \n",
       "4                                         0               69.50   \n",
       "...                                     ...                 ...   \n",
       "18132                                     0              115.00   \n",
       "18133                                     0               88.01   \n",
       "18134                                     0              105.30   \n",
       "18135                                     1              123.33   \n",
       "18136                                     0               65.00   \n",
       "\n",
       "       no_of_special_requests  booking_status  \n",
       "0                           2               0  \n",
       "1                           0               1  \n",
       "2                           0               1  \n",
       "3                           0               1  \n",
       "4                           1               0  \n",
       "...                       ...             ...  \n",
       "18132                       0               1  \n",
       "18133                       1               0  \n",
       "18134                       0               1  \n",
       "18135                       1               0  \n",
       "18136                       0               0  \n",
       "\n",
       "[18137 rows x 18 columns]"
      ]
     },
     "execution_count": 3,
     "metadata": {},
     "output_type": "execute_result"
    }
   ],
   "source": [
    "train = pd.read_csv('./data/train__dataset.csv'); train"
   ]
  },
  {
   "cell_type": "markdown",
   "id": "f4115e9c",
   "metadata": {},
   "source": [
    "The dataset is small so I will not split a validation set, rather will base parameter selection on cross-validation results."
   ]
  },
  {
   "cell_type": "code",
   "execution_count": 4,
   "id": "da75d36e",
   "metadata": {},
   "outputs": [],
   "source": [
    "X_train = train.drop(columns='booking_status')\n",
    "y_train = train.booking_status"
   ]
  },
  {
   "cell_type": "code",
   "execution_count": 5,
   "id": "619417f7",
   "metadata": {},
   "outputs": [
    {
     "data": {
      "text/html": [
       "<div>\n",
       "<style scoped>\n",
       "    .dataframe tbody tr th:only-of-type {\n",
       "        vertical-align: middle;\n",
       "    }\n",
       "\n",
       "    .dataframe tbody tr th {\n",
       "        vertical-align: top;\n",
       "    }\n",
       "\n",
       "    .dataframe thead th {\n",
       "        text-align: right;\n",
       "    }\n",
       "</style>\n",
       "<table border=\"1\" class=\"dataframe\">\n",
       "  <thead>\n",
       "    <tr style=\"text-align: right;\">\n",
       "      <th></th>\n",
       "      <th>no_of_adults</th>\n",
       "      <th>no_of_children</th>\n",
       "      <th>no_of_weekend_nights</th>\n",
       "      <th>no_of_week_nights</th>\n",
       "      <th>type_of_meal_plan</th>\n",
       "      <th>required_car_parking_space</th>\n",
       "      <th>room_type_reserved</th>\n",
       "      <th>lead_time</th>\n",
       "      <th>arrival_year</th>\n",
       "      <th>arrival_month</th>\n",
       "      <th>arrival_date</th>\n",
       "      <th>market_segment_type</th>\n",
       "      <th>repeated_guest</th>\n",
       "      <th>no_of_previous_cancellations</th>\n",
       "      <th>no_of_previous_bookings_not_canceled</th>\n",
       "      <th>avg_price_per_room</th>\n",
       "      <th>no_of_special_requests</th>\n",
       "    </tr>\n",
       "  </thead>\n",
       "  <tbody>\n",
       "    <tr>\n",
       "      <th>0</th>\n",
       "      <td>0.296940</td>\n",
       "      <td>-0.262944</td>\n",
       "      <td>0.216265</td>\n",
       "      <td>1.255698</td>\n",
       "      <td>-0.506205</td>\n",
       "      <td>-0.180783</td>\n",
       "      <td>-0.435754</td>\n",
       "      <td>0.376664</td>\n",
       "      <td>-2.139435</td>\n",
       "      <td>1.484357</td>\n",
       "      <td>1.406570</td>\n",
       "      <td>0.300026</td>\n",
       "      <td>-0.160413</td>\n",
       "      <td>-0.060638</td>\n",
       "      <td>-0.088329</td>\n",
       "      <td>0.206385</td>\n",
       "      <td>1.754593</td>\n",
       "    </tr>\n",
       "    <tr>\n",
       "      <th>1</th>\n",
       "      <td>0.296940</td>\n",
       "      <td>2.182701</td>\n",
       "      <td>-0.928626</td>\n",
       "      <td>-0.146506</td>\n",
       "      <td>-0.506205</td>\n",
       "      <td>-0.180783</td>\n",
       "      <td>-0.435754</td>\n",
       "      <td>-0.789492</td>\n",
       "      <td>0.467413</td>\n",
       "      <td>-1.115651</td>\n",
       "      <td>-0.189318</td>\n",
       "      <td>0.300026</td>\n",
       "      <td>-0.160413</td>\n",
       "      <td>-0.060638</td>\n",
       "      <td>-0.088329</td>\n",
       "      <td>1.170495</td>\n",
       "      <td>-0.783738</td>\n",
       "    </tr>\n",
       "    <tr>\n",
       "      <th>2</th>\n",
       "      <td>-1.641023</td>\n",
       "      <td>-0.262944</td>\n",
       "      <td>0.216265</td>\n",
       "      <td>1.956800</td>\n",
       "      <td>-0.506205</td>\n",
       "      <td>-0.180783</td>\n",
       "      <td>-0.435754</td>\n",
       "      <td>3.043812</td>\n",
       "      <td>0.467413</td>\n",
       "      <td>0.834355</td>\n",
       "      <td>-1.329238</td>\n",
       "      <td>-1.248072</td>\n",
       "      <td>-0.160413</td>\n",
       "      <td>-0.060638</td>\n",
       "      <td>-0.088329</td>\n",
       "      <td>-0.191944</td>\n",
       "      <td>-0.783738</td>\n",
       "    </tr>\n",
       "    <tr>\n",
       "      <th>3</th>\n",
       "      <td>-1.641023</td>\n",
       "      <td>-0.262944</td>\n",
       "      <td>1.361156</td>\n",
       "      <td>1.255698</td>\n",
       "      <td>-0.506205</td>\n",
       "      <td>-0.180783</td>\n",
       "      <td>-0.435754</td>\n",
       "      <td>-0.189095</td>\n",
       "      <td>0.467413</td>\n",
       "      <td>-0.465649</td>\n",
       "      <td>-0.417302</td>\n",
       "      <td>-1.248072</td>\n",
       "      <td>-0.160413</td>\n",
       "      <td>-0.060638</td>\n",
       "      <td>-0.088329</td>\n",
       "      <td>0.465737</td>\n",
       "      <td>-0.783738</td>\n",
       "    </tr>\n",
       "    <tr>\n",
       "      <th>4</th>\n",
       "      <td>0.296940</td>\n",
       "      <td>-0.262944</td>\n",
       "      <td>-0.928626</td>\n",
       "      <td>1.255698</td>\n",
       "      <td>1.083310</td>\n",
       "      <td>-0.180783</td>\n",
       "      <td>-0.435754</td>\n",
       "      <td>-0.858769</td>\n",
       "      <td>0.467413</td>\n",
       "      <td>-2.090654</td>\n",
       "      <td>0.494634</td>\n",
       "      <td>0.300026</td>\n",
       "      <td>-0.160413</td>\n",
       "      <td>-0.060638</td>\n",
       "      <td>-0.088329</td>\n",
       "      <td>-0.957876</td>\n",
       "      <td>0.485428</td>\n",
       "    </tr>\n",
       "    <tr>\n",
       "      <th>...</th>\n",
       "      <td>...</td>\n",
       "      <td>...</td>\n",
       "      <td>...</td>\n",
       "      <td>...</td>\n",
       "      <td>...</td>\n",
       "      <td>...</td>\n",
       "      <td>...</td>\n",
       "      <td>...</td>\n",
       "      <td>...</td>\n",
       "      <td>...</td>\n",
       "      <td>...</td>\n",
       "      <td>...</td>\n",
       "      <td>...</td>\n",
       "      <td>...</td>\n",
       "      <td>...</td>\n",
       "      <td>...</td>\n",
       "      <td>...</td>\n",
       "    </tr>\n",
       "    <tr>\n",
       "      <th>18132</th>\n",
       "      <td>-1.641023</td>\n",
       "      <td>-0.262944</td>\n",
       "      <td>-0.928626</td>\n",
       "      <td>-0.146506</td>\n",
       "      <td>-0.506205</td>\n",
       "      <td>-0.180783</td>\n",
       "      <td>-0.435754</td>\n",
       "      <td>0.203472</td>\n",
       "      <td>0.467413</td>\n",
       "      <td>-1.115651</td>\n",
       "      <td>0.380642</td>\n",
       "      <td>-1.248072</td>\n",
       "      <td>-0.160413</td>\n",
       "      <td>-0.060638</td>\n",
       "      <td>-0.088329</td>\n",
       "      <td>0.324785</td>\n",
       "      <td>-0.783738</td>\n",
       "    </tr>\n",
       "    <tr>\n",
       "      <th>18133</th>\n",
       "      <td>0.296940</td>\n",
       "      <td>-0.262944</td>\n",
       "      <td>-0.928626</td>\n",
       "      <td>0.554596</td>\n",
       "      <td>-0.506205</td>\n",
       "      <td>-0.180783</td>\n",
       "      <td>-0.435754</td>\n",
       "      <td>0.503671</td>\n",
       "      <td>0.467413</td>\n",
       "      <td>0.184353</td>\n",
       "      <td>-0.645286</td>\n",
       "      <td>0.300026</td>\n",
       "      <td>-0.160413</td>\n",
       "      <td>-0.060638</td>\n",
       "      <td>-0.088329</td>\n",
       "      <td>-0.436073</td>\n",
       "      <td>0.485428</td>\n",
       "    </tr>\n",
       "    <tr>\n",
       "      <th>18134</th>\n",
       "      <td>0.296940</td>\n",
       "      <td>-0.262944</td>\n",
       "      <td>-0.928626</td>\n",
       "      <td>-0.847608</td>\n",
       "      <td>-0.506205</td>\n",
       "      <td>-0.180783</td>\n",
       "      <td>-0.435754</td>\n",
       "      <td>0.053373</td>\n",
       "      <td>0.467413</td>\n",
       "      <td>-0.140648</td>\n",
       "      <td>-0.303310</td>\n",
       "      <td>0.300026</td>\n",
       "      <td>-0.160413</td>\n",
       "      <td>-0.060638</td>\n",
       "      <td>-0.088329</td>\n",
       "      <td>0.051338</td>\n",
       "      <td>-0.783738</td>\n",
       "    </tr>\n",
       "    <tr>\n",
       "      <th>18135</th>\n",
       "      <td>0.296940</td>\n",
       "      <td>-0.262944</td>\n",
       "      <td>-0.928626</td>\n",
       "      <td>0.554596</td>\n",
       "      <td>-0.506205</td>\n",
       "      <td>-0.180783</td>\n",
       "      <td>-0.435754</td>\n",
       "      <td>-0.777946</td>\n",
       "      <td>0.467413</td>\n",
       "      <td>1.159356</td>\n",
       "      <td>-0.645286</td>\n",
       "      <td>0.300026</td>\n",
       "      <td>6.233902</td>\n",
       "      <td>-0.060638</td>\n",
       "      <td>0.495072</td>\n",
       "      <td>0.559610</td>\n",
       "      <td>0.485428</td>\n",
       "    </tr>\n",
       "    <tr>\n",
       "      <th>18136</th>\n",
       "      <td>-1.641023</td>\n",
       "      <td>-0.262944</td>\n",
       "      <td>0.216265</td>\n",
       "      <td>-0.847608</td>\n",
       "      <td>-0.506205</td>\n",
       "      <td>-0.180783</td>\n",
       "      <td>-0.435754</td>\n",
       "      <td>0.850054</td>\n",
       "      <td>0.467413</td>\n",
       "      <td>-1.115651</td>\n",
       "      <td>-0.759278</td>\n",
       "      <td>-1.248072</td>\n",
       "      <td>-0.160413</td>\n",
       "      <td>-0.060638</td>\n",
       "      <td>-0.088329</td>\n",
       "      <td>-1.084733</td>\n",
       "      <td>-0.783738</td>\n",
       "    </tr>\n",
       "  </tbody>\n",
       "</table>\n",
       "<p>18137 rows × 17 columns</p>\n",
       "</div>"
      ],
      "text/plain": [
       "       no_of_adults  no_of_children  no_of_weekend_nights  no_of_week_nights  \\\n",
       "0          0.296940       -0.262944              0.216265           1.255698   \n",
       "1          0.296940        2.182701             -0.928626          -0.146506   \n",
       "2         -1.641023       -0.262944              0.216265           1.956800   \n",
       "3         -1.641023       -0.262944              1.361156           1.255698   \n",
       "4          0.296940       -0.262944             -0.928626           1.255698   \n",
       "...             ...             ...                   ...                ...   \n",
       "18132     -1.641023       -0.262944             -0.928626          -0.146506   \n",
       "18133      0.296940       -0.262944             -0.928626           0.554596   \n",
       "18134      0.296940       -0.262944             -0.928626          -0.847608   \n",
       "18135      0.296940       -0.262944             -0.928626           0.554596   \n",
       "18136     -1.641023       -0.262944              0.216265          -0.847608   \n",
       "\n",
       "       type_of_meal_plan  required_car_parking_space  room_type_reserved  \\\n",
       "0              -0.506205                   -0.180783           -0.435754   \n",
       "1              -0.506205                   -0.180783           -0.435754   \n",
       "2              -0.506205                   -0.180783           -0.435754   \n",
       "3              -0.506205                   -0.180783           -0.435754   \n",
       "4               1.083310                   -0.180783           -0.435754   \n",
       "...                  ...                         ...                 ...   \n",
       "18132          -0.506205                   -0.180783           -0.435754   \n",
       "18133          -0.506205                   -0.180783           -0.435754   \n",
       "18134          -0.506205                   -0.180783           -0.435754   \n",
       "18135          -0.506205                   -0.180783           -0.435754   \n",
       "18136          -0.506205                   -0.180783           -0.435754   \n",
       "\n",
       "       lead_time  arrival_year  arrival_month  arrival_date  \\\n",
       "0       0.376664     -2.139435       1.484357      1.406570   \n",
       "1      -0.789492      0.467413      -1.115651     -0.189318   \n",
       "2       3.043812      0.467413       0.834355     -1.329238   \n",
       "3      -0.189095      0.467413      -0.465649     -0.417302   \n",
       "4      -0.858769      0.467413      -2.090654      0.494634   \n",
       "...          ...           ...            ...           ...   \n",
       "18132   0.203472      0.467413      -1.115651      0.380642   \n",
       "18133   0.503671      0.467413       0.184353     -0.645286   \n",
       "18134   0.053373      0.467413      -0.140648     -0.303310   \n",
       "18135  -0.777946      0.467413       1.159356     -0.645286   \n",
       "18136   0.850054      0.467413      -1.115651     -0.759278   \n",
       "\n",
       "       market_segment_type  repeated_guest  no_of_previous_cancellations  \\\n",
       "0                 0.300026       -0.160413                     -0.060638   \n",
       "1                 0.300026       -0.160413                     -0.060638   \n",
       "2                -1.248072       -0.160413                     -0.060638   \n",
       "3                -1.248072       -0.160413                     -0.060638   \n",
       "4                 0.300026       -0.160413                     -0.060638   \n",
       "...                    ...             ...                           ...   \n",
       "18132            -1.248072       -0.160413                     -0.060638   \n",
       "18133             0.300026       -0.160413                     -0.060638   \n",
       "18134             0.300026       -0.160413                     -0.060638   \n",
       "18135             0.300026        6.233902                     -0.060638   \n",
       "18136            -1.248072       -0.160413                     -0.060638   \n",
       "\n",
       "       no_of_previous_bookings_not_canceled  avg_price_per_room  \\\n",
       "0                                 -0.088329            0.206385   \n",
       "1                                 -0.088329            1.170495   \n",
       "2                                 -0.088329           -0.191944   \n",
       "3                                 -0.088329            0.465737   \n",
       "4                                 -0.088329           -0.957876   \n",
       "...                                     ...                 ...   \n",
       "18132                             -0.088329            0.324785   \n",
       "18133                             -0.088329           -0.436073   \n",
       "18134                             -0.088329            0.051338   \n",
       "18135                              0.495072            0.559610   \n",
       "18136                             -0.088329           -1.084733   \n",
       "\n",
       "       no_of_special_requests  \n",
       "0                    1.754593  \n",
       "1                   -0.783738  \n",
       "2                   -0.783738  \n",
       "3                   -0.783738  \n",
       "4                    0.485428  \n",
       "...                       ...  \n",
       "18132               -0.783738  \n",
       "18133                0.485428  \n",
       "18134               -0.783738  \n",
       "18135                0.485428  \n",
       "18136               -0.783738  \n",
       "\n",
       "[18137 rows x 17 columns]"
      ]
     },
     "execution_count": 5,
     "metadata": {},
     "output_type": "execute_result"
    }
   ],
   "source": [
    "scaler = StandardScaler().fit(X_train)\n",
    "X_train = pd.DataFrame(scaler.transform(X_train), columns=X_train.columns)\n",
    "X_train"
   ]
  },
  {
   "cell_type": "markdown",
   "id": "0871095f",
   "metadata": {},
   "source": [
    "# Best models\n",
    "Assembling data from tuning individual classifiers"
   ]
  },
  {
   "cell_type": "markdown",
   "id": "83a7add2",
   "metadata": {},
   "source": [
    "### Random forest"
   ]
  },
  {
   "cell_type": "code",
   "execution_count": 6,
   "id": "8bc74202",
   "metadata": {},
   "outputs": [],
   "source": [
    "from sklearn.ensemble import RandomForestClassifier"
   ]
  },
  {
   "cell_type": "code",
   "execution_count": 7,
   "id": "8df91408",
   "metadata": {},
   "outputs": [],
   "source": [
    "best_params_rf =\\\n",
    "{'max_depth': 100,\n",
    " 'max_features': 'sqrt',\n",
    " 'max_samples': 1.0,\n",
    " 'min_samples_split': 2,\n",
    " 'n_estimators': 1000}"
   ]
  },
  {
   "cell_type": "code",
   "execution_count": 8,
   "id": "d497b02c",
   "metadata": {},
   "outputs": [],
   "source": [
    "random_forest = RandomForestClassifier(n_jobs=-1,\n",
    "                                       random_state=8,\n",
    "                                       bootstrap=True,\n",
    "                                      **best_params_rf)"
   ]
  },
  {
   "cell_type": "code",
   "execution_count": 9,
   "id": "8c55b6c6",
   "metadata": {},
   "outputs": [],
   "source": [
    "best_score_rf = 0.9495807215415704"
   ]
  },
  {
   "cell_type": "markdown",
   "id": "4b6f2e9c",
   "metadata": {},
   "source": [
    "### XGBoost"
   ]
  },
  {
   "cell_type": "code",
   "execution_count": 10,
   "id": "82e453b6",
   "metadata": {},
   "outputs": [],
   "source": [
    "from xgboost import XGBClassifier"
   ]
  },
  {
   "cell_type": "code",
   "execution_count": 11,
   "id": "b54b654d",
   "metadata": {
    "scrolled": true
   },
   "outputs": [],
   "source": [
    "best_params_xgb =\\\n",
    "{'learning_rate': 0.2,\n",
    " 'max_depth': 8,\n",
    " 'n_estimators': 120,\n",
    " 'reg_alpha': 0.05,\n",
    " 'reg_lambda': 0.3}"
   ]
  },
  {
   "cell_type": "code",
   "execution_count": 12,
   "id": "d7d6a12f",
   "metadata": {},
   "outputs": [],
   "source": [
    "xgboost_clf = XGBClassifier(random_state=8,\n",
    "                         max_leaves=0,\n",
    "                         n_jobs=-1,\n",
    "                         **best_params_xgb)"
   ]
  },
  {
   "cell_type": "code",
   "execution_count": 13,
   "id": "f007751e",
   "metadata": {},
   "outputs": [],
   "source": [
    "best_score_xgb = 0.9498993319202901"
   ]
  },
  {
   "cell_type": "markdown",
   "id": "682e2388",
   "metadata": {},
   "source": [
    "### KNN"
   ]
  },
  {
   "cell_type": "code",
   "execution_count": 14,
   "id": "3e85651a",
   "metadata": {},
   "outputs": [],
   "source": [
    "from sklearn.neighbors import KNeighborsClassifier"
   ]
  },
  {
   "cell_type": "code",
   "execution_count": 15,
   "id": "01292941",
   "metadata": {
    "scrolled": true
   },
   "outputs": [],
   "source": [
    "best_params_knn = {'n_neighbors': 40, 'p': 1, 'weights': 'distance'}"
   ]
  },
  {
   "cell_type": "code",
   "execution_count": 16,
   "id": "9b6a3ef0",
   "metadata": {},
   "outputs": [],
   "source": [
    "knn = KNeighborsClassifier(algorithm='auto',\n",
    "                           metric='minkowski',\n",
    "                           n_jobs=-1,\n",
    "                          **best_params_knn)"
   ]
  },
  {
   "cell_type": "code",
   "execution_count": 17,
   "id": "4dcf0116",
   "metadata": {},
   "outputs": [],
   "source": [
    "best_score_knn = 0.9294982428519282"
   ]
  },
  {
   "cell_type": "markdown",
   "id": "23b4bba8",
   "metadata": {},
   "source": [
    "### AdaBoost"
   ]
  },
  {
   "cell_type": "code",
   "execution_count": 18,
   "id": "cca5d5ec",
   "metadata": {},
   "outputs": [],
   "source": [
    "from sklearn.ensemble import AdaBoostClassifier\n",
    "from sklearn.tree import DecisionTreeClassifier"
   ]
  },
  {
   "cell_type": "code",
   "execution_count": 19,
   "id": "29533e47",
   "metadata": {
    "scrolled": true
   },
   "outputs": [],
   "source": [
    "best_params_ada =\\\n",
    "{'learning_rate': 0.005,\n",
    " 'n_estimators': 150}"
   ]
  },
  {
   "cell_type": "code",
   "execution_count": 20,
   "id": "178eb5a2",
   "metadata": {
    "scrolled": true
   },
   "outputs": [],
   "source": [
    "best_params_base =\\\n",
    "{'max_depth': 15,\n",
    " 'max_features': 'sqrt',\n",
    " 'min_samples_split': 40}"
   ]
  },
  {
   "cell_type": "code",
   "execution_count": 21,
   "id": "6fadd079",
   "metadata": {},
   "outputs": [],
   "source": [
    "ada = AdaBoostClassifier(base_estimator=DecisionTreeClassifier(random_state=8,\n",
    "                                                              **best_params_base),\n",
    "                         random_state=8,\n",
    "                        **best_params_ada)"
   ]
  },
  {
   "cell_type": "code",
   "execution_count": 22,
   "id": "c80049a2",
   "metadata": {},
   "outputs": [],
   "source": [
    "best_score_ada = 0.9477394590502275"
   ]
  },
  {
   "cell_type": "markdown",
   "id": "59067c9f",
   "metadata": {},
   "source": [
    "# Ensembles\n",
    "## Voting classifier (unweighted)"
   ]
  },
  {
   "cell_type": "code",
   "execution_count": 23,
   "id": "7009a230",
   "metadata": {},
   "outputs": [],
   "source": [
    "from sklearn.ensemble import VotingClassifier"
   ]
  },
  {
   "cell_type": "code",
   "execution_count": 24,
   "id": "e0af4766",
   "metadata": {},
   "outputs": [],
   "source": [
    "vote_with_knn = VotingClassifier(\n",
    "    estimators = [\n",
    "        ('rf', random_forest),\n",
    "        ('xgb', xgboost_clf),\n",
    "        ('knn', knn),\n",
    "        ('ada', ada)\n",
    "    ],\n",
    "    voting='soft'\n",
    ")"
   ]
  },
  {
   "cell_type": "code",
   "execution_count": 25,
   "id": "4fec2431",
   "metadata": {},
   "outputs": [],
   "source": [
    "%%chime\n",
    "scores_with_knn = cross_val_score(vote_with_knn,\n",
    "                                       X_train, y_train,\n",
    "                                       scoring='roc_auc',\n",
    "                                       cv=5)\n"
   ]
  },
  {
   "cell_type": "code",
   "execution_count": 27,
   "id": "582f4f69",
   "metadata": {
    "scrolled": true
   },
   "outputs": [
    {
     "data": {
      "text/plain": [
       "0.9514909982200948"
      ]
     },
     "execution_count": 27,
     "metadata": {},
     "output_type": "execute_result"
    }
   ],
   "source": [
    "scores_with_knn.mean()"
   ]
  },
  {
   "cell_type": "code",
   "execution_count": 28,
   "id": "4b1e7c74",
   "metadata": {
    "scrolled": true
   },
   "outputs": [
    {
     "data": {
      "text/plain": [
       "0.0022603393023085195"
      ]
     },
     "execution_count": 28,
     "metadata": {},
     "output_type": "execute_result"
    }
   ],
   "source": [
    "scores_with_knn.std()"
   ]
  },
  {
   "cell_type": "code",
   "execution_count": 29,
   "id": "c5ef5926",
   "metadata": {},
   "outputs": [],
   "source": [
    "vote_without_knn = VotingClassifier(\n",
    "    estimators = [\n",
    "        ('rf', random_forest),\n",
    "        ('xgb', xgboost_clf),\n",
    "        ('ada', ada)\n",
    "    ],\n",
    "    voting='soft'\n",
    ")"
   ]
  },
  {
   "cell_type": "code",
   "execution_count": 30,
   "id": "290e4473",
   "metadata": {},
   "outputs": [],
   "source": [
    "%%chime\n",
    "scores_without_knn = cross_val_score(vote_without_knn,\n",
    "                                       X_train, y_train,\n",
    "                                       scoring='roc_auc',\n",
    "                                       cv=5)\n"
   ]
  },
  {
   "cell_type": "code",
   "execution_count": 31,
   "id": "4a4d5ed2",
   "metadata": {
    "scrolled": true
   },
   "outputs": [
    {
     "data": {
      "text/plain": [
       "0.952538221161847"
      ]
     },
     "execution_count": 31,
     "metadata": {},
     "output_type": "execute_result"
    }
   ],
   "source": [
    "scores_without_knn.mean()"
   ]
  },
  {
   "cell_type": "code",
   "execution_count": 32,
   "id": "9692b8db",
   "metadata": {
    "scrolled": true
   },
   "outputs": [
    {
     "data": {
      "text/plain": [
       "0.0019765545278492597"
      ]
     },
     "execution_count": 32,
     "metadata": {},
     "output_type": "execute_result"
    }
   ],
   "source": [
    "scores_without_knn.std()"
   ]
  },
  {
   "cell_type": "markdown",
   "id": "2e6ceeda",
   "metadata": {},
   "source": [
    "## Voting classifier (weighted)"
   ]
  },
  {
   "cell_type": "markdown",
   "id": "ee343787",
   "metadata": {},
   "source": [
    "I use best scores of each classifier as its weight"
   ]
  },
  {
   "cell_type": "code",
   "execution_count": 33,
   "id": "0962ecf1",
   "metadata": {},
   "outputs": [],
   "source": [
    "weights_with_knn = [best_score_rf, best_score_xgb, best_score_knn, best_score_ada]"
   ]
  },
  {
   "cell_type": "code",
   "execution_count": 34,
   "id": "5b8279a6",
   "metadata": {},
   "outputs": [],
   "source": [
    "weighted_vote_with_knn = VotingClassifier(\n",
    "    estimators = [\n",
    "        ('rf', random_forest),\n",
    "        ('xgb', xgboost_clf),\n",
    "        ('knn', knn),\n",
    "        ('ada', ada)\n",
    "    ],\n",
    "    voting='soft',\n",
    "    weights=weights_with_knn\n",
    ")"
   ]
  },
  {
   "cell_type": "code",
   "execution_count": 35,
   "id": "15b6a471",
   "metadata": {},
   "outputs": [],
   "source": [
    "%%chime\n",
    "weighted_scores_with_knn = cross_val_score(weighted_vote_with_knn,\n",
    "                                       X_train, y_train,\n",
    "                                       scoring='roc_auc',\n",
    "                                       cv=5)\n"
   ]
  },
  {
   "cell_type": "code",
   "execution_count": 36,
   "id": "e8a3683b",
   "metadata": {
    "scrolled": true
   },
   "outputs": [
    {
     "data": {
      "text/plain": [
       "0.9515343332058656"
      ]
     },
     "execution_count": 36,
     "metadata": {},
     "output_type": "execute_result"
    }
   ],
   "source": [
    "weighted_scores_with_knn.mean()"
   ]
  },
  {
   "cell_type": "code",
   "execution_count": 37,
   "id": "3e2dc361",
   "metadata": {
    "scrolled": true
   },
   "outputs": [
    {
     "data": {
      "text/plain": [
       "0.0022599977905760037"
      ]
     },
     "execution_count": 37,
     "metadata": {},
     "output_type": "execute_result"
    }
   ],
   "source": [
    "weighted_scores_with_knn.std()"
   ]
  },
  {
   "cell_type": "code",
   "execution_count": 38,
   "id": "2bb36e8f",
   "metadata": {},
   "outputs": [],
   "source": [
    "weights_without_knn = [best_score_rf, best_score_xgb, best_score_ada]"
   ]
  },
  {
   "cell_type": "code",
   "execution_count": 39,
   "id": "58dba274",
   "metadata": {},
   "outputs": [],
   "source": [
    "weighted_vote_without_knn = VotingClassifier(\n",
    "    estimators = [\n",
    "        ('rf', random_forest),\n",
    "        ('xgb', xgboost_clf),\n",
    "        ('ada', ada)\n",
    "    ],\n",
    "    voting='soft',\n",
    "    weights=weights_without_knn\n",
    ")"
   ]
  },
  {
   "cell_type": "code",
   "execution_count": 40,
   "id": "19fd400b",
   "metadata": {},
   "outputs": [],
   "source": [
    "%%chime\n",
    "weighted_scores_without_knn = cross_val_score(weighted_vote_without_knn,\n",
    "                                       X_train, y_train,\n",
    "                                       scoring='roc_auc',\n",
    "                                       cv=5)\n"
   ]
  },
  {
   "cell_type": "code",
   "execution_count": 41,
   "id": "cc322ef6",
   "metadata": {
    "scrolled": true
   },
   "outputs": [
    {
     "data": {
      "text/plain": [
       "0.9525386354235073"
      ]
     },
     "execution_count": 41,
     "metadata": {},
     "output_type": "execute_result"
    }
   ],
   "source": [
    "weighted_scores_without_knn.mean()"
   ]
  },
  {
   "cell_type": "code",
   "execution_count": 42,
   "id": "db855200",
   "metadata": {
    "scrolled": true
   },
   "outputs": [
    {
     "data": {
      "text/plain": [
       "0.001975721557816767"
      ]
     },
     "execution_count": 42,
     "metadata": {},
     "output_type": "execute_result"
    }
   ],
   "source": [
    "weighted_scores_without_knn.std()"
   ]
  },
  {
   "cell_type": "markdown",
   "id": "0071a4d8",
   "metadata": {},
   "source": [
    "### Conclusion on voting\n",
    "- Voting improves results slightly compared to individual classifiers\n",
    "- It is better to use top classifiers without KNN. For top classifiers, using their scores as weights does not result in significant improvement"
   ]
  },
  {
   "cell_type": "markdown",
   "id": "1261bfa0",
   "metadata": {},
   "source": [
    "## Stacking  classifiers"
   ]
  },
  {
   "cell_type": "code",
   "execution_count": 43,
   "id": "ab28b166",
   "metadata": {},
   "outputs": [],
   "source": [
    "from sklearn.ensemble import StackingClassifier\n",
    "from sklearn.linear_model import LogisticRegression"
   ]
  },
  {
   "cell_type": "markdown",
   "id": "0ce60dea",
   "metadata": {},
   "source": [
    "### Final estimator: logistic regression\n",
    "With KNN"
   ]
  },
  {
   "cell_type": "code",
   "execution_count": 44,
   "id": "38ed3feb",
   "metadata": {},
   "outputs": [],
   "source": [
    "stack_1 = StackingClassifier(\n",
    "    estimators = [\n",
    "        ('rf', random_forest),\n",
    "        ('xgb', xgboost_clf),\n",
    "        ('knn', knn),\n",
    "        ('ada', ada)\n",
    "    ],\n",
    "    final_estimator=LogisticRegression(),\n",
    "    cv=5,\n",
    "    verbose=3\n",
    ")"
   ]
  },
  {
   "cell_type": "code",
   "execution_count": 45,
   "id": "ff7e240d",
   "metadata": {},
   "outputs": [
    {
     "name": "stderr",
     "output_type": "stream",
     "text": [
      "[Parallel(n_jobs=1)]: Using backend SequentialBackend with 1 concurrent workers.\n",
      "[Parallel(n_jobs=1)]: Done   1 out of   1 | elapsed:    3.5s remaining:    0.0s\n",
      "[Parallel(n_jobs=1)]: Done   2 out of   2 | elapsed:    6.8s remaining:    0.0s\n",
      "[Parallel(n_jobs=1)]: Done   5 out of   5 | elapsed:   17.0s finished\n",
      "[Parallel(n_jobs=1)]: Using backend SequentialBackend with 1 concurrent workers.\n",
      "[Parallel(n_jobs=1)]: Done   1 out of   1 | elapsed:    0.6s remaining:    0.0s\n",
      "[Parallel(n_jobs=1)]: Done   2 out of   2 | elapsed:    1.2s remaining:    0.0s\n",
      "[Parallel(n_jobs=1)]: Done   5 out of   5 | elapsed:    3.1s finished\n",
      "[Parallel(n_jobs=1)]: Using backend SequentialBackend with 1 concurrent workers.\n",
      "[Parallel(n_jobs=1)]: Done   1 out of   1 | elapsed:    0.7s remaining:    0.0s\n",
      "[Parallel(n_jobs=1)]: Done   2 out of   2 | elapsed:    1.3s remaining:    0.0s\n",
      "[Parallel(n_jobs=1)]: Done   5 out of   5 | elapsed:    3.3s finished\n",
      "[Parallel(n_jobs=1)]: Using backend SequentialBackend with 1 concurrent workers.\n",
      "[Parallel(n_jobs=1)]: Done   1 out of   1 | elapsed:    2.2s remaining:    0.0s\n",
      "[Parallel(n_jobs=1)]: Done   2 out of   2 | elapsed:    4.3s remaining:    0.0s\n",
      "[Parallel(n_jobs=1)]: Done   5 out of   5 | elapsed:   10.6s finished\n",
      "[Parallel(n_jobs=1)]: Using backend SequentialBackend with 1 concurrent workers.\n",
      "[Parallel(n_jobs=1)]: Done   1 out of   1 | elapsed:    3.3s remaining:    0.0s\n",
      "[Parallel(n_jobs=1)]: Done   2 out of   2 | elapsed:    6.8s remaining:    0.0s\n",
      "[Parallel(n_jobs=1)]: Done   5 out of   5 | elapsed:   16.8s finished\n",
      "[Parallel(n_jobs=1)]: Using backend SequentialBackend with 1 concurrent workers.\n",
      "[Parallel(n_jobs=1)]: Done   1 out of   1 | elapsed:    0.6s remaining:    0.0s\n",
      "[Parallel(n_jobs=1)]: Done   2 out of   2 | elapsed:    1.2s remaining:    0.0s\n",
      "[Parallel(n_jobs=1)]: Done   5 out of   5 | elapsed:    3.2s finished\n",
      "[Parallel(n_jobs=1)]: Using backend SequentialBackend with 1 concurrent workers.\n",
      "[Parallel(n_jobs=1)]: Done   1 out of   1 | elapsed:    0.7s remaining:    0.0s\n",
      "[Parallel(n_jobs=1)]: Done   2 out of   2 | elapsed:    1.3s remaining:    0.0s\n",
      "[Parallel(n_jobs=1)]: Done   5 out of   5 | elapsed:    3.2s finished\n",
      "[Parallel(n_jobs=1)]: Using backend SequentialBackend with 1 concurrent workers.\n",
      "[Parallel(n_jobs=1)]: Done   1 out of   1 | elapsed:    2.0s remaining:    0.0s\n",
      "[Parallel(n_jobs=1)]: Done   2 out of   2 | elapsed:    4.1s remaining:    0.0s\n",
      "[Parallel(n_jobs=1)]: Done   5 out of   5 | elapsed:   10.0s finished\n",
      "[Parallel(n_jobs=1)]: Using backend SequentialBackend with 1 concurrent workers.\n",
      "[Parallel(n_jobs=1)]: Done   1 out of   1 | elapsed:    3.4s remaining:    0.0s\n",
      "[Parallel(n_jobs=1)]: Done   2 out of   2 | elapsed:    6.8s remaining:    0.0s\n",
      "[Parallel(n_jobs=1)]: Done   5 out of   5 | elapsed:   16.9s finished\n",
      "[Parallel(n_jobs=1)]: Using backend SequentialBackend with 1 concurrent workers.\n",
      "[Parallel(n_jobs=1)]: Done   1 out of   1 | elapsed:    0.7s remaining:    0.0s\n",
      "[Parallel(n_jobs=1)]: Done   2 out of   2 | elapsed:    1.3s remaining:    0.0s\n",
      "[Parallel(n_jobs=1)]: Done   5 out of   5 | elapsed:    3.2s finished\n",
      "[Parallel(n_jobs=1)]: Using backend SequentialBackend with 1 concurrent workers.\n",
      "[Parallel(n_jobs=1)]: Done   1 out of   1 | elapsed:    0.7s remaining:    0.0s\n",
      "[Parallel(n_jobs=1)]: Done   2 out of   2 | elapsed:    1.3s remaining:    0.0s\n",
      "[Parallel(n_jobs=1)]: Done   5 out of   5 | elapsed:    3.2s finished\n",
      "[Parallel(n_jobs=1)]: Using backend SequentialBackend with 1 concurrent workers.\n",
      "[Parallel(n_jobs=1)]: Done   1 out of   1 | elapsed:    2.0s remaining:    0.0s\n",
      "[Parallel(n_jobs=1)]: Done   2 out of   2 | elapsed:    4.0s remaining:    0.0s\n",
      "[Parallel(n_jobs=1)]: Done   5 out of   5 | elapsed:   10.0s finished\n",
      "[Parallel(n_jobs=1)]: Using backend SequentialBackend with 1 concurrent workers.\n",
      "[Parallel(n_jobs=1)]: Done   1 out of   1 | elapsed:    3.4s remaining:    0.0s\n",
      "[Parallel(n_jobs=1)]: Done   2 out of   2 | elapsed:    6.9s remaining:    0.0s\n",
      "[Parallel(n_jobs=1)]: Done   5 out of   5 | elapsed:   17.0s finished\n",
      "[Parallel(n_jobs=1)]: Using backend SequentialBackend with 1 concurrent workers.\n",
      "[Parallel(n_jobs=1)]: Done   1 out of   1 | elapsed:    0.6s remaining:    0.0s\n",
      "[Parallel(n_jobs=1)]: Done   2 out of   2 | elapsed:    1.2s remaining:    0.0s\n",
      "[Parallel(n_jobs=1)]: Done   5 out of   5 | elapsed:    3.2s finished\n",
      "[Parallel(n_jobs=1)]: Using backend SequentialBackend with 1 concurrent workers.\n",
      "[Parallel(n_jobs=1)]: Done   1 out of   1 | elapsed:    0.7s remaining:    0.0s\n",
      "[Parallel(n_jobs=1)]: Done   2 out of   2 | elapsed:    1.3s remaining:    0.0s\n",
      "[Parallel(n_jobs=1)]: Done   5 out of   5 | elapsed:    3.2s finished\n",
      "[Parallel(n_jobs=1)]: Using backend SequentialBackend with 1 concurrent workers.\n",
      "[Parallel(n_jobs=1)]: Done   1 out of   1 | elapsed:    2.0s remaining:    0.0s\n",
      "[Parallel(n_jobs=1)]: Done   2 out of   2 | elapsed:    4.0s remaining:    0.0s\n",
      "[Parallel(n_jobs=1)]: Done   5 out of   5 | elapsed:    9.9s finished\n",
      "[Parallel(n_jobs=1)]: Using backend SequentialBackend with 1 concurrent workers.\n",
      "[Parallel(n_jobs=1)]: Done   1 out of   1 | elapsed:    3.4s remaining:    0.0s\n",
      "[Parallel(n_jobs=1)]: Done   2 out of   2 | elapsed:    6.8s remaining:    0.0s\n",
      "[Parallel(n_jobs=1)]: Done   5 out of   5 | elapsed:   16.8s finished\n",
      "[Parallel(n_jobs=1)]: Using backend SequentialBackend with 1 concurrent workers.\n",
      "[Parallel(n_jobs=1)]: Done   1 out of   1 | elapsed:    0.6s remaining:    0.0s\n",
      "[Parallel(n_jobs=1)]: Done   2 out of   2 | elapsed:    1.2s remaining:    0.0s\n",
      "[Parallel(n_jobs=1)]: Done   5 out of   5 | elapsed:    3.2s finished\n",
      "[Parallel(n_jobs=1)]: Using backend SequentialBackend with 1 concurrent workers.\n",
      "[Parallel(n_jobs=1)]: Done   1 out of   1 | elapsed:    0.7s remaining:    0.0s\n",
      "[Parallel(n_jobs=1)]: Done   2 out of   2 | elapsed:    1.4s remaining:    0.0s\n",
      "[Parallel(n_jobs=1)]: Done   5 out of   5 | elapsed:    3.3s finished\n",
      "[Parallel(n_jobs=1)]: Using backend SequentialBackend with 1 concurrent workers.\n",
      "[Parallel(n_jobs=1)]: Done   1 out of   1 | elapsed:    2.0s remaining:    0.0s\n",
      "[Parallel(n_jobs=1)]: Done   2 out of   2 | elapsed:    3.9s remaining:    0.0s\n",
      "[Parallel(n_jobs=1)]: Done   5 out of   5 | elapsed:    9.8s finished\n"
     ]
    }
   ],
   "source": [
    "%%chime\n",
    "scores_1 = cross_val_score(stack_1,\n",
    "                           X_train, y_train,\n",
    "                           scoring='roc_auc',\n",
    "                           cv=5)\n"
   ]
  },
  {
   "cell_type": "code",
   "execution_count": 47,
   "id": "6518d23b",
   "metadata": {
    "scrolled": true
   },
   "outputs": [
    {
     "data": {
      "text/plain": [
       "0.9521699145065291"
      ]
     },
     "execution_count": 47,
     "metadata": {},
     "output_type": "execute_result"
    }
   ],
   "source": [
    "scores_1.mean()"
   ]
  },
  {
   "cell_type": "code",
   "execution_count": 50,
   "id": "d5c96172",
   "metadata": {
    "scrolled": true
   },
   "outputs": [
    {
     "data": {
      "text/plain": [
       "0.00252548771723985"
      ]
     },
     "execution_count": 50,
     "metadata": {},
     "output_type": "execute_result"
    }
   ],
   "source": [
    "scores_1.std()"
   ]
  },
  {
   "cell_type": "markdown",
   "id": "88b854f1",
   "metadata": {},
   "source": [
    "### Final estimator: logistic regression\n",
    "Without KNN"
   ]
  },
  {
   "cell_type": "code",
   "execution_count": 51,
   "id": "cae71381",
   "metadata": {},
   "outputs": [],
   "source": [
    "stack_2 = StackingClassifier(\n",
    "    estimators = [\n",
    "        ('rf', random_forest),\n",
    "        ('xgb', xgboost_clf),\n",
    "        ('ada', ada)\n",
    "    ],\n",
    "    final_estimator=LogisticRegression(),\n",
    "    cv=5,\n",
    "    verbose=3\n",
    ")"
   ]
  },
  {
   "cell_type": "code",
   "execution_count": 52,
   "id": "8d585133",
   "metadata": {},
   "outputs": [
    {
     "name": "stderr",
     "output_type": "stream",
     "text": [
      "[Parallel(n_jobs=1)]: Using backend SequentialBackend with 1 concurrent workers.\n",
      "[Parallel(n_jobs=1)]: Done   1 out of   1 | elapsed:    3.5s remaining:    0.0s\n",
      "[Parallel(n_jobs=1)]: Done   2 out of   2 | elapsed:    6.9s remaining:    0.0s\n",
      "[Parallel(n_jobs=1)]: Done   5 out of   5 | elapsed:   17.1s finished\n",
      "[Parallel(n_jobs=1)]: Using backend SequentialBackend with 1 concurrent workers.\n",
      "[Parallel(n_jobs=1)]: Done   1 out of   1 | elapsed:    0.6s remaining:    0.0s\n",
      "[Parallel(n_jobs=1)]: Done   2 out of   2 | elapsed:    1.2s remaining:    0.0s\n",
      "[Parallel(n_jobs=1)]: Done   5 out of   5 | elapsed:    3.1s finished\n",
      "[Parallel(n_jobs=1)]: Using backend SequentialBackend with 1 concurrent workers.\n",
      "[Parallel(n_jobs=1)]: Done   1 out of   1 | elapsed:    2.0s remaining:    0.0s\n",
      "[Parallel(n_jobs=1)]: Done   2 out of   2 | elapsed:    3.9s remaining:    0.0s\n",
      "[Parallel(n_jobs=1)]: Done   5 out of   5 | elapsed:    9.8s finished\n",
      "[Parallel(n_jobs=1)]: Using backend SequentialBackend with 1 concurrent workers.\n",
      "[Parallel(n_jobs=1)]: Done   1 out of   1 | elapsed:    3.5s remaining:    0.0s\n",
      "[Parallel(n_jobs=1)]: Done   2 out of   2 | elapsed:    6.9s remaining:    0.0s\n",
      "[Parallel(n_jobs=1)]: Done   5 out of   5 | elapsed:   17.1s finished\n",
      "[Parallel(n_jobs=1)]: Using backend SequentialBackend with 1 concurrent workers.\n",
      "[Parallel(n_jobs=1)]: Done   1 out of   1 | elapsed:    0.6s remaining:    0.0s\n",
      "[Parallel(n_jobs=1)]: Done   2 out of   2 | elapsed:    1.3s remaining:    0.0s\n",
      "[Parallel(n_jobs=1)]: Done   5 out of   5 | elapsed:    3.2s finished\n",
      "[Parallel(n_jobs=1)]: Using backend SequentialBackend with 1 concurrent workers.\n",
      "[Parallel(n_jobs=1)]: Done   1 out of   1 | elapsed:    2.0s remaining:    0.0s\n",
      "[Parallel(n_jobs=1)]: Done   2 out of   2 | elapsed:    3.9s remaining:    0.0s\n",
      "[Parallel(n_jobs=1)]: Done   5 out of   5 | elapsed:    9.8s finished\n",
      "[Parallel(n_jobs=1)]: Using backend SequentialBackend with 1 concurrent workers.\n",
      "[Parallel(n_jobs=1)]: Done   1 out of   1 | elapsed:    3.4s remaining:    0.0s\n",
      "[Parallel(n_jobs=1)]: Done   2 out of   2 | elapsed:    6.8s remaining:    0.0s\n",
      "[Parallel(n_jobs=1)]: Done   5 out of   5 | elapsed:   16.9s finished\n",
      "[Parallel(n_jobs=1)]: Using backend SequentialBackend with 1 concurrent workers.\n",
      "[Parallel(n_jobs=1)]: Done   1 out of   1 | elapsed:    0.7s remaining:    0.0s\n",
      "[Parallel(n_jobs=1)]: Done   2 out of   2 | elapsed:    1.3s remaining:    0.0s\n",
      "[Parallel(n_jobs=1)]: Done   5 out of   5 | elapsed:    3.2s finished\n",
      "[Parallel(n_jobs=1)]: Using backend SequentialBackend with 1 concurrent workers.\n",
      "[Parallel(n_jobs=1)]: Done   1 out of   1 | elapsed:    2.0s remaining:    0.0s\n",
      "[Parallel(n_jobs=1)]: Done   2 out of   2 | elapsed:    3.9s remaining:    0.0s\n",
      "[Parallel(n_jobs=1)]: Done   5 out of   5 | elapsed:    9.8s finished\n",
      "[Parallel(n_jobs=1)]: Using backend SequentialBackend with 1 concurrent workers.\n",
      "[Parallel(n_jobs=1)]: Done   1 out of   1 | elapsed:    3.4s remaining:    0.0s\n",
      "[Parallel(n_jobs=1)]: Done   2 out of   2 | elapsed:    7.2s remaining:    0.0s\n",
      "[Parallel(n_jobs=1)]: Done   5 out of   5 | elapsed:   17.5s finished\n",
      "[Parallel(n_jobs=1)]: Using backend SequentialBackend with 1 concurrent workers.\n",
      "[Parallel(n_jobs=1)]: Done   1 out of   1 | elapsed:    0.6s remaining:    0.0s\n",
      "[Parallel(n_jobs=1)]: Done   2 out of   2 | elapsed:    1.2s remaining:    0.0s\n",
      "[Parallel(n_jobs=1)]: Done   5 out of   5 | elapsed:    3.0s finished\n",
      "[Parallel(n_jobs=1)]: Using backend SequentialBackend with 1 concurrent workers.\n",
      "[Parallel(n_jobs=1)]: Done   1 out of   1 | elapsed:    2.0s remaining:    0.0s\n",
      "[Parallel(n_jobs=1)]: Done   2 out of   2 | elapsed:    4.0s remaining:    0.0s\n",
      "[Parallel(n_jobs=1)]: Done   5 out of   5 | elapsed:    9.9s finished\n",
      "[Parallel(n_jobs=1)]: Using backend SequentialBackend with 1 concurrent workers.\n",
      "[Parallel(n_jobs=1)]: Done   1 out of   1 | elapsed:    3.4s remaining:    0.0s\n",
      "[Parallel(n_jobs=1)]: Done   2 out of   2 | elapsed:    6.8s remaining:    0.0s\n",
      "[Parallel(n_jobs=1)]: Done   5 out of   5 | elapsed:   16.9s finished\n",
      "[Parallel(n_jobs=1)]: Using backend SequentialBackend with 1 concurrent workers.\n",
      "[Parallel(n_jobs=1)]: Done   1 out of   1 | elapsed:    0.6s remaining:    0.0s\n",
      "[Parallel(n_jobs=1)]: Done   2 out of   2 | elapsed:    1.2s remaining:    0.0s\n",
      "[Parallel(n_jobs=1)]: Done   5 out of   5 | elapsed:    3.2s finished\n",
      "[Parallel(n_jobs=1)]: Using backend SequentialBackend with 1 concurrent workers.\n",
      "[Parallel(n_jobs=1)]: Done   1 out of   1 | elapsed:    2.0s remaining:    0.0s\n",
      "[Parallel(n_jobs=1)]: Done   2 out of   2 | elapsed:    4.0s remaining:    0.0s\n",
      "[Parallel(n_jobs=1)]: Done   5 out of   5 | elapsed:    9.9s finished\n"
     ]
    }
   ],
   "source": [
    "%%chime\n",
    "scores_2 = cross_val_score(stack_2,\n",
    "                           X_train, y_train,\n",
    "                           scoring='roc_auc',\n",
    "                           cv=5)\n"
   ]
  },
  {
   "cell_type": "code",
   "execution_count": 53,
   "id": "e8ee2b3e",
   "metadata": {
    "scrolled": true
   },
   "outputs": [
    {
     "data": {
      "text/plain": [
       "0.9521038208466376"
      ]
     },
     "execution_count": 53,
     "metadata": {},
     "output_type": "execute_result"
    }
   ],
   "source": [
    "scores_2.mean()"
   ]
  },
  {
   "cell_type": "code",
   "execution_count": 54,
   "id": "7d404d5c",
   "metadata": {
    "scrolled": false
   },
   "outputs": [
    {
     "data": {
      "text/plain": [
       "0.0022942235486286453"
      ]
     },
     "execution_count": 54,
     "metadata": {},
     "output_type": "execute_result"
    }
   ],
   "source": [
    "scores_2.std()"
   ]
  },
  {
   "cell_type": "markdown",
   "id": "6e1f54c0",
   "metadata": {},
   "source": [
    "### Final estimator: XGBoost\n",
    "Without KNN"
   ]
  },
  {
   "cell_type": "code",
   "execution_count": 23,
   "id": "c484608a",
   "metadata": {},
   "outputs": [],
   "source": [
    "from sklearn.ensemble import StackingClassifier"
   ]
  },
  {
   "cell_type": "code",
   "execution_count": 24,
   "id": "7c3ef8df",
   "metadata": {},
   "outputs": [],
   "source": [
    "stack_3 = StackingClassifier(\n",
    "    estimators = [\n",
    "        ('rf', random_forest),\n",
    "        ('ada', ada)\n",
    "    ],\n",
    "    final_estimator=XGBClassifier(random_state=8,\n",
    "                                 max_leaves=0,\n",
    "                                 n_jobs=-1),\n",
    "    cv=5,\n",
    ")"
   ]
  },
  {
   "cell_type": "markdown",
   "id": "bfb05fb5",
   "metadata": {},
   "source": [
    "params = {\n",
    "    'final_estimator__n_estimators': [25, 50, 100],\n",
    "    'final_estimator__max_depth': [2, 4, 6],\n",
    "    'final_estimator__learning_rate': [0.01, 0.1, 0.3],\n",
    "    'final_estimator__reg_alpha': [0, 0.1],\n",
    "    'final_estimator__reg_lambda': [0, 0.1]\n",
    "}"
   ]
  },
  {
   "cell_type": "code",
   "execution_count": 41,
   "id": "5108ed6b",
   "metadata": {},
   "outputs": [],
   "source": [
    "params = {\n",
    "    'final_estimator__n_estimators': [70, 100, 150, 200],\n",
    "    'final_estimator__max_depth': [2, 3],\n",
    "    'final_estimator__learning_rate': [0.05, 0.1, 0.2],\n",
    "    'final_estimator__reg_alpha': [0.1],\n",
    "    'final_estimator__reg_lambda': [0.1]\n",
    "}"
   ]
  },
  {
   "cell_type": "code",
   "execution_count": 42,
   "id": "66c684e5",
   "metadata": {},
   "outputs": [],
   "source": [
    "model_3 = GridSearchCV(estimator=stack_3,\n",
    "                     param_grid=params,\n",
    "                     scoring='roc_auc',\n",
    "                     cv = 5,\n",
    "                    verbose = 3)"
   ]
  },
  {
   "cell_type": "code",
   "execution_count": 43,
   "id": "42cfcbdf",
   "metadata": {
    "scrolled": true
   },
   "outputs": [
    {
     "name": "stdout",
     "output_type": "stream",
     "text": [
      "Fitting 5 folds for each of 24 candidates, totalling 120 fits\n",
      "[CV 1/5] END final_estimator__learning_rate=0.05, final_estimator__max_depth=2, final_estimator__n_estimators=70, final_estimator__reg_alpha=0.1, final_estimator__reg_lambda=0.1;, score=0.950 total time=  33.7s\n",
      "[CV 2/5] END final_estimator__learning_rate=0.05, final_estimator__max_depth=2, final_estimator__n_estimators=70, final_estimator__reg_alpha=0.1, final_estimator__reg_lambda=0.1;, score=0.955 total time=  33.1s\n",
      "[CV 3/5] END final_estimator__learning_rate=0.05, final_estimator__max_depth=2, final_estimator__n_estimators=70, final_estimator__reg_alpha=0.1, final_estimator__reg_lambda=0.1;, score=0.950 total time=  33.0s\n",
      "[CV 4/5] END final_estimator__learning_rate=0.05, final_estimator__max_depth=2, final_estimator__n_estimators=70, final_estimator__reg_alpha=0.1, final_estimator__reg_lambda=0.1;, score=0.954 total time=  33.5s\n",
      "[CV 5/5] END final_estimator__learning_rate=0.05, final_estimator__max_depth=2, final_estimator__n_estimators=70, final_estimator__reg_alpha=0.1, final_estimator__reg_lambda=0.1;, score=0.950 total time=  33.0s\n",
      "[CV 1/5] END final_estimator__learning_rate=0.05, final_estimator__max_depth=2, final_estimator__n_estimators=100, final_estimator__reg_alpha=0.1, final_estimator__reg_lambda=0.1;, score=0.950 total time=  33.5s\n",
      "[CV 2/5] END final_estimator__learning_rate=0.05, final_estimator__max_depth=2, final_estimator__n_estimators=100, final_estimator__reg_alpha=0.1, final_estimator__reg_lambda=0.1;, score=0.955 total time=  33.9s\n",
      "[CV 3/5] END final_estimator__learning_rate=0.05, final_estimator__max_depth=2, final_estimator__n_estimators=100, final_estimator__reg_alpha=0.1, final_estimator__reg_lambda=0.1;, score=0.950 total time=  33.1s\n",
      "[CV 4/5] END final_estimator__learning_rate=0.05, final_estimator__max_depth=2, final_estimator__n_estimators=100, final_estimator__reg_alpha=0.1, final_estimator__reg_lambda=0.1;, score=0.954 total time=  33.2s\n",
      "[CV 5/5] END final_estimator__learning_rate=0.05, final_estimator__max_depth=2, final_estimator__n_estimators=100, final_estimator__reg_alpha=0.1, final_estimator__reg_lambda=0.1;, score=0.950 total time=  33.0s\n",
      "[CV 1/5] END final_estimator__learning_rate=0.05, final_estimator__max_depth=2, final_estimator__n_estimators=150, final_estimator__reg_alpha=0.1, final_estimator__reg_lambda=0.1;, score=0.951 total time=  33.3s\n",
      "[CV 2/5] END final_estimator__learning_rate=0.05, final_estimator__max_depth=2, final_estimator__n_estimators=150, final_estimator__reg_alpha=0.1, final_estimator__reg_lambda=0.1;, score=0.956 total time=  36.8s\n",
      "[CV 3/5] END final_estimator__learning_rate=0.05, final_estimator__max_depth=2, final_estimator__n_estimators=150, final_estimator__reg_alpha=0.1, final_estimator__reg_lambda=0.1;, score=0.950 total time=  33.4s\n",
      "[CV 4/5] END final_estimator__learning_rate=0.05, final_estimator__max_depth=2, final_estimator__n_estimators=150, final_estimator__reg_alpha=0.1, final_estimator__reg_lambda=0.1;, score=0.954 total time=  33.3s\n",
      "[CV 5/5] END final_estimator__learning_rate=0.05, final_estimator__max_depth=2, final_estimator__n_estimators=150, final_estimator__reg_alpha=0.1, final_estimator__reg_lambda=0.1;, score=0.951 total time=  33.2s\n",
      "[CV 1/5] END final_estimator__learning_rate=0.05, final_estimator__max_depth=2, final_estimator__n_estimators=200, final_estimator__reg_alpha=0.1, final_estimator__reg_lambda=0.1;, score=0.951 total time=  34.3s\n",
      "[CV 2/5] END final_estimator__learning_rate=0.05, final_estimator__max_depth=2, final_estimator__n_estimators=200, final_estimator__reg_alpha=0.1, final_estimator__reg_lambda=0.1;, score=0.956 total time=  33.6s\n",
      "[CV 3/5] END final_estimator__learning_rate=0.05, final_estimator__max_depth=2, final_estimator__n_estimators=200, final_estimator__reg_alpha=0.1, final_estimator__reg_lambda=0.1;, score=0.950 total time=  33.5s\n",
      "[CV 4/5] END final_estimator__learning_rate=0.05, final_estimator__max_depth=2, final_estimator__n_estimators=200, final_estimator__reg_alpha=0.1, final_estimator__reg_lambda=0.1;, score=0.954 total time=  33.4s\n",
      "[CV 5/5] END final_estimator__learning_rate=0.05, final_estimator__max_depth=2, final_estimator__n_estimators=200, final_estimator__reg_alpha=0.1, final_estimator__reg_lambda=0.1;, score=0.950 total time=  33.2s\n",
      "[CV 1/5] END final_estimator__learning_rate=0.05, final_estimator__max_depth=3, final_estimator__n_estimators=70, final_estimator__reg_alpha=0.1, final_estimator__reg_lambda=0.1;, score=0.950 total time=  33.3s\n",
      "[CV 2/5] END final_estimator__learning_rate=0.05, final_estimator__max_depth=3, final_estimator__n_estimators=70, final_estimator__reg_alpha=0.1, final_estimator__reg_lambda=0.1;, score=0.955 total time=  33.2s\n",
      "[CV 3/5] END final_estimator__learning_rate=0.05, final_estimator__max_depth=3, final_estimator__n_estimators=70, final_estimator__reg_alpha=0.1, final_estimator__reg_lambda=0.1;, score=0.950 total time=  33.2s\n",
      "[CV 4/5] END final_estimator__learning_rate=0.05, final_estimator__max_depth=3, final_estimator__n_estimators=70, final_estimator__reg_alpha=0.1, final_estimator__reg_lambda=0.1;, score=0.954 total time=  33.7s\n",
      "[CV 5/5] END final_estimator__learning_rate=0.05, final_estimator__max_depth=3, final_estimator__n_estimators=70, final_estimator__reg_alpha=0.1, final_estimator__reg_lambda=0.1;, score=0.950 total time=  33.2s\n",
      "[CV 1/5] END final_estimator__learning_rate=0.05, final_estimator__max_depth=3, final_estimator__n_estimators=100, final_estimator__reg_alpha=0.1, final_estimator__reg_lambda=0.1;, score=0.950 total time=  33.1s\n",
      "[CV 2/5] END final_estimator__learning_rate=0.05, final_estimator__max_depth=3, final_estimator__n_estimators=100, final_estimator__reg_alpha=0.1, final_estimator__reg_lambda=0.1;, score=0.955 total time=  33.4s\n",
      "[CV 3/5] END final_estimator__learning_rate=0.05, final_estimator__max_depth=3, final_estimator__n_estimators=100, final_estimator__reg_alpha=0.1, final_estimator__reg_lambda=0.1;, score=0.950 total time=  33.2s\n",
      "[CV 4/5] END final_estimator__learning_rate=0.05, final_estimator__max_depth=3, final_estimator__n_estimators=100, final_estimator__reg_alpha=0.1, final_estimator__reg_lambda=0.1;, score=0.954 total time=  33.3s\n",
      "[CV 5/5] END final_estimator__learning_rate=0.05, final_estimator__max_depth=3, final_estimator__n_estimators=100, final_estimator__reg_alpha=0.1, final_estimator__reg_lambda=0.1;, score=0.950 total time=  33.0s\n",
      "[CV 1/5] END final_estimator__learning_rate=0.05, final_estimator__max_depth=3, final_estimator__n_estimators=150, final_estimator__reg_alpha=0.1, final_estimator__reg_lambda=0.1;, score=0.950 total time=  33.4s\n",
      "[CV 2/5] END final_estimator__learning_rate=0.05, final_estimator__max_depth=3, final_estimator__n_estimators=150, final_estimator__reg_alpha=0.1, final_estimator__reg_lambda=0.1;, score=0.955 total time=  33.5s\n",
      "[CV 3/5] END final_estimator__learning_rate=0.05, final_estimator__max_depth=3, final_estimator__n_estimators=150, final_estimator__reg_alpha=0.1, final_estimator__reg_lambda=0.1;, score=0.950 total time=  33.3s\n",
      "[CV 4/5] END final_estimator__learning_rate=0.05, final_estimator__max_depth=3, final_estimator__n_estimators=150, final_estimator__reg_alpha=0.1, final_estimator__reg_lambda=0.1;, score=0.954 total time=  33.5s\n",
      "[CV 5/5] END final_estimator__learning_rate=0.05, final_estimator__max_depth=3, final_estimator__n_estimators=150, final_estimator__reg_alpha=0.1, final_estimator__reg_lambda=0.1;, score=0.950 total time=  33.1s\n",
      "[CV 1/5] END final_estimator__learning_rate=0.05, final_estimator__max_depth=3, final_estimator__n_estimators=200, final_estimator__reg_alpha=0.1, final_estimator__reg_lambda=0.1;, score=0.950 total time=  33.3s\n",
      "[CV 2/5] END final_estimator__learning_rate=0.05, final_estimator__max_depth=3, final_estimator__n_estimators=200, final_estimator__reg_alpha=0.1, final_estimator__reg_lambda=0.1;, score=0.955 total time=  33.6s\n",
      "[CV 3/5] END final_estimator__learning_rate=0.05, final_estimator__max_depth=3, final_estimator__n_estimators=200, final_estimator__reg_alpha=0.1, final_estimator__reg_lambda=0.1;, score=0.950 total time=  33.5s\n",
      "[CV 4/5] END final_estimator__learning_rate=0.05, final_estimator__max_depth=3, final_estimator__n_estimators=200, final_estimator__reg_alpha=0.1, final_estimator__reg_lambda=0.1;, score=0.954 total time=  33.6s\n"
     ]
    },
    {
     "name": "stdout",
     "output_type": "stream",
     "text": [
      "[CV 5/5] END final_estimator__learning_rate=0.05, final_estimator__max_depth=3, final_estimator__n_estimators=200, final_estimator__reg_alpha=0.1, final_estimator__reg_lambda=0.1;, score=0.950 total time=  33.4s\n",
      "[CV 1/5] END final_estimator__learning_rate=0.1, final_estimator__max_depth=2, final_estimator__n_estimators=70, final_estimator__reg_alpha=0.1, final_estimator__reg_lambda=0.1;, score=0.951 total time=  33.1s\n",
      "[CV 2/5] END final_estimator__learning_rate=0.1, final_estimator__max_depth=2, final_estimator__n_estimators=70, final_estimator__reg_alpha=0.1, final_estimator__reg_lambda=0.1;, score=0.956 total time=  33.2s\n",
      "[CV 3/5] END final_estimator__learning_rate=0.1, final_estimator__max_depth=2, final_estimator__n_estimators=70, final_estimator__reg_alpha=0.1, final_estimator__reg_lambda=0.1;, score=0.950 total time=  33.2s\n",
      "[CV 4/5] END final_estimator__learning_rate=0.1, final_estimator__max_depth=2, final_estimator__n_estimators=70, final_estimator__reg_alpha=0.1, final_estimator__reg_lambda=0.1;, score=0.954 total time=  33.4s\n",
      "[CV 5/5] END final_estimator__learning_rate=0.1, final_estimator__max_depth=2, final_estimator__n_estimators=70, final_estimator__reg_alpha=0.1, final_estimator__reg_lambda=0.1;, score=0.951 total time=  33.0s\n",
      "[CV 1/5] END final_estimator__learning_rate=0.1, final_estimator__max_depth=2, final_estimator__n_estimators=100, final_estimator__reg_alpha=0.1, final_estimator__reg_lambda=0.1;, score=0.951 total time=  33.2s\n",
      "[CV 2/5] END final_estimator__learning_rate=0.1, final_estimator__max_depth=2, final_estimator__n_estimators=100, final_estimator__reg_alpha=0.1, final_estimator__reg_lambda=0.1;, score=0.956 total time=  33.3s\n",
      "[CV 3/5] END final_estimator__learning_rate=0.1, final_estimator__max_depth=2, final_estimator__n_estimators=100, final_estimator__reg_alpha=0.1, final_estimator__reg_lambda=0.1;, score=0.951 total time=  33.1s\n",
      "[CV 4/5] END final_estimator__learning_rate=0.1, final_estimator__max_depth=2, final_estimator__n_estimators=100, final_estimator__reg_alpha=0.1, final_estimator__reg_lambda=0.1;, score=0.954 total time=  33.2s\n",
      "[CV 5/5] END final_estimator__learning_rate=0.1, final_estimator__max_depth=2, final_estimator__n_estimators=100, final_estimator__reg_alpha=0.1, final_estimator__reg_lambda=0.1;, score=0.951 total time=  33.1s\n",
      "[CV 1/5] END final_estimator__learning_rate=0.1, final_estimator__max_depth=2, final_estimator__n_estimators=150, final_estimator__reg_alpha=0.1, final_estimator__reg_lambda=0.1;, score=0.950 total time=  33.6s\n",
      "[CV 2/5] END final_estimator__learning_rate=0.1, final_estimator__max_depth=2, final_estimator__n_estimators=150, final_estimator__reg_alpha=0.1, final_estimator__reg_lambda=0.1;, score=0.955 total time=  33.4s\n",
      "[CV 3/5] END final_estimator__learning_rate=0.1, final_estimator__max_depth=2, final_estimator__n_estimators=150, final_estimator__reg_alpha=0.1, final_estimator__reg_lambda=0.1;, score=0.950 total time=  33.1s\n",
      "[CV 4/5] END final_estimator__learning_rate=0.1, final_estimator__max_depth=2, final_estimator__n_estimators=150, final_estimator__reg_alpha=0.1, final_estimator__reg_lambda=0.1;, score=0.954 total time=  33.5s\n",
      "[CV 5/5] END final_estimator__learning_rate=0.1, final_estimator__max_depth=2, final_estimator__n_estimators=150, final_estimator__reg_alpha=0.1, final_estimator__reg_lambda=0.1;, score=0.950 total time=  33.2s\n",
      "[CV 1/5] END final_estimator__learning_rate=0.1, final_estimator__max_depth=2, final_estimator__n_estimators=200, final_estimator__reg_alpha=0.1, final_estimator__reg_lambda=0.1;, score=0.950 total time=  33.2s\n",
      "[CV 2/5] END final_estimator__learning_rate=0.1, final_estimator__max_depth=2, final_estimator__n_estimators=200, final_estimator__reg_alpha=0.1, final_estimator__reg_lambda=0.1;, score=0.955 total time=  33.4s\n",
      "[CV 3/5] END final_estimator__learning_rate=0.1, final_estimator__max_depth=2, final_estimator__n_estimators=200, final_estimator__reg_alpha=0.1, final_estimator__reg_lambda=0.1;, score=0.950 total time=  33.5s\n",
      "[CV 4/5] END final_estimator__learning_rate=0.1, final_estimator__max_depth=2, final_estimator__n_estimators=200, final_estimator__reg_alpha=0.1, final_estimator__reg_lambda=0.1;, score=0.953 total time=  35.4s\n",
      "[CV 5/5] END final_estimator__learning_rate=0.1, final_estimator__max_depth=2, final_estimator__n_estimators=200, final_estimator__reg_alpha=0.1, final_estimator__reg_lambda=0.1;, score=0.950 total time=  33.1s\n",
      "[CV 1/5] END final_estimator__learning_rate=0.1, final_estimator__max_depth=3, final_estimator__n_estimators=70, final_estimator__reg_alpha=0.1, final_estimator__reg_lambda=0.1;, score=0.950 total time=  33.6s\n",
      "[CV 2/5] END final_estimator__learning_rate=0.1, final_estimator__max_depth=3, final_estimator__n_estimators=70, final_estimator__reg_alpha=0.1, final_estimator__reg_lambda=0.1;, score=0.955 total time=  33.1s\n",
      "[CV 3/5] END final_estimator__learning_rate=0.1, final_estimator__max_depth=3, final_estimator__n_estimators=70, final_estimator__reg_alpha=0.1, final_estimator__reg_lambda=0.1;, score=0.950 total time=  33.1s\n",
      "[CV 4/5] END final_estimator__learning_rate=0.1, final_estimator__max_depth=3, final_estimator__n_estimators=70, final_estimator__reg_alpha=0.1, final_estimator__reg_lambda=0.1;, score=0.954 total time=  33.2s\n",
      "[CV 5/5] END final_estimator__learning_rate=0.1, final_estimator__max_depth=3, final_estimator__n_estimators=70, final_estimator__reg_alpha=0.1, final_estimator__reg_lambda=0.1;, score=0.950 total time=  33.0s\n",
      "[CV 1/5] END final_estimator__learning_rate=0.1, final_estimator__max_depth=3, final_estimator__n_estimators=100, final_estimator__reg_alpha=0.1, final_estimator__reg_lambda=0.1;, score=0.950 total time=  33.1s\n",
      "[CV 2/5] END final_estimator__learning_rate=0.1, final_estimator__max_depth=3, final_estimator__n_estimators=100, final_estimator__reg_alpha=0.1, final_estimator__reg_lambda=0.1;, score=0.955 total time=  33.3s\n",
      "[CV 3/5] END final_estimator__learning_rate=0.1, final_estimator__max_depth=3, final_estimator__n_estimators=100, final_estimator__reg_alpha=0.1, final_estimator__reg_lambda=0.1;, score=0.950 total time=  33.4s\n",
      "[CV 4/5] END final_estimator__learning_rate=0.1, final_estimator__max_depth=3, final_estimator__n_estimators=100, final_estimator__reg_alpha=0.1, final_estimator__reg_lambda=0.1;, score=0.954 total time=  33.4s\n",
      "[CV 5/5] END final_estimator__learning_rate=0.1, final_estimator__max_depth=3, final_estimator__n_estimators=100, final_estimator__reg_alpha=0.1, final_estimator__reg_lambda=0.1;, score=0.950 total time=  33.0s\n",
      "[CV 1/5] END final_estimator__learning_rate=0.1, final_estimator__max_depth=3, final_estimator__n_estimators=150, final_estimator__reg_alpha=0.1, final_estimator__reg_lambda=0.1;, score=0.950 total time=  33.4s\n",
      "[CV 2/5] END final_estimator__learning_rate=0.1, final_estimator__max_depth=3, final_estimator__n_estimators=150, final_estimator__reg_alpha=0.1, final_estimator__reg_lambda=0.1;, score=0.955 total time=  33.5s\n",
      "[CV 3/5] END final_estimator__learning_rate=0.1, final_estimator__max_depth=3, final_estimator__n_estimators=150, final_estimator__reg_alpha=0.1, final_estimator__reg_lambda=0.1;, score=0.950 total time=  33.4s\n",
      "[CV 4/5] END final_estimator__learning_rate=0.1, final_estimator__max_depth=3, final_estimator__n_estimators=150, final_estimator__reg_alpha=0.1, final_estimator__reg_lambda=0.1;, score=0.953 total time=  33.4s\n",
      "[CV 5/5] END final_estimator__learning_rate=0.1, final_estimator__max_depth=3, final_estimator__n_estimators=150, final_estimator__reg_alpha=0.1, final_estimator__reg_lambda=0.1;, score=0.949 total time=  33.1s\n",
      "[CV 1/5] END final_estimator__learning_rate=0.1, final_estimator__max_depth=3, final_estimator__n_estimators=200, final_estimator__reg_alpha=0.1, final_estimator__reg_lambda=0.1;, score=0.950 total time=  33.4s\n",
      "[CV 2/5] END final_estimator__learning_rate=0.1, final_estimator__max_depth=3, final_estimator__n_estimators=200, final_estimator__reg_alpha=0.1, final_estimator__reg_lambda=0.1;, score=0.955 total time=  33.3s\n",
      "[CV 3/5] END final_estimator__learning_rate=0.1, final_estimator__max_depth=3, final_estimator__n_estimators=200, final_estimator__reg_alpha=0.1, final_estimator__reg_lambda=0.1;, score=0.950 total time=  33.6s\n"
     ]
    },
    {
     "name": "stdout",
     "output_type": "stream",
     "text": [
      "[CV 4/5] END final_estimator__learning_rate=0.1, final_estimator__max_depth=3, final_estimator__n_estimators=200, final_estimator__reg_alpha=0.1, final_estimator__reg_lambda=0.1;, score=0.953 total time=  33.7s\n",
      "[CV 5/5] END final_estimator__learning_rate=0.1, final_estimator__max_depth=3, final_estimator__n_estimators=200, final_estimator__reg_alpha=0.1, final_estimator__reg_lambda=0.1;, score=0.949 total time=  33.2s\n",
      "[CV 1/5] END final_estimator__learning_rate=0.2, final_estimator__max_depth=2, final_estimator__n_estimators=70, final_estimator__reg_alpha=0.1, final_estimator__reg_lambda=0.1;, score=0.950 total time=  34.7s\n",
      "[CV 2/5] END final_estimator__learning_rate=0.2, final_estimator__max_depth=2, final_estimator__n_estimators=70, final_estimator__reg_alpha=0.1, final_estimator__reg_lambda=0.1;, score=0.955 total time=  33.3s\n",
      "[CV 3/5] END final_estimator__learning_rate=0.2, final_estimator__max_depth=2, final_estimator__n_estimators=70, final_estimator__reg_alpha=0.1, final_estimator__reg_lambda=0.1;, score=0.950 total time=  33.0s\n",
      "[CV 4/5] END final_estimator__learning_rate=0.2, final_estimator__max_depth=2, final_estimator__n_estimators=70, final_estimator__reg_alpha=0.1, final_estimator__reg_lambda=0.1;, score=0.953 total time=  33.1s\n",
      "[CV 5/5] END final_estimator__learning_rate=0.2, final_estimator__max_depth=2, final_estimator__n_estimators=70, final_estimator__reg_alpha=0.1, final_estimator__reg_lambda=0.1;, score=0.950 total time=  33.3s\n",
      "[CV 1/5] END final_estimator__learning_rate=0.2, final_estimator__max_depth=2, final_estimator__n_estimators=100, final_estimator__reg_alpha=0.1, final_estimator__reg_lambda=0.1;, score=0.950 total time=  33.6s\n",
      "[CV 2/5] END final_estimator__learning_rate=0.2, final_estimator__max_depth=2, final_estimator__n_estimators=100, final_estimator__reg_alpha=0.1, final_estimator__reg_lambda=0.1;, score=0.955 total time=  33.2s\n",
      "[CV 3/5] END final_estimator__learning_rate=0.2, final_estimator__max_depth=2, final_estimator__n_estimators=100, final_estimator__reg_alpha=0.1, final_estimator__reg_lambda=0.1;, score=0.950 total time=  33.2s\n",
      "[CV 4/5] END final_estimator__learning_rate=0.2, final_estimator__max_depth=2, final_estimator__n_estimators=100, final_estimator__reg_alpha=0.1, final_estimator__reg_lambda=0.1;, score=0.953 total time=  33.4s\n",
      "[CV 5/5] END final_estimator__learning_rate=0.2, final_estimator__max_depth=2, final_estimator__n_estimators=100, final_estimator__reg_alpha=0.1, final_estimator__reg_lambda=0.1;, score=0.949 total time=  33.1s\n",
      "[CV 1/5] END final_estimator__learning_rate=0.2, final_estimator__max_depth=2, final_estimator__n_estimators=150, final_estimator__reg_alpha=0.1, final_estimator__reg_lambda=0.1;, score=0.950 total time=  33.2s\n",
      "[CV 2/5] END final_estimator__learning_rate=0.2, final_estimator__max_depth=2, final_estimator__n_estimators=150, final_estimator__reg_alpha=0.1, final_estimator__reg_lambda=0.1;, score=0.955 total time=  33.4s\n",
      "[CV 3/5] END final_estimator__learning_rate=0.2, final_estimator__max_depth=2, final_estimator__n_estimators=150, final_estimator__reg_alpha=0.1, final_estimator__reg_lambda=0.1;, score=0.950 total time=  33.3s\n",
      "[CV 4/5] END final_estimator__learning_rate=0.2, final_estimator__max_depth=2, final_estimator__n_estimators=150, final_estimator__reg_alpha=0.1, final_estimator__reg_lambda=0.1;, score=0.953 total time=  33.3s\n",
      "[CV 5/5] END final_estimator__learning_rate=0.2, final_estimator__max_depth=2, final_estimator__n_estimators=150, final_estimator__reg_alpha=0.1, final_estimator__reg_lambda=0.1;, score=0.948 total time=  33.3s\n",
      "[CV 1/5] END final_estimator__learning_rate=0.2, final_estimator__max_depth=2, final_estimator__n_estimators=200, final_estimator__reg_alpha=0.1, final_estimator__reg_lambda=0.1;, score=0.949 total time=  33.4s\n",
      "[CV 2/5] END final_estimator__learning_rate=0.2, final_estimator__max_depth=2, final_estimator__n_estimators=200, final_estimator__reg_alpha=0.1, final_estimator__reg_lambda=0.1;, score=0.955 total time=  33.4s\n",
      "[CV 3/5] END final_estimator__learning_rate=0.2, final_estimator__max_depth=2, final_estimator__n_estimators=200, final_estimator__reg_alpha=0.1, final_estimator__reg_lambda=0.1;, score=0.950 total time=  33.4s\n",
      "[CV 4/5] END final_estimator__learning_rate=0.2, final_estimator__max_depth=2, final_estimator__n_estimators=200, final_estimator__reg_alpha=0.1, final_estimator__reg_lambda=0.1;, score=0.952 total time=  33.4s\n",
      "[CV 5/5] END final_estimator__learning_rate=0.2, final_estimator__max_depth=2, final_estimator__n_estimators=200, final_estimator__reg_alpha=0.1, final_estimator__reg_lambda=0.1;, score=0.948 total time=  33.3s\n",
      "[CV 1/5] END final_estimator__learning_rate=0.2, final_estimator__max_depth=3, final_estimator__n_estimators=70, final_estimator__reg_alpha=0.1, final_estimator__reg_lambda=0.1;, score=0.950 total time=  33.1s\n",
      "[CV 2/5] END final_estimator__learning_rate=0.2, final_estimator__max_depth=3, final_estimator__n_estimators=70, final_estimator__reg_alpha=0.1, final_estimator__reg_lambda=0.1;, score=0.955 total time=  33.5s\n",
      "[CV 3/5] END final_estimator__learning_rate=0.2, final_estimator__max_depth=3, final_estimator__n_estimators=70, final_estimator__reg_alpha=0.1, final_estimator__reg_lambda=0.1;, score=0.950 total time=  33.2s\n",
      "[CV 4/5] END final_estimator__learning_rate=0.2, final_estimator__max_depth=3, final_estimator__n_estimators=70, final_estimator__reg_alpha=0.1, final_estimator__reg_lambda=0.1;, score=0.953 total time=  33.3s\n",
      "[CV 5/5] END final_estimator__learning_rate=0.2, final_estimator__max_depth=3, final_estimator__n_estimators=70, final_estimator__reg_alpha=0.1, final_estimator__reg_lambda=0.1;, score=0.949 total time=  33.1s\n",
      "[CV 1/5] END final_estimator__learning_rate=0.2, final_estimator__max_depth=3, final_estimator__n_estimators=100, final_estimator__reg_alpha=0.1, final_estimator__reg_lambda=0.1;, score=0.950 total time=  33.3s\n",
      "[CV 2/5] END final_estimator__learning_rate=0.2, final_estimator__max_depth=3, final_estimator__n_estimators=100, final_estimator__reg_alpha=0.1, final_estimator__reg_lambda=0.1;, score=0.954 total time=  33.2s\n",
      "[CV 3/5] END final_estimator__learning_rate=0.2, final_estimator__max_depth=3, final_estimator__n_estimators=100, final_estimator__reg_alpha=0.1, final_estimator__reg_lambda=0.1;, score=0.950 total time=  33.2s\n",
      "[CV 4/5] END final_estimator__learning_rate=0.2, final_estimator__max_depth=3, final_estimator__n_estimators=100, final_estimator__reg_alpha=0.1, final_estimator__reg_lambda=0.1;, score=0.952 total time=  33.4s\n",
      "[CV 5/5] END final_estimator__learning_rate=0.2, final_estimator__max_depth=3, final_estimator__n_estimators=100, final_estimator__reg_alpha=0.1, final_estimator__reg_lambda=0.1;, score=0.949 total time=  33.2s\n",
      "[CV 1/5] END final_estimator__learning_rate=0.2, final_estimator__max_depth=3, final_estimator__n_estimators=150, final_estimator__reg_alpha=0.1, final_estimator__reg_lambda=0.1;, score=0.949 total time=  33.4s\n",
      "[CV 2/5] END final_estimator__learning_rate=0.2, final_estimator__max_depth=3, final_estimator__n_estimators=150, final_estimator__reg_alpha=0.1, final_estimator__reg_lambda=0.1;, score=0.954 total time=  33.4s\n",
      "[CV 3/5] END final_estimator__learning_rate=0.2, final_estimator__max_depth=3, final_estimator__n_estimators=150, final_estimator__reg_alpha=0.1, final_estimator__reg_lambda=0.1;, score=0.949 total time=  33.5s\n",
      "[CV 4/5] END final_estimator__learning_rate=0.2, final_estimator__max_depth=3, final_estimator__n_estimators=150, final_estimator__reg_alpha=0.1, final_estimator__reg_lambda=0.1;, score=0.952 total time=  33.4s\n",
      "[CV 5/5] END final_estimator__learning_rate=0.2, final_estimator__max_depth=3, final_estimator__n_estimators=150, final_estimator__reg_alpha=0.1, final_estimator__reg_lambda=0.1;, score=0.948 total time=  33.5s\n",
      "[CV 1/5] END final_estimator__learning_rate=0.2, final_estimator__max_depth=3, final_estimator__n_estimators=200, final_estimator__reg_alpha=0.1, final_estimator__reg_lambda=0.1;, score=0.948 total time=  33.8s\n",
      "[CV 2/5] END final_estimator__learning_rate=0.2, final_estimator__max_depth=3, final_estimator__n_estimators=200, final_estimator__reg_alpha=0.1, final_estimator__reg_lambda=0.1;, score=0.953 total time=  33.6s\n"
     ]
    },
    {
     "name": "stdout",
     "output_type": "stream",
     "text": [
      "[CV 3/5] END final_estimator__learning_rate=0.2, final_estimator__max_depth=3, final_estimator__n_estimators=200, final_estimator__reg_alpha=0.1, final_estimator__reg_lambda=0.1;, score=0.948 total time=  33.6s\n",
      "[CV 4/5] END final_estimator__learning_rate=0.2, final_estimator__max_depth=3, final_estimator__n_estimators=200, final_estimator__reg_alpha=0.1, final_estimator__reg_lambda=0.1;, score=0.950 total time=  33.7s\n",
      "[CV 5/5] END final_estimator__learning_rate=0.2, final_estimator__max_depth=3, final_estimator__n_estimators=200, final_estimator__reg_alpha=0.1, final_estimator__reg_lambda=0.1;, score=0.947 total time=  33.3s\n",
      "CPU times: user 46min 28s, sys: 1min 43s, total: 48min 12s\n",
      "Wall time: 1h 7min 26s\n"
     ]
    }
   ],
   "source": [
    "%%time\n",
    "%%chime\n",
    "model_3.fit(X_train, y_train)"
   ]
  },
  {
   "cell_type": "code",
   "execution_count": 44,
   "id": "2076ea30",
   "metadata": {
    "scrolled": true
   },
   "outputs": [
    {
     "data": {
      "text/plain": [
       "{'final_estimator__learning_rate': 0.1,\n",
       " 'final_estimator__max_depth': 2,\n",
       " 'final_estimator__n_estimators': 70,\n",
       " 'final_estimator__reg_alpha': 0.1,\n",
       " 'final_estimator__reg_lambda': 0.1}"
      ]
     },
     "execution_count": 44,
     "metadata": {},
     "output_type": "execute_result"
    }
   ],
   "source": [
    "model_3.best_params_"
   ]
  },
  {
   "cell_type": "code",
   "execution_count": 45,
   "id": "b960fa3d",
   "metadata": {},
   "outputs": [
    {
     "data": {
      "text/plain": [
       "0.9521756314451568"
      ]
     },
     "execution_count": 45,
     "metadata": {},
     "output_type": "execute_result"
    }
   ],
   "source": [
    "model_3.best_score_"
   ]
  },
  {
   "cell_type": "code",
   "execution_count": 46,
   "id": "99c795ae",
   "metadata": {
    "scrolled": false
   },
   "outputs": [
    {
     "data": {
      "text/plain": [
       "count    24.000000\n",
       "mean      0.951557\n",
       "std       0.000716\n",
       "min       0.949249\n",
       "25%       0.951262\n",
       "50%       0.951865\n",
       "75%       0.952046\n",
       "max       0.952176\n",
       "dtype: float64"
      ]
     },
     "execution_count": 46,
     "metadata": {},
     "output_type": "execute_result"
    }
   ],
   "source": [
    "pd.Series(model_3.cv_results_['mean_test_score']).describe()"
   ]
  },
  {
   "cell_type": "markdown",
   "id": "5d178816",
   "metadata": {},
   "source": [
    "### With KNN"
   ]
  },
  {
   "cell_type": "code",
   "execution_count": 49,
   "id": "18d3f851",
   "metadata": {},
   "outputs": [],
   "source": [
    "stack_4 = StackingClassifier(\n",
    "    estimators = [\n",
    "        ('rf', random_forest),\n",
    "        ('knn', knn),\n",
    "        ('ada', ada)\n",
    "    ],\n",
    "    final_estimator=XGBClassifier(random_state=8,\n",
    "                                 max_leaves=0,\n",
    "                                 n_jobs=-1),\n",
    "    cv=5,\n",
    ")"
   ]
  },
  {
   "cell_type": "markdown",
   "id": "fb2dffac",
   "metadata": {},
   "source": [
    "params = {\n",
    "    'final_estimator__n_estimators': [50, 70, 100],\n",
    "    'final_estimator__max_depth': [2, 4],\n",
    "    'final_estimator__learning_rate': [0.05, 0.1, 0.2],\n",
    "    'final_estimator__reg_alpha': [0.1],\n",
    "    'final_estimator__reg_lambda': [0.1]\n",
    "}"
   ]
  },
  {
   "cell_type": "code",
   "execution_count": 58,
   "id": "9bc03e3a",
   "metadata": {},
   "outputs": [],
   "source": [
    "params = {\n",
    "    'final_estimator__n_estimators': [80, 100, 120, 150, 200],\n",
    "    'final_estimator__max_depth': [2, 3],\n",
    "    'final_estimator__learning_rate': [0.1],\n",
    "    'final_estimator__reg_alpha': [0.1],\n",
    "    'final_estimator__reg_lambda': [0.1]\n",
    "}"
   ]
  },
  {
   "cell_type": "code",
   "execution_count": 59,
   "id": "f899d68b",
   "metadata": {},
   "outputs": [],
   "source": [
    "model_4 = GridSearchCV(estimator=stack_4,\n",
    "                     param_grid=params,\n",
    "                     scoring='roc_auc',\n",
    "                     cv = 5,\n",
    "                    verbose = 3)"
   ]
  },
  {
   "cell_type": "code",
   "execution_count": 60,
   "id": "41172015",
   "metadata": {
    "scrolled": true
   },
   "outputs": [
    {
     "name": "stdout",
     "output_type": "stream",
     "text": [
      "Fitting 5 folds for each of 10 candidates, totalling 50 fits\n",
      "[CV 1/5] END final_estimator__learning_rate=0.1, final_estimator__max_depth=2, final_estimator__n_estimators=80, final_estimator__reg_alpha=0.1, final_estimator__reg_lambda=0.1;, score=0.952 total time=  37.4s\n",
      "[CV 2/5] END final_estimator__learning_rate=0.1, final_estimator__max_depth=2, final_estimator__n_estimators=80, final_estimator__reg_alpha=0.1, final_estimator__reg_lambda=0.1;, score=0.956 total time=  37.2s\n",
      "[CV 3/5] END final_estimator__learning_rate=0.1, final_estimator__max_depth=2, final_estimator__n_estimators=80, final_estimator__reg_alpha=0.1, final_estimator__reg_lambda=0.1;, score=0.952 total time=  37.1s\n",
      "[CV 4/5] END final_estimator__learning_rate=0.1, final_estimator__max_depth=2, final_estimator__n_estimators=80, final_estimator__reg_alpha=0.1, final_estimator__reg_lambda=0.1;, score=0.955 total time=  37.1s\n",
      "[CV 5/5] END final_estimator__learning_rate=0.1, final_estimator__max_depth=2, final_estimator__n_estimators=80, final_estimator__reg_alpha=0.1, final_estimator__reg_lambda=0.1;, score=0.951 total time=  37.3s\n",
      "[CV 1/5] END final_estimator__learning_rate=0.1, final_estimator__max_depth=2, final_estimator__n_estimators=100, final_estimator__reg_alpha=0.1, final_estimator__reg_lambda=0.1;, score=0.952 total time=  37.2s\n",
      "[CV 2/5] END final_estimator__learning_rate=0.1, final_estimator__max_depth=2, final_estimator__n_estimators=100, final_estimator__reg_alpha=0.1, final_estimator__reg_lambda=0.1;, score=0.956 total time=  37.2s\n",
      "[CV 3/5] END final_estimator__learning_rate=0.1, final_estimator__max_depth=2, final_estimator__n_estimators=100, final_estimator__reg_alpha=0.1, final_estimator__reg_lambda=0.1;, score=0.952 total time=  37.3s\n",
      "[CV 4/5] END final_estimator__learning_rate=0.1, final_estimator__max_depth=2, final_estimator__n_estimators=100, final_estimator__reg_alpha=0.1, final_estimator__reg_lambda=0.1;, score=0.955 total time=  37.4s\n",
      "[CV 5/5] END final_estimator__learning_rate=0.1, final_estimator__max_depth=2, final_estimator__n_estimators=100, final_estimator__reg_alpha=0.1, final_estimator__reg_lambda=0.1;, score=0.951 total time=  37.1s\n",
      "[CV 1/5] END final_estimator__learning_rate=0.1, final_estimator__max_depth=2, final_estimator__n_estimators=120, final_estimator__reg_alpha=0.1, final_estimator__reg_lambda=0.1;, score=0.952 total time=  37.1s\n",
      "[CV 2/5] END final_estimator__learning_rate=0.1, final_estimator__max_depth=2, final_estimator__n_estimators=120, final_estimator__reg_alpha=0.1, final_estimator__reg_lambda=0.1;, score=0.956 total time=  37.6s\n",
      "[CV 3/5] END final_estimator__learning_rate=0.1, final_estimator__max_depth=2, final_estimator__n_estimators=120, final_estimator__reg_alpha=0.1, final_estimator__reg_lambda=0.1;, score=0.952 total time=  37.2s\n",
      "[CV 4/5] END final_estimator__learning_rate=0.1, final_estimator__max_depth=2, final_estimator__n_estimators=120, final_estimator__reg_alpha=0.1, final_estimator__reg_lambda=0.1;, score=0.955 total time=  37.3s\n",
      "[CV 5/5] END final_estimator__learning_rate=0.1, final_estimator__max_depth=2, final_estimator__n_estimators=120, final_estimator__reg_alpha=0.1, final_estimator__reg_lambda=0.1;, score=0.951 total time=  37.2s\n",
      "[CV 1/5] END final_estimator__learning_rate=0.1, final_estimator__max_depth=2, final_estimator__n_estimators=150, final_estimator__reg_alpha=0.1, final_estimator__reg_lambda=0.1;, score=0.951 total time=  37.3s\n",
      "[CV 2/5] END final_estimator__learning_rate=0.1, final_estimator__max_depth=2, final_estimator__n_estimators=150, final_estimator__reg_alpha=0.1, final_estimator__reg_lambda=0.1;, score=0.956 total time=  37.2s\n",
      "[CV 3/5] END final_estimator__learning_rate=0.1, final_estimator__max_depth=2, final_estimator__n_estimators=150, final_estimator__reg_alpha=0.1, final_estimator__reg_lambda=0.1;, score=0.952 total time=  37.2s\n",
      "[CV 4/5] END final_estimator__learning_rate=0.1, final_estimator__max_depth=2, final_estimator__n_estimators=150, final_estimator__reg_alpha=0.1, final_estimator__reg_lambda=0.1;, score=0.955 total time=  37.4s\n",
      "[CV 5/5] END final_estimator__learning_rate=0.1, final_estimator__max_depth=2, final_estimator__n_estimators=150, final_estimator__reg_alpha=0.1, final_estimator__reg_lambda=0.1;, score=0.951 total time=  37.3s\n",
      "[CV 1/5] END final_estimator__learning_rate=0.1, final_estimator__max_depth=2, final_estimator__n_estimators=200, final_estimator__reg_alpha=0.1, final_estimator__reg_lambda=0.1;, score=0.951 total time=  37.6s\n",
      "[CV 2/5] END final_estimator__learning_rate=0.1, final_estimator__max_depth=2, final_estimator__n_estimators=200, final_estimator__reg_alpha=0.1, final_estimator__reg_lambda=0.1;, score=0.955 total time=  37.4s\n",
      "[CV 3/5] END final_estimator__learning_rate=0.1, final_estimator__max_depth=2, final_estimator__n_estimators=200, final_estimator__reg_alpha=0.1, final_estimator__reg_lambda=0.1;, score=0.952 total time=  37.3s\n",
      "[CV 4/5] END final_estimator__learning_rate=0.1, final_estimator__max_depth=2, final_estimator__n_estimators=200, final_estimator__reg_alpha=0.1, final_estimator__reg_lambda=0.1;, score=0.955 total time=  37.3s\n",
      "[CV 5/5] END final_estimator__learning_rate=0.1, final_estimator__max_depth=2, final_estimator__n_estimators=200, final_estimator__reg_alpha=0.1, final_estimator__reg_lambda=0.1;, score=0.951 total time=  37.4s\n",
      "[CV 1/5] END final_estimator__learning_rate=0.1, final_estimator__max_depth=3, final_estimator__n_estimators=80, final_estimator__reg_alpha=0.1, final_estimator__reg_lambda=0.1;, score=0.952 total time=  37.3s\n",
      "[CV 2/5] END final_estimator__learning_rate=0.1, final_estimator__max_depth=3, final_estimator__n_estimators=80, final_estimator__reg_alpha=0.1, final_estimator__reg_lambda=0.1;, score=0.956 total time=  37.5s\n",
      "[CV 3/5] END final_estimator__learning_rate=0.1, final_estimator__max_depth=3, final_estimator__n_estimators=80, final_estimator__reg_alpha=0.1, final_estimator__reg_lambda=0.1;, score=0.952 total time=  37.2s\n",
      "[CV 4/5] END final_estimator__learning_rate=0.1, final_estimator__max_depth=3, final_estimator__n_estimators=80, final_estimator__reg_alpha=0.1, final_estimator__reg_lambda=0.1;, score=0.955 total time=  37.4s\n",
      "[CV 5/5] END final_estimator__learning_rate=0.1, final_estimator__max_depth=3, final_estimator__n_estimators=80, final_estimator__reg_alpha=0.1, final_estimator__reg_lambda=0.1;, score=0.951 total time=  37.1s\n",
      "[CV 1/5] END final_estimator__learning_rate=0.1, final_estimator__max_depth=3, final_estimator__n_estimators=100, final_estimator__reg_alpha=0.1, final_estimator__reg_lambda=0.1;, score=0.952 total time=  37.3s\n",
      "[CV 2/5] END final_estimator__learning_rate=0.1, final_estimator__max_depth=3, final_estimator__n_estimators=100, final_estimator__reg_alpha=0.1, final_estimator__reg_lambda=0.1;, score=0.956 total time=  37.3s\n",
      "[CV 3/5] END final_estimator__learning_rate=0.1, final_estimator__max_depth=3, final_estimator__n_estimators=100, final_estimator__reg_alpha=0.1, final_estimator__reg_lambda=0.1;, score=0.952 total time=  37.3s\n",
      "[CV 4/5] END final_estimator__learning_rate=0.1, final_estimator__max_depth=3, final_estimator__n_estimators=100, final_estimator__reg_alpha=0.1, final_estimator__reg_lambda=0.1;, score=0.955 total time=  37.3s\n",
      "[CV 5/5] END final_estimator__learning_rate=0.1, final_estimator__max_depth=3, final_estimator__n_estimators=100, final_estimator__reg_alpha=0.1, final_estimator__reg_lambda=0.1;, score=0.951 total time=  37.0s\n",
      "[CV 1/5] END final_estimator__learning_rate=0.1, final_estimator__max_depth=3, final_estimator__n_estimators=120, final_estimator__reg_alpha=0.1, final_estimator__reg_lambda=0.1;, score=0.951 total time=  38.9s\n",
      "[CV 2/5] END final_estimator__learning_rate=0.1, final_estimator__max_depth=3, final_estimator__n_estimators=120, final_estimator__reg_alpha=0.1, final_estimator__reg_lambda=0.1;, score=0.955 total time=  37.7s\n",
      "[CV 3/5] END final_estimator__learning_rate=0.1, final_estimator__max_depth=3, final_estimator__n_estimators=120, final_estimator__reg_alpha=0.1, final_estimator__reg_lambda=0.1;, score=0.952 total time=  37.3s\n",
      "[CV 4/5] END final_estimator__learning_rate=0.1, final_estimator__max_depth=3, final_estimator__n_estimators=120, final_estimator__reg_alpha=0.1, final_estimator__reg_lambda=0.1;, score=0.955 total time=  37.5s\n"
     ]
    },
    {
     "name": "stdout",
     "output_type": "stream",
     "text": [
      "[CV 5/5] END final_estimator__learning_rate=0.1, final_estimator__max_depth=3, final_estimator__n_estimators=120, final_estimator__reg_alpha=0.1, final_estimator__reg_lambda=0.1;, score=0.951 total time=  37.1s\n",
      "[CV 1/5] END final_estimator__learning_rate=0.1, final_estimator__max_depth=3, final_estimator__n_estimators=150, final_estimator__reg_alpha=0.1, final_estimator__reg_lambda=0.1;, score=0.952 total time=  37.3s\n",
      "[CV 2/5] END final_estimator__learning_rate=0.1, final_estimator__max_depth=3, final_estimator__n_estimators=150, final_estimator__reg_alpha=0.1, final_estimator__reg_lambda=0.1;, score=0.955 total time=  37.2s\n",
      "[CV 3/5] END final_estimator__learning_rate=0.1, final_estimator__max_depth=3, final_estimator__n_estimators=150, final_estimator__reg_alpha=0.1, final_estimator__reg_lambda=0.1;, score=0.952 total time=  37.5s\n",
      "[CV 4/5] END final_estimator__learning_rate=0.1, final_estimator__max_depth=3, final_estimator__n_estimators=150, final_estimator__reg_alpha=0.1, final_estimator__reg_lambda=0.1;, score=0.955 total time=  37.4s\n",
      "[CV 5/5] END final_estimator__learning_rate=0.1, final_estimator__max_depth=3, final_estimator__n_estimators=150, final_estimator__reg_alpha=0.1, final_estimator__reg_lambda=0.1;, score=0.950 total time=  37.2s\n",
      "[CV 1/5] END final_estimator__learning_rate=0.1, final_estimator__max_depth=3, final_estimator__n_estimators=200, final_estimator__reg_alpha=0.1, final_estimator__reg_lambda=0.1;, score=0.951 total time=  37.4s\n",
      "[CV 2/5] END final_estimator__learning_rate=0.1, final_estimator__max_depth=3, final_estimator__n_estimators=200, final_estimator__reg_alpha=0.1, final_estimator__reg_lambda=0.1;, score=0.955 total time=  37.4s\n",
      "[CV 3/5] END final_estimator__learning_rate=0.1, final_estimator__max_depth=3, final_estimator__n_estimators=200, final_estimator__reg_alpha=0.1, final_estimator__reg_lambda=0.1;, score=0.952 total time=  37.3s\n",
      "[CV 4/5] END final_estimator__learning_rate=0.1, final_estimator__max_depth=3, final_estimator__n_estimators=200, final_estimator__reg_alpha=0.1, final_estimator__reg_lambda=0.1;, score=0.955 total time=  37.4s\n",
      "[CV 5/5] END final_estimator__learning_rate=0.1, final_estimator__max_depth=3, final_estimator__n_estimators=200, final_estimator__reg_alpha=0.1, final_estimator__reg_lambda=0.1;, score=0.949 total time=  37.5s\n",
      "CPU times: user 25min 39s, sys: 1min 25s, total: 27min 5s\n",
      "Wall time: 31min 52s\n"
     ]
    }
   ],
   "source": [
    "%%time\n",
    "%%chime\n",
    "model_4.fit(X_train, y_train)"
   ]
  },
  {
   "cell_type": "code",
   "execution_count": 61,
   "id": "95d9bc01",
   "metadata": {
    "scrolled": true
   },
   "outputs": [
    {
     "data": {
      "text/plain": [
       "{'final_estimator__learning_rate': 0.1,\n",
       " 'final_estimator__max_depth': 2,\n",
       " 'final_estimator__n_estimators': 80,\n",
       " 'final_estimator__reg_alpha': 0.1,\n",
       " 'final_estimator__reg_lambda': 0.1}"
      ]
     },
     "execution_count": 61,
     "metadata": {},
     "output_type": "execute_result"
    }
   ],
   "source": [
    "model_4.best_params_"
   ]
  },
  {
   "cell_type": "code",
   "execution_count": 62,
   "id": "d56210fc",
   "metadata": {},
   "outputs": [
    {
     "data": {
      "text/plain": [
       "0.9531706708568304"
      ]
     },
     "execution_count": 62,
     "metadata": {},
     "output_type": "execute_result"
    }
   ],
   "source": [
    "model_4.best_score_"
   ]
  },
  {
   "cell_type": "code",
   "execution_count": 63,
   "id": "32fdd09f",
   "metadata": {
    "scrolled": true
   },
   "outputs": [
    {
     "data": {
      "text/plain": [
       "count    10.000000\n",
       "mean      0.952920\n",
       "std       0.000258\n",
       "min       0.952283\n",
       "25%       0.952868\n",
       "50%       0.952964\n",
       "75%       0.953087\n",
       "max       0.953171\n",
       "dtype: float64"
      ]
     },
     "execution_count": 63,
     "metadata": {},
     "output_type": "execute_result"
    }
   ],
   "source": [
    "pd.Series(model_4.cv_results_['mean_test_score']).describe()"
   ]
  },
  {
   "cell_type": "markdown",
   "id": "36677c0a",
   "metadata": {},
   "source": [
    "### Results so far\n",
    "The best result is achieved when KNN is included in a stacked classifier with XGBoost as the final estimator, although it is computationally expensive. I will try to add logistic regression as well"
   ]
  },
  {
   "cell_type": "markdown",
   "id": "77ba03e4",
   "metadata": {},
   "source": [
    "### With KNN and logistic regression"
   ]
  },
  {
   "cell_type": "code",
   "execution_count": 65,
   "id": "dcbd591b",
   "metadata": {},
   "outputs": [],
   "source": [
    "from sklearn.linear_model import LogisticRegression"
   ]
  },
  {
   "cell_type": "code",
   "execution_count": 66,
   "id": "a7971bca",
   "metadata": {},
   "outputs": [],
   "source": [
    "best_params_lr = {'C': 0.1, 'max_iter': 50, 'penalty': 'l2'}\n",
    "lr = LogisticRegression(class_weight='balanced',\n",
    "                        random_state=8,\n",
    "                        solver='liblinear',\n",
    "                        **best_params_lr)"
   ]
  },
  {
   "cell_type": "code",
   "execution_count": 67,
   "id": "9ac4ab54",
   "metadata": {},
   "outputs": [],
   "source": [
    "stack_5 = StackingClassifier(\n",
    "    estimators = [\n",
    "        ('rf', random_forest),\n",
    "        ('knn', knn),\n",
    "        ('ada', ada),\n",
    "        ('lr', lr)\n",
    "    ],\n",
    "    final_estimator=XGBClassifier(random_state=8,\n",
    "                                 max_leaves=0,\n",
    "                                 n_jobs=-1),\n",
    "    cv=5,\n",
    ")"
   ]
  },
  {
   "cell_type": "code",
   "execution_count": 68,
   "id": "b38e8cb2",
   "metadata": {},
   "outputs": [],
   "source": [
    "params = {\n",
    "    'final_estimator__n_estimators': [50, 80, 100],\n",
    "    'final_estimator__max_depth': [2, 4],\n",
    "    'final_estimator__learning_rate': [0.01, 0.1, 0.5],\n",
    "    'final_estimator__reg_alpha': [0.1],\n",
    "    'final_estimator__reg_lambda': [0.1]\n",
    "}"
   ]
  },
  {
   "cell_type": "code",
   "execution_count": 69,
   "id": "6c74131b",
   "metadata": {},
   "outputs": [],
   "source": [
    "model_5 = GridSearchCV(estimator=stack_5,\n",
    "                     param_grid=params,\n",
    "                     scoring='roc_auc',\n",
    "                     cv = 5,\n",
    "                    verbose = 3)"
   ]
  },
  {
   "cell_type": "code",
   "execution_count": 70,
   "id": "ddb0d5fa",
   "metadata": {
    "scrolled": true
   },
   "outputs": [
    {
     "name": "stdout",
     "output_type": "stream",
     "text": [
      "Fitting 5 folds for each of 18 candidates, totalling 90 fits\n",
      "[CV 1/5] END final_estimator__learning_rate=0.01, final_estimator__max_depth=2, final_estimator__n_estimators=50, final_estimator__reg_alpha=0.1, final_estimator__reg_lambda=0.1;, score=0.947 total time=  39.0s\n",
      "[CV 2/5] END final_estimator__learning_rate=0.01, final_estimator__max_depth=2, final_estimator__n_estimators=50, final_estimator__reg_alpha=0.1, final_estimator__reg_lambda=0.1;, score=0.951 total time=  37.6s\n",
      "[CV 3/5] END final_estimator__learning_rate=0.01, final_estimator__max_depth=2, final_estimator__n_estimators=50, final_estimator__reg_alpha=0.1, final_estimator__reg_lambda=0.1;, score=0.947 total time=  37.3s\n",
      "[CV 4/5] END final_estimator__learning_rate=0.01, final_estimator__max_depth=2, final_estimator__n_estimators=50, final_estimator__reg_alpha=0.1, final_estimator__reg_lambda=0.1;, score=0.949 total time=  37.5s\n",
      "[CV 5/5] END final_estimator__learning_rate=0.01, final_estimator__max_depth=2, final_estimator__n_estimators=50, final_estimator__reg_alpha=0.1, final_estimator__reg_lambda=0.1;, score=0.945 total time=  37.2s\n",
      "[CV 1/5] END final_estimator__learning_rate=0.01, final_estimator__max_depth=2, final_estimator__n_estimators=80, final_estimator__reg_alpha=0.1, final_estimator__reg_lambda=0.1;, score=0.948 total time=  37.6s\n",
      "[CV 2/5] END final_estimator__learning_rate=0.01, final_estimator__max_depth=2, final_estimator__n_estimators=80, final_estimator__reg_alpha=0.1, final_estimator__reg_lambda=0.1;, score=0.952 total time=  37.9s\n",
      "[CV 3/5] END final_estimator__learning_rate=0.01, final_estimator__max_depth=2, final_estimator__n_estimators=80, final_estimator__reg_alpha=0.1, final_estimator__reg_lambda=0.1;, score=0.948 total time=  37.4s\n",
      "[CV 4/5] END final_estimator__learning_rate=0.01, final_estimator__max_depth=2, final_estimator__n_estimators=80, final_estimator__reg_alpha=0.1, final_estimator__reg_lambda=0.1;, score=0.949 total time=  37.5s\n",
      "[CV 5/5] END final_estimator__learning_rate=0.01, final_estimator__max_depth=2, final_estimator__n_estimators=80, final_estimator__reg_alpha=0.1, final_estimator__reg_lambda=0.1;, score=0.948 total time=  37.4s\n",
      "[CV 1/5] END final_estimator__learning_rate=0.01, final_estimator__max_depth=2, final_estimator__n_estimators=100, final_estimator__reg_alpha=0.1, final_estimator__reg_lambda=0.1;, score=0.949 total time=  37.5s\n",
      "[CV 2/5] END final_estimator__learning_rate=0.01, final_estimator__max_depth=2, final_estimator__n_estimators=100, final_estimator__reg_alpha=0.1, final_estimator__reg_lambda=0.1;, score=0.952 total time=  37.4s\n",
      "[CV 3/5] END final_estimator__learning_rate=0.01, final_estimator__max_depth=2, final_estimator__n_estimators=100, final_estimator__reg_alpha=0.1, final_estimator__reg_lambda=0.1;, score=0.948 total time=  37.5s\n",
      "[CV 4/5] END final_estimator__learning_rate=0.01, final_estimator__max_depth=2, final_estimator__n_estimators=100, final_estimator__reg_alpha=0.1, final_estimator__reg_lambda=0.1;, score=0.951 total time=  37.4s\n",
      "[CV 5/5] END final_estimator__learning_rate=0.01, final_estimator__max_depth=2, final_estimator__n_estimators=100, final_estimator__reg_alpha=0.1, final_estimator__reg_lambda=0.1;, score=0.949 total time=  37.3s\n",
      "[CV 1/5] END final_estimator__learning_rate=0.01, final_estimator__max_depth=4, final_estimator__n_estimators=50, final_estimator__reg_alpha=0.1, final_estimator__reg_lambda=0.1;, score=0.952 total time=  37.5s\n",
      "[CV 2/5] END final_estimator__learning_rate=0.01, final_estimator__max_depth=4, final_estimator__n_estimators=50, final_estimator__reg_alpha=0.1, final_estimator__reg_lambda=0.1;, score=0.955 total time=  37.4s\n",
      "[CV 3/5] END final_estimator__learning_rate=0.01, final_estimator__max_depth=4, final_estimator__n_estimators=50, final_estimator__reg_alpha=0.1, final_estimator__reg_lambda=0.1;, score=0.950 total time=  37.5s\n",
      "[CV 4/5] END final_estimator__learning_rate=0.01, final_estimator__max_depth=4, final_estimator__n_estimators=50, final_estimator__reg_alpha=0.1, final_estimator__reg_lambda=0.1;, score=0.954 total time=  37.5s\n",
      "[CV 5/5] END final_estimator__learning_rate=0.01, final_estimator__max_depth=4, final_estimator__n_estimators=50, final_estimator__reg_alpha=0.1, final_estimator__reg_lambda=0.1;, score=0.950 total time=  37.7s\n",
      "[CV 1/5] END final_estimator__learning_rate=0.01, final_estimator__max_depth=4, final_estimator__n_estimators=80, final_estimator__reg_alpha=0.1, final_estimator__reg_lambda=0.1;, score=0.952 total time=  37.6s\n",
      "[CV 2/5] END final_estimator__learning_rate=0.01, final_estimator__max_depth=4, final_estimator__n_estimators=80, final_estimator__reg_alpha=0.1, final_estimator__reg_lambda=0.1;, score=0.955 total time=  37.6s\n",
      "[CV 3/5] END final_estimator__learning_rate=0.01, final_estimator__max_depth=4, final_estimator__n_estimators=80, final_estimator__reg_alpha=0.1, final_estimator__reg_lambda=0.1;, score=0.951 total time=  38.0s\n",
      "[CV 4/5] END final_estimator__learning_rate=0.01, final_estimator__max_depth=4, final_estimator__n_estimators=80, final_estimator__reg_alpha=0.1, final_estimator__reg_lambda=0.1;, score=0.954 total time=  37.8s\n",
      "[CV 5/5] END final_estimator__learning_rate=0.01, final_estimator__max_depth=4, final_estimator__n_estimators=80, final_estimator__reg_alpha=0.1, final_estimator__reg_lambda=0.1;, score=0.950 total time=  37.3s\n",
      "[CV 1/5] END final_estimator__learning_rate=0.01, final_estimator__max_depth=4, final_estimator__n_estimators=100, final_estimator__reg_alpha=0.1, final_estimator__reg_lambda=0.1;, score=0.952 total time=  37.6s\n",
      "[CV 2/5] END final_estimator__learning_rate=0.01, final_estimator__max_depth=4, final_estimator__n_estimators=100, final_estimator__reg_alpha=0.1, final_estimator__reg_lambda=0.1;, score=0.955 total time=  37.8s\n",
      "[CV 3/5] END final_estimator__learning_rate=0.01, final_estimator__max_depth=4, final_estimator__n_estimators=100, final_estimator__reg_alpha=0.1, final_estimator__reg_lambda=0.1;, score=0.951 total time=  37.6s\n",
      "[CV 4/5] END final_estimator__learning_rate=0.01, final_estimator__max_depth=4, final_estimator__n_estimators=100, final_estimator__reg_alpha=0.1, final_estimator__reg_lambda=0.1;, score=0.954 total time=  37.6s\n",
      "[CV 5/5] END final_estimator__learning_rate=0.01, final_estimator__max_depth=4, final_estimator__n_estimators=100, final_estimator__reg_alpha=0.1, final_estimator__reg_lambda=0.1;, score=0.951 total time=  37.9s\n",
      "[CV 1/5] END final_estimator__learning_rate=0.1, final_estimator__max_depth=2, final_estimator__n_estimators=50, final_estimator__reg_alpha=0.1, final_estimator__reg_lambda=0.1;, score=0.952 total time=  37.5s\n",
      "[CV 2/5] END final_estimator__learning_rate=0.1, final_estimator__max_depth=2, final_estimator__n_estimators=50, final_estimator__reg_alpha=0.1, final_estimator__reg_lambda=0.1;, score=0.956 total time=  37.3s\n",
      "[CV 3/5] END final_estimator__learning_rate=0.1, final_estimator__max_depth=2, final_estimator__n_estimators=50, final_estimator__reg_alpha=0.1, final_estimator__reg_lambda=0.1;, score=0.952 total time=  37.3s\n",
      "[CV 4/5] END final_estimator__learning_rate=0.1, final_estimator__max_depth=2, final_estimator__n_estimators=50, final_estimator__reg_alpha=0.1, final_estimator__reg_lambda=0.1;, score=0.955 total time=  37.4s\n",
      "[CV 5/5] END final_estimator__learning_rate=0.1, final_estimator__max_depth=2, final_estimator__n_estimators=50, final_estimator__reg_alpha=0.1, final_estimator__reg_lambda=0.1;, score=0.951 total time=  37.2s\n",
      "[CV 1/5] END final_estimator__learning_rate=0.1, final_estimator__max_depth=2, final_estimator__n_estimators=80, final_estimator__reg_alpha=0.1, final_estimator__reg_lambda=0.1;, score=0.952 total time=  37.3s\n",
      "[CV 2/5] END final_estimator__learning_rate=0.1, final_estimator__max_depth=2, final_estimator__n_estimators=80, final_estimator__reg_alpha=0.1, final_estimator__reg_lambda=0.1;, score=0.956 total time=  37.8s\n",
      "[CV 3/5] END final_estimator__learning_rate=0.1, final_estimator__max_depth=2, final_estimator__n_estimators=80, final_estimator__reg_alpha=0.1, final_estimator__reg_lambda=0.1;, score=0.952 total time=  37.4s\n",
      "[CV 4/5] END final_estimator__learning_rate=0.1, final_estimator__max_depth=2, final_estimator__n_estimators=80, final_estimator__reg_alpha=0.1, final_estimator__reg_lambda=0.1;, score=0.955 total time=  37.5s\n"
     ]
    },
    {
     "name": "stdout",
     "output_type": "stream",
     "text": [
      "[CV 5/5] END final_estimator__learning_rate=0.1, final_estimator__max_depth=2, final_estimator__n_estimators=80, final_estimator__reg_alpha=0.1, final_estimator__reg_lambda=0.1;, score=0.951 total time=  37.5s\n",
      "[CV 1/5] END final_estimator__learning_rate=0.1, final_estimator__max_depth=2, final_estimator__n_estimators=100, final_estimator__reg_alpha=0.1, final_estimator__reg_lambda=0.1;, score=0.952 total time=  37.4s\n",
      "[CV 2/5] END final_estimator__learning_rate=0.1, final_estimator__max_depth=2, final_estimator__n_estimators=100, final_estimator__reg_alpha=0.1, final_estimator__reg_lambda=0.1;, score=0.956 total time=  37.4s\n",
      "[CV 3/5] END final_estimator__learning_rate=0.1, final_estimator__max_depth=2, final_estimator__n_estimators=100, final_estimator__reg_alpha=0.1, final_estimator__reg_lambda=0.1;, score=0.952 total time=  37.5s\n",
      "[CV 4/5] END final_estimator__learning_rate=0.1, final_estimator__max_depth=2, final_estimator__n_estimators=100, final_estimator__reg_alpha=0.1, final_estimator__reg_lambda=0.1;, score=0.955 total time=  37.4s\n",
      "[CV 5/5] END final_estimator__learning_rate=0.1, final_estimator__max_depth=2, final_estimator__n_estimators=100, final_estimator__reg_alpha=0.1, final_estimator__reg_lambda=0.1;, score=0.951 total time=  37.4s\n",
      "[CV 1/5] END final_estimator__learning_rate=0.1, final_estimator__max_depth=4, final_estimator__n_estimators=50, final_estimator__reg_alpha=0.1, final_estimator__reg_lambda=0.1;, score=0.952 total time=  37.3s\n",
      "[CV 2/5] END final_estimator__learning_rate=0.1, final_estimator__max_depth=4, final_estimator__n_estimators=50, final_estimator__reg_alpha=0.1, final_estimator__reg_lambda=0.1;, score=0.956 total time=  37.7s\n",
      "[CV 3/5] END final_estimator__learning_rate=0.1, final_estimator__max_depth=4, final_estimator__n_estimators=50, final_estimator__reg_alpha=0.1, final_estimator__reg_lambda=0.1;, score=0.952 total time=  37.5s\n",
      "[CV 4/5] END final_estimator__learning_rate=0.1, final_estimator__max_depth=4, final_estimator__n_estimators=50, final_estimator__reg_alpha=0.1, final_estimator__reg_lambda=0.1;, score=0.955 total time=  37.6s\n",
      "[CV 5/5] END final_estimator__learning_rate=0.1, final_estimator__max_depth=4, final_estimator__n_estimators=50, final_estimator__reg_alpha=0.1, final_estimator__reg_lambda=0.1;, score=0.951 total time=  37.4s\n",
      "[CV 1/5] END final_estimator__learning_rate=0.1, final_estimator__max_depth=4, final_estimator__n_estimators=80, final_estimator__reg_alpha=0.1, final_estimator__reg_lambda=0.1;, score=0.951 total time=  37.4s\n",
      "[CV 2/5] END final_estimator__learning_rate=0.1, final_estimator__max_depth=4, final_estimator__n_estimators=80, final_estimator__reg_alpha=0.1, final_estimator__reg_lambda=0.1;, score=0.956 total time=  37.4s\n",
      "[CV 3/5] END final_estimator__learning_rate=0.1, final_estimator__max_depth=4, final_estimator__n_estimators=80, final_estimator__reg_alpha=0.1, final_estimator__reg_lambda=0.1;, score=0.952 total time=  37.4s\n",
      "[CV 4/5] END final_estimator__learning_rate=0.1, final_estimator__max_depth=4, final_estimator__n_estimators=80, final_estimator__reg_alpha=0.1, final_estimator__reg_lambda=0.1;, score=0.954 total time=  37.8s\n",
      "[CV 5/5] END final_estimator__learning_rate=0.1, final_estimator__max_depth=4, final_estimator__n_estimators=80, final_estimator__reg_alpha=0.1, final_estimator__reg_lambda=0.1;, score=0.951 total time=  37.5s\n",
      "[CV 1/5] END final_estimator__learning_rate=0.1, final_estimator__max_depth=4, final_estimator__n_estimators=100, final_estimator__reg_alpha=0.1, final_estimator__reg_lambda=0.1;, score=0.951 total time=  37.5s\n",
      "[CV 2/5] END final_estimator__learning_rate=0.1, final_estimator__max_depth=4, final_estimator__n_estimators=100, final_estimator__reg_alpha=0.1, final_estimator__reg_lambda=0.1;, score=0.956 total time=  37.5s\n",
      "[CV 3/5] END final_estimator__learning_rate=0.1, final_estimator__max_depth=4, final_estimator__n_estimators=100, final_estimator__reg_alpha=0.1, final_estimator__reg_lambda=0.1;, score=0.952 total time=  37.4s\n",
      "[CV 4/5] END final_estimator__learning_rate=0.1, final_estimator__max_depth=4, final_estimator__n_estimators=100, final_estimator__reg_alpha=0.1, final_estimator__reg_lambda=0.1;, score=0.954 total time=  37.8s\n",
      "[CV 5/5] END final_estimator__learning_rate=0.1, final_estimator__max_depth=4, final_estimator__n_estimators=100, final_estimator__reg_alpha=0.1, final_estimator__reg_lambda=0.1;, score=0.951 total time=  37.4s\n",
      "[CV 1/5] END final_estimator__learning_rate=0.5, final_estimator__max_depth=2, final_estimator__n_estimators=50, final_estimator__reg_alpha=0.1, final_estimator__reg_lambda=0.1;, score=0.951 total time=  37.6s\n",
      "[CV 2/5] END final_estimator__learning_rate=0.5, final_estimator__max_depth=2, final_estimator__n_estimators=50, final_estimator__reg_alpha=0.1, final_estimator__reg_lambda=0.1;, score=0.955 total time=  37.4s\n",
      "[CV 3/5] END final_estimator__learning_rate=0.5, final_estimator__max_depth=2, final_estimator__n_estimators=50, final_estimator__reg_alpha=0.1, final_estimator__reg_lambda=0.1;, score=0.950 total time=  37.2s\n",
      "[CV 4/5] END final_estimator__learning_rate=0.5, final_estimator__max_depth=2, final_estimator__n_estimators=50, final_estimator__reg_alpha=0.1, final_estimator__reg_lambda=0.1;, score=0.954 total time=  37.6s\n",
      "[CV 5/5] END final_estimator__learning_rate=0.5, final_estimator__max_depth=2, final_estimator__n_estimators=50, final_estimator__reg_alpha=0.1, final_estimator__reg_lambda=0.1;, score=0.949 total time=  37.4s\n",
      "[CV 1/5] END final_estimator__learning_rate=0.5, final_estimator__max_depth=2, final_estimator__n_estimators=80, final_estimator__reg_alpha=0.1, final_estimator__reg_lambda=0.1;, score=0.950 total time=  37.4s\n",
      "[CV 2/5] END final_estimator__learning_rate=0.5, final_estimator__max_depth=2, final_estimator__n_estimators=80, final_estimator__reg_alpha=0.1, final_estimator__reg_lambda=0.1;, score=0.953 total time=  37.3s\n",
      "[CV 3/5] END final_estimator__learning_rate=0.5, final_estimator__max_depth=2, final_estimator__n_estimators=80, final_estimator__reg_alpha=0.1, final_estimator__reg_lambda=0.1;, score=0.950 total time=  37.5s\n",
      "[CV 4/5] END final_estimator__learning_rate=0.5, final_estimator__max_depth=2, final_estimator__n_estimators=80, final_estimator__reg_alpha=0.1, final_estimator__reg_lambda=0.1;, score=0.952 total time=  37.4s\n",
      "[CV 5/5] END final_estimator__learning_rate=0.5, final_estimator__max_depth=2, final_estimator__n_estimators=80, final_estimator__reg_alpha=0.1, final_estimator__reg_lambda=0.1;, score=0.948 total time=  37.5s\n",
      "[CV 1/5] END final_estimator__learning_rate=0.5, final_estimator__max_depth=2, final_estimator__n_estimators=100, final_estimator__reg_alpha=0.1, final_estimator__reg_lambda=0.1;, score=0.949 total time=  37.5s\n",
      "[CV 2/5] END final_estimator__learning_rate=0.5, final_estimator__max_depth=2, final_estimator__n_estimators=100, final_estimator__reg_alpha=0.1, final_estimator__reg_lambda=0.1;, score=0.953 total time=  37.4s\n",
      "[CV 3/5] END final_estimator__learning_rate=0.5, final_estimator__max_depth=2, final_estimator__n_estimators=100, final_estimator__reg_alpha=0.1, final_estimator__reg_lambda=0.1;, score=0.949 total time=  37.3s\n",
      "[CV 4/5] END final_estimator__learning_rate=0.5, final_estimator__max_depth=2, final_estimator__n_estimators=100, final_estimator__reg_alpha=0.1, final_estimator__reg_lambda=0.1;, score=0.952 total time=  37.6s\n",
      "[CV 5/5] END final_estimator__learning_rate=0.5, final_estimator__max_depth=2, final_estimator__n_estimators=100, final_estimator__reg_alpha=0.1, final_estimator__reg_lambda=0.1;, score=0.947 total time=  37.3s\n",
      "[CV 1/5] END final_estimator__learning_rate=0.5, final_estimator__max_depth=4, final_estimator__n_estimators=50, final_estimator__reg_alpha=0.1, final_estimator__reg_lambda=0.1;, score=0.947 total time=  37.4s\n",
      "[CV 2/5] END final_estimator__learning_rate=0.5, final_estimator__max_depth=4, final_estimator__n_estimators=50, final_estimator__reg_alpha=0.1, final_estimator__reg_lambda=0.1;, score=0.951 total time=  37.5s\n",
      "[CV 3/5] END final_estimator__learning_rate=0.5, final_estimator__max_depth=4, final_estimator__n_estimators=50, final_estimator__reg_alpha=0.1, final_estimator__reg_lambda=0.1;, score=0.947 total time=  37.6s\n"
     ]
    },
    {
     "name": "stdout",
     "output_type": "stream",
     "text": [
      "[CV 4/5] END final_estimator__learning_rate=0.5, final_estimator__max_depth=4, final_estimator__n_estimators=50, final_estimator__reg_alpha=0.1, final_estimator__reg_lambda=0.1;, score=0.951 total time=  37.6s\n",
      "[CV 5/5] END final_estimator__learning_rate=0.5, final_estimator__max_depth=4, final_estimator__n_estimators=50, final_estimator__reg_alpha=0.1, final_estimator__reg_lambda=0.1;, score=0.946 total time=  37.4s\n",
      "[CV 1/5] END final_estimator__learning_rate=0.5, final_estimator__max_depth=4, final_estimator__n_estimators=80, final_estimator__reg_alpha=0.1, final_estimator__reg_lambda=0.1;, score=0.944 total time=  37.5s\n",
      "[CV 2/5] END final_estimator__learning_rate=0.5, final_estimator__max_depth=4, final_estimator__n_estimators=80, final_estimator__reg_alpha=0.1, final_estimator__reg_lambda=0.1;, score=0.949 total time=  38.0s\n",
      "[CV 3/5] END final_estimator__learning_rate=0.5, final_estimator__max_depth=4, final_estimator__n_estimators=80, final_estimator__reg_alpha=0.1, final_estimator__reg_lambda=0.1;, score=0.946 total time=  37.5s\n",
      "[CV 4/5] END final_estimator__learning_rate=0.5, final_estimator__max_depth=4, final_estimator__n_estimators=80, final_estimator__reg_alpha=0.1, final_estimator__reg_lambda=0.1;, score=0.949 total time=  37.5s\n",
      "[CV 5/5] END final_estimator__learning_rate=0.5, final_estimator__max_depth=4, final_estimator__n_estimators=80, final_estimator__reg_alpha=0.1, final_estimator__reg_lambda=0.1;, score=0.944 total time=  37.6s\n",
      "[CV 1/5] END final_estimator__learning_rate=0.5, final_estimator__max_depth=4, final_estimator__n_estimators=100, final_estimator__reg_alpha=0.1, final_estimator__reg_lambda=0.1;, score=0.944 total time=  37.6s\n",
      "[CV 2/5] END final_estimator__learning_rate=0.5, final_estimator__max_depth=4, final_estimator__n_estimators=100, final_estimator__reg_alpha=0.1, final_estimator__reg_lambda=0.1;, score=0.948 total time=  37.6s\n",
      "[CV 3/5] END final_estimator__learning_rate=0.5, final_estimator__max_depth=4, final_estimator__n_estimators=100, final_estimator__reg_alpha=0.1, final_estimator__reg_lambda=0.1;, score=0.945 total time=  37.5s\n",
      "[CV 4/5] END final_estimator__learning_rate=0.5, final_estimator__max_depth=4, final_estimator__n_estimators=100, final_estimator__reg_alpha=0.1, final_estimator__reg_lambda=0.1;, score=0.948 total time=  37.9s\n",
      "[CV 5/5] END final_estimator__learning_rate=0.5, final_estimator__max_depth=4, final_estimator__n_estimators=100, final_estimator__reg_alpha=0.1, final_estimator__reg_lambda=0.1;, score=0.942 total time=  37.7s\n",
      "CPU times: user 46min 34s, sys: 2min 32s, total: 49min 7s\n",
      "Wall time: 57min 2s\n"
     ]
    }
   ],
   "source": [
    "%%time\n",
    "%%chime\n",
    "model_5.fit(X_train, y_train)"
   ]
  },
  {
   "cell_type": "code",
   "execution_count": 71,
   "id": "240e8297",
   "metadata": {
    "scrolled": false
   },
   "outputs": [
    {
     "data": {
      "text/plain": [
       "{'final_estimator__learning_rate': 0.1,\n",
       " 'final_estimator__max_depth': 2,\n",
       " 'final_estimator__n_estimators': 80,\n",
       " 'final_estimator__reg_alpha': 0.1,\n",
       " 'final_estimator__reg_lambda': 0.1}"
      ]
     },
     "execution_count": 71,
     "metadata": {},
     "output_type": "execute_result"
    }
   ],
   "source": [
    "model_5.best_params_"
   ]
  },
  {
   "cell_type": "code",
   "execution_count": 72,
   "id": "c9afac31",
   "metadata": {},
   "outputs": [
    {
     "data": {
      "text/plain": [
       "0.9531468487214768"
      ]
     },
     "execution_count": 72,
     "metadata": {},
     "output_type": "execute_result"
    }
   ],
   "source": [
    "model_5.best_score_"
   ]
  },
  {
   "cell_type": "code",
   "execution_count": 73,
   "id": "92a44cae",
   "metadata": {
    "scrolled": true
   },
   "outputs": [
    {
     "data": {
      "text/plain": [
       "count    18.000000\n",
       "mean      0.950803\n",
       "std       0.002509\n",
       "min       0.945295\n",
       "25%       0.949192\n",
       "50%       0.951922\n",
       "75%       0.952916\n",
       "max       0.953147\n",
       "dtype: float64"
      ]
     },
     "execution_count": 73,
     "metadata": {},
     "output_type": "execute_result"
    }
   ],
   "source": [
    "pd.Series(model_5.cv_results_['mean_test_score']).describe()"
   ]
  },
  {
   "cell_type": "markdown",
   "id": "8fa6d756",
   "metadata": {},
   "source": [
    "Addition of logistic regression did not improve results"
   ]
  },
  {
   "cell_type": "markdown",
   "id": "f6780b3c",
   "metadata": {},
   "source": [
    "# Conclusion\n",
    "The best result is achieved when KNN is included in a stacked classifier with XGBoost as the final estimator, although it is computationally expensive."
   ]
  }
 ],
 "metadata": {
  "kernelspec": {
   "display_name": "Python 3 (ipykernel)",
   "language": "python",
   "name": "python3"
  },
  "language_info": {
   "codemirror_mode": {
    "name": "ipython",
    "version": 3
   },
   "file_extension": ".py",
   "mimetype": "text/x-python",
   "name": "python",
   "nbconvert_exporter": "python",
   "pygments_lexer": "ipython3",
   "version": "3.10.9"
  }
 },
 "nbformat": 4,
 "nbformat_minor": 5
}
